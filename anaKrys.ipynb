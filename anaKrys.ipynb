{
 "cells": [
  {
   "cell_type": "markdown",
   "metadata": {},
   "source": [
    "# **anaKrys**\n",
    "\n",
    "(*version 2021.8.0*)"
   ]
  },
  {
   "cell_type": "markdown",
   "metadata": {},
   "source": [
    "**notebook settings & imports  (edit %matplotlib magic here)**"
   ]
  },
  {
   "cell_type": "code",
   "execution_count": 1,
   "metadata": {
    "jupyter": {
     "source_hidden": true
    }
   },
   "outputs": [],
   "source": [
    "# set %matplotlib inline (%matplotlib widget, %matplotlib qt) for static (interactive on-page, interactive in separate window) plots\n",
    "# in order to use the on-page interactive mode, make sure the environment is set up properly\n",
    "# comment this out before exporting the notebook to a Python script -- via jupyter nbconvert --to script anaKrys.ipynb\n",
    "%matplotlib inline\n",
    "\n",
    "# external modules\n",
    "import datetime\n",
    "import importlib\n",
    "import os\n",
    "import pickle\n",
    "import succolib as sl\n",
    "import pandas as pd\n",
    "import numpy as np\n",
    "import matplotlib.pyplot as plt\n",
    "from scipy.optimize import curve_fit\n",
    "from matplotlib.colors import LogNorm\n",
    "\n",
    "# internal modules (in .modules)\n",
    "from modules import *"
   ]
  },
  {
   "cell_type": "markdown",
   "metadata": {},
   "source": [
    "**starting chronometer**"
   ]
  },
  {
   "cell_type": "code",
   "execution_count": 2,
   "metadata": {
    "jupyter": {
     "source_hidden": true
    }
   },
   "outputs": [
    {
     "name": "stdout",
     "output_type": "stream",
     "text": [
      "2022-04-19 11:34:45 GMT --> let's start!\n",
      "--\n"
     ]
    }
   ],
   "source": [
    "tStart = datetime.datetime.fromtimestamp(datetime.datetime.now().timestamp())  # start chronometer\n",
    "tStartPrint = tStart.strftime(\"%Y-%m-%d %H:%M:%S GMT\")\n",
    "print(\"%s --> let's start!\" % tStartPrint)\n",
    "print(\"--\")"
   ]
  },
  {
   "cell_type": "markdown",
   "metadata": {},
   "source": [
    "---"
   ]
  },
  {
   "cell_type": "markdown",
   "metadata": {},
   "source": [
    "## **input settings**"
   ]
  },
  {
   "cell_type": "code",
   "execution_count": 3,
   "metadata": {
    "jupyter": {
     "source_hidden": true
    }
   },
   "outputs": [
    {
     "name": "stdout",
     "output_type": "stream",
     "text": [
      "looking for files with label y21StormCernH2 in ./settings/\n",
      "execution control booleans:\n",
      "data reload controller: True\n",
      "test mode controller: False\n",
      "--\n",
      "will work with run numbers(s)/type(s) in /mnt/c/Users/succo/succo/data_local/21_cern_h2_storm/ascii_no_wf/ with format runXXXXXX_multi_YYYYYY.dat\n",
      "(1/1) 500356 PWO2X0_Axial_MagnOff\n",
      "--\n"
     ]
    }
   ],
   "source": [
    "# data reload controller -- if True (False), reload the data files (use the dataframe already in memory)\n",
    "boolLoad = True\n",
    "\n",
    "# progressbar visualisation controller -- if True (False) the file opening progressbars will (not) be visualised\n",
    "# in particular, set it to False if working in an environment with no widgets enabled\n",
    "bProgressBars = True\n",
    "\n",
    "# test mode controller: if True (False), the software runs with test (custom, selected via settingsFileMods) settings and data\n",
    "boolTest = False\n",
    "\n",
    "# run numbers or types to be opened\n",
    "# format: list of strings -- insert run numbers or types as they appear in nRun0\n",
    "# might be left empty in test mode -- both test runs \"test0\" & \"test1\" selected by default\n",
    "nRunToOpen = [\"500356\"]\n",
    "\n",
    "# label of the settings fileset to load -- useless if boolTest=False\n",
    "settingsFileMods = \"y21StormCernH2\"\n",
    "\n",
    "# filetype, string -- either \"ASCII\", \"ROOT\" or \"NPZ\"\n",
    "fileType = \"ASCII\"\n",
    "\n",
    "# file path (with / at the end), string\n",
    "# useless in test mode, in which it is set automatically depending on fileType\n",
    "# filePath = os.environ.get(\"HOME\")+\"/data_local/21_cern_h2_storm/ascii_raw/ascii21/\"  # ASCII raw\n",
    "filePath = os.environ.get(\"HOME\")+\"/data_local/21_cern_h2_storm/ascii_no_wf/\"  # ASCII stripped\n",
    "# filePath = os.environ.get(\"HOME\")+\"/data_local/21_cern_h2_storm/ascii_gzip/\"  # ASCII merged\n",
    "\n",
    "# file name format (with no path), string\n",
    "# shape: replace the run number with XXXXXX and (for multiple files per run) the file number with YYYYYY\n",
    "# useless in test mode, in which it is set automatically depending on fileType\n",
    "fileNameFormat = \"runXXXXXX_multi_YYYYYY.dat\"  # ASCII raw/stripped\n",
    "\n",
    "#######################################\n",
    "# import settings, according to boolTest and settingsFileMods\n",
    "# function in .modules --> set ./settings/__init__.py for settings fileset selection\n",
    "mod_runList_name, mod_settings_name = settingsSelect(boolTest, whichInput = fileType if boolTest else settingsFileMods)\n",
    "globals().update(importlib.import_module(mod_runList_name).__dict__)\n",
    "globals().update(importlib.import_module(mod_settings_name).__dict__)\n",
    "\n",
    "#######################################\n",
    "# print only (functions in .modules)\n",
    "boolControlPrint(boolLoad, boolTest, fileType)\n",
    "print(\"--\")\n",
    "settingsPrint(filePath, fileNameFormat, nRunToOpen, nRun0)  # print only (function in .modules)\n",
    "print(\"--\")"
   ]
  },
  {
   "cell_type": "markdown",
   "metadata": {},
   "source": [
    "---"
   ]
  },
  {
   "cell_type": "markdown",
   "metadata": {},
   "source": [
    "## **opening the data files**"
   ]
  },
  {
   "cell_type": "code",
   "execution_count": 4,
   "metadata": {
    "jupyter": {
     "source_hidden": true
    }
   },
   "outputs": [
    {
     "name": "stdout",
     "output_type": "stream",
     "text": [
      "opening ASCII files... --> data into DataFrame df\n",
      "(1/1) 500356 -- descaling fraction: 1.000000000000\n"
     ]
    },
    {
     "data": {
      "application/vnd.jupyter.widget-view+json": {
       "model_id": "799f0669545f4212bc87f3927a357a60",
       "version_major": 2,
       "version_minor": 0
      },
      "text/plain": [
       "0it [00:00, ?it/s]"
      ]
     },
     "metadata": {},
     "output_type": "display_data"
    },
    {
     "name": "stdout",
     "output_type": "stream",
     "text": [
      "no variables to mirror\n",
      "iRun also added to df\n",
      "--\n",
      "typeRun added to df\n",
      "--\n",
      "no events found --> execution won't work...\n",
      "--\n"
     ]
    },
    {
     "name": "stderr",
     "output_type": "stream",
     "text": [
      "/home/succo/miniconda3/envs/anaKrys/lib/python3.8/site-packages/succolib/io/ascii.py:90: FutureWarning: The frame.append method is deprecated and will be removed from pandas in a future version. Use pandas.concat instead.\n",
      "  df = df.append(dfTemp, ignore_index=True, sort=False)\n"
     ]
    }
   ],
   "source": [
    "##############################\n",
    "# data (re)loading is performed only if required\n",
    "if boolLoad: \n",
    "    \n",
    "    # default nRunToOpen for test mode\n",
    "    if boolTest & (len(nRunToOpen)==0):\n",
    "        nRunToOpen = [\"test0\", \"test1\"]  # do not edit this! proper setting above\n",
    "    \n",
    "    # some dataset-related info\n",
    "    filePathTest = \"./data_test/ascii_test/\" if fileType==\"ASCII\" else \"./data_test/tree_test/\"\n",
    "    fileNameFormatTest = \"runXXXXXX_YYYYYY.dat\" if fileType==\"ASCII\" else \"runXXXXXX.root\"\n",
    "    fileNameFormatFull = (filePathTest if boolTest else filePath) + (fileNameFormatTest if boolTest else fileNameFormat)  # full filenames, i.e. with path\n",
    "    nRun = {}  # dictionary of the files to be opened only (same format as nRun0)\n",
    "    for iRun in nRun0:\n",
    "        if (iRun in nRunToOpen) | (nRun0[iRun] in nRunToOpen):\n",
    "            nRun.update({iRun: nRun0[iRun]})\n",
    "    \n",
    "    # data opening (function in .modules)\n",
    "    # recall:\n",
    "    #      - in ROOT case, remapping is also done\n",
    "    #      - swapped layers are also mirrored run by run\n",
    "    #      - iRun & typeRun columns also created (respectively with nRun0 keys & values)\n",
    "    df, dt = loadGeneral(fileType, fileNameFormatFull, nRun, descFrac, mirrorMap, globals(), bProgressBars)\n",
    "    print(\"--\")\n",
    "    \n",
    "    # newly created df structure info printing\n",
    "    loadDonePrint(df, dt)  # print only (function in .modules)\n",
    "\n",
    "##############################\n",
    "# print already existing df info if not (re)loading any data file\n",
    "else:  \n",
    "    loadSkipPrint(df)  # print only (function in .modules)\n",
    "    \n",
    "print(\"--\")"
   ]
  },
  {
   "cell_type": "code",
   "execution_count": 5,
   "metadata": {
    "jupyter": {
     "source_hidden": true
    }
   },
   "outputs": [
    {
     "name": "stdout",
     "output_type": "stream",
     "text": [
      "scan step number (iStep) availability: False \n",
      "--\n",
      "Unix time (epoch) availability: False \n",
      "--\n",
      "goniometer DOF availability: False \n",
      "xGonioRaw + []\n",
      "--\n",
      "input modules should be: ['0', '1', '2', '3']\n",
      "output modules should be: ['4', '5']\n",
      "input tracking availability (xRaw...): False\n",
      "output tracking availability (xRaw...): False\n",
      "input multiplicity availability (nHit...): False\n",
      "output multiplicity availability (nHit...): False\n",
      "--\n",
      "digitizer channel availability: False\n",
      "--\n",
      "forward calorimeter total signal (PHCaloFwd) availability a priori: False\n",
      "forward calorimeter total in GeV (EFwd) availability a priori: False\n",
      "--\n",
      "xRaw0 is in filterMap but not in df --> ignored\n",
      "xRaw1 is in filterMap but not in df --> ignored\n",
      "xRaw2 is in filterMap but not in df --> ignored\n",
      "xRaw3 is in filterMap but not in df --> ignored\n",
      "filters applied: events = 0 --> 0\n",
      "--\n",
      "--\n"
     ]
    }
   ],
   "source": [
    "# detect data availability (function in .modules)\n",
    "# main data: \n",
    "#     iStep, epoch, xGonio (any), base xRaw/nHit (4 input, 2 output), digiPHRaw (any), digiTime (same as or less than digiPHRaw)\n",
    "#     furthermore, PHCaloFwd & EFwd a priori existance is checked -- they are computed from scratch only if False\n",
    "df, bIStep, bEpoch, bXGonio, bXRaw, bNHit, bDigiPHAny, lsDigiCh, bDigiTime, bPHCaloFwd0, bEFwd0 = dfCheckAvailability(df, baseTrackingMap)\n",
    "print(\"--\")\n",
    "\n",
    "# filter out the non-interesting data according to dfFilters (function in .modules)\n",
    "df = dfFiltering(df, filterMap)\n",
    "print(\"--\")\n",
    "\n",
    "# detect unavailable mandatory z entries run by run & set them to 0 (function in .modules)\n",
    "z = zBaseCheckAvailability(z, df[\"iRun\"].unique(), baseTrackingMap)\n",
    "print(\"--\")"
   ]
  },
  {
   "cell_type": "markdown",
   "metadata": {},
   "source": [
    "## **physics analysis**"
   ]
  },
  {
   "cell_type": "markdown",
   "metadata": {},
   "source": [
    "### **input tracking**"
   ]
  },
  {
   "cell_type": "code",
   "execution_count": 6,
   "metadata": {
    "jupyter": {
     "source_hidden": true
    }
   },
   "outputs": [
    {
     "name": "stdout",
     "output_type": "stream",
     "text": [
      "nHitIn & corresponding boolean not added to df\n",
      "--\n"
     ]
    }
   ],
   "source": [
    "# input mean multiplicity (function in .modules)\n",
    "if bNHit[\"in\"]:\n",
    "    df = aveVar(df, [\"nHit\"+s for s in baseTrackingMap[0]], \"nHitIn\")\n",
    "    \n",
    "    # also single-hit boolean\n",
    "    # note: single-hit selection is not based on nHitOut but rather on output layers individually\n",
    "    df = inHitCuts(df, [\"nHit\"+s for s in baseTrackingMap[0]])\n",
    "    \n",
    "else:\n",
    "    print(\"nHitIn & corresponding boolean not added to df\")\n",
    "    \n",
    "print(\"--\")"
   ]
  },
  {
   "cell_type": "code",
   "execution_count": 7,
   "metadata": {
    "jupyter": {
     "source_hidden": true
    }
   },
   "outputs": [
    {
     "name": "stdout",
     "output_type": "stream",
     "text": [
      "no input beam info available --> no raw angles, aligned angles, aligned positions & projections added to df\n",
      "--\n"
     ]
    }
   ],
   "source": [
    "# input tracking (functions in .modules)\n",
    "# recall that (if input positions available) input tracking is done regardless of input multiplicity\n",
    "#     --> if needed, single-hit selection has to be applied manually a posteriori\n",
    "if bXRaw[\"in\"]:\n",
    "    # input angles/aligned tracking info\n",
    "    # also input angle selection, according to thInCut\n",
    "    df = trackingAngleAlign(df, [\"xRaw\"+s for s in baseTrackingMap[0]], thInCentres, \"thIn\", z, True, thInCut)\n",
    "    print(\"--\")\n",
    "    \n",
    "    # input beam projection @ crystal & @ forward calorimeter\n",
    "    # also crystal fiducial selection, according to xCryCut\n",
    "    # also print several input beam info\n",
    "    df = inputTrackingProj(df, baseTrackingMap[0], z, xCryCut)\n",
    "    \n",
    "else:\n",
    "    print(\"no input beam info available --> no raw angles, aligned angles, aligned positions & projections added to df\")\n",
    "    \n",
    "print(\"--\")"
   ]
  },
  {
   "cell_type": "markdown",
   "metadata": {},
   "source": [
    "### **goniometer**"
   ]
  },
  {
   "cell_type": "code",
   "execution_count": 8,
   "metadata": {
    "jupyter": {
     "source_hidden": true
    }
   },
   "outputs": [
    {
     "name": "stdout",
     "output_type": "stream",
     "text": [
      "no goniometer info available --> no final goniometer DOF added to df\n",
      "--\n"
     ]
    }
   ],
   "source": [
    "# from xGonioRaw... to xGonio... -- according to info in gonioMap (function in .modules)\n",
    "if bXGonio:\n",
    "    df = gonioPair(df, gonioMap)\n",
    "else:\n",
    "    print(\"no goniometer info available --> no final goniometer DOF added to df\")\n",
    "    \n",
    "print(\"--\")"
   ]
  },
  {
   "cell_type": "markdown",
   "metadata": {},
   "source": [
    "### **output tracking**"
   ]
  },
  {
   "cell_type": "code",
   "execution_count": 9,
   "metadata": {
    "jupyter": {
     "source_hidden": true
    }
   },
   "outputs": [
    {
     "name": "stdout",
     "output_type": "stream",
     "text": [
      "nHitOut & corresponding booleans not added to df\n",
      "--\n"
     ]
    }
   ],
   "source": [
    "# output mean multiplicity (functions in .modules)\n",
    "if bNHit[\"out\"]:\n",
    "    df = aveVar(df, [\"nHit\"+s for s in baseTrackingMap[1]], \"nHitOut\")\n",
    "    \n",
    "    # also booleans -- single-hit, low multiplicity & high-multiplicity, according to outMultCut\n",
    "    # note: single-hit selection is not based on nHitOut but rather on output layers individually\n",
    "    df = outHitCuts(df, [\"nHit\"+s for s in baseTrackingMap[1]], outMultCut)\n",
    "    \n",
    "else:\n",
    "    print(\"nHitOut & corresponding booleans not added to df\")\n",
    "    \n",
    "print(\"--\")"
   ]
  },
  {
   "cell_type": "code",
   "execution_count": 10,
   "metadata": {
    "jupyter": {
     "source_hidden": true
    }
   },
   "outputs": [
    {
     "name": "stdout",
     "output_type": "stream",
     "text": [
      "no output beam info available --> no raw angles, aligned angles, angle deltas & aligned positions added to df\n",
      "--\n"
     ]
    }
   ],
   "source": [
    "# output tracking (functions in .modules)\n",
    "# recall that (if output positions available) output tracking is done regardless of input/output multiplicity\n",
    "#     --> if needed, single-hit selections have to be applied manually a posteriori\n",
    "if bXRaw[\"out\"]:\n",
    "    # for output stage analysis, xCry0-1 = 0 when input tracking is absent\n",
    "    if not bXRaw[\"in\"]:\n",
    "        df.loc[:, \"xCry%d\"%i] = 0\n",
    "        print(\"input tracking unavailability --> doing output tracking with xCry0/1 automatically set to 0\\n--\")\n",
    "    \n",
    "    # output angles/aligned tracking info\n",
    "    df = trackingAngleAlign(df, [\"xCry0\", \"xCry1\"] + [\"xRaw\"+s for s in baseTrackingMap[1]], thOutCentres, \"thOut\", z, False)\n",
    "    print(\"--\")\n",
    "    \n",
    "    # output-input angle delta\n",
    "    df = trackingAngleDelta(df)\n",
    "    \n",
    "    # print output beam info\n",
    "    outputTrackingPrint(df, baseTrackingMap[1])\n",
    "        \n",
    "else:\n",
    "    print(\"no output beam info available --> no raw angles, aligned angles, angle deltas & aligned positions added to df\")\n",
    "    \n",
    "print(\"--\")"
   ]
  },
  {
   "cell_type": "markdown",
   "metadata": {},
   "source": [
    "### **digitizers**"
   ]
  },
  {
   "cell_type": "code",
   "execution_count": 11,
   "metadata": {
    "jupyter": {
     "source_hidden": true
    }
   },
   "outputs": [
    {
     "name": "stdout",
     "output_type": "stream",
     "text": [
      "no digitizer data available --> no equalised PH, PH & time booleans, forward calo. total PH & energy added to df\n",
      "--\n"
     ]
    }
   ],
   "source": [
    "# (various functions in .modules)\n",
    "# recall that elements of lsDigiCh are available in df (with prefix \"digiPHRaw\") by definition\n",
    "# if PHCaloFwd (EFwd) already in df, forward calo. sum (calibration) is not performed -- according to bPHCaloFwd0 (bEFwd0)\n",
    "#     --> name the raw variable differently to (re)execute this\n",
    "\n",
    "if (bDigiPHAny | bPHCaloFwd0 | bEFwd0):\n",
    "    # channels equalisation\n",
    "    df = equalise(df, lsDigiCh, equalMap)\n",
    "    print(\"--\")\n",
    "    \n",
    "    # PH & time booleans\n",
    "    df = defineDigiBooleans(df, lsDigiCh, digiPHCut, digiTimeCut, bDigiTime)\n",
    "    print(\"--\")\n",
    "\n",
    "    # forward calorimeter total PH\n",
    "    # behaviour according to bPHCaloFwd0\n",
    "    # if already existing in df, this is not performed --> name the raw variable differently to (re)execute this\n",
    "    df, bPHCaloFwd = caloSum(df, bPHCaloFwd0, lsDigiChCaloFwd, \"Fwd\", False)\n",
    "    print(\"--\")\n",
    "    \n",
    "    # forward calorimeter time boolean (OR between single-channel time booleans)\n",
    "    # only useful if single channels data are available (regardless of whether or not they have been used to get PHCaloFwd), otherwise always True\n",
    "    df = caloTimeBool(df, bPHCaloFwd, lsDigiChCaloFwd, bDigiTime, \"Fwd\")\n",
    "    print(\"--\")\n",
    "    \n",
    "    # forward calorimeter energy in GeV\n",
    "    # behaviour according to bEFwd0\n",
    "    # if already existing in df, this is not performed --> name the raw variable differently to (re)execute this\n",
    "    df, bEFwd = calibrate(df, bEFwd0, calibMapFwd, \"Fwd\", False)\n",
    "\n",
    "else:\n",
    "    bPHCaloFwd = {}\n",
    "    bEFwd = {}\n",
    "    print(\"no digitizer data available --> no equalised PH, PH & time booleans, forward calo. total PH & energy added to df\")\n",
    "\n",
    "print(\"--\")"
   ]
  },
  {
   "cell_type": "markdown",
   "metadata": {},
   "source": [
    "---"
   ]
  },
  {
   "cell_type": "markdown",
   "metadata": {},
   "source": [
    "## **plots & output**"
   ]
  },
  {
   "cell_type": "code",
   "execution_count": 12,
   "metadata": {
    "jupyter": {
     "source_hidden": true
    }
   },
   "outputs": [],
   "source": [
    "# initialising output plots data dictionary -- empty, it will be filled with the objects needed\n",
    "outData = {}\n",
    "\n",
    "# initialising units of measurement dictionary -- empty string for all the df variables by default\n",
    "units = dict(zip(df.columns, [\"\" for s in df.columns]))\n",
    "\n",
    "# limiting the selection dictionaries to the runs currently under study\n",
    "thInCut0 = {k: v for k, v in thInCut.items() if k in df[\"iRun\"].unique()}\n",
    "xCryCut0 = {k: v for k, v in xCryCut.items() if k in df[\"iRun\"].unique()}\n",
    "outMultCut0 = {k: v for k, v in outMultCut.items() if k in df[\"iRun\"].unique()}\n",
    "digiPHCut0 = {k: v for k, v in digiPHCut.items() if k in df[\"iRun\"].unique()}\n",
    "digiTimeCut0 = {k: v for k, v in digiTimeCut.items() if k in df[\"iRun\"].unique()}"
   ]
  },
  {
   "cell_type": "markdown",
   "metadata": {},
   "source": [
    "### **plot & output settings (other settings in each plot cell)**"
   ]
  },
  {
   "cell_type": "code",
   "execution_count": 13,
   "metadata": {
    "jupyter": {
     "source_hidden": true
    }
   },
   "outputs": [],
   "source": [
    "# if True (False), base plots and related fits are (not) created\n",
    "boolPlotGlob = True\n",
    "\n",
    "# units -- dictionary of the units of measurement for plots\n",
    "# shape: {var: unit} (all string)\n",
    "# unit format: unit between brackets\n",
    "# all the missing variable units are automatically set to empty strings (above)\n",
    "units.update({\"epoch\": \"[s]\"})\n",
    "units.update({\"xGonioRot\": \"[urad]\"})\n",
    "units.update({\"xGonioCrad\": \"[urad]\"})\n",
    "units.update({\"xGonioHorsa\": \"[mm]\"})\n",
    "units.update({\"xGonioHorsaBig\": \"[mm]\"})\n",
    "units.update({\"xGonioVersa\": \"[mm/2]\"})\n",
    "units.update({\"EFwd\": \"[GeV]\"})\n",
    "units.update({\"x\"+baseTrackingMap[0][0]: \"[cm]\"})\n",
    "units.update({\"x\"+baseTrackingMap[0][1]: \"[cm]\"})\n",
    "units.update({\"xCry0\": \"[cm]\"})\n",
    "units.update({\"xCry1\": \"[cm]\"})\n",
    "for iCh in [s for s in df.columns if \"digiPH\" in s]:\n",
    "    units.update({iCh: \"[ADC]\"})\n",
    "for iCh in [s for s in df.columns if \"digiTime\" in s]:\n",
    "    units.update({iCh: \"[ADC]\"})\n",
    "for iTh in [s for s in df.columns if (\"thIn\" in s) | (\"thOut\" in s)]:\n",
    "    units.update({iTh: \"[rad]\"})\n",
    "    \n",
    "units.update({\"ERingo\": \"[GeV]\"})\n",
    "units.update({\"EJohn\": \"[GeV]\"})\n",
    "units.update({\"ESiPM\": \"[GeV]\"})\n",
    "\n",
    "# other graphic settings\n",
    "pal2d = \"viridis\"  # palette for 2d plots\n",
    "lineC = \"0.7\"  # color of plot patches (e.g. selection ranges) lines\n",
    "fitC = \"0.1\" # color of fit lines\n",
    "lineW = 1.5  # width of plot patches (e.g. selection ranges) lines\n",
    "fitW = 1.5  # width of fit lines\n",
    "\n",
    "# if True (False), figures are (not) saved in ./out_plots\n",
    "# this is particularly important when running the software as a Python script\n",
    "bPlotSave = True\n",
    "\n",
    "# also recall to set boolPlotGlob above, in the input settings section"
   ]
  },
  {
   "cell_type": "markdown",
   "metadata": {},
   "source": [
    "### **run base info**"
   ]
  },
  {
   "cell_type": "code",
   "execution_count": 14,
   "metadata": {
    "jupyter": {
     "source_hidden": true
    }
   },
   "outputs": [
    {
     "ename": "ValueError",
     "evalue": "cannot convert float NaN to integer",
     "output_type": "error",
     "traceback": [
      "\u001b[0;31m---------------------------------------------------------------------------\u001b[0m",
      "\u001b[0;31mValueError\u001b[0m                                Traceback (most recent call last)",
      "Input \u001b[0;32mIn [14]\u001b[0m, in \u001b[0;36m<cell line: 8>\u001b[0;34m()\u001b[0m\n\u001b[1;32m      7\u001b[0m \u001b[38;5;66;03m###############\u001b[39;00m\n\u001b[1;32m      8\u001b[0m \u001b[38;5;28;01mif\u001b[39;00m boolPlotLoc \u001b[38;5;241m&\u001b[39m boolPlotGlob:\n\u001b[0;32m----> 9\u001b[0m     ax \u001b[38;5;241m=\u001b[39m \u001b[43mplot_runInfo\u001b[49m\u001b[43m(\u001b[49m\u001b[43mdf\u001b[49m\u001b[43m,\u001b[49m\u001b[43m \u001b[49m\u001b[43m[\u001b[49m\u001b[38;5;124;43m\"\u001b[39;49m\u001b[38;5;124;43mboolSingleHitIn\u001b[39;49m\u001b[38;5;124;43m\"\u001b[39;49m\u001b[43m]\u001b[49m\u001b[43m \u001b[49m\u001b[38;5;28;43;01mif\u001b[39;49;00m\u001b[43m \u001b[49m\u001b[43mbNHit\u001b[49m\u001b[43m[\u001b[49m\u001b[38;5;124;43m\"\u001b[39;49m\u001b[38;5;124;43min\u001b[39;49m\u001b[38;5;124;43m\"\u001b[39;49m\u001b[43m]\u001b[49m\u001b[43m \u001b[49m\u001b[38;5;28;43;01melse\u001b[39;49;00m\u001b[43m \u001b[49m\u001b[43m[\u001b[49m\u001b[43m]\u001b[49m\u001b[43m,\u001b[49m\u001b[43m \u001b[49m\u001b[43mbXGonio\u001b[49m\u001b[43m,\u001b[49m\u001b[43m \u001b[49m\u001b[43mbEpoch\u001b[49m\u001b[43m,\u001b[49m\u001b[43m \u001b[49m\u001b[43mbUseEpoch\u001b[49m\u001b[43m,\u001b[49m\u001b[43m \u001b[49m\u001b[43mpal2d\u001b[49m\u001b[43m,\u001b[49m\u001b[43m \u001b[49m\u001b[43munits\u001b[49m\u001b[43m,\u001b[49m\u001b[43m \u001b[49m\u001b[43mxSize\u001b[49m\u001b[43m,\u001b[49m\u001b[43m \u001b[49m\u001b[43mySize\u001b[49m\u001b[43m,\u001b[49m\u001b[43m \u001b[49m\u001b[43mfigName\u001b[49m\u001b[43m,\u001b[49m\u001b[43m \u001b[49m\u001b[43mbPlotSave\u001b[49m\u001b[43m)\u001b[49m\n",
      "File \u001b[0;32m/mnt/c/Users/succo/cernbox/succo/analysis_templates/anaKrys/modules/plots.py:75\u001b[0m, in \u001b[0;36mplot_runInfo\u001b[0;34m(df, lsBool, bXGonio, bEpoch, bUseEpoch, pal2d, units, xSize, ySize, figName, bSave)\u001b[0m\n\u001b[1;32m     73\u001b[0m     y \u001b[38;5;241m=\u001b[39m df[\u001b[38;5;124m\"\u001b[39m\u001b[38;5;124miRunTemp\u001b[39m\u001b[38;5;124m\"\u001b[39m] \u001b[38;5;28;01mif\u001b[39;00m \u001b[38;5;28mlen\u001b[39m(lsBool)\u001b[38;5;241m==\u001b[39m\u001b[38;5;241m0\u001b[39m \u001b[38;5;28;01melse\u001b[39;00m df[dfBool][\u001b[38;5;124m\"\u001b[39m\u001b[38;5;124miRunTemp\u001b[39m\u001b[38;5;124m\"\u001b[39m]\n\u001b[1;32m     74\u001b[0m     \u001b[38;5;28;01mdel\u001b[39;00m df[\u001b[38;5;124m\"\u001b[39m\u001b[38;5;124miRunTemp\u001b[39m\u001b[38;5;124m\"\u001b[39m]\n\u001b[0;32m---> 75\u001b[0m bins \u001b[38;5;241m=\u001b[39m [\u001b[38;5;28mmin\u001b[39m(\u001b[38;5;241m1000\u001b[39m, x\u001b[38;5;241m.\u001b[39mmax() \u001b[38;5;241m-\u001b[39m x\u001b[38;5;241m.\u001b[39mmin()), \u001b[38;5;28mmin\u001b[39m(\u001b[38;5;241m100\u001b[39m, \u001b[38;5;28mmax\u001b[39m(\u001b[38;5;241m10\u001b[39m, \u001b[38;5;241m2\u001b[39m\u001b[38;5;241m*\u001b[39m\u001b[38;5;28;43mint\u001b[39;49m\u001b[43m(\u001b[49m\u001b[43my\u001b[49m\u001b[38;5;241;43m.\u001b[39;49m\u001b[43mmax\u001b[49m\u001b[43m(\u001b[49m\u001b[43m)\u001b[49m\u001b[43m \u001b[49m\u001b[38;5;241;43m-\u001b[39;49m\u001b[43m \u001b[49m\u001b[43my\u001b[49m\u001b[38;5;241;43m.\u001b[39;49m\u001b[43mmin\u001b[49m\u001b[43m(\u001b[49m\u001b[43m)\u001b[49m\u001b[43m)\u001b[49m))]\n\u001b[1;32m     76\u001b[0m ax[\u001b[38;5;241m0\u001b[39m, \u001b[38;5;241m0\u001b[39m]\u001b[38;5;241m.\u001b[39mhist2d(x, y, bins, cmap\u001b[38;5;241m=\u001b[39mpal2d)\n\u001b[1;32m     77\u001b[0m ax[\u001b[38;5;241m0\u001b[39m, \u001b[38;5;241m0\u001b[39m]\u001b[38;5;241m.\u001b[39mset_title(\u001b[38;5;124m\"\u001b[39m\u001b[38;5;132;01m%s\u001b[39;00m\u001b[38;5;124m:\u001b[39m\u001b[38;5;132;01m%s\u001b[39;00m\u001b[38;5;124m\"\u001b[39m \u001b[38;5;241m%\u001b[39m (y\u001b[38;5;241m.\u001b[39mname, xFullName), fontsize\u001b[38;5;241m=\u001b[39m\u001b[38;5;124m\"\u001b[39m\u001b[38;5;124msmall\u001b[39m\u001b[38;5;124m\"\u001b[39m)\n",
      "\u001b[0;31mValueError\u001b[0m: cannot convert float NaN to integer"
     ]
    },
    {
     "data": {
      "image/png": "[encoded data removed]",
      "text/plain": [
       "<Figure size 504x576 with 1 Axes>"
      ]
     },
     "metadata": {
      "needs_background": "light"
     },
     "output_type": "display_data"
    }
   ],
   "source": [
    "boolPlotLoc = True  # figure(s) here only drawn if True\n",
    "figName = \"runInfo\"  # figure name\n",
    "xSize = 7  # horizontal figure size\n",
    "ySize = 8  # vertical figure size\n",
    "bUseEpoch = False  # if True (False) the epoch (automatic event index) is used -- only if epoch in df, otherwise event index anyway\n",
    "\n",
    "###############\n",
    "if boolPlotLoc & boolPlotGlob:\n",
    "    ax = plot_runInfo(df, [\"boolSingleHitIn\"] if bNHit[\"in\"] else [], bXGonio, bEpoch, bUseEpoch, pal2d, units, xSize, ySize, figName, bPlotSave)\n",
    "    # if input multiplicity is available, base info are studied in input single hit condition\n",
    "    # this is always drawn, since at least iRun is always created inside df -- goniometer DOF availability checked inside the function"
   ]
  },
  {
   "cell_type": "markdown",
   "metadata": {},
   "source": [
    "### TRACKING **input beam profiles & spot**"
   ]
  },
  {
   "cell_type": "code",
   "execution_count": null,
   "metadata": {
    "jupyter": {
     "source_hidden": true
    }
   },
   "outputs": [],
   "source": [
    "boolPlotLoc = True  # figure(s) here only drawn if True\n",
    "figName = \"xIn\"  # figure name -- the part \"_1d\"/\"_2d\" will be appended\n",
    "xSize = [7, 3]  # horizontal figure size -- 1d-then-2d\n",
    "ySize = [3, 3]  # vertical figure size -- 1d-then-2d\n",
    "binSize = [0.01, 0.01]  # bin size, same for x & y in all the plots below -- 1d-then-2d -- if a component is None, it is automatically computed\n",
    "hRange = [[-0.5, 2.5], [-0.5, 2.5]]  # axes ranges, same in all the plots below -- format [[x0, x1] or None, [y0, y1] or None] (if None, automatic definition)\n",
    "bLog = False  # if True (False), log (lin) scale on z\n",
    "bPlot2d = False  # if True (False), 2d profile plot is (not) plotted\n",
    "lsBool = [\"boolSingleHitIn\"]  # list of booleans (available in df) to be applied to all the plots here\n",
    "\n",
    "###############\n",
    "if boolPlotLoc & boolPlotGlob & bXRaw[\"in\"]:\n",
    "    outData = plot_prof(df, (\"x\"+baseTrackingMap[0][0], \"x\"+baseTrackingMap[0][1]), binSize[0], lsBool, hRange, outData, bLog, units, xSize[0], ySize[0], figName+\"1d\", bPlotSave)\n",
    "    if bPlot2d:\n",
    "        plot_proj(df, (\"x\"+baseTrackingMap[0][0], \"x\"+baseTrackingMap[0][1]), binSize[1], lsBool, hRange, False, {}, bLog, lineC, lineW, pal2d, units, xSize[1], ySize[1], figName+\"2d\", bPlotSave)\n",
    "\n",
    "# outData is updated with bin-by-bin spectra values & fit parameters -- entries \"thIn/OutN_histo/fit\""
   ]
  },
  {
   "cell_type": "markdown",
   "metadata": {},
   "source": [
    "### TRACKING **angles**"
   ]
  },
  {
   "cell_type": "code",
   "execution_count": null,
   "metadata": {
    "jupyter": {
     "source_hidden": true
    }
   },
   "outputs": [],
   "source": [
    "boolPlotLoc = True  # figure(s) here only drawn if True\n",
    "figName = [\"thIn\", \"thOut\", \"thDelta\"]  # figure names -- in-then-out-then-delta\n",
    "xSize = 7  # horizontal figure size\n",
    "ySize = 3  # vertical figure size\n",
    "xRange = [[-0.001, 0.001], [-0.001, 0.001], [-0.0003, 0.0003]]  # plot ranges, in-then-out-then-delta -- for each, left-then-right, same for x & y -- values can be None (i.e. automatic definition)\n",
    "binSize = [0.00002, 0.00002, 0.000005]  # bin sizes -- in-then-out-then-delta -- if a value is None, automatically computed\n",
    "bFit = [True, False, False]  # do fits if True -- in-then-out-then-delta\n",
    "fitSigma = [0.001, 0.001, 0.001]  # starting point for sigma fits (set to ~ half the distribution FWHM or None, i.e. automatic computation) -- in-then-out-then-delta, only used if bFit=True\n",
    "bSel = True  # draw input selection according to thInCut -- only for input\n",
    "bLog = False  # if True (False), log (lin) scale on y\n",
    "\n",
    "###############\n",
    "lsBool = [[], [], []]\n",
    "if bNHit[\"in\"]:\n",
    "    lsBool[0].append(\"boolSingleHitIn\")\n",
    "    lsBool[1].append(\"boolSingleHitIn\")\n",
    "    lsBool[2].append(\"boolSingleHitIn\")\n",
    "if bNHit[\"out\"]:\n",
    "    lsBool[1].append(\"boolSingleHitOut\")\n",
    "    lsBool[2].append(\"boolSingleHitOut\")\n",
    "# if input/input-output multiplicity is available, input/output & delta angle distr. are studied in input/input-output single hit condition\n",
    "\n",
    "if boolPlotLoc & boolPlotGlob:\n",
    "    if bXRaw[\"in\"]:\n",
    "        outData = plot_th(df, \"thIn\", binSize[0], lsBool[0], xRange[0], bFit[0], fitSigma[0], outData, bSel, thInCut0, bLog, fitC, fitW, lineC, lineW, units, xSize, ySize, figName[0], bPlotSave)\n",
    "    if bXRaw[\"out\"]:\n",
    "        # recall that output angles are computed even in absence of input tracking data -- hits @ crystal automatically set to (0, 0, 0)\n",
    "        outData = plot_th(df, \"thOut\", binSize[1], lsBool[1], xRange[1], bFit[1], fitSigma[1], outData, False, {}, bLog, fitC, fitW, lineC, lineW, units, xSize, ySize, figName[1], bPlotSave)\n",
    "    if bXRaw[\"in\"] & bXRaw[\"out\"]:\n",
    "        outData = plot_th(df, \"thDelta\", binSize[2], lsBool[2], xRange[2], bFit[2], fitSigma[2], outData, False, {}, bLog, fitC, fitW, lineC, lineW, units, xSize, ySize, figName[2], bPlotSave)\n",
    "        \n",
    "# outData is updated with bin-by-bin spectra values & fit parameters -- entries \"thIn/OutN_histo/fit\""
   ]
  },
  {
   "cell_type": "markdown",
   "metadata": {},
   "source": [
    "### TRACKING **multiplicities**"
   ]
  },
  {
   "cell_type": "code",
   "execution_count": null,
   "metadata": {
    "jupyter": {
     "source_hidden": true
    }
   },
   "outputs": [],
   "source": [
    "boolPlotLoc = False  # figure(s) here only drawn if True\n",
    "figName = \"nHitOut\"  # figure name\n",
    "xSize = 7  # horizontal figure size\n",
    "ySize = 4  # vertical figure size\n",
    "bUseEpoch = False  # if True (False) the epoch (automatic event index) is used -- only if epoch in df, otherwise event index anyway\n",
    "maxNHit = 10  # multiplicity upper limit -- if None, range (& binning) automatically defined\n",
    "bSel = True  # draw output selection according to outMultCut -- only for output\n",
    "tRange = None  # range on the 2d plots x to be used to costrain the data included in the 1d plots -- length-2 array or None (for no costraint)\n",
    "bLog = False  # if True (False), log (lin) scale on y/z in 1d/2d plots\n",
    "\n",
    "###############\n",
    "if boolPlotLoc & boolPlotGlob & bNHit[\"out\"]:\n",
    "    outData = plot_nHit(df, \"nHitOut\", [\"boolSingleHitIn\"] if bNHit[\"in\"] else [], bEpoch, bUseEpoch, maxNHit, tRange, bSel, outMultCut0, outData, bLog, lineC, lineW, pal2d, units, xSize, ySize, figName, bPlotSave)\n",
    "    # if input multiplicity is available, output multiplicity is studied in input single hit condition\n",
    "    \n",
    "# outData is updated with bin-by-bin spectra values (2d & 1d) -- entries \"nHitOut_nameX_histo\" (2d) & \"nHitOut_iRun_histo\" (1d)"
   ]
  },
  {
   "cell_type": "markdown",
   "metadata": {},
   "source": [
    "### TRACKING **beam spots @ crystal**"
   ]
  },
  {
   "cell_type": "code",
   "execution_count": null,
   "metadata": {
    "jupyter": {
     "source_hidden": true
    }
   },
   "outputs": [],
   "source": [
    "boolPlotLoc = True  # figure(s) here only drawn if True\n",
    "figName = \"xCry\"  # figure name\n",
    "xSize = 3  # horizontal figure size\n",
    "ySize = 3  # vertical figure size\n",
    "binSize = 0.01  # bin size, same for x & y in all the plots below -- if None, automatically computed\n",
    "hRange = [[-0.5, 2.5], [-0.5, 2.5]]  # axes ranges, same in all the plots below -- format [[x0, x1] or None, [y0, y1] or None] (if None, automatic definition)\n",
    "bSel = [True, True]  # draw fiducial selection according to xCryCut -- plot without multiplicity cut, then plots with multiplicity cut\n",
    "bLog = False  # if True (False), log (lin) scale on z\n",
    "\n",
    "df[\"boolCounterOut\"] = df.digiPHCounterOut>800\n",
    "\n",
    "###############\n",
    "lsBool0 = [\"boolSingleHitIn\"] if bNHit[\"in\"] else []\n",
    "# if input multiplicity is available, beam projections @ crystal are studied in input single hit condition\n",
    "\n",
    "if boolPlotLoc & boolPlotGlob & bXRaw[\"in\"]:\n",
    "    plot_proj(df, \"xCry\", binSize, lsBool0+[], hRange, bSel[0], xCryCut0, bLog, lineC, lineW, pal2d, units, xSize, ySize, figName, bPlotSave)\n",
    "    if bNHit[\"out\"]:\n",
    "        # furthermore, study with different output multiplicity selection performed only if output multiplicity data available\n",
    "        plot_proj(df, \"xCry\", binSize, lsBool0+[\"boolLowHitOut\"], hRange, bSel[1], xCryCut0, bLog, lineC, lineW, pal2d, units, xSize, ySize, \"xCry_lowHitOut\", bPlotSave)\n",
    "        plot_proj(df, \"xCry\", binSize, lsBool0+[\"boolHighHitOut\", \"boolCounterOut\"], hRange, bSel[1], xCryCut0, bLog, lineC, lineW, pal2d, units, xSize, ySize, \"xCry_highHitOut\", bPlotSave)"
   ]
  },
  {
   "cell_type": "markdown",
   "metadata": {},
   "source": [
    "### GONIOMETER **2d phase space**"
   ]
  },
  {
   "cell_type": "code",
   "execution_count": null,
   "metadata": {
    "jupyter": {
     "source_hidden": true
    }
   },
   "outputs": [],
   "source": [
    "boolPlotLoc = False  # figure(s) here only drawn if True\n",
    "figName = \"gonioPhaseSpace\"  # figure name\n",
    "xSize = 4  # horizontal figure size\n",
    "ySize = 4  # vertical figure size\n",
    "lsVar = [\"Rot\", \"Crad\"]  # length-2 list of gonio. variables to be plot (x-then-y) -- names without the prefix xGonio\n",
    "lsBool = [\"boolInCry\"]  # list of booleans (available in df) to be applied -- input single hit condition applied automatically (if data available)\n",
    "bLog = True  # if True (False), log (lin) scale on z\n",
    "\n",
    "###############\n",
    "lsBool0 = [\"boolSingleHitIn\"] if bNHit[\"in\"] else []\n",
    "# if input multiplicity is available, goniometer DOF phase space is studied in input single hit condition\n",
    "\n",
    "if boolPlotLoc & boolPlotGlob & bXGonio:\n",
    "    plot_gonioCorr(df, lsVar, lsBool0+lsBool, bLog, pal2d, units, xSize, ySize, figName, bPlotSave)"
   ]
  },
  {
   "cell_type": "markdown",
   "metadata": {},
   "source": [
    "### GONIOMETER **trends over other variables**"
   ]
  },
  {
   "cell_type": "code",
   "execution_count": null,
   "metadata": {
    "jupyter": {
     "source_hidden": true
    }
   },
   "outputs": [],
   "source": [
    "boolPlotLoc = False  # figure(s) here only drawn if True\n",
    "figName = \"gonioTrends\"  # figure name base -- it will be completed with \"_\" and the name of each variable under study\n",
    "xSize = 7  # horizontal figure size (for each single figures)\n",
    "ySize = 5  # vertical figure size (for each single figures)\n",
    "lsBool = [\"boolInAligned\", \"boolInCry\", \"boolDigiTimeCounterOut\"]  # list of booleans (available in df) to be applied to all the plots here -- input single hit cond. applied automatically (if data available)\n",
    "bLog = True  # if True (False), log (lin) scale on z\n",
    "\n",
    "# dictionary of the variables to be analysed -- shape:\n",
    "# {varY (string): {\n",
    "#         varX0 (string): [[xL0, xR0, dx0], [yL0, yR0, dy0], [bDrawProf0 (bool), bFit0 (bool), deg0 (integer), xFitL0, xFitR0]], (float if not otherwise specified)\n",
    "#         varX1: [[xL1, xR1, dx1], [yL1, yR1, dy1], [bDrawProf1, bFit1, deg1, xFitL1, xFitR1]],\n",
    "#         ...\n",
    "# }}\n",
    "# 1 figure per varY, each with 1 plot per varX -- varX format: part of the variable name following \"xGonioRaw\"\n",
    "# plot in ranges (xL, xR) & (yL, yR) with bin size dx & dy\n",
    "# profile plot polynomial fit with degree deg -- supported deg = 0, 1, 2; also Gaussian fit if deg = \"Gaussian\"\n",
    "# all entries (apart from bFit) can also be None -- automatic definition in this case (e.g. deg = 0)\n",
    "dictGonioTrends = {\n",
    "    \"digiPHCounterOut\" : {\n",
    "#         \"Rot\": [[df.xGonioRawRot.min(), df.xGonioRawRot.max(), 80], [None, 4000, 50], [True, False, 2, None, None]],\n",
    "        \"RawCrad\": [[None, None, 80], [None, 4000, 50], [True, False, 2, 1.861e6, 1.866e6]],\n",
    "#         \"HorsaBig\": [[None, None, 2], [None, 1000, 50], [True, False, 2, 25, 50]],\n",
    "#         \"RawHorsaBig\": [[None, None, 2], [None, 1000, 50], [True, False, 2, None, None]],\n",
    "    },\n",
    "    \"digiPHPresh1\" : {\n",
    "        \"RawCrad\": [[None, None, 80], [None, 4000, 50], [True, False, 2, 1.861e6, 1.866e6]],\n",
    "#         \"Rot\": [[df.xGonioRawRot.min(), df.xGonioRawRot.max(), 80], [None, 4000, 50], [True, False, 2, None, None]],\n",
    "#         \"RawRot\": [[df.xGonioRawRot.min(), df.xGonioRawRot.max(), 80], [None, 4000, 50], [True, False, 2, None, None]],\n",
    "    },\n",
    "#     \"digiPHPresh1\" : {\n",
    "#         \"HorsaBig\": [[None, None, 2], [None, 5000, 50], [True, False, 2, None, None]],\n",
    "#         \"RawHorsaBig\": [[None, None, 2], [None, 5000, 50], [True, False, 2, None, None]],\n",
    "#     },\n",
    "#     \"digiPHRingo1\": {\n",
    "#         \"Rot\": [[None, None, 1], [ None, None, None], [True, False, 2, None, None]],\n",
    "#     },\n",
    "}\n",
    "        \n",
    "###############\n",
    "lsBool0 = [\"boolSingleHitIn\"] if bNHit[\"in\"] else []\n",
    "if boolPlotLoc & boolPlotGlob & bXGonio:\n",
    "    for i, iY in enumerate(dictGonioTrends):\n",
    "        outData = plot_gonioTrends(df, iY, dictGonioTrends[iY], lsBool0+lsBool, outData, bLog, fitC, fitW, lineC, lineW, pal2d, units, xSize, ySize, figName, bPlotSave)\n",
    "        \n",
    "# outData is updated with profile plots & fit info (only if fit requested) -- entries name format: \"nameY_nameX_prof\" & \"nameY_nameX_fit\""
   ]
  },
  {
   "cell_type": "markdown",
   "metadata": {},
   "source": [
    "### DIGITIZERS **single-channel PH-vs-time phase spaces**"
   ]
  },
  {
   "cell_type": "code",
   "execution_count": null,
   "metadata": {
    "jupyter": {
     "source_hidden": true
    }
   },
   "outputs": [],
   "source": [
    "boolPlotLoc = False  # figure(s) here only drawn if True\n",
    "figName = \"digi\"  # figure name\n",
    "xSize = 7  # horizontal figure size\n",
    "ySize = 18  # vertical figure size\n",
    "lsBool = [\"boolSingleHitIn\"]  # list of booleans (available in df) to be applied -- same for all the channels (if using cuts on crystal, consider including input single hit cond.)\n",
    "binSize = [2, None]  # bin sizes -- time-then-PH -- if a value is None, automatically computed\n",
    "bSel = True  # draw PH & time selection boxes according to digiPHCut & digiTimeCut -- same boolean for all the digitizer channels\n",
    "bLog = False  # if True (False), log (lin) scale on z\n",
    "\n",
    "###############\n",
    "if boolPlotLoc & boolPlotGlob & bDigiPHAny:\n",
    "    plot_digi(df, lsDigiCh, binSize, lsBool, bDigiTime, bSel, digiPHCut0, digiTimeCut0, bLog, lineC, lineW, pal2d, units, xSize, ySize, figName, bPlotSave)"
   ]
  },
  {
   "cell_type": "markdown",
   "metadata": {},
   "source": [
    "### DIGITIZERS **forward calorimeter energy**"
   ]
  },
  {
   "cell_type": "code",
   "execution_count": null,
   "metadata": {
    "jupyter": {
     "source_hidden": true
    }
   },
   "outputs": [],
   "source": [
    "boolPlotLoc = True  # figure(s) here only drawn if True\n",
    "figName = \"energyFwd\"  # figure name\n",
    "xSize = 7  # horizontal figure size\n",
    "ySize = 5  # vertical figure size\n",
    "binSize = 2  # bin size - can't be set to None (needed for errorbars)\n",
    "xRange = [4, 140]  # plot range - [min, max] or None (for automatic definition for each typeRun value separately)\n",
    "lsBool = [\"boolSingleHitIn\", \"boolInCry\", \"boolTimeCaloFwd\", \"boolInAligned\"]  # list of booleans (available in df) to be applied -- selection on typeRun applied automatically (if using cuts on crystal, consider including input single hit cond.)\n",
    "bUseEpoch = False  # if True (False) the epoch (automatic event index) is used -- only if epoch in df, otherwise event index anyway\n",
    "bLog = False  # if True (False), log (lin) scale on y/z in 1d/2d plots\n",
    "\n",
    "###############\n",
    "if boolPlotLoc & boolPlotGlob & any(bEFwd.values()):\n",
    "    outData = plot_energyRuns(df, \"Fwd\", binSize, bEFwd, xRange, bEpoch, bUseEpoch, lsBool, bLog, outData, pal2d, units, xSize, ySize, figName, bPlotSave)  # forward calo. energy\n",
    "    \n",
    "# outData is updated with bin-by-bin spectra values -- entries name format: \"EFwd_typeRun_histo\""
   ]
  },
  {
   "cell_type": "markdown",
   "metadata": {},
   "source": [
    "---"
   ]
  },
  {
   "cell_type": "markdown",
   "metadata": {},
   "source": [
    "### **output data**"
   ]
  },
  {
   "cell_type": "code",
   "execution_count": null,
   "metadata": {
    "jupyter": {
     "source_hidden": true
    }
   },
   "outputs": [],
   "source": [
    "# output dictionary outData saved as in ./out_data/outData.pickle\n",
    "globals().update(outData)\n",
    "saveOutData(globals())  # function in .modules\n",
    "print(\"--\")\n",
    "\n",
    "########\n",
    "# to open the Pickle file importing the anaKrys modules: \n",
    "#    outData = readOutData()  # function in .modules"
   ]
  },
  {
   "cell_type": "markdown",
   "metadata": {},
   "source": [
    "---"
   ]
  },
  {
   "cell_type": "markdown",
   "metadata": {},
   "source": [
    "## **whiteboard**"
   ]
  },
  {
   "cell_type": "markdown",
   "metadata": {},
   "source": [
    "### study of the **PWO+SiPM** systems (Ringo & John)"
   ]
  },
  {
   "cell_type": "code",
   "execution_count": null,
   "metadata": {
    "jupyter": {
     "source_hidden": true
    }
   },
   "outputs": [],
   "source": [
    "# SiPM-related variables\n",
    "\n",
    "df[\"PHRingo\"] = df.digiPHRingo0 + df.digiPHRingo1 + df.digiPHRingo2\n",
    "df[\"boolTimeRingo\"] = df.boolDigiTimeRingo0 | df.boolDigiTimeRingo1 | df.boolDigiTimeRingo2\n",
    "df[\"PHRingoBest\"] = df.digiPHRingo1\n",
    "df[\"boolTimeRingoBest\"] = df.boolDigiTimeRingo1\n",
    "\n",
    "df[\"PHJohn\"] = df.digiPHJohn1 + df.digiPHJohn2  # digiPHJohn0 always empty!\n",
    "df[\"boolTimeJohn\"] = df.boolDigiTimeJohn1 | df.boolDigiTimeJohn2  # digiPHJohn0 always empty!\n",
    "df[\"PHRJohnBest\"] = df.digiPHJohn2\n",
    "df[\"boolTimeJohnBest\"] = df.boolDigiTimeJohn2"
   ]
  },
  {
   "cell_type": "code",
   "execution_count": null,
   "metadata": {
    "jupyter": {
     "source_hidden": true
    }
   },
   "outputs": [],
   "source": [
    "# SiPM single spectra & total (not calibrated) spectrum (only useful with PWO crystals)\n",
    "\n",
    "bPlotThis = False  # plot this?\n",
    "boardName = \"John\"  # Ringo or John?\n",
    "if bPlotThis:\n",
    "    plt.close(\"SiPMSpectraSingle\")\n",
    "    plt.figure(\"SiPMSpectraSingle\")\n",
    "    plt.hist(df[\"digiPHRaw%s0\" % boardName][df[\"boolDigiTime%s0\" % boardName]], bins=200, histtype=\"step\", alpha=0.5, label=\"SiPM1\")\n",
    "    plt.hist(df[\"digiPHRaw%s1\" % boardName][df[\"boolDigiTime%s1\" % boardName]], bins=200, histtype=\"step\", alpha=0.5, label=\"SiPM2\")\n",
    "    plt.hist(df[\"digiPHRaw%s2\" % boardName][df[\"boolDigiTime%s2\" % boardName]], bins=200, histtype=\"step\", alpha=0.5, label=\"SiPM3\")\n",
    "    plt.hist(df[\"PH%s\" % boardName][df[\"boolTime%s\" % boardName]], bins=200, histtype=\"step\", alpha=0.5, label=\"total\")\n",
    "    plt.xlabel(\"PH[ADC]\")\n",
    "    plt.yscale(\"linear\")  # log?\n",
    "    plt.legend()"
   ]
  },
  {
   "cell_type": "code",
   "execution_count": null,
   "metadata": {
    "jupyter": {
     "source_hidden": true
    }
   },
   "outputs": [],
   "source": [
    "# SiPM search for \"calibration\" coefficient in order to sum it to forward calo. PH (used with 1 run per crystal only -- 500329 for 1X0, 500356 for 2X0)\n",
    "\n",
    "boardName = \"John\"  # Ringo or John?\n",
    "if (len(df.iRun.unique())==1) & ((\"500329\" in df.iRun.unique()) | (\"500356\" in df.iRun.unique())):\n",
    "    run = \"500329\" if boardName==\"Ringo\" else \"500356\"\n",
    "    dfBool = df[\"boolTime%s\" % boardName] & (df.PHCaloFwd > 0) & (df.PHCaloFwd < energyTrans120) \n",
    "    plt.close(\"RingVscaloFwd%s\" % boardName)\n",
    "    plt.figure(\"RingVscaloFwd%s\" % boardName)\n",
    "    h2 = plt.hist2d(df.PHCaloFwd[dfBool], df[\"PH%s\" % boardName][dfBool], bins=200, norm=LogNorm())\n",
    "    plt.xlabel(\"PHCaloFwd\")\n",
    "    plt.ylabel(\"PH%s\" % boardName)\n",
    "    prof = sl.hist2dToProfile(h2, \"mean\")\n",
    "    plt.plot(prof[0], prof[1], color=\"r\", ls=\":\")\n",
    "    dfProf = ((prof[0]>580) & (prof[0]<780))  if boardName==\"Ringo\" else ((prof[0]>350) & (prof[0]<650))\n",
    "    m, q = np.polyfit(prof[0][dfProf], prof[1][dfProf], 1)\n",
    "    plt.plot(prof[0][dfProf], m*prof[0][dfProf]+q, color=\"orange\")\n",
    "    plt.plot(prof[0], m*prof[0]+q, color=\"orange\", ls=\"--\", lw=1)\n",
    "    print(\"y-intercept is %f --> calibration coefficient for %s best SiPM is %f\" % (q, boardName, -1/m))\n",
    "    \n",
    "''' DEPRECATED\n",
    "boardName = \"John\"  # Ringo or John?\n",
    "if (len(df.iRun.unique())==1) & ((\"500329\" in df.iRun.unique()) | (\"500356\" in df.iRun.unique())):\n",
    "    run = \"500329\" if boardName==\"Ringo\" else \"500356\"\n",
    "    energySwiped = (95.5-75.5) if boardName==\"Ringo\" else (62.5-45.5) # mpv value for calo. forward energy w/ magnet off minus w/ magnet on\n",
    "    # # # # #\n",
    "    energyTrans120 = ((120 - energySwiped)-calibMapFwd[run][1][1])/calibMapFwd[run][1][0]  # nominal beam energy minus energy carried away by magnet in ADC (counter-calibration)\n",
    "    # note: here above the inverse function online linear calibration was used; remember to change here if needed\n",
    "    # # # # #\n",
    "    dfBool = df[\"boolTime%s\" % boardName] & (df.PHCaloFwd > 0) & (df.PHCaloFwd < energyTrans120) \n",
    "    plt.close(\"RingVscaloFwd%s\" % boardName)\n",
    "    plt.figure(\"RingVscaloFwd%s\" % boardName)\n",
    "    h2 = plt.hist2d(df.PHCaloFwd[dfBool], df[\"PH%s\" % boardName][dfBool], bins=200, norm=LogNorm())\n",
    "    plt.xlabel(\"PHCaloFwd\")\n",
    "    plt.ylabel(\"PH%s\" % boardName)\n",
    "    prof = sl.hist2dToProfile(h2, \"mean\")\n",
    "    plt.plot(prof[0], prof[1], color=\"r\", ls=\":\")\n",
    "    dfProf = ((prof[0]>580) & (prof[0]<780))  if boardName==\"Ringo\" else ((prof[0]>350) & (prof[0]<650))\n",
    "    m, q = np.polyfit(prof[0][dfProf], prof[1][dfProf], 1)\n",
    "    plt.plot(prof[0][dfProf], m*prof[0][dfProf]+q, color=\"orange\")\n",
    "    plt.plot(prof[0], m*prof[0]+q, color=\"orange\", ls=\"--\", lw=1)\n",
    "    print(\"y-intercept is %f --> calibration coefficient for %s best SiPM is %f\" % (q, boardName, energyTrans120/q))\n",
    "'''"
   ]
  },
  {
   "cell_type": "code",
   "execution_count": null,
   "metadata": {
    "jupyter": {
     "source_hidden": true
    }
   },
   "outputs": [],
   "source": [
    "# SiPM \"calibration\" -- w/ plot\n",
    "\n",
    "bPlot = False  # plot the figure below?\n",
    "\n",
    "calibSiPMRingo = 1.276769  # TBC\n",
    "calibSiPMJohn = 0.066782\n",
    "df[\"ERingo\"] = calibMapFwd[\"500329\"][0](calibSiPMRingo*df.PHRingo, *calibMapFwd[\"500329\"][1])\n",
    "df[\"EJohn\"] = calibMapFwd[\"500356\"][0](calibSiPMJohn*df.PHJohn, *calibMapFwd[\"500356\"][1])\n",
    "\n",
    "boardName = \"John\"  # Ringo or John?\n",
    "if bPlot:\n",
    "    plt.close(\"SiPMEnergyTotal\")\n",
    "    plt.figure(\"SiPMEnergyTotal\")\n",
    "    plt.hist(df[\"E%s\" % boardName][df[\"boolTime%s\" % boardName]], bins=200, histtype=\"step\", alpha=0.5, label=\"total\")\n",
    "    plt.xlabel(\"E%s[GeV]\" % boardName)\n",
    "    plt.yscale(\"linear\")  # log?\n",
    "    plt.legend()\n",
    "    plt.grid()"
   ]
  },
  {
   "cell_type": "code",
   "execution_count": null,
   "metadata": {
    "jupyter": {
     "source_hidden": true
    }
   },
   "outputs": [],
   "source": [
    "# \"calibrated\" SiPM spectra for each run\n",
    "\n",
    "bPlotThis = False  # plot this?\n",
    "boardName = \"John\"  # Ringo or John?\n",
    "if bPlotThis:\n",
    "    plot_energyRuns(df[df[\"boolTime%s\" % boardName]], boardName, 0.5, bEFwd, xRange0=[0, 90], figName=\"SiPMEnergyTotal_runs\", units=units, bLog=False, ySize=8)"
   ]
  },
  {
   "cell_type": "code",
   "execution_count": null,
   "metadata": {
    "jupyter": {
     "source_hidden": true
    }
   },
   "outputs": [],
   "source": [
    "# comparison between different spectra\n",
    "\n",
    "for s in df.typeRun.unique():\n",
    "    if \"PWO1X0\" in s:\n",
    "        df.loc[df.typeRun==s, \"ESiPM\"] = df.ERingo\n",
    "        df.loc[df.typeRun==s, \"boolTimeSiPM\"] = df.boolTimeRingo\n",
    "    elif \"PWO2X0\" in s:\n",
    "        df.loc[df.typeRun==s, \"ESiPM\"] = df.EJohn\n",
    "        df.loc[df.typeRun==s, \"boolTimeSiPM\"] = df.boolTimeJohn\n",
    "    else:\n",
    "        df.loc[df.typeRun==s, \"ESiPM\"] = 0\n",
    "        df.loc[df.typeRun==s, \"boolTimeSiPM\"] = True   \n",
    "        \n",
    "bPlotThis = True\n",
    "if bPlotThis:\n",
    "    plot_energyRuns(df[df[\"boolTimeSiPM\"]], \"SiPM\", 1, bEFwd, xRange0=[0, 120], figName=\"SiPMEnergyTotal_runs_both\", units=units, bLog=False, ySize=6)"
   ]
  },
  {
   "cell_type": "code",
   "execution_count": null,
   "metadata": {
    "jupyter": {
     "source_hidden": true
    }
   },
   "outputs": [],
   "source": [
    "# correlation between energy measured in forward calo. & \"energy\" measured in crystal\n",
    "\n",
    "bPlotThis = False\n",
    "\n",
    "if bPlotThis & (((\"PWO1X0_Axial\" in df.typeRun.unique()) & (\"PWO1X0_Random\" in df.typeRun.unique())) | ((\"PWO2X0_Axial\" in df.typeRun.unique()) & (\"PWO2X0_Random\" in df.typeRun.unique()))):\n",
    "    plt.close(\"SiPM_energyFwd_correlation_runs\")\n",
    "    fig, ax = plt.subplots(num=\"SiPM_energyFwd_correlation_runs\", nrows=1, ncols=2, figsize=(8, 4))\n",
    "\n",
    "    for i, s in enumerate((\"Axial\", \"Random\")):\n",
    "        dfBool = df.boolInAligned & df.boolInCry & df.boolTimeCaloFwd & df.boolSingleHitIn & ((df.typeRun==\"PWO1X0_\"+s) | (df.typeRun==\"PWO2X0_\"+s))\n",
    "        ax[i].hist2d(df[dfBool].EFwd, df[dfBool].ESiPM, bins=(np.linspace(0, 125, 100), np.linspace(0, 125, 100)), norm=LogNorm())\n",
    "        ax[i].set_xlabel(\"EFwd\")\n",
    "        ax[i].set_ylabel(\"ESiPM\")\n",
    "        ax[i].set_title(s)\n",
    "        ax[i].grid()\n",
    "\n",
    "    fig.tight_layout()"
   ]
  },
  {
   "cell_type": "markdown",
   "metadata": {},
   "source": [
    "### efficiency plot at **crystal surface**"
   ]
  },
  {
   "cell_type": "code",
   "execution_count": null,
   "metadata": {
    "jupyter": {
     "source_hidden": true
    }
   },
   "outputs": [],
   "source": [
    "bPlotThis = False  # plot this?\n",
    "dfBool = df.boolHighHitOut\n",
    "if bPlotThis:\n",
    "    plt.close(\"eff\")\n",
    "    plt.figure(\"eff\", figsize=[5.5, 5])\n",
    "    _ = sl.hist2dRatio(\n",
    "        df[dfBool].xCry0,\n",
    "        df[dfBool].xCry1,\n",
    "        df.xCry0, \n",
    "        df.xCry1,\n",
    "        bins = 200,\n",
    "        range = None,\n",
    "    )"
   ]
  },
  {
   "cell_type": "markdown",
   "metadata": {},
   "source": [
    "### **active absorber**"
   ]
  },
  {
   "cell_type": "code",
   "execution_count": null,
   "metadata": {
    "jupyter": {
     "source_hidden": true
    }
   },
   "outputs": [],
   "source": [
    "# single spectra (1 per run type)\n",
    "\n",
    "bUseThis = False  # plot this?\n",
    "if bUseThis:\n",
    "    plt.close(\"spectrumPresh\")\n",
    "    plt.figure(\"spectrumPresh\", figsize=(5.5, 4))\n",
    "    for iRun in df.typeRun.unique():\n",
    "        dfBool = df.boolInAligned & df.boolInCry & (df.typeRun==iRun) & df.boolDigiTimePresh1\n",
    "        plt.hist(df[dfBool].digiPHPresh1, bins=500, histtype=\"step\", density=True)"
   ]
  },
  {
   "cell_type": "code",
   "execution_count": null,
   "metadata": {
    "jupyter": {
     "source_hidden": true
    }
   },
   "outputs": [],
   "source": [
    "# angle-to-random ratio\n",
    "\n",
    "bUseThis = False  # plot this?\n",
    "runNum = \"WThin_Axial\"\n",
    "runDen = \"WThin_Random\"\n",
    "\n",
    "if bUseThis & ((runNum in df.typeRun.unique()) & (runDen in df.typeRun.unique())):\n",
    "    \n",
    "    dfBool = df.boolInAligned & df.boolInCry & (df.typeRun==runNum) & df.boolDigiTimePresh1\n",
    "    yN, xN = np.histogram(df[dfBool].digiPHPresh1, bins=100, range=[100, 7000])\n",
    "    \n",
    "    dfBool = df.boolInAligned & df.boolInCry & (df.typeRun==runDen) & df.boolDigiTimePresh1\n",
    "    yD, xD = np.histogram(df[dfBool].digiPHPresh1, bins=100, range=[100, 7000])\n",
    "    \n",
    "    plt.close(\"activeConverter\")\n",
    "    plt.figure(\"activeConverter\", figsize=[5.5, 4])\n",
    "    plt.plot(xD[:-1], [n/d for n, d in zip(yN, yD)])\n",
    "    plt.grid()\n",
    "    plt.yscale(\"log\")\n",
    "    plt.xlabel(\"scintillator signal [ADC]\")\n",
    "    plt.ylabel(\"axis-to-random spectra ratio\")"
   ]
  },
  {
   "cell_type": "markdown",
   "metadata": {},
   "source": [
    "---"
   ]
  },
  {
   "cell_type": "markdown",
   "metadata": {},
   "source": [
    "**stopping chronometer**"
   ]
  },
  {
   "cell_type": "code",
   "execution_count": null,
   "metadata": {
    "jupyter": {
     "source_hidden": true
    }
   },
   "outputs": [],
   "source": [
    "tStop = datetime.datetime.fromtimestamp(datetime.datetime.now().timestamp())  # stop chronometer\n",
    "tStopPrint = tStop.strftime(\"%Y-%m-%d %H:%M:%S GMT\")\n",
    "dt = tStop - tStart\n",
    "dtPrint = str(dt - datetime.timedelta(microseconds=dt.microseconds))\n",
    "print(\"stop @ %s\" % tStopPrint)\n",
    "print(\"total elapsed time (from last restart -- %s): %s\" % (tStartPrint, dtPrint))\n",
    "outData[\"execTime\"] = [tStart, tStop, dt]\n",
    "print(\"execution time info added to outData[\"\"execTime\"\"] -- start, stop, delta\\n--\")"
   ]
  },
  {
   "cell_type": "markdown",
   "metadata": {},
   "source": [
    "**(re)writing output data**"
   ]
  },
  {
   "cell_type": "code",
   "execution_count": null,
   "metadata": {
    "jupyter": {
     "source_hidden": true
    }
   },
   "outputs": [],
   "source": [
    "# this is done to add the execTime entry, together with any other entry from the whiteboard\n",
    "globals().update(outData)\n",
    "saveOutData(globals())  # function in .modules\n",
    "print(\"--\")\n",
    "\n",
    "########\n",
    "# to open the Pickle file importing the anaKrys modules: \n",
    "#    outData = readOutData()  # function in .modules"
   ]
  }
 ],
 "metadata": {
  "kernelspec": {
   "display_name": "Python 3 (ipykernel)",
   "language": "python",
   "name": "python3"
  },
  "language_info": {
   "codemirror_mode": {
    "name": "ipython",
    "version": 3
   },
   "file_extension": ".py",
   "mimetype": "text/x-python",
   "name": "python",
   "nbconvert_exporter": "python",
   "pygments_lexer": "ipython3",
   "version": "3.8.13"
  }
 },
 "nbformat": 4,
 "nbformat_minor": 4
}
