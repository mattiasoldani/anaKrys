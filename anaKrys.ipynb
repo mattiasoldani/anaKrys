{
 "cells": [
  {
   "cell_type": "markdown",
   "metadata": {},
   "source": [
    "# **anaKrys**\n",
    "\n",
    "(*version 2022.12.0 HYBRID*)\n",
    "\n",
    "Note: small tweak applied to plot_energySingle in modules/plots.py to comply with the latest versions of Matplotlib."
   ]
  },
  {
   "cell_type": "markdown",
   "metadata": {},
   "source": [
    "**notebook settings & imports  (edit %matplotlib magic here)**"
   ]
  },
  {
   "cell_type": "code",
   "execution_count": 1,
   "metadata": {
    "jupyter": {
     "source_hidden": true
    }
   },
   "outputs": [],
   "source": [
    "# set %matplotlib inline (%matplotlib widget, %matplotlib qt) for static (interactive on-page, interactive in separate window) plots\n",
    "# in order to use the on-page interactive mode, make sure the environment is set up properly\n",
    "# comment this out before exporting the notebook to a Python script -- via jupyter nbconvert --to script anaKrys.ipynb\n",
    "%matplotlib inline\n",
    "\n",
    "# external modules\n",
    "import datetime\n",
    "import importlib\n",
    "import os\n",
    "import pickle\n",
    "import succolib as sl\n",
    "import pandas as pd\n",
    "import numpy as np\n",
    "import matplotlib.pyplot as plt\n",
    "from scipy.optimize import curve_fit\n",
    "from matplotlib.colors import LogNorm\n",
    "\n",
    "# internal modules (in .modules)\n",
    "from modules import *"
   ]
  },
  {
   "cell_type": "markdown",
   "metadata": {},
   "source": [
    "**starting chronometer**"
   ]
  },
  {
   "cell_type": "code",
   "execution_count": 2,
   "metadata": {
    "jupyter": {
     "source_hidden": true
    }
   },
   "outputs": [
    {
     "name": "stdout",
     "output_type": "stream",
     "text": [
      "2024-02-22 14:42:53 GMT --> let's start!\n",
      "--\n"
     ]
    }
   ],
   "source": [
    "tStart = datetime.datetime.fromtimestamp(datetime.datetime.now().timestamp())  # start chronometer\n",
    "tStartPrint = tStart.strftime(\"%Y-%m-%d %H:%M:%S GMT\")\n",
    "print(\"%s --> let's start!\" % tStartPrint)\n",
    "print(\"--\")"
   ]
  },
  {
   "cell_type": "markdown",
   "metadata": {},
   "source": [
    "---"
   ]
  },
  {
   "cell_type": "markdown",
   "metadata": {},
   "source": [
    "## **input settings**"
   ]
  },
  {
   "cell_type": "code",
   "execution_count": 3,
   "metadata": {
    "jupyter": {
     "source_hidden": true
    }
   },
   "outputs": [
    {
     "name": "stdout",
     "output_type": "stream",
     "text": [
      "looking for files with label y22StormCernH2 in ./settings/\n",
      "execution control booleans:\n",
      "data reload controller: True\n",
      "test mode controller: False\n",
      "--\n",
      "will work with run numbers(s)/type(s) in /eos/user/m/msoldani/succo/phd_nocloud/data_local/22_cern_h2_storm/ascii_merged/ with format runXXXXXX_YYYYYY.dat\n",
      "(1/3) 520153 PWOUaglio_Axial\n",
      "(2/3) 520155 PWOUaglio_Random\n",
      "(3/3) 520164 PWOUaglio_Random\n",
      "--\n"
     ]
    }
   ],
   "source": [
    "# data reload controller -- if True (False), reload the data files (use the dataframe already in memory)\n",
    "boolLoad = True\n",
    "\n",
    "# progressbar visualisation controller -- if True (False) the file opening progressbars will (not) be visualised\n",
    "# in particular, set it to False if working in an environment with no widgets enabled\n",
    "bProgressBars = False\n",
    "\n",
    "# test mode controller: if True (False), the software runs with test (custom, selected via settingsFileMods) settings and data\n",
    "boolTest = False\n",
    "\n",
    "# run numbers or types to be opened\n",
    "# format: list of strings -- insert run numbers or types as they appear in nRun0\n",
    "# might be left empty in test mode -- both test runs \"test0\" & \"test1\" selected by default\n",
    "nRunToOpen = [   \n",
    "    #\"DirectBeam_120GeV\", \"DirectBeam_120GeV_INTRUTHITS_180deg_ScanHorsaBig0\"\n",
    "    \n",
    "    #\"PWOUaglio_180deg_Random\", \"PWOUaglio_180deg_Axial\",\n",
    "    \n",
    "    #\"PWOUaglio_100GeV_Random\", \"PWOUaglio_100GeV_Axial\",\n",
    "    \n",
    "    \"PWOUaglio_Axial\",\n",
    "    \n",
    "    \"PWOUaglio_Random\",\n",
    "    #\"PWOUaglio_Shifted4mrad_Random\",\n",
    "    #\"PWOUaglio_Shifted12mrad_Random\",\n",
    "    #\"PWOPinin_Random\",\n",
    "    \n",
    "    #\"PWOUaglio_Axial\",\n",
    "    #\"PWOUaglio_Shifted4mrad_Axial\",\n",
    "    #\"PWOUaglio_Shifted8mrad_Axial\",\n",
    "    #\"PWOUaglio_Shifted12mrad_Axial\",\n",
    "    #\"PWOPinin_Axial\",\n",
    "    \n",
    "    #\"PWOUaglio_Axial\",\n",
    "    #\"PWOUaglio_Shifted4mrad_NoAxisCorrection_Axial\",\n",
    "    #\"PWOUaglio_Shifted8mrad_NoAxisCorrection_Axial\",\n",
    "    #\"PWOPinin_Random\",\n",
    "    \n",
    "    #\"PWOUaglio_AxisToRandom_250urad\",\n",
    "    #\"PWOUaglio_AxisToRandom_1mrad\",\n",
    "    #\"PWOUaglio_AxisToRandom_2mrad\",\n",
    "    #\"PWOUaglio_AxisToRandom_8mrad\",\n",
    "    #\"PWOUaglio_AxisToRandom_17mrad\",\n",
    "]\n",
    "\n",
    "# label of the settings fileset to load -- useless if boolTest=False\n",
    "settingsFileMods = \"y22StormCernH2\"\n",
    "\n",
    "# filetype, string -- either \"ASCII\", \"ROOT\" or \"NPZ\"\n",
    "fileType = \"ASCII\"\n",
    "\n",
    "# file path (with / at the end), string\n",
    "# useless in test mode, in which it is set automatically depending on fileType\n",
    "# filePath = \"/mnt/c/Users/succo/succo/data_local/22_cern_h2_storm/ascii_stripped/\"\n",
    "# filePath = \"/mnt/r/home/msoldani/data_sshfs_stripped/\"\n",
    "filePath = \"/eos/user/m/msoldani/succo/phd_nocloud/data_local/22_cern_h2_storm/ascii_merged/\"\n",
    "\n",
    "# file name format (with no path), string\n",
    "# shape: replace the run number with XXXXXX and (for multiple files per run) the file number with YYYYYY\n",
    "# useless in test mode, in which it is set automatically depending on fileType\n",
    "fileNameFormat = \"runXXXXXX_YYYYYY.dat\"\n",
    "\n",
    "#######################################\n",
    "# import settings, according to boolTest and settingsFileMods\n",
    "# function in .modules --> set ./settings/__init__.py for settings fileset selection\n",
    "mod_runList_name, mod_settings_name = settingsSelect(boolTest, whichInput = fileType if boolTest else settingsFileMods)\n",
    "globals().update(importlib.import_module(mod_runList_name).__dict__)\n",
    "globals().update(importlib.import_module(mod_settings_name).__dict__)\n",
    "\n",
    "#######################################\n",
    "# print only (functions in .modules)\n",
    "boolControlPrint(boolLoad, boolTest, fileType)\n",
    "print(\"--\")\n",
    "settingsPrint(filePath, fileNameFormat, nRunToOpen, nRun0)  # print only (function in .modules)\n",
    "print(\"--\")"
   ]
  },
  {
   "cell_type": "markdown",
   "metadata": {},
   "source": [
    "---"
   ]
  },
  {
   "cell_type": "markdown",
   "metadata": {},
   "source": [
    "## **opening the data files**"
   ]
  },
  {
   "cell_type": "code",
   "execution_count": 4,
   "metadata": {
    "jupyter": {
     "source_hidden": true
    }
   },
   "outputs": [
    {
     "name": "stdout",
     "output_type": "stream",
     "text": [
      "opening ASCII files... --> data into DataFrame df\n",
      "progressbars won't be visualized...\n",
      "(1/3) 520153 -- descaling fraction: 1.000000000000\n"
     ]
    },
    {
     "name": "stderr",
     "output_type": "stream",
     "text": [
      "/eos/user/m/msoldani/.local/lib/python3.9/site-packages/succolib/io/ascii.py:43: FutureWarning: The frame.append method is deprecated and will be removed from pandas in a future version. Use pandas.concat instead.\n",
      "  df = df.append(dfTemp[dfTemp.index % int(1 / descFrac) == 0], ignore_index=True, sort=False)\n"
     ]
    },
    {
     "name": "stdout",
     "output_type": "stream",
     "text": [
      "no variables to mirror\n",
      "iRun also added to df\n"
     ]
    },
    {
     "name": "stderr",
     "output_type": "stream",
     "text": [
      "/eos/user/m/msoldani/.local/lib/python3.9/site-packages/succolib/io/ascii.py:90: FutureWarning: The frame.append method is deprecated and will be removed from pandas in a future version. Use pandas.concat instead.\n",
      "  df = df.append(dfTemp, ignore_index=True, sort=False)\n"
     ]
    },
    {
     "name": "stdout",
     "output_type": "stream",
     "text": [
      "(2/3) 520155 -- descaling fraction: 1.000000000000\n"
     ]
    },
    {
     "name": "stderr",
     "output_type": "stream",
     "text": [
      "/eos/user/m/msoldani/.local/lib/python3.9/site-packages/succolib/io/ascii.py:43: FutureWarning: The frame.append method is deprecated and will be removed from pandas in a future version. Use pandas.concat instead.\n",
      "  df = df.append(dfTemp[dfTemp.index % int(1 / descFrac) == 0], ignore_index=True, sort=False)\n"
     ]
    },
    {
     "name": "stdout",
     "output_type": "stream",
     "text": [
      "no variables to mirror\n",
      "iRun also added to df\n"
     ]
    },
    {
     "name": "stderr",
     "output_type": "stream",
     "text": [
      "/eos/user/m/msoldani/.local/lib/python3.9/site-packages/succolib/io/ascii.py:90: FutureWarning: The frame.append method is deprecated and will be removed from pandas in a future version. Use pandas.concat instead.\n",
      "  df = df.append(dfTemp, ignore_index=True, sort=False)\n"
     ]
    },
    {
     "name": "stdout",
     "output_type": "stream",
     "text": [
      "(3/3) 520164 -- descaling fraction: 1.000000000000\n"
     ]
    },
    {
     "name": "stderr",
     "output_type": "stream",
     "text": [
      "/eos/user/m/msoldani/.local/lib/python3.9/site-packages/succolib/io/ascii.py:43: FutureWarning: The frame.append method is deprecated and will be removed from pandas in a future version. Use pandas.concat instead.\n",
      "  df = df.append(dfTemp[dfTemp.index % int(1 / descFrac) == 0], ignore_index=True, sort=False)\n",
      "/eos/user/m/msoldani/.local/lib/python3.9/site-packages/succolib/io/ascii.py:90: FutureWarning: The frame.append method is deprecated and will be removed from pandas in a future version. Use pandas.concat instead.\n",
      "  df = df.append(dfTemp, ignore_index=True, sort=False)\n"
     ]
    },
    {
     "name": "stdout",
     "output_type": "stream",
     "text": [
      "no variables to mirror\n",
      "iRun also added to df\n",
      "--\n",
      "typeRun added to df\n",
      "--\n",
      "done (in 15.49 s) --> raw data have (events, variables) = (2059894, 70)\n",
      "--\n"
     ]
    }
   ],
   "source": [
    "##############################\n",
    "# data (re)loading is performed only if required\n",
    "if boolLoad: \n",
    "    \n",
    "    # default nRunToOpen for test mode\n",
    "    if boolTest & (len(nRunToOpen)==0):\n",
    "        nRunToOpen = [\"test0\", \"test1\"]  # do not edit this! proper setting above\n",
    "    \n",
    "    # some dataset-related info\n",
    "    filePathTest = \"./data_test/ascii_test/\" if fileType==\"ASCII\" else \"./data_test/tree_test/\"\n",
    "    fileNameFormatTest = \"runXXXXXX_YYYYYY.dat\" if fileType==\"ASCII\" else \"runXXXXXX.root\"\n",
    "    fileNameFormatFull = (filePathTest if boolTest else filePath) + (fileNameFormatTest if boolTest else fileNameFormat)  # full filenames, i.e. with path\n",
    "    nRun = {}  # dictionary of the files to be opened only (same format as nRun0)\n",
    "    for iRun in nRun0:\n",
    "        if (iRun in nRunToOpen) | (nRun0[iRun] in nRunToOpen):\n",
    "            nRun.update({iRun: nRun0[iRun]})\n",
    "    \n",
    "    # data opening (function in .modules)\n",
    "    # recall:\n",
    "    #      - in ROOT case, remapping is also done\n",
    "    #      - swapped layers are also mirrored run by run\n",
    "    #      - iRun & typeRun columns also created (respectively with nRun0 keys & values)\n",
    "    df, dt = loadGeneral(fileType, fileNameFormatFull, nRun, descFrac, mirrorMap, globals(), bProgressBars)\n",
    "    print(\"--\")\n",
    "    \n",
    "    # newly created df structure info printing\n",
    "    loadDonePrint(df, dt)  # print only (function in .modules)\n",
    "\n",
    "##############################\n",
    "# print already existing df info if not (re)loading any data file\n",
    "else:  \n",
    "    loadSkipPrint(df)  # print only (function in .modules)\n",
    "    \n",
    "print(\"--\")"
   ]
  },
  {
   "cell_type": "code",
   "execution_count": 5,
   "metadata": {
    "jupyter": {
     "source_hidden": true
    }
   },
   "outputs": [
    {
     "name": "stdout",
     "output_type": "stream",
     "text": [
      "scan step number (iStep) availability: True \n",
      "--\n",
      "Unix time (epoch) availability: False \n",
      "--\n",
      "goniometer DOF availability: True (5)\n",
      "xGonioRaw + ['Rot', 'Crad', 'Horsa', 'HorsaBig', 'Versa']\n",
      "--\n",
      "input modules should be: ['0', '1', '2', '3']\n",
      "output modules should be: ['2', '3']\n",
      "input tracking availability (xRaw...): True\n",
      "output tracking availability (xRaw...): True\n",
      "input multiplicity availability (nHit...): True\n",
      "output multiplicity availability (nHit...): True\n",
      "--\n",
      "digitizer channel availability: True\n",
      "16 channels: digiPHRaw + ['CaloFwdBL', 'CaloFwdBR', 'CaloFwdCC', 'CaloFwdCL', 'CaloFwdCR', 'CaloFwdTL', 'CaloFwdTR', 'Empty0', 'Empty1', 'Empty2', 'Empty3', 'Empty4', 'Pinin0', 'Pinin1', 'Uaglio0', 'Uaglio1']\n",
      "16 with time: digiTime + ['CaloFwdBL', 'CaloFwdBR', 'CaloFwdCC', 'CaloFwdCL', 'CaloFwdCR', 'CaloFwdTL', 'CaloFwdTR', 'Empty0', 'Empty1', 'Empty2', 'Empty3', 'Empty4', 'Pinin0', 'Pinin1', 'Uaglio0', 'Uaglio1']\n",
      "--\n",
      "forward calorimeter total signal (PHCaloFwd) availability a priori: False\n",
      "forward calorimeter total in GeV (EFwd) availability a priori: False\n",
      "--\n",
      "keeping xRaw0 in (-20.000000, 20.000000)\n",
      "keeping xRaw1 in (-20.000000, 20.000000)\n",
      "keeping xRaw2 in (-20.000000, 20.000000)\n",
      "keeping xRaw3 in (-20.000000, 20.000000)\n",
      "filters applied: events = 2059894 --> 2057293\n",
      "--\n",
      "all mandatory z[520153] available\n",
      "all mandatory z[520155] available\n",
      "all mandatory z[520164] available\n",
      "--\n"
     ]
    }
   ],
   "source": [
    "# detect data availability (function in .modules)\n",
    "# main data: \n",
    "#     iStep, epoch, xGonio (any), base xRaw/nHit (4 input, 2 output), digiPHRaw (any), digiTime (same as or less than digiPHRaw)\n",
    "#     furthermore, PHCaloFwd & EFwd a priori existance is checked -- they are computed from scratch only if False\n",
    "df, bIStep, bEpoch, bXGonio, bXRaw, bNHit, bDigiPHAny, lsDigiCh, bDigiTime, bPHCaloFwd0, bEFwd0 = dfCheckAvailability(df, baseTrackingMap)\n",
    "print(\"--\")\n",
    "\n",
    "# filter out the non-interesting data according to dfFilters (function in .modules)\n",
    "df = dfFiltering(df, filterMap)\n",
    "print(\"--\")\n",
    "\n",
    "# detect unavailable mandatory z entries run by run & set them to 0 (function in .modules)\n",
    "z = zBaseCheckAvailability(z, df[\"iRun\"].unique(), baseTrackingMap)\n",
    "print(\"--\")"
   ]
  },
  {
   "cell_type": "markdown",
   "metadata": {},
   "source": [
    "## **physics analysis**"
   ]
  },
  {
   "cell_type": "markdown",
   "metadata": {},
   "source": [
    "### **input tracking**"
   ]
  },
  {
   "cell_type": "code",
   "execution_count": 6,
   "metadata": {
    "jupyter": {
     "source_hidden": true
    }
   },
   "outputs": [
    {
     "name": "stdout",
     "output_type": "stream",
     "text": [
      "nHitIn added to df -- (mean, std) = (1.000000, 0.000000)\n",
      "boolSingleHitIn added to df\n",
      "--\n"
     ]
    }
   ],
   "source": [
    "# input mean multiplicity (function in .modules)\n",
    "if bNHit[\"in\"]:\n",
    "    df = aveVar(df, [\"nHit\"+s for s in baseTrackingMap[0]], \"nHitIn\")\n",
    "    \n",
    "    # also single-hit boolean\n",
    "    # note: single-hit selection is not based on nHitOut but rather on output layers individually\n",
    "    df = inHitCuts(df, [\"nHit\"+s for s in baseTrackingMap[0]])\n",
    "    \n",
    "else:\n",
    "    print(\"nHitIn & corresponding boolean not added to df\")\n",
    "    \n",
    "print(\"--\")"
   ]
  },
  {
   "cell_type": "code",
   "execution_count": 7,
   "metadata": {
    "jupyter": {
     "source_hidden": true
    }
   },
   "outputs": [
    {
     "name": "stdout",
     "output_type": "stream",
     "text": [
      "run 520153:\n",
      "thInRaw0 added to df\n",
      "aligning x layers (xRaw0 & xRaw2) with the value given in the settings: -0.0002367236\n",
      "thInRaw1 added to df\n",
      "aligning y layers (xRaw1 & xRaw3) with the value given in the settings: 0.0001050870\n",
      "no cut defined for thIn angle (run not in thInCut) --> boolInAligned always True\n",
      "run 520155:\n",
      "thInRaw0 added to df\n",
      "aligning x layers (xRaw0 & xRaw2) with the value given in the settings: -0.0002367236\n",
      "thInRaw1 added to df\n",
      "aligning y layers (xRaw1 & xRaw3) with the value given in the settings: 0.0001050870\n",
      "no cut defined for thIn angle (run not in thInCut) --> boolInAligned always True\n",
      "run 520164:\n",
      "thInRaw0 added to df\n",
      "aligning x layers (xRaw0 & xRaw2) with the value given in the settings: -0.0002367236\n",
      "thInRaw1 added to df\n",
      "aligning y layers (xRaw1 & xRaw3) with the value given in the settings: 0.0001050870\n",
      "no cut defined for thIn angle (run not in thInCut) --> boolInAligned always True\n",
      "--\n",
      "run 520153: no cut defined on crystal fiducial area --> boolInCry(0/1) always True\n",
      "run 520155: no cut defined on crystal fiducial area --> boolInCry(0/1) always True\n",
      "run 520164: no cut defined on crystal fiducial area --> boolInCry(0/1) always True\n",
      "--\n",
      "x axis\n",
      "final input angle thIn0: (mean, std) = (0.000006, 0.000104)\n",
      "final beam projections: x0, x2, xCry0, xCaloFwd0\n",
      "y axis\n",
      "final input angle thIn1: (mean, std) = (-0.000005, 0.000079)\n",
      "final beam projections: x1, x3, xCry1, xCaloFwd1\n",
      "--\n"
     ]
    }
   ],
   "source": [
    "# input tracking (functions in .modules)\n",
    "# recall that (if input positions available) input tracking is done regardless of input multiplicity\n",
    "#     --> if needed, single-hit selection has to be applied manually a posteriori\n",
    "if bXRaw[\"in\"]:\n",
    "    # input angles/aligned tracking info\n",
    "    # also input angle selection, according to thInCut\n",
    "    df = trackingAngleAlign(df, [\"xRaw\"+s for s in baseTrackingMap[0]], thInCentres, \"thIn\", z, True, thInCut)\n",
    "    print(\"--\")\n",
    "    \n",
    "    # input beam projection @ crystal & @ forward calorimeter\n",
    "    # also crystal fiducial selection, according to xCryCut\n",
    "    # also print several input beam info\n",
    "    df = inputTrackingProj(df, baseTrackingMap[0], z, xCryCut)\n",
    "    \n",
    "else:\n",
    "    print(\"no input beam info available --> no raw angles, aligned angles, aligned positions & projections added to df\")\n",
    "    \n",
    "print(\"--\")"
   ]
  },
  {
   "cell_type": "markdown",
   "metadata": {},
   "source": [
    "### **goniometer**"
   ]
  },
  {
   "cell_type": "code",
   "execution_count": 8,
   "metadata": {
    "jupyter": {
     "source_hidden": true
    }
   },
   "outputs": [
    {
     "name": "stdout",
     "output_type": "stream",
     "text": [
      "xGonioRawRot paired to thIn0 (as it is in df) with factor -1.000000E+06 --> xGonioRot\n",
      "xGonioRawCrad paired to thIn1 (as it is in df) with factor 1.000000E+06 --> xGonioCrad\n",
      "xGonioRawHorsa paired to xCry0 (shifted via its mean) with factor -1.000000E+01 --> xGonioHorsa\n",
      "xGonioRawHorsaBig paired to xCry0 (shifted via its mean) with factor 2.000000E+01 --> xGonioHorsaBig\n",
      "xGonioRawVersa copied into xGonioVersa with no modifications (not in gonioMap)\n",
      "--\n"
     ]
    }
   ],
   "source": [
    "# from xGonioRaw... to xGonio... -- according to info in gonioMap (function in .modules)\n",
    "if bXGonio:\n",
    "    df = gonioPair(df, gonioMap)\n",
    "else:\n",
    "    print(\"no goniometer info available --> no final goniometer DOF added to df\")\n",
    "    \n",
    "print(\"--\")"
   ]
  },
  {
   "cell_type": "markdown",
   "metadata": {},
   "source": [
    "### **output tracking**"
   ]
  },
  {
   "cell_type": "code",
   "execution_count": 9,
   "metadata": {
    "jupyter": {
     "source_hidden": true
    }
   },
   "outputs": [
    {
     "name": "stdout",
     "output_type": "stream",
     "text": [
      "nHitOut added to df -- (mean, std) = (1.000000, 0.000000)\n",
      "boolSingleHitOut added to df\n",
      "--\n",
      "run 520153:\n",
      "no cuts defined on output multiplicity --> booleans always True\n",
      "run 520155:\n",
      "no cuts defined on output multiplicity --> booleans always True\n",
      "run 520164:\n",
      "no cuts defined on output multiplicity --> booleans always True\n",
      "--\n"
     ]
    }
   ],
   "source": [
    "# output mean multiplicity (functions in .modules)\n",
    "if bNHit[\"out\"]:\n",
    "    df = aveVar(df, [\"nHit\"+s for s in baseTrackingMap[1]], \"nHitOut\")\n",
    "    \n",
    "    # also booleans -- single-hit, low multiplicity & high-multiplicity, according to outMultCut\n",
    "    # note: single-hit selection is not based on nHitOut but rather on output layers individually\n",
    "    df = outHitCuts(df, [\"nHit\"+s for s in baseTrackingMap[1]], outMultCut)\n",
    "    \n",
    "else:\n",
    "    print(\"nHitOut & corresponding booleans not added to df\")\n",
    "    \n",
    "print(\"--\")"
   ]
  },
  {
   "cell_type": "code",
   "execution_count": 10,
   "metadata": {
    "jupyter": {
     "source_hidden": true
    }
   },
   "outputs": [
    {
     "name": "stdout",
     "output_type": "stream",
     "text": [
      "run 520153:\n",
      "thOutRaw0 added to df\n",
      "aligning x layers (xCry0 & xRaw2) with the value given in the settings: 0.0000000000\n",
      "thOutRaw1 added to df\n",
      "aligning y layers (xCry1 & xRaw3) with the value given in the settings: 0.0000000000\n",
      "run 520155:\n",
      "thOutRaw0 added to df\n",
      "aligning x layers (xCry0 & xRaw2) with the value given in the settings: 0.0000000000\n",
      "thOutRaw1 added to df\n",
      "aligning y layers (xCry1 & xRaw3) with the value given in the settings: 0.0000000000\n",
      "run 520164:\n",
      "thOutRaw0 added to df\n",
      "aligning x layers (xCry0 & xRaw2) with the value given in the settings: 0.0000000000\n",
      "thOutRaw1 added to df\n",
      "aligning y layers (xCry1 & xRaw3) with the value given in the settings: 0.0000000000\n",
      "--\n",
      "x axis\n",
      "final output angle thOut0: (mean, std) = (-3.139190, 0.000104)\n",
      "final beam projections: xCry0, x2\n",
      "output-input angle delta thDelta0: (mean, std) = (-3.139195, 0.000000)\n",
      "y axis\n",
      "final output angle thOut1: (mean, std) = (3.140523, 0.000079)\n",
      "final beam projections: xCry1, x3\n",
      "output-input angle delta thDelta1: (mean, std) = (3.140528, 0.000000)\n",
      "--\n"
     ]
    }
   ],
   "source": [
    "# output tracking (functions in .modules)\n",
    "# recall that (if output positions available) output tracking is done regardless of input/output multiplicity\n",
    "#     --> if needed, single-hit selections have to be applied manually a posteriori\n",
    "if bXRaw[\"out\"]:\n",
    "    # for output stage analysis, xCry0-1 = 0 when input tracking is absent\n",
    "    if not bXRaw[\"in\"]:\n",
    "        df.loc[:, \"xCry%d\"%i] = 0\n",
    "        print(\"input tracking unavailability --> doing output tracking with xCry0/1 automatically set to 0\\n--\")\n",
    "    \n",
    "    # output angles/aligned tracking info\n",
    "    df = trackingAngleAlign(df, [\"xCry0\", \"xCry1\"] + [\"xRaw\"+s for s in baseTrackingMap[1]], thOutCentres, \"thOut\", z, False)\n",
    "    print(\"--\")\n",
    "    \n",
    "    # output-input angle delta\n",
    "    df = trackingAngleDelta(df)\n",
    "    \n",
    "    # print output beam info\n",
    "    outputTrackingPrint(df, baseTrackingMap[1])\n",
    "        \n",
    "else:\n",
    "    print(\"no output beam info available --> no raw angles, aligned angles, angle deltas & aligned positions added to df\")\n",
    "    \n",
    "print(\"--\")"
   ]
  },
  {
   "cell_type": "markdown",
   "metadata": {},
   "source": [
    "### **digitizers**"
   ]
  },
  {
   "cell_type": "code",
   "execution_count": 11,
   "metadata": {
    "jupyter": {
     "source_hidden": true
    }
   },
   "outputs": [
    {
     "name": "stdout",
     "output_type": "stream",
     "text": [
      "run 520153:\n",
      "digiPHRawCaloFwdBL --> digiPHCaloFwdBL via lambda x, a: x*a, [1.613842]\n",
      "digiPHRawCaloFwdBR --> digiPHCaloFwdBR via lambda x, a: x*a, [0.839792]\n",
      "digiPHRawCaloFwdCC --> digiPHCaloFwdCC via lambda x, a: x*a, [1.000000]\n",
      "digiPHRawCaloFwdCL --> digiPHCaloFwdCL via lambda x, a: x*a, [0.603472]\n",
      "digiPHRawCaloFwdCR --> digiPHCaloFwdCR via lambda x, a: x*a, [0.949666]\n",
      "digiPHRawCaloFwdTL --> digiPHCaloFwdTL via lambda x, a: x*a, [0.739055]\n",
      "digiPHRawCaloFwdTR --> digiPHCaloFwdTR via lambda x, a: x*a, [0.938749]\n",
      "digiPHEmpty0 = digiPHRawEmpty0, i.e. not equalised (not in equalMap)\n",
      "digiPHEmpty1 = digiPHRawEmpty1, i.e. not equalised (not in equalMap)\n",
      "digiPHEmpty2 = digiPHRawEmpty2, i.e. not equalised (not in equalMap)\n",
      "digiPHEmpty3 = digiPHRawEmpty3, i.e. not equalised (not in equalMap)\n",
      "digiPHEmpty4 = digiPHRawEmpty4, i.e. not equalised (not in equalMap)\n",
      "digiPHPinin0 = digiPHRawPinin0, i.e. not equalised (not in equalMap)\n",
      "digiPHPinin1 = digiPHRawPinin1, i.e. not equalised (not in equalMap)\n",
      "digiPHUaglio0 = digiPHRawUaglio0, i.e. not equalised (not in equalMap)\n",
      "digiPHUaglio1 = digiPHRawUaglio1, i.e. not equalised (not in equalMap)\n",
      "run 520155:\n",
      "digiPHRawCaloFwdBL --> digiPHCaloFwdBL via lambda x, a: x*a, [1.613842]\n",
      "digiPHRawCaloFwdBR --> digiPHCaloFwdBR via lambda x, a: x*a, [0.839792]\n",
      "digiPHRawCaloFwdCC --> digiPHCaloFwdCC via lambda x, a: x*a, [1.000000]\n",
      "digiPHRawCaloFwdCL --> digiPHCaloFwdCL via lambda x, a: x*a, [0.603472]\n",
      "digiPHRawCaloFwdCR --> digiPHCaloFwdCR via lambda x, a: x*a, [0.949666]\n",
      "digiPHRawCaloFwdTL --> digiPHCaloFwdTL via lambda x, a: x*a, [0.739055]\n",
      "digiPHRawCaloFwdTR --> digiPHCaloFwdTR via lambda x, a: x*a, [0.938749]\n",
      "digiPHEmpty0 = digiPHRawEmpty0, i.e. not equalised (not in equalMap)\n",
      "digiPHEmpty1 = digiPHRawEmpty1, i.e. not equalised (not in equalMap)\n",
      "digiPHEmpty2 = digiPHRawEmpty2, i.e. not equalised (not in equalMap)\n",
      "digiPHEmpty3 = digiPHRawEmpty3, i.e. not equalised (not in equalMap)\n",
      "digiPHEmpty4 = digiPHRawEmpty4, i.e. not equalised (not in equalMap)\n",
      "digiPHPinin0 = digiPHRawPinin0, i.e. not equalised (not in equalMap)\n",
      "digiPHPinin1 = digiPHRawPinin1, i.e. not equalised (not in equalMap)\n",
      "digiPHUaglio0 = digiPHRawUaglio0, i.e. not equalised (not in equalMap)\n",
      "digiPHUaglio1 = digiPHRawUaglio1, i.e. not equalised (not in equalMap)\n",
      "run 520164:\n",
      "digiPHRawCaloFwdBL --> digiPHCaloFwdBL via lambda x, a: x*a, [1.613842]\n",
      "digiPHRawCaloFwdBR --> digiPHCaloFwdBR via lambda x, a: x*a, [0.839792]\n",
      "digiPHRawCaloFwdCC --> digiPHCaloFwdCC via lambda x, a: x*a, [1.000000]\n",
      "digiPHRawCaloFwdCL --> digiPHCaloFwdCL via lambda x, a: x*a, [0.603472]\n",
      "digiPHRawCaloFwdCR --> digiPHCaloFwdCR via lambda x, a: x*a, [0.949666]\n",
      "digiPHRawCaloFwdTL --> digiPHCaloFwdTL via lambda x, a: x*a, [0.739055]\n",
      "digiPHRawCaloFwdTR --> digiPHCaloFwdTR via lambda x, a: x*a, [0.938749]\n",
      "digiPHEmpty0 = digiPHRawEmpty0, i.e. not equalised (not in equalMap)\n",
      "digiPHEmpty1 = digiPHRawEmpty1, i.e. not equalised (not in equalMap)\n",
      "digiPHEmpty2 = digiPHRawEmpty2, i.e. not equalised (not in equalMap)\n",
      "digiPHEmpty3 = digiPHRawEmpty3, i.e. not equalised (not in equalMap)\n",
      "digiPHEmpty4 = digiPHRawEmpty4, i.e. not equalised (not in equalMap)\n",
      "digiPHPinin0 = digiPHRawPinin0, i.e. not equalised (not in equalMap)\n",
      "digiPHPinin1 = digiPHRawPinin1, i.e. not equalised (not in equalMap)\n",
      "digiPHUaglio0 = digiPHRawUaglio0, i.e. not equalised (not in equalMap)\n",
      "digiPHUaglio1 = digiPHRawUaglio1, i.e. not equalised (not in equalMap)\n",
      "--\n",
      "run 520153:\n",
      "run not in digiPHCut --> boolDigiPH... always True for all the channels\n",
      "cuts added to df: boolDigiTime + ['CaloFwdBL', 'CaloFwdBR', 'CaloFwdCC', 'CaloFwdCL', 'CaloFwdCR', 'CaloFwdTL', 'CaloFwdTR', 'Pinin0', 'Pinin1', 'Uaglio0', 'Uaglio1']\n",
      "run 520155:\n",
      "run not in digiPHCut --> boolDigiPH... always True for all the channels\n",
      "cuts added to df: boolDigiTime + ['CaloFwdBL', 'CaloFwdBR', 'CaloFwdCC', 'CaloFwdCL', 'CaloFwdCR', 'CaloFwdTL', 'CaloFwdTR', 'Pinin0', 'Pinin1', 'Uaglio0', 'Uaglio1']\n",
      "run 520164:\n",
      "run not in digiPHCut --> boolDigiPH... always True for all the channels\n",
      "cuts added to df: boolDigiTime + ['CaloFwdBL', 'CaloFwdBR', 'CaloFwdCC', 'CaloFwdCL', 'CaloFwdCR', 'CaloFwdTL', 'CaloFwdTR', 'Pinin0', 'Pinin1', 'Uaglio0', 'Uaglio1']\n",
      "--\n",
      "run 520153:\n",
      "PHCaloFwd not already in df --> can be created\n",
      "PHCaloFwd added to df\n",
      "run 520155:\n",
      "PHCaloFwd not already in df --> can be created\n",
      "PHCaloFwd added to df\n",
      "run 520164:\n",
      "PHCaloFwd not already in df --> can be created\n",
      "PHCaloFwd added to df\n",
      "--\n",
      "run 520153:\n",
      "7 time entries found in df for CaloFwd channels --> boolTimeCaloFwd added to df (OR between channels)\n",
      "run 520155:\n",
      "7 time entries found in df for CaloFwd channels --> boolTimeCaloFwd added to df (OR between channels)\n",
      "run 520164:\n",
      "7 time entries found in df for CaloFwd channels --> boolTimeCaloFwd added to df (OR between channels)\n",
      "--\n",
      "run 520153:\n",
      "EFwd not already in df --> can be created\n",
      "EFwd added to df -- obtained via lambda x, m, q: (x*m+q)*120/114, [0.009903, -0.4257]\n",
      "run 520155:\n",
      "EFwd not already in df --> can be created\n",
      "EFwd added to df -- obtained via lambda x, m, q: (x*m+q)*120/114, [0.009903, -0.4257]\n",
      "run 520164:\n",
      "EFwd not already in df --> can be created\n",
      "EFwd added to df -- obtained via lambda x, m, q: (x*m+q)*120/114, [0.009903, -0.4257]\n",
      "--\n"
     ]
    }
   ],
   "source": [
    "# (various functions in .modules)\n",
    "# recall that elements of lsDigiCh are available in df (with prefix \"digiPHRaw\") by definition\n",
    "# if PHCaloFwd (EFwd) already in df, forward calo. sum (calibration) is not performed -- according to bPHCaloFwd0 (bEFwd0)\n",
    "#     --> name the raw variable differently to (re)execute this\n",
    "\n",
    "if (bDigiPHAny | bPHCaloFwd0 | bEFwd0):\n",
    "    # channels equalisation\n",
    "    df = equalise(df, lsDigiCh, equalMap)\n",
    "    print(\"--\")\n",
    "    \n",
    "    # PH & time booleans\n",
    "    df = defineDigiBooleans(df, lsDigiCh, digiPHCut, digiTimeCut, bDigiTime)\n",
    "    print(\"--\")\n",
    "\n",
    "    # forward calorimeter total PH\n",
    "    # behaviour according to bPHCaloFwd0\n",
    "    # if already existing in df, this is not performed --> name the raw variable differently to (re)execute this\n",
    "    df, bPHCaloFwd = caloSum(df, bPHCaloFwd0, lsDigiChCaloFwd, \"Fwd\", False)\n",
    "    print(\"--\")\n",
    "    \n",
    "    # forward calorimeter time boolean (OR between single-channel time booleans)\n",
    "    # only useful if single channels data are available (regardless of whether or not they have been used to get PHCaloFwd), otherwise always True\n",
    "    df = caloTimeBool(df, bPHCaloFwd, lsDigiChCaloFwd, bDigiTime, \"Fwd\")\n",
    "    print(\"--\")\n",
    "    \n",
    "    # forward calorimeter energy in GeV\n",
    "    # behaviour according to bEFwd0\n",
    "    # if already existing in df, this is not performed --> name the raw variable differently to (re)execute this\n",
    "    df, bEFwd = calibrate(df, bEFwd0, calibMapFwd, \"Fwd\", False)\n",
    "\n",
    "else:\n",
    "    bPHCaloFwd = {}\n",
    "    bEFwd = {}\n",
    "    print(\"no digitizer data available --> no equalised PH, PH & time booleans, forward calo. total PH & energy added to df\")\n",
    "\n",
    "print(\"--\")"
   ]
  },
  {
   "cell_type": "markdown",
   "metadata": {},
   "source": [
    "---"
   ]
  },
  {
   "cell_type": "markdown",
   "metadata": {},
   "source": [
    "## **plots & output**"
   ]
  },
  {
   "cell_type": "code",
   "execution_count": 12,
   "metadata": {
    "jupyter": {
     "source_hidden": true
    }
   },
   "outputs": [],
   "source": [
    "# initialising output plots data dictionary -- empty, it will be filled with the objects needed\n",
    "outData = {}\n",
    "\n",
    "# initialising units of measurement dictionary -- empty string for all the df variables by default\n",
    "units = dict(zip(df.columns, [\"\" for s in df.columns]))\n",
    "\n",
    "# limiting the selection dictionaries to the runs currently under study\n",
    "thInCut0 = {k: v for k, v in thInCut.items() if k in df[\"iRun\"].unique()}\n",
    "xCryCut0 = {k: v for k, v in xCryCut.items() if k in df[\"iRun\"].unique()}\n",
    "outMultCut0 = {k: v for k, v in outMultCut.items() if k in df[\"iRun\"].unique()}\n",
    "digiPHCut0 = {k: v for k, v in digiPHCut.items() if k in df[\"iRun\"].unique()}\n",
    "digiTimeCut0 = {k: v for k, v in digiTimeCut.items() if k in df[\"iRun\"].unique()}"
   ]
  },
  {
   "cell_type": "markdown",
   "metadata": {},
   "source": [
    "### **plot & output settings (other settings in each plot cell)**"
   ]
  },
  {
   "cell_type": "code",
   "execution_count": 13,
   "metadata": {
    "jupyter": {
     "source_hidden": true
    }
   },
   "outputs": [],
   "source": [
    "# if True (False), base plots and related fits are (not) created\n",
    "boolPlotGlob = True\n",
    "\n",
    "# units -- dictionary of the units of measurement for plots\n",
    "# shape: {var: unit} (all string)\n",
    "# unit format: unit between brackets\n",
    "# all the missing variable units are automatically set to empty strings (above)\n",
    "units.update({\"epoch\": \"[s]\"})\n",
    "units.update({\"xGonioRot\": \"[urad]\"})\n",
    "units.update({\"xGonioCrad\": \"[urad]\"})\n",
    "units.update({\"xGonioHorsa\": \"[mm]\"})\n",
    "units.update({\"xGonioHorsaBig\": \"[mm]\"})\n",
    "units.update({\"xGonioVersa\": \"[mm/2]\"})\n",
    "units.update({\"EFwd\": \"[GeV]\"})\n",
    "units.update({\"x\"+baseTrackingMap[0][0]: \"[cm]\"})\n",
    "units.update({\"x\"+baseTrackingMap[0][1]: \"[cm]\"})\n",
    "units.update({\"xCry0\": \"[cm]\"})\n",
    "units.update({\"xCry1\": \"[cm]\"})\n",
    "for iCh in [s for s in df.columns if \"digiPH\" in s]:\n",
    "    units.update({iCh: \"[ADC]\"})\n",
    "for iCh in [s for s in df.columns if \"digiTime\" in s]:\n",
    "    units.update({iCh: \"[ADC]\"})\n",
    "for iTh in [s for s in df.columns if (\"thIn\" in s) | (\"thOut\" in s)]:\n",
    "    units.update({iTh: \"[rad]\"})\n",
    "\n",
    "# other graphic settings\n",
    "pal2d = \"viridis\"  # palette for 2d plots\n",
    "lineC = \"0.7\"  # color of plot patches (e.g. selection ranges) lines\n",
    "fitC = \"0.1\" # color of fit lines\n",
    "lineW = 1.5  # width of plot patches (e.g. selection ranges) lines\n",
    "fitW = 1.5  # width of fit lines\n",
    "\n",
    "# if True (False), figures are (not) saved in ./out_plots\n",
    "# this is particularly important when running the software as a Python script\n",
    "bPlotSave = True\n",
    "\n",
    "# also recall to set boolPlotGlob above, in the input settings section"
   ]
  },
  {
   "cell_type": "markdown",
   "metadata": {},
   "source": [
    "### **run base info**"
   ]
  },
  {
   "cell_type": "code",
   "execution_count": 14,
   "metadata": {
    "jupyter": {
     "source_hidden": true
    }
   },
   "outputs": [],
   "source": [
    "boolPlotLoc = False  # figure(s) here only drawn if True\n",
    "figName = \"runInfo\"  # figure name\n",
    "xSize = 7  # horizontal figure size\n",
    "ySize = 8  # vertical figure size\n",
    "bUseEpoch = False  # if True (False) the epoch (automatic event index) is used -- only if epoch in df, otherwise event index anyway\n",
    "\n",
    "###############\n",
    "if boolPlotLoc & boolPlotGlob:\n",
    "    ax = plot_runInfo(df, [\"boolSingleHitIn\"] if bNHit[\"in\"] else [], bXGonio, bEpoch, bUseEpoch, pal2d, units, xSize, ySize, figName, bPlotSave)\n",
    "    # if input multiplicity is available, base info are studied in input single hit condition\n",
    "    # this is always drawn, since at least iRun is always created inside df -- goniometer DOF availability checked inside the function"
   ]
  },
  {
   "cell_type": "markdown",
   "metadata": {},
   "source": [
    "### TRACKING **input beam profiles & spot**"
   ]
  },
  {
   "cell_type": "code",
   "execution_count": 15,
   "metadata": {
    "jupyter": {
     "source_hidden": true
    }
   },
   "outputs": [],
   "source": [
    "boolPlotLoc = False  # figure(s) here only drawn if True\n",
    "figName = \"xIn\"  # figure name -- the part \"_1d\"/\"_2d\" will be appended\n",
    "xSize = [7, 3]  # horizontal figure size -- 1d-then-2d\n",
    "ySize = [3, 3]  # vertical figure size -- 1d-then-2d\n",
    "binSize = [0.01, 0.01]  # bin size, same for x & y in all the plots below -- 1d-then-2d -- if a component is None, it is automatically computed\n",
    "hRange = [[0, 2], [0, 2]]  # axes ranges, same in all the plots below -- format [[x0, x1] or None, [y0, y1] or None] (if None, automatic definition)\n",
    "bLog = False  # if True (False), log (lin) scale on z\n",
    "bPlot2d = False  # if True (False), 2d profile plot is (not) plotted\n",
    "lsBool = [\"boolSingleHitIn\"]  # list of booleans (available in df) to be applied to all the plots here\n",
    "\n",
    "###############\n",
    "if boolPlotLoc & boolPlotGlob & bXRaw[\"in\"]:\n",
    "    outData = plot_prof(df, (\"x\"+baseTrackingMap[0][0], \"x\"+baseTrackingMap[0][1]), binSize[0], lsBool, hRange, outData, bLog, units, xSize[0], ySize[0], figName+\"1d\", bPlotSave)\n",
    "    if bPlot2d:\n",
    "        plot_proj(df, (\"x\"+baseTrackingMap[0][0], \"x\"+baseTrackingMap[0][1]), binSize[1], lsBool, hRange, False, {}, bLog, lineC, lineW, pal2d, units, xSize[1], ySize[1], figName+\"2d\", bPlotSave)\n",
    "\n",
    "# outData is updated with bin-by-bin spectra values & fit parameters -- entries \"thIn/OutN_histo/fit\""
   ]
  },
  {
   "cell_type": "markdown",
   "metadata": {},
   "source": [
    "### TRACKING **angles**"
   ]
  },
  {
   "cell_type": "code",
   "execution_count": 16,
   "metadata": {
    "jupyter": {
     "source_hidden": true
    }
   },
   "outputs": [
    {
     "name": "stdout",
     "output_type": "stream",
     "text": [
      "spectrum returned in a dictionary with key thIn0_histo -- x, y, ey\n",
      "performing gaussian fit on thIn0...\n",
      "fit parameters:\n",
      "\tampl.\t1.609840e+05 +- 1.773765e+07\n",
      "\tmean\t2.443670e-06 +- 4.620653e-12\n",
      "\tsigma\t9.773093e-05 +- 2.000044e-12\n",
      "fit parameters are returned in a dictionary with key thIn0 -- parameters, cov. matrix_fit\n",
      "--\n",
      "spectrum returned in a dictionary with key thIn1_histo -- x, y, ey\n",
      "performing gaussian fit on thIn1...\n",
      "fit parameters:\n",
      "\tampl.\t2.271774e+05 +- 7.827195e+06\n",
      "\tmean\t-4.725271e-06 +- 5.123542e-13\n",
      "\tsigma\t7.156057e-05 +- 2.645156e-13\n",
      "fit parameters are returned in a dictionary with key thIn1 -- parameters, cov. matrix_fit\n",
      "--\n"
     ]
    },
    {
     "data": {
      "image/png": "[encoded data removed]",
      "text/plain": [
       "<Figure size 504x216 with 2 Axes>"
      ]
     },
     "metadata": {
      "needs_background": "light"
     },
     "output_type": "display_data"
    }
   ],
   "source": [
    "boolPlotLoc = True  # figure(s) here only drawn if True\n",
    "figName = [\"thIn\", \"thOut\", \"thDelta\"]  # figure names -- in-then-out-then-delta\n",
    "xSize = 7  # horizontal figure size\n",
    "ySize = 3  # vertical figure size\n",
    "xRange = [[-0.001, 0.001], [-0.1, 0.1], [-0.1, 0.1]]  # plot ranges, in-then-out-then-delta -- for each, left-then-right, same for x & y -- values can be None (i.e. automatic definition)\n",
    "binSize = [0.00002, 0.1, 0.1]  # bin sizes -- in-then-out-then-delta -- if a value is None, automatically computed\n",
    "bFit = [True, False, False]  # do fits if True -- in-then-out-then-delta\n",
    "fitSigma = [0.0001, 0.0001, 0.0001]  # starting point for sigma fits (set to ~ half the distribution FWHM or None, i.e. automatic computation) -- in-then-out-then-delta, only used if bFit=True\n",
    "bSel = True  # draw input selection according to thInCut -- only for input\n",
    "bLog = False  # if True (False), log (lin) scale on y\n",
    "\n",
    "###############\n",
    "lsBool = [[], [], []]\n",
    "if bNHit[\"in\"]:\n",
    "    lsBool[0].append(\"boolSingleHitIn\")\n",
    "    lsBool[1].append(\"boolSingleHitIn\")\n",
    "    lsBool[2].append(\"boolSingleHitIn\")\n",
    "if bNHit[\"out\"]:\n",
    "    lsBool[1].append(\"boolSingleHitOut\")\n",
    "    lsBool[2].append(\"boolSingleHitOut\")\n",
    "# if input/input-output multiplicity is available, input/output & delta angle distr. are studied in input/input-output single hit condition\n",
    "\n",
    "if boolPlotLoc & boolPlotGlob:\n",
    "    if bXRaw[\"in\"]:\n",
    "        outData = plot_th(df, \"thIn\", binSize[0], lsBool[0], xRange[0], bFit[0], fitSigma[0], outData, bSel, thInCut0, bLog, fitC, fitW, lineC, lineW, units, xSize, ySize, figName[0], bPlotSave)\n",
    "#     if bXRaw[\"out\"]:\n",
    "#         # recall that output angles are computed even in absence of input tracking data -- hits @ crystal automatically set to (0, 0, 0)\n",
    "#         outData = plot_th(df, \"thOut\", binSize[1], lsBool[1], xRange[1], bFit[1], fitSigma[1], outData, False, {}, bLog, fitC, fitW, lineC, lineW, units, xSize, ySize, figName[1], bPlotSave)\n",
    "#     if bXRaw[\"in\"] & bXRaw[\"out\"]:\n",
    "#         outData = plot_th(df, \"thDelta\", binSize[2], lsBool[2], xRange[2], bFit[2], fitSigma[2], outData, False, {}, bLog, fitC, fitW, lineC, lineW, units, xSize, ySize, figName[2], bPlotSave)\n",
    "        \n",
    "# outData is updated with bin-by-bin spectra values & fit parameters -- entries \"thIn/OutN_histo/fit\""
   ]
  },
  {
   "cell_type": "markdown",
   "metadata": {},
   "source": [
    "### TRACKING **multiplicities**"
   ]
  },
  {
   "cell_type": "code",
   "execution_count": 17,
   "metadata": {
    "jupyter": {
     "source_hidden": true
    }
   },
   "outputs": [],
   "source": [
    "boolPlotLoc = False  # figure(s) here only drawn if True\n",
    "figName = \"nHitOut\"  # figure name\n",
    "xSize = 7  # horizontal figure size\n",
    "ySize = 4  # vertical figure size\n",
    "bUseEpoch = False  # if True (False) the epoch (automatic event index) is used -- only if epoch in df, otherwise event index anyway\n",
    "maxNHit = 10  # multiplicity upper limit -- if None, range (& binning) automatically defined\n",
    "bSel = True  # draw output selection according to outMultCut -- only for output\n",
    "tRange = None  # range on the 2d plots x to be used to costrain the data included in the 1d plots -- length-2 array or None (for no costraint)\n",
    "bLog = False  # if True (False), log (lin) scale on y/z in 1d/2d plots\n",
    "\n",
    "###############\n",
    "if boolPlotLoc & boolPlotGlob & bNHit[\"out\"]:\n",
    "    outData = plot_nHit(df, \"nHitOut\", [\"boolSingleHitIn\"] if bNHit[\"in\"] else [], bEpoch, bUseEpoch, maxNHit, tRange, bSel, outMultCut0, outData, bLog, lineC, lineW, pal2d, units, xSize, ySize, figName, bPlotSave)\n",
    "    # if input multiplicity is available, output multiplicity is studied in input single hit condition\n",
    "    \n",
    "# outData is updated with bin-by-bin spectra values (2d & 1d) -- entries \"nHitOut_nameX_histo\" (2d) & \"nHitOut_iRun_histo\" (1d)"
   ]
  },
  {
   "cell_type": "markdown",
   "metadata": {},
   "source": [
    "### TRACKING **beam spots @ crystal**"
   ]
  },
  {
   "cell_type": "code",
   "execution_count": 18,
   "metadata": {
    "jupyter": {
     "source_hidden": true
    }
   },
   "outputs": [],
   "source": [
    "boolPlotLoc = False  # figure(s) here only drawn if True\n",
    "figName = \"xCry\"  # figure name\n",
    "xSize = 3  # horizontal figure size\n",
    "ySize = 3  # vertical figure size\n",
    "binSize = 0.01  # bin size, same for x & y in all the plots below -- if None, automatically computed\n",
    "hRange = [[0.5, 2.0], [0.0, 1.5]]  # axes ranges, same in all the plots below -- format [[x0, x1] or None, [y0, y1] or None] (if None, automatic definition)\n",
    "bSel = [True, True]  # draw fiducial selection according to xCryCut -- plot without multiplicity cut, then plots with multiplicity cut\n",
    "bLog = False  # if True (False), log (lin) scale on z\n",
    "\n",
    "###############\n",
    "lsBool0 = [\"boolSingleHitIn\"] if bNHit[\"in\"] else []\n",
    "# if input multiplicity is available, beam projections @ crystal are studied in input single hit condition\n",
    "\n",
    "if boolPlotLoc & boolPlotGlob & bXRaw[\"in\"]:\n",
    "    plot_proj(df, \"xCry\", binSize, lsBool0+[], hRange, bSel[0], xCryCut0, bLog, lineC, lineW, pal2d, units, xSize, ySize, figName, bPlotSave)\n",
    "    if bNHit[\"out\"]:\n",
    "        # furthermore, study with different output multiplicity selection performed only if output multiplicity data available\n",
    "        plot_proj(df, \"xCry\", binSize, lsBool0+[\"boolLowHitOut\"], hRange, bSel[1], xCryCut0, bLog, lineC, lineW, pal2d, units, xSize, ySize, \"xCry_lowHitOut\", bPlotSave)\n",
    "        plot_proj(df, \"xCry\", binSize, lsBool0+[\"boolHighHitOut\"], hRange, bSel[1], xCryCut0, bLog, lineC, lineW, pal2d, units, xSize, ySize, \"xCry_highHitOut\", bPlotSave)"
   ]
  },
  {
   "cell_type": "markdown",
   "metadata": {},
   "source": [
    "### GONIOMETER **2d phase space**"
   ]
  },
  {
   "cell_type": "code",
   "execution_count": 19,
   "metadata": {
    "jupyter": {
     "source_hidden": true
    }
   },
   "outputs": [],
   "source": [
    "boolPlotLoc = False  # figure(s) here only drawn if True\n",
    "figName = \"gonioPhaseSpace\"  # figure name\n",
    "xSize = 4  # horizontal figure size\n",
    "ySize = 4  # vertical figure size\n",
    "lsVar = [\"Rot\", \"Crad\"]  # length-2 list of gonio. variables to be plot (x-then-y) -- names without the prefix xGonio\n",
    "lsBool = [\"boolInCry\"]  # list of booleans (available in df) to be applied -- input single hit condition applied automatically (if data available)\n",
    "bLog = False  # if True (False), log (lin) scale on z\n",
    "\n",
    "###############\n",
    "lsBool0 = [\"boolSingleHitIn\"] if bNHit[\"in\"] else []\n",
    "# if input multiplicity is available, goniometer DOF phase space is studied in input single hit condition\n",
    "\n",
    "if boolPlotLoc & boolPlotGlob & bXGonio:\n",
    "    plot_gonioCorr(df, lsVar, lsBool0+lsBool, bLog, pal2d, units, xSize, ySize, figName, bPlotSave)"
   ]
  },
  {
   "cell_type": "markdown",
   "metadata": {},
   "source": [
    "### GONIOMETER **trends over other variables**"
   ]
  },
  {
   "cell_type": "code",
   "execution_count": 20,
   "metadata": {
    "jupyter": {
     "source_hidden": true
    }
   },
   "outputs": [],
   "source": [
    "##STORM22: create global lateral gonio. variable (summed together w/ beam)\n",
    "#df[\"xGonioHorsaTot\"] = (df.xGonioRawHorsaBig-145)/2 + (df.xCry0-1.2)*10\n",
    "#df.loc[(df.iRun.astype(\"int\")>=520195), \"xGonioHorsaTot\"] = (205-145)/2 + (df.xCry0-1.2)*10\n",
    "#df.loc[(df.iRun.astype(\"int\")==520209), \"xGonioHorsaTot\"] = (161-145)/2 + (df.xCry0-1.2)*10\n",
    "#df.loc[(df.iRun.astype(\"int\")==520211), \"xGonioHorsaTot\"] = (153-145)/2 + (df.xCry0-1.2)*10\n",
    "##df[\"xGonioHorsaTot\"] = df[\"xGonioHorsa\"] + df[gonioMap[iDof][0]] * gonioMap[iDof][2]\n",
    "#\n",
    "##STORM22: proper spatial cut for lateral shift studies\n",
    "#df[\"boolCollimator\"] = (df.xCry0>1.15) & (df.xCry0<1.45) & (df.xCry1>0.7) & (df.xCry1<1.1)\n",
    "\n",
    "#STORM22: create global lateral gonio. variable (summed together w/ beam)\n",
    "df[\"xGonioHorsaTot\"] = (df.xGonioRawHorsaBig-145)/2 + (df.xCry0-1.3)*10\n",
    "df.loc[(df.iRun.astype(\"int\")>=520195), \"xGonioHorsaTot\"] = (205-145)/2 + (df.xCry0-1.3)*10\n",
    "df.loc[(df.iRun.astype(\"int\")==520209), \"xGonioHorsaTot\"] = (161-145)/2 + (df.xCry0-1.3)*10\n",
    "df.loc[(df.iRun.astype(\"int\")==520211), \"xGonioHorsaTot\"] = (153-145)/2 + (df.xCry0-1.3)*10\n",
    "#df[\"xGonioHorsaTot\"] = df[\"xGonioHorsa\"] + df[gonioMap[iDof][0]] * gonioMap[iDof][2]\n",
    "\n",
    "#STORM22: proper spatial cut for lateral shift studies\n",
    "df[\"boolCollimator\"] = (df.xCry0>1.1) & (df.xCry0<1.45) & (df.xCry1>0.7) & (df.xCry1<1.1) & (((df.digiPHRawUaglio0>100) & (df.digiPHRawPinin0>50)) | ((df.digiPHRawUaglio0>50) & (df.digiPHRawPinin0>100)))"
   ]
  },
  {
   "cell_type": "code",
   "execution_count": 21,
   "metadata": {
    "jupyter": {
     "source_hidden": true
    }
   },
   "outputs": [],
   "source": [
    "boolPlotLoc = False  # figure(s) here only drawn if True\n",
    "figName = \"gonioTrends\"  # figure name base -- it will be completed with \"_\" and the name of each variable under study\n",
    "xSize = 7  # horizontal figure size (for each single figures)\n",
    "ySize = 4  # vertical figure size (for each single figures)\n",
    "lsBool = [\"boolInAligned\", \"boolInCry\", \"boolDigiTimeUaglio0\", \"boolDigiTimePinin0\"]  # list of booleans (available in df) to be applied to all the plots here -- input single hit cond. applied automatically (if data available)\n",
    "bLog = True  # if True (False), log (lin) scale on z\n",
    "\n",
    "# dictionary of the variables to be analysed -- shape:\n",
    "# {varY (string): {\n",
    "#         varX0 (string): [[xL0, xR0, dx0], [yL0, yR0, dy0], [bDrawProf0 (bool), bFit0 (bool), deg0 (integer), xFitL0, xFitR0]], (float if not otherwise specified)\n",
    "#         varX1: [[xL1, xR1, dx1], [yL1, yR1, dy1], [bDrawProf1, bFit1, deg1, xFitL1, xFitR1]],\n",
    "#         ...\n",
    "# }}\n",
    "# 1 figure per varY, each with 1 plot per varX -- varX format: part of the variable name following \"xGonioRaw\"\n",
    "# plot in ranges (xL, xR) & (yL, yR) with bin size dx & dy\n",
    "# profile plot polynomial fit with degree deg -- supported deg = 0, 1, 2; also Gaussian fit if deg = \"Gaussian\"\n",
    "# all entries (apart from bFit) can also be None -- automatic definition in this case (e.g. deg = 0)\n",
    "dictGonioTrends = {\n",
    "    \"digiPHRawUaglio0\": {\n",
    "#        \"Rot\": [[None, None, 100], [None, 15000, 100], [True, False, 2, 3139000, 3140700]],  # particularly cool - PWOUaglio_ScanRot0/2/3!\n",
    "#        \"Rot\": [[None, None, 100], [None, 15000, 100], [True, False, 2, 3136500, 3138500]],  # particularly cool - PWOUaglio_ScanRot4!\n",
    "#        \"Crad\": [[None, None, 200], [None, 15000, 100], [True, False, 2, 60000, 70000]],  # particularly cool - PWOUaglio_ScanCrad0/1!\n",
    "#        \"HorsaTot\": [[None, None, 1.5], [100, None, 5], [True, False, 2, None, None]],  # keep for lat. shift studies\n",
    "        \"RawHorsaBig\": [[None, None, 0.2], [100, None, 5], [True, False, 2, None, None]],  # used to check no-crystal energy right next to high-statistics runs (also edit booleans)\n",
    "    },\n",
    "    \"digiPHRawPinin0\": {\n",
    "#        \"Rot\": [[None, None, 200], [None, 15000, 100], [True, False, 2, 3139000, 3140700]],  # particularly cool - PWOUaglio_ScanRot0/2/3!\n",
    "#        \"Rot\": [[None, None, 200], [None, 15000, 100], [True, False, 2, 3136500, 3138500]],  # particularly cool - PWOUaglio_ScanRot4!\n",
    "#        \"Crad\": [[None, None, 200], [None, 15000, 100], [True, False, 2, 60000, 70000]],  # particularly cool - PWOUaglio_ScanCrad0/1!\n",
    "#        \"HorsaTot\": [[None, None, 1.5], [100, None, 5], [True, False, 2, None, None]],  # keep for lat. shift studies\n",
    "        \"RawHorsaBig\": [[None, None, 0.2], [100, None, 5], [True, False, 2, None, None]],  # used to check no-crystal energy right next to high-statistics runs (also edit booleans)\n",
    "    },\n",
    "#    \"digiPHRawCaloFwdCC\": {\n",
    "#        \"Rot\": [[None, None, 150], [None, 15000, 100], [True, False, 2, 3139000, 3140700]],  # particularly cool - PWOUaglio_ScanRot0/2/3!\n",
    "#        \"Rot\": [[None, None, 150], [None, 15000, 100], [True, False, 2, 3136500, 3138500]],  # particularly cool - PWOUaglio_ScanRot4!\n",
    "#        \"Crad\": [[None, None, 200], [None, 15000, 100], [True, False, 2, 60000, 70000]],  # particularly cool - PWOUaglio_ScanCrad0/1!\n",
    "#        \"RawHorsaBig\": [[None, None, 0.2], [100, None, 5], [True, False, 2, None, None]],  # used to check no-crystal energy right next to high-statistics runs (also edit booleans)\n",
    "#    },\n",
    "}\n",
    "        \n",
    "###############\n",
    "lsBool0 = [\"boolSingleHitIn\"] if bNHit[\"in\"] else []\n",
    "# if input multiplicity is available, goniometer trends are studied in input single hit condition\n",
    "\n",
    "if boolPlotLoc & boolPlotGlob & bXGonio:\n",
    "    for i, iY in enumerate(dictGonioTrends):\n",
    "        outData = plot_gonioTrends(df, iY, dictGonioTrends[iY], lsBool0+lsBool, outData, bLog, fitC, fitW, lineC, lineW, pal2d, units, xSize, ySize, figName, bPlotSave)\n",
    "        \n",
    "# outData is updated with profile plots & fit info (only if fit requested) -- entries name format: \"nameY_nameX_prof\" & \"nameY_nameX_fit\""
   ]
  },
  {
   "cell_type": "markdown",
   "metadata": {},
   "source": [
    "### DIGITIZERS **single-channel PH-vs-time phase spaces**"
   ]
  },
  {
   "cell_type": "code",
   "execution_count": 22,
   "metadata": {
    "jupyter": {
     "source_hidden": true
    }
   },
   "outputs": [],
   "source": [
    "boolPlotLoc = False  # figure(s) here only drawn if True\n",
    "figName = \"digi\"  # figure name\n",
    "xSize = 7  # horizontal figure size\n",
    "ySize = 8  # vertical figure size\n",
    "lsBool = []  # list of booleans (available in df) to be applied -- same for all the channels (if using cuts on crystal, consider including input single hit cond.)\n",
    "binSize = [2, 2]  # bin sizes -- time-then-PH -- if a value is None, automatically computed\n",
    "bSel = True  # draw PH & time selection boxes according to digiPHCut & digiTimeCut -- same boolean for all the digitizer channels\n",
    "bLog = True  # if True (False), log (lin) scale on z\n",
    "\n",
    "###############\n",
    "if boolPlotLoc & boolPlotGlob & bDigiPHAny:\n",
    "    plot_digi(df, lsDigiCh, binSize, lsBool, bDigiTime, bSel, digiPHCut0, digiTimeCut0, bLog, lineC, lineW, pal2d, units, xSize, ySize, figName, bPlotSave)"
   ]
  },
  {
   "cell_type": "markdown",
   "metadata": {},
   "source": [
    "### DIGITIZERS **forward calorimeter energy**"
   ]
  },
  {
   "cell_type": "code",
   "execution_count": 23,
   "metadata": {
    "jupyter": {
     "source_hidden": true
    }
   },
   "outputs": [],
   "source": [
    "#STORM22 - just some check...\n",
    "df[\"boolOutCry\"] = df.xGonioRawHorsaBig > 150"
   ]
  },
  {
   "cell_type": "code",
   "execution_count": 24,
   "metadata": {},
   "outputs": [
    {
     "name": "stdout",
     "output_type": "stream",
     "text": [
      "studying EFwd when typeRun = PWOUaglio_Axial\n",
      "<class 'matplotlib.axes._axes.Axes'>\n",
      "subplot typing mismatch --> no EFwd plot performed\n",
      "--\n",
      "--\n",
      "studying EFwd when typeRun = PWOUaglio_Random\n",
      "<class 'matplotlib.axes._axes.Axes'>\n",
      "subplot typing mismatch --> no EFwd plot performed\n",
      "--\n",
      "--\n"
     ]
    },
    {
     "data": {
      "image/png": "[encoded data removed]",
      "text/plain": [
       "<Figure size 504x360 with 2 Axes>"
      ]
     },
     "metadata": {
      "needs_background": "light"
     },
     "output_type": "display_data"
    }
   ],
   "source": [
    "boolPlotLoc = True  # figure(s) here only drawn if True\n",
    "figName = \"energyFwd\"  # figure name\n",
    "xSize = 7  # horizontal figure size\n",
    "ySize = 5  # vertical figure size\n",
    "binSize = 1  # bin size - can't be set to None (needed for errorbars)\n",
    "xRange = [0, 140]  # plot range - [min, max] or None (for automatic definition for each typeRun value separately)\n",
    "lsBool = [\"boolSingleHitIn\", \"boolInAligned\", \"boolInCry\", \"boolTimeCaloFwd\"]  # list of booleans (available in df) to be applied -- selection on typeRun applied automatically (if using cuts on crystal, consider including input single hit cond.)\n",
    "bUseEpoch = False  # if True (False) the epoch (automatic event index) is used -- only if epoch in df, otherwise event index anyway\n",
    "bLog = False  # if True (False), log (lin) scale on y/z in 1d/2d plots\n",
    "\n",
    "###############\n",
    "if boolPlotLoc & boolPlotGlob & any(bEFwd.values()):\n",
    "    outData = plot_energyRuns(df, \"Fwd\", binSize, bEFwd, xRange, bEpoch, bUseEpoch, lsBool, bLog, outData, pal2d, units, xSize, ySize, figName, bPlotSave)  # forward calo. energy\n",
    "    \n",
    "# outData is updated with bin-by-bin spectra values -- entries name format: \"EFwd_typeRun_histo\""
   ]
  },
  {
   "cell_type": "code",
   "execution_count": 25,
   "metadata": {},
   "outputs": [
    {
     "data": {
      "text/plain": [
       "matplotlib.axes._axes.Axes"
      ]
     },
     "execution_count": 25,
     "metadata": {},
     "output_type": "execute_result"
    },
    {
     "data": {
      "image/png": "[encoded data removed]",
      "text/plain": [
       "<Figure size 432x288 with 1 Axes>"
      ]
     },
     "metadata": {
      "needs_background": "light"
     },
     "output_type": "display_data"
    }
   ],
   "source": [
    "fig, ax = plt.subplots()\n",
    "type(ax)"
   ]
  },
  {
   "cell_type": "markdown",
   "metadata": {},
   "source": [
    "---"
   ]
  },
  {
   "cell_type": "markdown",
   "metadata": {},
   "source": [
    "### **output data**"
   ]
  },
  {
   "cell_type": "code",
   "execution_count": 26,
   "metadata": {
    "jupyter": {
     "source_hidden": true
    }
   },
   "outputs": [
    {
     "name": "stdout",
     "output_type": "stream",
     "text": [
      "saving output dictionary outData to ./out_data/outData.pickle, with 4 entries\n",
      "--\n"
     ]
    }
   ],
   "source": [
    "# output dictionary outData saved as in ./out_data/outData.pickle\n",
    "globals().update(outData)\n",
    "saveOutData(globals())  # function in .modules\n",
    "print(\"--\")\n",
    "\n",
    "########\n",
    "# to open the Pickle file importing the anaKrys modules: \n",
    "#    outData = readOutData()  # function in .modules"
   ]
  },
  {
   "cell_type": "markdown",
   "metadata": {},
   "source": [
    "---"
   ]
  },
  {
   "cell_type": "markdown",
   "metadata": {},
   "source": [
    "## **whiteboard**"
   ]
  },
  {
   "cell_type": "code",
   "execution_count": 27,
   "metadata": {
    "jupyter": {
     "source_hidden": true
    }
   },
   "outputs": [],
   "source": [
    "# count events per run\n",
    "run = \"PWOUaglio_80GeV_Axial\"\n",
    "if run in df.typeRun.unique():\n",
    "    print(df[df.typeRun == run].shape)"
   ]
  },
  {
   "cell_type": "code",
   "execution_count": 28,
   "metadata": {
    "jupyter": {
     "source_hidden": true
    }
   },
   "outputs": [],
   "source": [
    "# DEPRECATED\n",
    "# # SiPM single spectra & total (not calibrated) spectrum\n",
    "# \n",
    "# bPlotThis = True  # plot this?\n",
    "# xRange = [100, 8000]\n",
    "# boardName = \"Uaglio1\"  # Uaglio or Pinin? 0 or 1?\n",
    "# if bPlotThis:\n",
    "#     plt.close(\"SiPMSpectraSingle\")\n",
    "#     plt.figure(\"SiPMSpectraSingle\", figsize=(10, 7))\n",
    "#     for irun, run in enumerate(df.typeRun.unique()):\n",
    "#         boolRun = df.typeRun == run\n",
    "#         # plt.hist(df[\"digiPHRaw%s0\" % boardName][df[\"boolDigiTime%s0\" % boardName] & boolRun], density=True, bins=200, range=xRange, histtype=\"step\", alpha=0.5, label=run+\" SiPM0\", color=\"C\"+str(irun), ls=\":\")\n",
    "#         plt.hist(df[\"digiPHRaw%s\" % boardName][df[\"boolDigiTime%s\" % boardName] & boolRun], density=True, bins=200, range=xRange, histtype=\"step\", alpha=0.5, label=run+\" SiPM\", color=\"C\"+str(irun), ls=\"--\")\n",
    "#         plt.xlabel(\"PH[ADC]\")\n",
    "#         plt.yscale(\"linear\")  # log?\n",
    "#         plt.legend()"
   ]
  },
  {
   "cell_type": "code",
   "execution_count": 29,
   "metadata": {
    "jupyter": {
     "source_hidden": true
    }
   },
   "outputs": [
    {
     "name": "stdout",
     "output_type": "stream",
     "text": [
      "PWOUaglio_Axial\n",
      "PWOUaglio_Random\n"
     ]
    },
    {
     "data": {
      "text/plain": [
       "<matplotlib.legend.Legend at 0x7fd4706e4190>"
      ]
     },
     "execution_count": 29,
     "metadata": {},
     "output_type": "execute_result"
    },
    {
     "data": {
      "image/png": "[encoded data removed]",
      "text/plain": [
       "<Figure size 432x288 with 1 Axes>"
      ]
     },
     "metadata": {
      "needs_background": "light"
     },
     "output_type": "display_data"
    }
   ],
   "source": [
    "plt.close(\"SiPM\")\n",
    "plt.figure(\"SiPM\")\n",
    "\n",
    "for s in df.typeRun.unique():\n",
    "    boardName = \"Uaglio0\" if \"Uaglio\" in s else \"Pinin0\"\n",
    "    array = np.arange(0, 10000, 10) if \"Uaglio\" in s else np.arange(0, 17000, 10) \n",
    "    hBool = (df.typeRun==s) & (df.boolSingleHitIn) & (df.boolInAligned) & (df.boolInCry)\n",
    "    hist = np.histogram(df[hBool][\"digiPHRaw\"+boardName], bins=array)  # write file without normalisation\n",
    "    plt.hist(df[hBool][\"digiPHRaw\"+boardName], bins=array, histtype=\"step\", density=True, label=s)  # plot with density option\n",
    "    x, y = hist[1][0]/2 + hist[1][:-1], hist[0]\n",
    "    dy = np.sqrt(y)\n",
    "    outData.update({\"SiPM_\"+s : [x, y, dy]})\n",
    "    \n",
    "    print(s)\n",
    "plt.legend()"
   ]
  },
  {
   "cell_type": "code",
   "execution_count": 30,
   "metadata": {
    "jupyter": {
     "source_hidden": true
    }
   },
   "outputs": [],
   "source": [
    "#plt.close(\"SipmVsEnergy\")\n",
    "#plt.figure(\"SipmVsEnergy\")\n",
    "#\n",
    "#for i_s, s in enumerate([[10, 70], [75, 95], [105, 120]]):\n",
    "#    boardName = \"Uaglio0\" if \"Uaglio\" in df.typeRun.unique()[0] else \"Pinin0\"\n",
    "#    array = np.arange(0, 10000, 10) if \"Uaglio\" in s else np.arange(0, 17000, 10) \n",
    "#    hBool = (df.boolSingleHitIn) & (df.boolInAligned) & (df.boolInCry) & ((df.EFwd>s[0]) & (df.EFwd<s[1])) & (df.boolDigiTimeUaglio0)\n",
    "#    hist = np.histogram(df[hBool][\"digiPHRaw\"+boardName], bins=array)  # write file without normalisation\n",
    "#    plt.hist(df[hBool][\"digiPHRaw\"+boardName], bins=array, histtype=\"step\", density=True, label=\"EFwd in (%d, %d) GeV\" % (s[0], s[1]))  # plot with density option\n",
    "#    x, y = hist[1][0]/2 + hist[1][:-1], hist[0]\n",
    "#    dy = np.sqrt(y)\n",
    "#    outData.update({\"SipmVsEnergy%d\" % i_s : [x, y, dy, s]})\n",
    "#    \n",
    "#    print(s)\n",
    "#    \n",
    "#plt.xlabel(\"digiPHRaw\"+boardName+\"[ADC]\")\n",
    "#plt.legend()\n",
    "#plt.tight_layout()\n",
    "#plt.xscale(\"log\")\n",
    "#plt.yscale(\"log\")\n",
    "#plt.xlim(0, 5000)"
   ]
  },
  {
   "cell_type": "code",
   "execution_count": 31,
   "metadata": {
    "jupyter": {
     "source_hidden": true
    }
   },
   "outputs": [
    {
     "data": {
      "text/plain": [
       "0.11832172034832508"
      ]
     },
     "execution_count": 31,
     "metadata": {},
     "output_type": "execute_result"
    }
   ],
   "source": [
    "#df[df[\"boolOutCry\"]].digiPHCaloFwdCL.mean()/df[df[\"boolOutCry\"]].digiPHCaloFwdCR.mean()\n",
    "df.digiPHCaloFwdCL.mean()/df.digiPHCaloFwdCR.mean()"
   ]
  },
  {
   "cell_type": "code",
   "execution_count": 32,
   "metadata": {
    "jupyter": {
     "source_hidden": true
    }
   },
   "outputs": [],
   "source": [
    "# SiPM(0) correlation w/ calorimeter\n",
    "\n",
    "bPlotThis = False  # plot this?\n",
    "boardName = \"Uaglio\"  # Uaglio or Pinin?\n",
    "runName = \"PWOUaglio_Axial\"\n",
    "if bPlotThis:\n",
    "    plt.close(\"SiPMSpectraCaloCor\")\n",
    "    plt.figure(\"SiPMSpectraCaloCor\")\n",
    "    for irun, run in enumerate(df.typeRun.unique()):\n",
    "        if run == runName:\n",
    "            boolRun = df.typeRun == run\n",
    "            plt.hist2d(\n",
    "                df[\"digiPHRaw%s0\" % boardName][df[\"boolDigiTime%s0\" % boardName] & boolRun], \n",
    "                df[\"EFwd\"][df[\"boolDigiTime%s0\" % boardName] & boolRun], \n",
    "                bins=200, norm=LogNorm()\n",
    "            )\n",
    "            plt.title(runName)\n",
    "            plt.xlabel(\"SiPM\")\n",
    "            plt.ylabel(\"ECal\")\n",
    "            plt.yscale(\"linear\")  # log?\n",
    "            plt.legend()"
   ]
  },
  {
   "cell_type": "code",
   "execution_count": 33,
   "metadata": {
    "jupyter": {
     "source_hidden": true
    }
   },
   "outputs": [],
   "source": [
    "df[\"digiPHCaloFwdLat\"] = df.digiPHCaloFwdTL + df.digiPHCaloFwdTR + df.digiPHCaloFwdCL + df.digiPHCaloFwdCR + df.digiPHCaloFwdBL + df.digiPHCaloFwdBR"
   ]
  },
  {
   "cell_type": "code",
   "execution_count": 34,
   "metadata": {
    "jupyter": {
     "source_hidden": true
    }
   },
   "outputs": [
    {
     "data": {
      "text/plain": [
       "count    763162.000000\n",
       "mean          0.142115\n",
       "std           0.214356\n",
       "min           0.022819\n",
       "25%           0.108913\n",
       "50%           0.125946\n",
       "75%           0.146145\n",
       "max          68.802772\n",
       "dtype: float64"
      ]
     },
     "execution_count": 34,
     "metadata": {},
     "output_type": "execute_result"
    }
   ],
   "source": [
    "dfBool = df[\"boolSingleHitIn\"] & df[\"boolInAligned\"] & df[\"boolInCry\"] & df[\"boolTimeCaloFwd\"] & (df.typeRun == \"PWOUaglio_Random\") & (df[\"digiPHCaloFwdLat\"]>0) & (df[\"digiPHCaloFwdCC\"]>0)\n",
    "a = (df[dfBool][\"digiPHCaloFwdCC\"] / df[dfBool][\"digiPHCaloFwdLat\"])**-1\n",
    "a.describe()"
   ]
  },
  {
   "cell_type": "code",
   "execution_count": 35,
   "metadata": {
    "jupyter": {
     "source_hidden": true
    }
   },
   "outputs": [
    {
     "data": {
      "text/plain": [
       "count    1.164142e+06\n",
       "mean     2.429610e-01\n",
       "std      2.459704e-01\n",
       "min      2.366918e-02\n",
       "25%      1.995300e-01\n",
       "50%      2.317593e-01\n",
       "75%      2.651347e-01\n",
       "max      1.003868e+02\n",
       "dtype: float64"
      ]
     },
     "execution_count": 35,
     "metadata": {},
     "output_type": "execute_result"
    }
   ],
   "source": [
    "dfBool = df[\"boolSingleHitIn\"] & df[\"boolInAligned\"] & df[\"boolInCry\"] & df[\"boolTimeCaloFwd\"] & (df.typeRun == \"PWOUaglio_Axial\") & (df[\"digiPHCaloFwdLat\"]>0) & (df[\"digiPHCaloFwdCC\"]>0)\n",
    "b = (df[dfBool][\"digiPHCaloFwdCC\"] / df[dfBool][\"digiPHCaloFwdLat\"])**-1\n",
    "b.describe()"
   ]
  },
  {
   "cell_type": "code",
   "execution_count": 36,
   "metadata": {
    "jupyter": {
     "source_hidden": true
    }
   },
   "outputs": [
    {
     "data": {
      "image/png": "[encoded data removed]",
      "text/plain": [
       "<Figure size 432x288 with 1 Axes>"
      ]
     },
     "metadata": {
      "needs_background": "light"
     },
     "output_type": "display_data"
    }
   ],
   "source": [
    "plt.close(\"aaa\")\n",
    "plt.figure(\"aaa\")\n",
    "plt.hist(a, bins=100, histtype=\"step\", range=(0, 0.5))\n",
    "plt.hist(b, bins=100, histtype=\"step\", range=(0, 0.5))\n",
    "plt.yscale(\"linear\")"
   ]
  },
  {
   "cell_type": "code",
   "execution_count": 37,
   "metadata": {
    "jupyter": {
     "source_hidden": true
    }
   },
   "outputs": [
    {
     "data": {
      "text/plain": [
       "count    1.164179e+06\n",
       "mean     5.145378e-01\n",
       "std      2.986207e-01\n",
       "min      5.330697e-03\n",
       "25%      4.292665e-01\n",
       "50%      4.931557e-01\n",
       "75%      5.643521e-01\n",
       "max      1.091884e+02\n",
       "dtype: float64"
      ]
     },
     "execution_count": 37,
     "metadata": {},
     "output_type": "execute_result"
    }
   ],
   "source": [
    "a_ud0 = df.digiPHCaloFwdTL/df.digiPHCaloFwdBL\n",
    "a_ud1 = df.digiPHCaloFwdTR/df.digiPHCaloFwdBR\n",
    "\n",
    "a_lrc = df.digiPHCaloFwdCL/df.digiPHCaloFwdCR\n",
    "a_lrt = df.digiPHCaloFwdTL/df.digiPHCaloFwdTR\n",
    "a_lrb = df.digiPHCaloFwdBL/df.digiPHCaloFwdBR\n",
    "\n",
    "dfBool = df[\"boolSingleHitIn\"] & df[\"boolInAligned\"] & df[\"boolInCry\"] & df[\"boolTimeCaloFwd\"] & (df.typeRun == \"PWOUaglio_Axial\") & (df[\"digiPHCaloFwdBL\"]>0) & (df[\"digiPHCaloFwdBR\"]>0)\n",
    "a_lrb[dfBool].describe()"
   ]
  },
  {
   "cell_type": "code",
   "execution_count": 38,
   "metadata": {},
   "outputs": [
    {
     "name": "stdout",
     "output_type": "stream",
     "text": [
      "PWOUaglio_Axial 2.4962405824458465 1.709611880679655 1.4601212185384835\n",
      "PWOUaglio_Random 1.0 1.0 1.0\n"
     ]
    }
   ],
   "source": [
    "for s in df.typeRun.unique():\n",
    "    hBool = (df.typeRun==s) & (df.boolSingleHitIn) & (df.boolInAligned) & (df.boolInCry)\n",
    "    \n",
    "    dfBool = df[\"boolSingleHitIn\"] & df[\"boolInAligned\"] & df[\"boolInCry\"] & df[\"boolTimeCaloFwd\"] & (df.typeRun == s) & (df[\"digiPHCaloFwdLat\"]>0) & (df[\"digiPHCaloFwdCC\"]>0)\n",
    "    c = (df[dfBool][\"digiPHCaloFwdCC\"] / df[dfBool][\"digiPHCaloFwdLat\"])**-1\n",
    "    \n",
    "    print(s, df[hBool].digiPHUaglio0.mean()/1366.6006563328629, c[dfBool].mean()/0.1421146957209714, (df[hBool].digiPHUaglio0.mean()/1366.6006563328629)/(c[dfBool].mean()/0.1421146957209714))"
   ]
  },
  {
   "cell_type": "code",
   "execution_count": 48,
   "metadata": {},
   "outputs": [
    {
     "data": {
      "image/png": "[encoded data removed]",
      "text/plain": [
       "<Figure size 720x360 with 2 Axes>"
      ]
     },
     "metadata": {
      "needs_background": "light"
     },
     "output_type": "display_data"
    }
   ],
   "source": [
    "blog=False\n",
    "\n",
    "if len(df.typeRun.unique())<3:\n",
    "\n",
    "    plt.close(s)\n",
    "    fig, axs = plt.subplots(nrows=1, ncols=2, figsize=(10, 5))\n",
    "    fig.supxlabel(r\"$E_\\mathrm{CAL}$\")\n",
    "    fig.supylabel(r\"$E_\\mathrm{dep}$\")\n",
    "\n",
    "    for i, s in enumerate(df.typeRun.unique()):\n",
    "        hBool = (df.typeRun==s) & (df.boolSingleHitIn) & (df.boolInAligned) & (df.boolInCry) & (df.typeRun == s)\n",
    "    \n",
    "        ax = axs[i]\n",
    "        ax.hist2d(df[hBool][\"EFwd\"], (5543.69 / 1398.53)*0.001*df[hBool][\"digiPHUaglio1\"], bins=100, norm=LogNorm() if blog else None, cmin=1)\n",
    "        ax.plot([0, 120], [120, 0], color=\"red\")\n",
    "        ax.set_ylim((1, 25))\n",
    "        ax.set_xlim((25, 150))\n",
    "        ax.set_title(s.replace(\"PWOUaglio_\", \"\"))\n",
    "        ax.grid()\n",
    "\n",
    "    fig.savefig(\"out_plots/correlation.jpg\", dpi=300)"
   ]
  },
  {
   "cell_type": "markdown",
   "metadata": {},
   "source": [
    "---"
   ]
  },
  {
   "cell_type": "markdown",
   "metadata": {},
   "source": [
    "**stopping chronometer**"
   ]
  },
  {
   "cell_type": "code",
   "execution_count": 40,
   "metadata": {
    "jupyter": {
     "source_hidden": true
    }
   },
   "outputs": [
    {
     "name": "stdout",
     "output_type": "stream",
     "text": [
      "stop @ 2024-02-22 14:45:08 GMT\n",
      "total elapsed time (from last restart -- 2024-02-22 14:42:53 GMT): 0:02:14\n",
      "execution time info added to outData[execTime] -- start, stop, delta\n",
      "--\n"
     ]
    }
   ],
   "source": [
    "tStop = datetime.datetime.fromtimestamp(datetime.datetime.now().timestamp())  # stop chronometer\n",
    "tStopPrint = tStop.strftime(\"%Y-%m-%d %H:%M:%S GMT\")\n",
    "dt = tStop - tStart\n",
    "dtPrint = str(dt - datetime.timedelta(microseconds=dt.microseconds))\n",
    "print(\"stop @ %s\" % tStopPrint)\n",
    "print(\"total elapsed time (from last restart -- %s): %s\" % (tStartPrint, dtPrint))\n",
    "outData[\"execTime\"] = [tStart, tStop, dt]\n",
    "print(\"execution time info added to outData[\"\"execTime\"\"] -- start, stop, delta\\n--\")"
   ]
  },
  {
   "cell_type": "markdown",
   "metadata": {},
   "source": [
    "**(re)writing output data**"
   ]
  },
  {
   "cell_type": "code",
   "execution_count": 41,
   "metadata": {
    "jupyter": {
     "source_hidden": true
    }
   },
   "outputs": [
    {
     "name": "stdout",
     "output_type": "stream",
     "text": [
      "saving output dictionary outData to ./out_data/outData.pickle, with 7 entries\n",
      "--\n"
     ]
    }
   ],
   "source": [
    "# this is done to add the execTime entry, together with any other entry from the whiteboard\n",
    "globals().update(outData)\n",
    "saveOutData(globals())  # function in .modules\n",
    "print(\"--\")\n",
    "\n",
    "########\n",
    "# to open the Pickle file importing the anaKrys modules: \n",
    "#    outData = readOutData()  # function in .modules"
   ]
  },
  {
   "cell_type": "code",
   "execution_count": null,
   "metadata": {},
   "outputs": [],
   "source": []
  }
 ],
 "metadata": {
  "kernelspec": {
   "display_name": "Python 3",
   "language": "python",
   "name": "python3"
  },
  "language_info": {
   "codemirror_mode": {
    "name": "ipython",
    "version": 3
   },
   "file_extension": ".py",
   "mimetype": "text/x-python",
   "name": "python",
   "nbconvert_exporter": "python",
   "pygments_lexer": "ipython3",
   "version": "3.9.12"
  }
 },
 "nbformat": 4,
 "nbformat_minor": 4
}
