{
 "cells": [
  {
   "cell_type": "markdown",
   "metadata": {},
   "source": [
    "# **anaKrys**"
   ]
  },
  {
   "cell_type": "markdown",
   "metadata": {},
   "source": [
    "**notebook settings & imports  (edit %matplotlib magic here)**"
   ]
  },
  {
   "cell_type": "code",
   "execution_count": 1,
   "metadata": {
    "jupyter": {
     "source_hidden": true
    }
   },
   "outputs": [],
   "source": [
    "# set %matplotlib inline (%matplotlib widget, %matplotlib qt) for static (interactive on-page, interactive in separate window) plots\n",
    "# in order to use the on-page interactive mode, make sure the environment is set up properly\n",
    "# comment this out before exporting the notebook to a Python script -- via jupyter nbconvert --to script anaKrys.ipynb\n",
    "%matplotlib widget\n",
    "\n",
    "# external modules\n",
    "import datetime\n",
    "import importlib\n",
    "import os\n",
    "import pickle\n",
    "import succolib as sl\n",
    "import pandas as pd\n",
    "import numpy as np\n",
    "import matplotlib.pyplot as plt\n",
    "from scipy.optimize import curve_fit\n",
    "from matplotlib.colors import LogNorm\n",
    "\n",
    "# internal modules (in .modules)\n",
    "from modules import *"
   ]
  },
  {
   "cell_type": "markdown",
   "metadata": {},
   "source": [
    "**starting chronometer**"
   ]
  },
  {
   "cell_type": "code",
   "execution_count": 2,
   "metadata": {
    "jupyter": {
     "source_hidden": true
    }
   },
   "outputs": [
    {
     "name": "stdout",
     "output_type": "stream",
     "text": [
      "2021-08-21 00:41:27 GMT --> let's start!\n",
      "--\n"
     ]
    }
   ],
   "source": [
    "tStart = datetime.datetime.fromtimestamp(datetime.datetime.now().timestamp())  # start chronometer\n",
    "tStartPrint = tStart.strftime(\"%Y-%m-%d %H:%M:%S GMT\")\n",
    "print(\"%s --> let's start!\" % tStartPrint)\n",
    "print(\"--\")"
   ]
  },
  {
   "cell_type": "markdown",
   "metadata": {},
   "source": [
    "---"
   ]
  },
  {
   "cell_type": "markdown",
   "metadata": {},
   "source": [
    "## **input settings**"
   ]
  },
  {
   "cell_type": "code",
   "execution_count": 3,
   "metadata": {},
   "outputs": [
    {
     "name": "stdout",
     "output_type": "stream",
     "text": [
      "looking for files with label y21KleverCernH2 in ./settings/\n",
      "execution control booleans:\n",
      "data reload controller: True\n",
      "test mode controller: False\n",
      "--\n",
      "will work with run numbers(s)/type(s) in /mnt/c/Users/succo/succo/data_local/21_cern_h2_klever/root/ with format runXXXXXX.root\n",
      "(1/1) 500625 test\n",
      "--\n"
     ]
    }
   ],
   "source": [
    "# data reload controller -- if True (False), reload the data files (use the dataframe already in memory)\n",
    "boolLoad = True\n",
    "\n",
    "# progressbar visualisation controller -- if True (False) the file opening progressbars will (not) be visualised\n",
    "# in particular, set it to False if working in an environment with no widgets enabled\n",
    "bProgressBars = False\n",
    "\n",
    "# test mode controller: if True (False), the software runs with test (custom, selected via settingsFileMods) settings and data\n",
    "boolTest = False\n",
    "\n",
    "# run numbers or types to be opened\n",
    "# format: list of strings -- insert run numbers or types as they appear in nRun0\n",
    "# might be left empty in test mode -- both test runs \"test0\" & \"test1\" selected by default\n",
    "nRunToOpen = [\"test\"]\n",
    "\n",
    "# label of the settings fileset to load -- useless if boolTest=False\n",
    "settingsFileMods = \"y21KleverCernH2\"\n",
    "\n",
    "# filetype, string -- either \"ASCII\", \"ROOT\" or \"NPZ\"\n",
    "fileType = \"ROOT\"\n",
    "\n",
    "# file path (with / at the end), string\n",
    "# useless in test mode, in which it is set automatically depending on fileType\n",
    "filePath = os.environ.get(\"HOME\")+\"/data_local/21_cern_h2_klever/ascii_raw/ascii21_klever/\" if fileType==\"ASCII\" else os.environ.get(\"HOME\")+\"/data_local/21_cern_h2_klever/root/\"  # ASCII or ROOT\n",
    "\n",
    "# file name format (with no path), string\n",
    "# shape: replace the run number with XXXXXX and (for multiple files per run) the file number with YYYYYY\n",
    "# useless in test mode, in which it is set automatically depending on fileType\n",
    "fileNameFormat = \"runXXXXXX_nowave_YYYYYY.dat\" if fileType==\"ASCII\" else \"runXXXXXX.root\"  # ASCII (raw, w/o waveforms) or ROOT\n",
    "# fileNameFormat = \"runXXXXXX_wave_YYYYYY.dat\"  # ASCII (raw, w/ waveform)\n",
    "\n",
    "\n",
    "#######################################\n",
    "# import settings, according to boolTest and settingsFileMods\n",
    "# function in .modules --> set ./settings/__init__.py for settings fileset selection\n",
    "mod_runList_name, mod_settings_name = settingsSelect(boolTest, whichInput = fileType if boolTest else settingsFileMods)\n",
    "globals().update(importlib.import_module(mod_runList_name).__dict__)\n",
    "globals().update(importlib.import_module(mod_settings_name).__dict__)\n",
    "\n",
    "#######################################\n",
    "# print only (functions in .modules)\n",
    "boolControlPrint(boolLoad, boolTest, fileType)\n",
    "print(\"--\")\n",
    "settingsPrint(filePath, fileNameFormat, nRunToOpen, nRun0)  # print only (function in .modules)\n",
    "print(\"--\")"
   ]
  },
  {
   "cell_type": "markdown",
   "metadata": {},
   "source": [
    "---"
   ]
  },
  {
   "cell_type": "markdown",
   "metadata": {},
   "source": [
    "## **opening the data files**"
   ]
  },
  {
   "cell_type": "code",
   "execution_count": 4,
   "metadata": {
    "jupyter": {
     "source_hidden": true
    }
   },
   "outputs": [
    {
     "name": "stdout",
     "output_type": "stream",
     "text": [
      "opening ROOT files... --> data into DataFrame df\n",
      "progressbars won't be visualized...\n",
      "(1/1) 500625 -- descaling fraction: 1.000000000000\n",
      "remapping some ROOT tree variables (from tree map given)\n",
      "no variables to mirror\n",
      "iRun also added to df\n",
      "--\n",
      "typeRun added to df\n",
      "--\n",
      "done (in 3.82 s) --> raw data have (events, variables) = (5979, 8322)\n",
      "--\n"
     ]
    }
   ],
   "source": [
    "##############################\n",
    "# data (re)loading is performed only if required\n",
    "if boolLoad: \n",
    "    \n",
    "    # default nRunToOpen for test mode\n",
    "    if boolTest & (len(nRunToOpen)==0):\n",
    "        nRunToOpen = [\"test0\", \"test1\"]  # do not edit this! proper setting above\n",
    "    \n",
    "    # some dataset-related info\n",
    "    filePathTest = \"./data_test/ascii_test/\" if fileType==\"ASCII\" else \"./data_test/tree_test/\"\n",
    "    fileNameFormatTest = \"runXXXXXX_YYYYYY.dat\" if fileType==\"ASCII\" else \"runXXXXXX.root\"\n",
    "    fileNameFormatFull = (filePathTest if boolTest else filePath) + (fileNameFormatTest if boolTest else fileNameFormat)  # full filenames, i.e. with path\n",
    "    nRun = {}  # dictionary of the files to be opened only (same format as nRun0)\n",
    "    for iRun in nRun0:\n",
    "        if (iRun in nRunToOpen) | (nRun0[iRun] in nRunToOpen):\n",
    "            nRun.update({iRun: nRun0[iRun]})\n",
    "    \n",
    "    # data opening (function in .modules)\n",
    "    # recall:\n",
    "    #      - in ROOT case, remapping is also done\n",
    "    #      - swapped layers are also mirrored run by run\n",
    "    #      - iRun & typeRun columns also created (respectively with nRun0 keys & values)\n",
    "    df, dt = loadGeneral(fileType, fileNameFormatFull, nRun, descFrac, mirrorMap, globals(), bProgressBars)\n",
    "    print(\"--\")\n",
    "    \n",
    "    # newly created df structure info printing\n",
    "    loadDonePrint(df, dt)  # print only (function in .modules)\n",
    "\n",
    "##############################\n",
    "# print already existing df info if not (re)loading any data file\n",
    "else:  \n",
    "    loadSkipPrint(df)  # print only (function in .modules)\n",
    "    \n",
    "print(\"--\")"
   ]
  },
  {
   "cell_type": "code",
   "execution_count": 5,
   "metadata": {
    "jupyter": {
     "source_hidden": true
    }
   },
   "outputs": [
    {
     "name": "stdout",
     "output_type": "stream",
     "text": [
      "scan step number (iStep) availability: True \n",
      "--\n",
      "Unix time (epoch) availability: False \n",
      "--\n",
      "goniometer DOF availability: True (5)\n",
      "xGonioRaw + ['Rot', 'Crad', 'Horsa', 'HorsaBig', 'Versa']\n",
      "--\n",
      "input modules should be: ['0', '1', '2', '3']\n",
      "output modules should be: ['4', '5']\n",
      "input tracking availability (xRaw...): True\n",
      "output tracking availability (xRaw...): True\n",
      "input multiplicity availability (nHit...): True\n",
      "output multiplicity availability (nHit...): True\n",
      "--\n",
      "digitizer channel availability: False\n",
      "--\n",
      "forward calorimeter total signal (PHCaloFwd) availability a priori: False\n",
      "forward calorimeter total in GeV (EFwd) availability a priori: False\n",
      "--\n",
      "keeping xRaw0 in (-20.000000, 20.000000)\n",
      "keeping xRaw1 in (-20.000000, 20.000000)\n",
      "keeping xRaw2 in (-20.000000, 20.000000)\n",
      "keeping xRaw3 in (-20.000000, 20.000000)\n",
      "filters applied: events = 5979 --> 5951\n",
      "--\n",
      "all mandatory z[500625] available\n",
      "--\n"
     ]
    }
   ],
   "source": [
    "# detect data availability (function in .modules)\n",
    "# main data: \n",
    "#     iStep, epoch, xGonio (any), base xRaw/nHit (4 input, 2 output), digiPHRaw (any), digiTime (same as or less than digiPHRaw)\n",
    "#     furthermore, PHCaloFwd & EFwd a priori existance is checked -- they are computed from scratch only if False\n",
    "df, bIStep, bEpoch, bXGonio, bXRaw, bNHit, bDigiPHAny, lsDigiCh, bDigiTime, bPHCaloFwd0, bEFwd0 = dfCheckAvailability(df, baseTrackingMap)\n",
    "print(\"--\")\n",
    "\n",
    "# filter out the non-interesting data according to dfFilters (function in .modules)\n",
    "df = dfFiltering(df, filterMap)\n",
    "print(\"--\")\n",
    "\n",
    "# detect unavailable mandatory z entries run by run & set them to 0 (function in .modules)\n",
    "z = zBaseCheckAvailability(z, df[\"iRun\"].unique(), baseTrackingMap)\n",
    "print(\"--\")"
   ]
  },
  {
   "cell_type": "markdown",
   "metadata": {},
   "source": [
    "## **physics analysis**"
   ]
  },
  {
   "cell_type": "markdown",
   "metadata": {},
   "source": [
    "### **input tracking**"
   ]
  },
  {
   "cell_type": "code",
   "execution_count": 6,
   "metadata": {
    "jupyter": {
     "source_hidden": true
    }
   },
   "outputs": [
    {
     "name": "stdout",
     "output_type": "stream",
     "text": [
      "nHitIn added to df -- (mean, std) = (1.000000, 0.000000)\n",
      "boolSingleHitIn added to df\n",
      "--\n"
     ]
    }
   ],
   "source": [
    "# input mean multiplicity (function in .modules)\n",
    "if bNHit[\"in\"]:\n",
    "    df = aveVar(df, [\"nHit\"+s for s in baseTrackingMap[0]], \"nHitIn\")\n",
    "    \n",
    "    # also single-hit boolean\n",
    "    # note: single-hit selection is not based on nHitOut but rather on output layers individually\n",
    "    df = inHitCuts(df, [\"nHit\"+s for s in baseTrackingMap[0]])\n",
    "    \n",
    "else:\n",
    "    print(\"nHitIn & corresponding boolean not added to df\")\n",
    "    \n",
    "print(\"--\")"
   ]
  },
  {
   "cell_type": "code",
   "execution_count": 7,
   "metadata": {
    "jupyter": {
     "source_hidden": true
    }
   },
   "outputs": [
    {
     "name": "stdout",
     "output_type": "stream",
     "text": [
      "run 500625:\n",
      "thInRaw0 added to df\n",
      "aligning x layers (xRaw0 & xRaw2) with the value given in the settings: 0.0000000000\n",
      "thInRaw1 added to df\n",
      "aligning y layers (xRaw1 & xRaw3) with the value given in the settings: 0.0000000000\n",
      "boolInAligned: ellipse centered in 0 with hor. (ver.) half-axis 0.010000 (0.010000) (edge excluded)\n",
      "--\n",
      "run 500625: no cut defined on crystal fiducial area --> boolInCry(0/1) always True\n",
      "--\n",
      "x axis\n",
      "final input angle thIn0: (mean, std) = (-0.000039, 0.000344)\n",
      "final beam projections: x0, x2, xCry0, xCaloFwd0\n",
      "y axis\n",
      "final input angle thIn1: (mean, std) = (0.000142, 0.000291)\n",
      "final beam projections: x1, x3, xCry1, xCaloFwd1\n",
      "--\n"
     ]
    }
   ],
   "source": [
    "# input tracking (functions in .modules)\n",
    "# recall that (if input positions available) input tracking is done regardless of input multiplicity\n",
    "#     --> if needed, single-hit selection has to be applied manually a posteriori\n",
    "if bXRaw[\"in\"]:\n",
    "    # input angles/aligned tracking info\n",
    "    # also input angle selection, according to thInCut\n",
    "    df = trackingAngleAlign(df, [\"xRaw\"+s for s in baseTrackingMap[0]], thInCentres, \"thIn\", z, True, thInCut)\n",
    "    print(\"--\")\n",
    "    \n",
    "    # input beam projection @ crystal & @ forward calorimeter\n",
    "    # also crystal fiducial selection, according to xCryCut\n",
    "    # also print several input beam info\n",
    "    df = inputTrackingProj(df, baseTrackingMap[0], z, xCryCut)\n",
    "    \n",
    "else:\n",
    "    print(\"no input beam info available --> no raw angles, aligned angles, aligned positions & projections added to df\")\n",
    "    \n",
    "print(\"--\")"
   ]
  },
  {
   "cell_type": "markdown",
   "metadata": {},
   "source": [
    "### **goniometer**"
   ]
  },
  {
   "cell_type": "code",
   "execution_count": 8,
   "metadata": {
    "jupyter": {
     "source_hidden": true
    }
   },
   "outputs": [
    {
     "name": "stdout",
     "output_type": "stream",
     "text": [
      "xGonioRawRot paired to thIn0 (as it is in df) with factor -1.000000E+06 --> xGonioRot\n",
      "xGonioRawCrad paired to thIn1 (as it is in df) with factor 1.000000E+06 --> xGonioCrad\n",
      "xGonioRawHorsa paired to xCry0 (shifted via its mean) with factor -1.000000E+01 --> xGonioHorsa\n",
      "xGonioRawHorsaBig paired to xCry0 (shifted via its mean) with factor -2.000000E+01 --> xGonioHorsaBig\n",
      "xGonioRawVersa paired to xCry1 (shifted via its mean) with factor -1.000000E+01 --> xGonioVersa\n",
      "--\n"
     ]
    }
   ],
   "source": [
    "# from xGonioRaw... to xGonio... -- according to info in gonioMap (function in .modules)\n",
    "if bXGonio:\n",
    "    df = gonioPair(df, gonioMap)\n",
    "else:\n",
    "    print(\"no goniometer info available --> no final goniometer DOF added to df\")\n",
    "    \n",
    "print(\"--\")"
   ]
  },
  {
   "cell_type": "markdown",
   "metadata": {},
   "source": [
    "### **output tracking**"
   ]
  },
  {
   "cell_type": "code",
   "execution_count": 9,
   "metadata": {
    "jupyter": {
     "source_hidden": true
    }
   },
   "outputs": [
    {
     "name": "stdout",
     "output_type": "stream",
     "text": [
      "nHitOut added to df -- (mean, std) = (2.429592, 1.680286)\n",
      "boolSingleHitOut added to df\n",
      "--\n",
      "run 500625:\n",
      "boolLowHitOut: output multiplicity lower window @ <= 1.000000\n",
      "boolHighHitOut: output multiplicity upper window @ >= 4.000000\n",
      "--\n"
     ]
    }
   ],
   "source": [
    "# output mean multiplicity (functions in .modules)\n",
    "if bNHit[\"out\"]:\n",
    "    df = aveVar(df, [\"nHit\"+s for s in baseTrackingMap[1]], \"nHitOut\")\n",
    "    \n",
    "    # also booleans -- single-hit, low multiplicity & high-multiplicity, according to outMultCut\n",
    "    # note: single-hit selection is not based on nHitOut but rather on output layers individually\n",
    "    df = outHitCuts(df, [\"nHit\"+s for s in baseTrackingMap[1]], outMultCut)\n",
    "    \n",
    "else:\n",
    "    print(\"nHitOut & corresponding booleans not added to df\")\n",
    "    \n",
    "print(\"--\")"
   ]
  },
  {
   "cell_type": "code",
   "execution_count": 10,
   "metadata": {
    "jupyter": {
     "source_hidden": true
    }
   },
   "outputs": [
    {
     "name": "stdout",
     "output_type": "stream",
     "text": [
      "run 500625:\n",
      "thOutRaw0 added to df\n",
      "aligning x layers (xCry0 & xRaw4) with the value given in the settings: 0.0000000000\n",
      "thOutRaw1 added to df\n",
      "aligning y layers (xCry1 & xRaw5) with the value given in the settings: 0.0000000000\n",
      "--\n",
      "x axis\n",
      "final output angle thOut0: (mean, std) = (-0.020149, 0.193312)\n",
      "final beam projections: xCry0, x4\n",
      "output-input angle delta thDelta0: (mean, std) = (-0.020110, 0.193322)\n",
      "y axis\n",
      "final output angle thOut1: (mean, std) = (0.024091, 0.153728)\n",
      "final beam projections: xCry1, x5\n",
      "output-input angle delta thDelta1: (mean, std) = (0.023949, 0.153730)\n",
      "--\n"
     ]
    }
   ],
   "source": [
    "# output tracking (functions in .modules)\n",
    "# recall that (if output positions available) output tracking is done regardless of input/output multiplicity\n",
    "#     --> if needed, single-hit selections have to be applied manually a posteriori\n",
    "if bXRaw[\"out\"]:\n",
    "    # for output stage analysis, xCry0-1 = 0 when input tracking is absent\n",
    "    if not bXRaw[\"in\"]:\n",
    "        df.loc[:, \"xCry%d\"%i] = 0\n",
    "        print(\"input tracking unavailability --> doing output tracking with xCry0/1 automatically set to 0\\n--\")\n",
    "    \n",
    "    # output angles/aligned tracking info\n",
    "    df = trackingAngleAlign(df, [\"xCry0\", \"xCry1\"] + [\"xRaw\"+s for s in baseTrackingMap[1]], thOutCentres, \"thOut\", z, False)\n",
    "    print(\"--\")\n",
    "    \n",
    "    # output-input angle delta\n",
    "    df = trackingAngleDelta(df)\n",
    "    \n",
    "    # print output beam info\n",
    "    outputTrackingPrint(df, baseTrackingMap[1])\n",
    "        \n",
    "else:\n",
    "    print(\"no output beam info available --> no raw angles, aligned angles, angle deltas & aligned positions added to df\")\n",
    "    \n",
    "print(\"--\")"
   ]
  },
  {
   "cell_type": "markdown",
   "metadata": {},
   "source": [
    "### **digitizers**"
   ]
  },
  {
   "cell_type": "code",
   "execution_count": 11,
   "metadata": {
    "jupyter": {
     "source_hidden": true
    }
   },
   "outputs": [
    {
     "name": "stdout",
     "output_type": "stream",
     "text": [
      "no digitizer data available --> no equalised PH, PH & time booleans, forward calo. total PH & energy added to df\n",
      "--\n"
     ]
    }
   ],
   "source": [
    "# (various functions in .modules)\n",
    "# recall that elements of lsDigiCh are available in df (with prefix \"digiPHRaw\") by definition\n",
    "# if PHCaloFwd (EFwd) already in df, forward calo. sum (calibration) is not performed -- according to bPHCaloFwd0 (bEFwd0)\n",
    "#     --> name the raw variable differently to (re)execute this\n",
    "\n",
    "if (bDigiPHAny | bPHCaloFwd0 | bEFwd0):\n",
    "    # channels equalisation\n",
    "    df = equalise(df, lsDigiCh, equalMap)\n",
    "    print(\"--\")\n",
    "    \n",
    "    # PH & time booleans\n",
    "    df = defineDigiBooleans(df, lsDigiCh, digiPHCut, digiTimeCut, bDigiTime)\n",
    "    print(\"--\")\n",
    "\n",
    "    # forward calorimeter total PH\n",
    "    # behaviour according to bPHCaloFwd0\n",
    "    # if already existing in df, this is not performed --> name the raw variable differently to (re)execute this\n",
    "    df, bPHCaloFwd = caloSum(df, bPHCaloFwd0, lsDigiChCaloFwd, \"Fwd\", False)\n",
    "    print(\"--\")\n",
    "    \n",
    "    # forward calorimeter time boolean (OR between single-channel time booleans)\n",
    "    # only useful if single channels data are available (regardless of whether or not they have been used to get PHCaloFwd), otherwise always True\n",
    "    df = caloTimeBool(df, bPHCaloFwd, lsDigiChCaloFwd, bDigiTime, \"Fwd\")\n",
    "    print(\"--\")\n",
    "    \n",
    "    # forward calorimeter energy in GeV\n",
    "    # behaviour according to bEFwd0\n",
    "    # if already existing in df, this is not performed --> name the raw variable differently to (re)execute this\n",
    "    df, bEFwd = calibrate(df, bEFwd0, calibMapFwd, \"Fwd\", False)\n",
    "\n",
    "else:\n",
    "    bPHCaloFwd = {}\n",
    "    bEFwd = {}\n",
    "    print(\"no digitizer data available --> no equalised PH, PH & time booleans, forward calo. total PH & energy added to df\")\n",
    "\n",
    "print(\"--\")"
   ]
  },
  {
   "cell_type": "markdown",
   "metadata": {},
   "source": [
    "---"
   ]
  },
  {
   "cell_type": "markdown",
   "metadata": {},
   "source": [
    "## **plots & output**"
   ]
  },
  {
   "cell_type": "code",
   "execution_count": 12,
   "metadata": {
    "jupyter": {
     "source_hidden": true
    }
   },
   "outputs": [],
   "source": [
    "# initialising output plots data dictionary -- empty, it will be filled with the objects needed\n",
    "outData = {}\n",
    "\n",
    "# initialising units of measurement dictionary -- empty string for all the df variables by default\n",
    "units = dict(zip(df.columns, [\"\" for s in df.columns]))\n",
    "\n",
    "# limiting the selection dictionaries to the runs currently under study\n",
    "thInCut0 = {k: v for k, v in thInCut.items() if k in df[\"iRun\"].unique()}\n",
    "xCryCut0 = {k: v for k, v in xCryCut.items() if k in df[\"iRun\"].unique()}\n",
    "outMultCut0 = {k: v for k, v in outMultCut.items() if k in df[\"iRun\"].unique()}\n",
    "digiPHCut0 = {k: v for k, v in digiPHCut.items() if k in df[\"iRun\"].unique()}\n",
    "digiTimeCut0 = {k: v for k, v in digiTimeCut.items() if k in df[\"iRun\"].unique()}"
   ]
  },
  {
   "cell_type": "markdown",
   "metadata": {},
   "source": [
    "### **plot & output settings (other settings in each plot cell)**"
   ]
  },
  {
   "cell_type": "code",
   "execution_count": 13,
   "metadata": {
    "jupyter": {
     "source_hidden": true
    }
   },
   "outputs": [],
   "source": [
    "# if True (False), base plots and related fits are (not) created\n",
    "boolPlotGlob = True\n",
    "\n",
    "# units -- dictionary of the units of measurement for plots\n",
    "# shape: {var: unit} (all string)\n",
    "# unit format: unit between brackets\n",
    "# all the missing variable units are automatically set to empty strings (above)\n",
    "units.update({\"epoch\": \"[s]\"})\n",
    "units.update({\"xGonioRot\": \"[urad]\"})\n",
    "units.update({\"xGonioCrad\": \"[urad]\"})\n",
    "units.update({\"xGonioHorsa\": \"[mm]\"})\n",
    "units.update({\"xGonioHorsaBig\": \"[mm]\"})\n",
    "units.update({\"xGonioVersa\": \"[mm/2]\"})\n",
    "units.update({\"EFwd\": \"[GeV]\"})\n",
    "units.update({\"x\"+baseTrackingMap[0][0]: \"[cm]\"})\n",
    "units.update({\"x\"+baseTrackingMap[0][1]: \"[cm]\"})\n",
    "units.update({\"xCry0\": \"[cm]\"})\n",
    "units.update({\"xCry1\": \"[cm]\"})\n",
    "for iCh in [s for s in df.columns if \"digiPH\" in s]:\n",
    "    units.update({iCh: \"[ADC]\"})\n",
    "for iCh in [s for s in df.columns if \"digiTime\" in s]:\n",
    "    units.update({iCh: \"[ADC]\"})\n",
    "for iTh in [s for s in df.columns if (\"thIn\" in s) | (\"thOut\" in s)]:\n",
    "    units.update({iTh: \"[rad]\"})\n",
    "    \n",
    "units.update({\"ERingo\": \"[GeV]\"})\n",
    "units.update({\"EJohn\": \"[GeV]\"})\n",
    "units.update({\"ESiPM\": \"[GeV]\"})\n",
    "\n",
    "# other graphic settings\n",
    "pal2d = \"viridis\"  # palette for 2d plots\n",
    "lineC = \"0.7\"  # color of plot patches (e.g. selection ranges) lines\n",
    "fitC = \"0.1\" # color of fit lines\n",
    "lineW = 1.5  # width of plot patches (e.g. selection ranges) lines\n",
    "fitW = 1.5  # width of fit lines\n",
    "\n",
    "# if True (False), figures are (not) saved in ./out_plots\n",
    "# this is particularly important when running the software as a Python script\n",
    "bPlotSave = True\n",
    "\n",
    "# also recall to set boolPlotGlob above, in the input settings section"
   ]
  },
  {
   "cell_type": "markdown",
   "metadata": {},
   "source": [
    "### **run base info**"
   ]
  },
  {
   "cell_type": "code",
   "execution_count": 14,
   "metadata": {
    "jupyter": {
     "source_hidden": true
    }
   },
   "outputs": [],
   "source": [
    "boolPlotLoc = False  # figure(s) here only drawn if True\n",
    "figName = \"runInfo\"  # figure name\n",
    "xSize = 7  # horizontal figure size\n",
    "ySize = 8  # vertical figure size\n",
    "bUseEpoch = False  # if True (False) the epoch (automatic event index) is used -- only if epoch in df, otherwise event index anyway\n",
    "\n",
    "###############\n",
    "if boolPlotLoc & boolPlotGlob:\n",
    "    ax = plot_runInfo(df, [\"boolSingleHitIn\"] if bNHit[\"in\"] else [], bXGonio, bEpoch, bUseEpoch, pal2d, units, xSize, ySize, figName, bPlotSave)\n",
    "    # if input multiplicity is available, base info are studied in input single hit condition\n",
    "    # this is always drawn, since at least iRun is always created inside df -- goniometer DOF availability checked inside the function"
   ]
  },
  {
   "cell_type": "markdown",
   "metadata": {},
   "source": [
    "### TRACKING **input beam profiles & spot**"
   ]
  },
  {
   "cell_type": "code",
   "execution_count": 15,
   "metadata": {
    "jupyter": {
     "source_hidden": true
    }
   },
   "outputs": [],
   "source": [
    "boolPlotLoc = False  # figure(s) here only drawn if True\n",
    "figName = \"xIn\"  # figure name -- the part \"_1d\"/\"_2d\" will be appended\n",
    "xSize = [7, 3]  # horizontal figure size -- 1d-then-2d\n",
    "ySize = [3, 3]  # vertical figure size -- 1d-then-2d\n",
    "binSize = [0.01, 0.01]  # bin size, same for x & y in all the plots below -- 1d-then-2d -- if a component is None, it is automatically computed\n",
    "hRange = [[-0.5, 2.5], [-0.5, 2.5]]  # axes ranges, same in all the plots below -- format [[x0, x1] or None, [y0, y1] or None] (if None, automatic definition)\n",
    "bLog = False  # if True (False), log (lin) scale on z\n",
    "bPlot2d = False  # if True (False), 2d profile plot is (not) plotted\n",
    "lsBool = [\"boolSingleHitIn\"]  # list of booleans (available in df) to be applied to all the plots here\n",
    "\n",
    "###############\n",
    "if boolPlotLoc & boolPlotGlob & bXRaw[\"in\"]:\n",
    "    outData = plot_prof(df, (\"x\"+baseTrackingMap[0][0], \"x\"+baseTrackingMap[0][1]), binSize[0], lsBool, hRange, outData, bLog, units, xSize[0], ySize[0], figName+\"1d\", bPlotSave)\n",
    "    if bPlot2d:\n",
    "        plot_proj(df, (\"x\"+baseTrackingMap[0][0], \"x\"+baseTrackingMap[0][1]), binSize[1], lsBool, hRange, False, {}, bLog, lineC, lineW, pal2d, units, xSize[1], ySize[1], figName+\"2d\", bPlotSave)\n",
    "\n",
    "# outData is updated with bin-by-bin spectra values & fit parameters -- entries \"thIn/OutN_histo/fit\""
   ]
  },
  {
   "cell_type": "markdown",
   "metadata": {},
   "source": [
    "### TRACKING **angles**"
   ]
  },
  {
   "cell_type": "code",
   "execution_count": 16,
   "metadata": {
    "jupyter": {
     "source_hidden": true
    }
   },
   "outputs": [],
   "source": [
    "boolPlotLoc = False  # figure(s) here only drawn if True\n",
    "figName = [\"thIn\", \"thOut\", \"thDelta\"]  # figure names -- in-then-out-then-delta\n",
    "xSize = 7  # horizontal figure size\n",
    "ySize = 3  # vertical figure size\n",
    "xRange = [[-0.001, 0.001], [-0.001, 0.001], [-0.0003, 0.0003]]  # plot ranges, in-then-out-then-delta -- for each, left-then-right, same for x & y -- values can be None (i.e. automatic definition)\n",
    "binSize = [0.00002, 0.00002, 0.000005]  # bin sizes -- in-then-out-then-delta -- if a value is None, automatically computed\n",
    "bFit = [True, False, False]  # do fits if True -- in-then-out-then-delta\n",
    "fitSigma = [0.001, 0.001, 0.001]  # starting point for sigma fits (set to ~ half the distribution FWHM or None, i.e. automatic computation) -- in-then-out-then-delta, only used if bFit=True\n",
    "bSel = True  # draw input selection according to thInCut -- only for input\n",
    "bLog = False  # if True (False), log (lin) scale on y\n",
    "\n",
    "###############\n",
    "lsBool = [[], [], []]\n",
    "if bNHit[\"in\"]:\n",
    "    lsBool[0].append(\"boolSingleHitIn\")\n",
    "    lsBool[1].append(\"boolSingleHitIn\")\n",
    "    lsBool[2].append(\"boolSingleHitIn\")\n",
    "if bNHit[\"out\"]:\n",
    "    lsBool[1].append(\"boolSingleHitOut\")\n",
    "    lsBool[2].append(\"boolSingleHitOut\")\n",
    "# if input/input-output multiplicity is available, input/output & delta angle distr. are studied in input/input-output single hit condition\n",
    "\n",
    "if boolPlotLoc & boolPlotGlob:\n",
    "    if bXRaw[\"in\"]:\n",
    "        outData = plot_th(df, \"thIn\", binSize[0], lsBool[0], xRange[0], bFit[0], fitSigma[0], outData, bSel, thInCut0, bLog, fitC, fitW, lineC, lineW, units, xSize, ySize, figName[0], bPlotSave)\n",
    "    if bXRaw[\"out\"]:\n",
    "        # recall that output angles are computed even in absence of input tracking data -- hits @ crystal automatically set to (0, 0, 0)\n",
    "        outData = plot_th(df, \"thOut\", binSize[1], lsBool[1], xRange[1], bFit[1], fitSigma[1], outData, False, {}, bLog, fitC, fitW, lineC, lineW, units, xSize, ySize, figName[1], bPlotSave)\n",
    "    if bXRaw[\"in\"] & bXRaw[\"out\"]:\n",
    "        outData = plot_th(df, \"thDelta\", binSize[2], lsBool[2], xRange[2], bFit[2], fitSigma[2], outData, False, {}, bLog, fitC, fitW, lineC, lineW, units, xSize, ySize, figName[2], bPlotSave)\n",
    "        \n",
    "# outData is updated with bin-by-bin spectra values & fit parameters -- entries \"thIn/OutN_histo/fit\""
   ]
  },
  {
   "cell_type": "markdown",
   "metadata": {},
   "source": [
    "### TRACKING **multiplicities**"
   ]
  },
  {
   "cell_type": "code",
   "execution_count": 17,
   "metadata": {
    "jupyter": {
     "source_hidden": true
    }
   },
   "outputs": [],
   "source": [
    "boolPlotLoc = False  # figure(s) here only drawn if True\n",
    "figName = \"nHitOut\"  # figure name\n",
    "xSize = 7  # horizontal figure size\n",
    "ySize = 4  # vertical figure size\n",
    "bUseEpoch = False  # if True (False) the epoch (automatic event index) is used -- only if epoch in df, otherwise event index anyway\n",
    "maxNHit = 10  # multiplicity upper limit -- if None, range (& binning) automatically defined\n",
    "bSel = True  # draw output selection according to outMultCut -- only for output\n",
    "tRange = None  # range on the 2d plots x to be used to costrain the data included in the 1d plots -- length-2 array or None (for no costraint)\n",
    "bLog = False  # if True (False), log (lin) scale on y/z in 1d/2d plots\n",
    "\n",
    "###############\n",
    "if boolPlotLoc & boolPlotGlob & bNHit[\"out\"]:\n",
    "    outData = plot_nHit(df, \"nHitOut\", [\"boolSingleHitIn\"] if bNHit[\"in\"] else [], bEpoch, bUseEpoch, maxNHit, tRange, bSel, outMultCut0, outData, bLog, lineC, lineW, pal2d, units, xSize, ySize, figName, bPlotSave)\n",
    "    # if input multiplicity is available, output multiplicity is studied in input single hit condition\n",
    "    \n",
    "# outData is updated with bin-by-bin spectra values (2d & 1d) -- entries \"nHitOut_nameX_histo\" (2d) & \"nHitOut_iRun_histo\" (1d)"
   ]
  },
  {
   "cell_type": "markdown",
   "metadata": {},
   "source": [
    "### TRACKING **beam spots @ crystal**"
   ]
  },
  {
   "cell_type": "code",
   "execution_count": 18,
   "metadata": {
    "jupyter": {
     "source_hidden": true
    }
   },
   "outputs": [],
   "source": [
    "boolPlotLoc = False  # figure(s) here only drawn if True\n",
    "figName = \"xCry\"  # figure name\n",
    "xSize = 3  # horizontal figure size\n",
    "ySize = 3  # vertical figure size\n",
    "binSize = 0.01  # bin size, same for x & y in all the plots below -- if None, automatically computed\n",
    "hRange = [[-0.5, 2.5], [-0.5, 2.5]]  # axes ranges, same in all the plots below -- format [[x0, x1] or None, [y0, y1] or None] (if None, automatic definition)\n",
    "bSel = [True, True]  # draw fiducial selection according to xCryCut -- plot without multiplicity cut, then plots with multiplicity cut\n",
    "bLog = False  # if True (False), log (lin) scale on z\n",
    "\n",
    "###############\n",
    "lsBool0 = [\"boolSingleHitIn\"] if bNHit[\"in\"] else []\n",
    "# if input multiplicity is available, beam projections @ crystal are studied in input single hit condition\n",
    "\n",
    "if boolPlotLoc & boolPlotGlob & bXRaw[\"in\"]:\n",
    "    plot_proj(df, \"xCry\", binSize, lsBool0+[], hRange, bSel[0], xCryCut0, bLog, lineC, lineW, pal2d, units, xSize, ySize, figName, bPlotSave)\n",
    "    if bNHit[\"out\"]:\n",
    "        # furthermore, study with different output multiplicity selection performed only if output multiplicity data available\n",
    "        plot_proj(df, \"xCry\", binSize, lsBool0+[\"boolLowHitOut\"], hRange, bSel[1], xCryCut0, bLog, lineC, lineW, pal2d, units, xSize, ySize, \"xCry_lowHitOut\", bPlotSave)\n",
    "        plot_proj(df, \"xCry\", binSize, lsBool0+[\"boolHighHitOut\", \"boolCounterOut\"], hRange, bSel[1], xCryCut0, bLog, lineC, lineW, pal2d, units, xSize, ySize, \"xCry_highHitOut\", bPlotSave)"
   ]
  },
  {
   "cell_type": "markdown",
   "metadata": {},
   "source": [
    "### GONIOMETER **2d phase space**"
   ]
  },
  {
   "cell_type": "code",
   "execution_count": 19,
   "metadata": {
    "jupyter": {
     "source_hidden": true
    }
   },
   "outputs": [],
   "source": [
    "boolPlotLoc = False  # figure(s) here only drawn if True\n",
    "figName = \"gonioPhaseSpace\"  # figure name\n",
    "xSize = 4  # horizontal figure size\n",
    "ySize = 4  # vertical figure size\n",
    "lsVar = [\"Rot\", \"Crad\"]  # length-2 list of gonio. variables to be plot (x-then-y) -- names without the prefix xGonio\n",
    "lsBool = [\"boolInCry\"]  # list of booleans (available in df) to be applied -- input single hit condition applied automatically (if data available)\n",
    "bLog = True  # if True (False), log (lin) scale on z\n",
    "\n",
    "###############\n",
    "lsBool0 = [\"boolSingleHitIn\"] if bNHit[\"in\"] else []\n",
    "# if input multiplicity is available, goniometer DOF phase space is studied in input single hit condition\n",
    "\n",
    "if boolPlotLoc & boolPlotGlob & bXGonio:\n",
    "    plot_gonioCorr(df, lsVar, lsBool0+lsBool, bLog, pal2d, units, xSize, ySize, figName, bPlotSave)"
   ]
  },
  {
   "cell_type": "markdown",
   "metadata": {},
   "source": [
    "### GONIOMETER **trends over other variables**"
   ]
  },
  {
   "cell_type": "code",
   "execution_count": 20,
   "metadata": {
    "jupyter": {
     "source_hidden": true
    }
   },
   "outputs": [],
   "source": [
    "boolPlotLoc = False  # figure(s) here only drawn if True\n",
    "figName = \"gonioTrends\"  # figure name base -- it will be completed with \"_\" and the name of each variable under study\n",
    "xSize = 7  # horizontal figure size (for each single figures)\n",
    "ySize = 5  # vertical figure size (for each single figures)\n",
    "lsBool = [\"boolInAligned\", \"boolInCry\", \"boolDigiTimeCounterOut\"]  # list of booleans (available in df) to be applied to all the plots here -- input single hit cond. applied automatically (if data available)\n",
    "bLog = True  # if True (False), log (lin) scale on z\n",
    "\n",
    "# dictionary of the variables to be analysed -- shape:\n",
    "# {varY (string): {\n",
    "#         varX0 (string): [[xL0, xR0, dx0], [yL0, yR0, dy0], [bDrawProf0 (bool), bFit0 (bool), deg0 (integer), xFitL0, xFitR0]], (float if not otherwise specified)\n",
    "#         varX1: [[xL1, xR1, dx1], [yL1, yR1, dy1], [bDrawProf1, bFit1, deg1, xFitL1, xFitR1]],\n",
    "#         ...\n",
    "# }}\n",
    "# 1 figure per varY, each with 1 plot per varX -- varX format: part of the variable name following \"xGonioRaw\"\n",
    "# plot in ranges (xL, xR) & (yL, yR) with bin size dx & dy\n",
    "# profile plot polynomial fit with degree deg -- supported deg = 0, 1, 2; also Gaussian fit if deg = \"Gaussian\"\n",
    "# all entries (apart from bFit) can also be None -- automatic definition in this case (e.g. deg = 0)\n",
    "dictGonioTrends = {\n",
    "    \"digiPHCounterOut\" : {\n",
    "#         \"Rot\": [[df.xGonioRawRot.min(), df.xGonioRawRot.max(), 80], [None, 4000, 50], [True, False, 2, None, None]],\n",
    "        \"RawCrad\": [[None, None, 80], [None, 4000, 50], [True, False, 2, 1.861e6, 1.866e6]],\n",
    "#         \"HorsaBig\": [[None, None, 2], [None, 1000, 50], [True, False, 2, 25, 50]],\n",
    "#         \"RawHorsaBig\": [[None, None, 2], [None, 1000, 50], [True, False, 2, None, None]],\n",
    "    },\n",
    "    \"digiPHPresh1\" : {\n",
    "        \"RawCrad\": [[None, None, 80], [None, 4000, 50], [True, False, 2, 1.861e6, 1.866e6]],\n",
    "#         \"Rot\": [[df.xGonioRawRot.min(), df.xGonioRawRot.max(), 80], [None, 4000, 50], [True, False, 2, None, None]],\n",
    "#         \"RawRot\": [[df.xGonioRawRot.min(), df.xGonioRawRot.max(), 80], [None, 4000, 50], [True, False, 2, None, None]],\n",
    "    },\n",
    "#     \"digiPHPresh1\" : {\n",
    "#         \"HorsaBig\": [[None, None, 2], [None, 5000, 50], [True, False, 2, None, None]],\n",
    "#         \"RawHorsaBig\": [[None, None, 2], [None, 5000, 50], [True, False, 2, None, None]],\n",
    "#     },\n",
    "#     \"digiPHRingo1\": {\n",
    "#         \"Rot\": [[None, None, 1], [ None, None, None], [True, False, 2, None, None]],\n",
    "#     },\n",
    "}\n",
    "        \n",
    "###############\n",
    "lsBool0 = [\"boolSingleHitIn\"] if bNHit[\"in\"] else []\n",
    "if boolPlotLoc & boolPlotGlob & bXGonio:\n",
    "    for i, iY in enumerate(dictGonioTrends):\n",
    "        outData = plot_gonioTrends(df, iY, dictGonioTrends[iY], lsBool0+lsBool, outData, bLog, fitC, fitW, lineC, lineW, pal2d, units, xSize, ySize, figName, bPlotSave)\n",
    "        \n",
    "# outData is updated with profile plots & fit info (only if fit requested) -- entries name format: \"nameY_nameX_prof\" & \"nameY_nameX_fit\""
   ]
  },
  {
   "cell_type": "markdown",
   "metadata": {},
   "source": [
    "### DIGITIZERS **single-channel PH-vs-time phase spaces**"
   ]
  },
  {
   "cell_type": "code",
   "execution_count": 21,
   "metadata": {
    "jupyter": {
     "source_hidden": true
    }
   },
   "outputs": [],
   "source": [
    "boolPlotLoc = False  # figure(s) here only drawn if True\n",
    "figName = \"digi\"  # figure name\n",
    "xSize = 7  # horizontal figure size\n",
    "ySize = 18  # vertical figure size\n",
    "lsBool = [\"boolSingleHitIn\"]  # list of booleans (available in df) to be applied -- same for all the channels (if using cuts on crystal, consider including input single hit cond.)\n",
    "binSize = [2, None]  # bin sizes -- time-then-PH -- if a value is None, automatically computed\n",
    "bSel = True  # draw PH & time selection boxes according to digiPHCut & digiTimeCut -- same boolean for all the digitizer channels\n",
    "bLog = False  # if True (False), log (lin) scale on z\n",
    "\n",
    "###############\n",
    "if boolPlotLoc & boolPlotGlob & bDigiPHAny:\n",
    "    plot_digi(df, lsDigiCh, binSize, lsBool, bDigiTime, bSel, digiPHCut0, digiTimeCut0, bLog, lineC, lineW, pal2d, units, xSize, ySize, figName, bPlotSave)"
   ]
  },
  {
   "cell_type": "markdown",
   "metadata": {},
   "source": [
    "### DIGITIZERS **forward calorimeter energy**"
   ]
  },
  {
   "cell_type": "code",
   "execution_count": 22,
   "metadata": {
    "jupyter": {
     "source_hidden": true
    }
   },
   "outputs": [],
   "source": [
    "boolPlotLoc = False  # figure(s) here only drawn if True\n",
    "figName = \"energyFwd\"  # figure name\n",
    "xSize = 7  # horizontal figure size\n",
    "ySize = 5  # vertical figure size\n",
    "binSize = 0.5  # bin size - can't be set to None (needed for errorbars)\n",
    "xRange = [1, 40]  # plot range - [min, max] or None (for automatic definition for each typeRun value separately)\n",
    "lsBool = [\"boolSingleHitIn\", \"boolInCry\", \"boolTimeCaloFwd\", \"boolInAligned\"]  # list of booleans (available in df) to be applied -- selection on typeRun applied automatically (if using cuts on crystal, consider including input single hit cond.)\n",
    "bUseEpoch = False  # if True (False) the epoch (automatic event index) is used -- only if epoch in df, otherwise event index anyway\n",
    "bLog = False  # if True (False), log (lin) scale on y/z in 1d/2d plots\n",
    "\n",
    "###############\n",
    "if boolPlotLoc & boolPlotGlob & any(bEFwd.values()):\n",
    "    outData = plot_energyRuns(df, \"Fwd\", binSize, bEFwd, xRange, bEpoch, bUseEpoch, lsBool, bLog, outData, pal2d, units, xSize, ySize, figName, bPlotSave)  # forward calo. energy\n",
    "    \n",
    "# outData is updated with bin-by-bin spectra values -- entries name format: \"EFwd_typeRun_histo\""
   ]
  },
  {
   "cell_type": "markdown",
   "metadata": {},
   "source": [
    "---"
   ]
  },
  {
   "cell_type": "markdown",
   "metadata": {},
   "source": [
    "### **output data**"
   ]
  },
  {
   "cell_type": "code",
   "execution_count": 23,
   "metadata": {
    "jupyter": {
     "source_hidden": true
    }
   },
   "outputs": [
    {
     "name": "stdout",
     "output_type": "stream",
     "text": [
      "saving output dictionary outData to ./out_data/outData.pickle, with 0 entries\n",
      "--\n"
     ]
    }
   ],
   "source": [
    "# output dictionary outData saved as in ./out_data/outData.pickle\n",
    "globals().update(outData)\n",
    "saveOutData(globals())  # function in .modules\n",
    "print(\"--\")\n",
    "\n",
    "########\n",
    "# to open the Pickle file importing the anaKrys modules: \n",
    "#    outData = readOutData()  # function in .modules"
   ]
  },
  {
   "cell_type": "markdown",
   "metadata": {},
   "source": [
    "---"
   ]
  },
  {
   "cell_type": "markdown",
   "metadata": {},
   "source": [
    "## **whiteboard**"
   ]
  },
  {
   "cell_type": "markdown",
   "metadata": {},
   "source": [
    "### **waveform** base handling & visualisation"
   ]
  },
  {
   "cell_type": "code",
   "execution_count": 47,
   "metadata": {},
   "outputs": [],
   "source": [
    "bUseThisWf = False  # if False, waveforms aren't used at all"
   ]
  },
  {
   "cell_type": "code",
   "execution_count": 48,
   "metadata": {
    "jupyter": {
     "source_hidden": true
    }
   },
   "outputs": [],
   "source": [
    "# visualiser\n",
    "\n",
    "wfName = \"SiPM0\"\n",
    "word0 = 6\n",
    "sampling = 1023-word0\n",
    "bPlotThis = True\n",
    "nEvs = 100\n",
    "\n",
    "if bUseThisWf:\n",
    "\n",
    "    # single waveform handling\n",
    "    wf = df[[\"wf\"+wfName+\"_%d\" % (word0+i) for i in range(sampling)]].transpose()\n",
    "\n",
    "\n",
    "    # plot\n",
    "    if bPlotThis:\n",
    "        plt.close(\"wfVisualiser\")\n",
    "        plt.figure(\"wfVisualiser\")\n",
    "        for i in range(len(df.columns) if nEvs<=0 else nEvs):\n",
    "            if (i in wf.columns.unique()):\n",
    "                plt.plot(range(sampling), wf[i])"
   ]
  },
  {
   "cell_type": "markdown",
   "metadata": {},
   "source": [
    "### **CRILIN PbF2+SiPM** time performance studies"
   ]
  },
  {
   "cell_type": "code",
   "execution_count": 49,
   "metadata": {
    "jupyter": {
     "source_hidden": true
    }
   },
   "outputs": [],
   "source": [
    "# create single dafarames with waveforms of interest\n",
    "\n",
    "chans = (\"SiPM0\", \"SiPM2\")\n",
    "\n",
    "if bUseThisWf:\n",
    "    wf0, wf1 = pd.DataFrame(), pd.DataFrame()\n",
    "    wf0 = wf0.append(df[[\"wf\"+chans[0]+\"_%d\" % (word0+i) for i in range(sampling)]]).transpose()\n",
    "    wf1 = wf1.append(df[[\"wf\"+chans[1]+\"_%d\" % (word0+i) for i in range(sampling)]]).transpose()"
   ]
  },
  {
   "cell_type": "code",
   "execution_count": 50,
   "metadata": {
    "jupyter": {
     "source_hidden": true
    }
   },
   "outputs": [],
   "source": [
    "# perform event-by-event fit for waveform rise time\n",
    "\n",
    "nTicksBase = 100\n",
    "\n",
    "if bUseThisWf:\n",
    "    dtWf = list()\n",
    "    for i in wf0.columns:\n",
    "\n",
    "        wf0Base = np.mean(wf0[i][0:nTicksBase].tolist())\n",
    "        wf1Base = np.mean(wf1[i][0:nTicksBase].tolist())\n",
    "        wf0Fin = wf0Base - wf0[i]\n",
    "        wf1Fin = wf1Base - wf1[i]\n",
    "\n",
    "        if (max(wf0Fin) > 100) & (max(wf1Fin) > 100):\n",
    "\n",
    "            x, y = np.arange(word0, word0+sampling, 1), wf0Fin\n",
    "            mask0 = ((y) < 0.8*max(y)) & (y > 0.2*max(y)) & (x < x[y==max(y)][0])\n",
    "            par = np.polyfit(x[mask0], y[mask0], 1)\n",
    "            t0 = -par[1]/par[0]\n",
    "\n",
    "            x, y = np.arange(word0, word0+sampling, 1), wf1Fin\n",
    "            mask1 = ((y) < 0.8*max(y)) & (y > 0.2*max(y)) & (x < x[y==max(y)][0])\n",
    "            par = np.polyfit(x[mask1], y[mask1], 1)\n",
    "            t1 = -par[1]/par[0]\n",
    "\n",
    "            dtWf.append(t1 - t0)"
   ]
  },
  {
   "cell_type": "code",
   "execution_count": 51,
   "metadata": {
    "jupyter": {
     "source_hidden": true
    }
   },
   "outputs": [],
   "source": [
    "# quick visualiser of the last waveform fit performed\n",
    "\n",
    "bPlotThis = True\n",
    "\n",
    "if bPlotThis & bUseThisWf:\n",
    "    plt.close(\"sss\")\n",
    "    plt.figure(\"§sss\")\n",
    "    plt.plot(x, y)\n",
    "    f = lambda x, m, q : m*x+q\n",
    "    plt.plot(x, f(x, *par))"
   ]
  },
  {
   "cell_type": "code",
   "execution_count": 52,
   "metadata": {
    "jupyter": {
     "source_hidden": true
    }
   },
   "outputs": [],
   "source": [
    "# plot time difference between 2 waveforms (defined above)\n",
    "\n",
    "bPlotThis = True\n",
    "\n",
    "if bPlotThis & bUseThisWf:\n",
    "    plt.close(\"bbb\")\n",
    "    plt.figure(\"bbb\")\n",
    "    fitRange = [-200, 0]\n",
    "    a = dtWf\n",
    "    h = plt.hist(a, bins=200*(fitRange[1]-fitRange[0]), range=(200*fitRange[0], 200*fitRange[1]), density=True)\n",
    "    x = h[1][:-1]\n",
    "    y = h[0]\n",
    "    par = curve_fit(sl.fGaus, x[(x>fitRange[0]) & (x<fitRange[1])], y[(x>fitRange[0]) & (x<fitRange[1])], p0 = (0.03, -100, 50))\n",
    "    plt.plot(np.linspace(fitRange[0], fitRange[1], 100), sl.fGaus(np.linspace(fitRange[0], fitRange[1], 100), *par[0]))\n",
    "    plt.yscale(\"linear\")\n",
    "    print(\"mean (std) is %f (%f)\" % (par[0][1], par[0][2]))"
   ]
  },
  {
   "cell_type": "markdown",
   "metadata": {},
   "source": [
    "### **MCP** time performance studies"
   ]
  },
  {
   "cell_type": "code",
   "execution_count": 53,
   "metadata": {},
   "outputs": [
    {
     "data": {
      "application/vnd.jupyter.widget-view+json": {
       "model_id": "80b9008dd85049f49b1ecf237c360b3e",
       "version_major": 2,
       "version_minor": 0
      },
      "text/plain": [
       "Canvas(toolbar=Toolbar(toolitems=[('Home', 'Reset original view', 'home', 'home'), ('Back', 'Back to previous …"
      ]
     },
     "metadata": {},
     "output_type": "display_data"
    },
    {
     "name": "stdout",
     "output_type": "stream",
     "text": [
      "mean (std) is 0.329634 (0.354947)\n"
     ]
    }
   ],
   "source": [
    "# plot time difference between MCPs\n",
    "# for some old runs, positions in digitizer might change...\n",
    "\n",
    "bPlotThis = True\n",
    "\n",
    "if bPlotThis:\n",
    "    plt.close(\"bbb\")\n",
    "    plt.figure(\"bbb\")\n",
    "    fitRange = [-4, 4]\n",
    "    a = df.digiTimeMCP0 - df.digiTimeMCP1\n",
    "    h = plt.hist(a, bins=3*(fitRange[1]-fitRange[0]), range=(3*fitRange[0], 3*fitRange[1]), density=True, align=\"mid\")\n",
    "    x = h[1][:-1]\n",
    "    y = h[0]\n",
    "    par = curve_fit(sl.fGaus, x[(x>fitRange[0]) & (x<fitRange[1])], y[(x>fitRange[0]) & (x<fitRange[1])], p0 = (0.6, 0, 3))\n",
    "    plt.plot(np.linspace(fitRange[0], fitRange[1], 100), sl.fGaus(np.linspace(fitRange[0], fitRange[1], 100), *par[0]))\n",
    "    plt.yscale(\"linear\")\n",
    "    print(\"mean (std) is %f (%f)\" % (par[0][1], par[0][2]))"
   ]
  },
  {
   "cell_type": "code",
   "execution_count": 54,
   "metadata": {},
   "outputs": [
    {
     "data": {
      "text/plain": [
       "['xRaw0',\n",
       " 'xRaw1',\n",
       " 'xRaw2',\n",
       " 'xRaw3',\n",
       " 'xRaw4',\n",
       " 'xRaw5',\n",
       " 'xRaw6',\n",
       " 'xRaw7',\n",
       " 'nStripHit0',\n",
       " 'nStripHit1',\n",
       " 'nStripHit2',\n",
       " 'nStripHit3',\n",
       " 'nStripHit4',\n",
       " 'nStripHit5',\n",
       " 'nStripHit6',\n",
       " 'nStripHit7',\n",
       " 'nHit0',\n",
       " 'nHit1',\n",
       " 'nHit2',\n",
       " 'nHit3',\n",
       " 'nHit4',\n",
       " 'nHit5',\n",
       " 'nHit6',\n",
       " 'nHit7',\n",
       " 'digiBaseEmpty0',\n",
       " 'digiBaseVeto',\n",
       " 'digiBaseCaloLat2',\n",
       " 'digiBaseCaloLat3',\n",
       " 'digiBaseVetoSmall',\n",
       " 'digiBaseCounterOutSmall',\n",
       " 'digiBaseCounterBeforeMagnet',\n",
       " 'digiBaseEmpty1',\n",
       " 'digiBaseCaloFwd0',\n",
       " 'digiBaseCaloFwd1',\n",
       " 'digiBaseCaloFwd2',\n",
       " 'digiBaseCaloFwd3',\n",
       " 'digiBaseCaloFwd4',\n",
       " 'digiBaseCaloFwd5',\n",
       " 'digiBaseCaloFwd6',\n",
       " 'digiBaseCaloFwd7',\n",
       " 'digiBaseCaloFwd8',\n",
       " 'digiBaseCaloLat0',\n",
       " 'digiBaseCaloLat1',\n",
       " 'digiBaseCaloLat4',\n",
       " 'digiBaseCaloLat5',\n",
       " 'digiBaseCaloLat6',\n",
       " 'digiBaseCaloLat7',\n",
       " 'digiBaseCaloLat8',\n",
       " 'digiBaseSiPM0',\n",
       " 'digiBaseSiPM1',\n",
       " 'digiBaseSiPM2',\n",
       " 'digiBaseSiPM3',\n",
       " 'digiBaseEmpty2',\n",
       " 'digiBaseCounterOut',\n",
       " 'digiBaseMCP0',\n",
       " 'digiBaseMCP1',\n",
       " 'digiPhRawEmpty0',\n",
       " 'digiPhRawVeto',\n",
       " 'digiPhRawCaloLat2',\n",
       " 'digiPhRawCaloLat3',\n",
       " 'digiPhRawVetoSmall',\n",
       " 'digiPhRawCounterOutSmall',\n",
       " 'digiPhRawCounterBeforeMagnet',\n",
       " 'digiPhRawEmpty1',\n",
       " 'digiPhRawCaloFwd0',\n",
       " 'digiPhRawCaloFwd1',\n",
       " 'digiPhRawCaloFwd2',\n",
       " 'digiPhRawCaloFwd3',\n",
       " 'digiPhRawCaloFwd4',\n",
       " 'digiPhRawCaloFwd5',\n",
       " 'digiPhRawCaloFwd6',\n",
       " 'digiPhRawCaloFwd7',\n",
       " 'digiPhRawCaloFwd8',\n",
       " 'digiPhRawCaloLat0',\n",
       " 'digiPhRawCaloLat1',\n",
       " 'digiPhRawCaloLat4',\n",
       " 'digiPhRawCaloLat5',\n",
       " 'digiPhRawCaloLat6',\n",
       " 'digiPhRawCaloLat7',\n",
       " 'digiPhRawCaloLat8',\n",
       " 'digiPhRawSiPM0',\n",
       " 'digiPhRawSiPM1',\n",
       " 'digiPhRawSiPM2',\n",
       " 'digiPhRawSiPM3',\n",
       " 'digiPhRawEmpty2',\n",
       " 'digiPhRawCounterOut',\n",
       " 'digiPhRawMCP0',\n",
       " 'digiPhRawMCP1',\n",
       " 'digiTimeEmpty0',\n",
       " 'digiTimeVeto',\n",
       " 'digiTimeCaloLat2',\n",
       " 'digiTimeCaloLat3',\n",
       " 'digiTimeVetoSmall',\n",
       " 'digiTimeCounterOutSmall',\n",
       " 'digiTimeCounterBeforeMagnet',\n",
       " 'digiTimeEmpty1',\n",
       " 'digiTimeCaloFwd0',\n",
       " 'digiTimeCaloFwd1',\n",
       " 'digiTimeCaloFwd2',\n",
       " 'digiTimeCaloFwd3',\n",
       " 'digiTimeCaloFwd4',\n",
       " 'digiTimeCaloFwd5',\n",
       " 'digiTimeCaloFwd6',\n",
       " 'digiTimeCaloFwd7',\n",
       " 'digiTimeCaloFwd8',\n",
       " 'digiTimeCaloLat0',\n",
       " 'digiTimeCaloLat1',\n",
       " 'digiTimeCaloLat4',\n",
       " 'digiTimeCaloLat5',\n",
       " 'digiTimeCaloLat6',\n",
       " 'digiTimeCaloLat7',\n",
       " 'digiTimeCaloLat8',\n",
       " 'digiTimeSiPM0',\n",
       " 'digiTimeSiPM1',\n",
       " 'digiTimeSiPM2',\n",
       " 'digiTimeSiPM3',\n",
       " 'digiTimeEmpty2',\n",
       " 'digiTimeCounterOut',\n",
       " 'digiTimeMCP0',\n",
       " 'digiTimeMCP1',\n",
       " 'xGonioRawRot',\n",
       " 'xGonioRawCrad',\n",
       " 'xGonioRawHorsa',\n",
       " 'xGonioRawHorsaBig',\n",
       " 'xGonioRawVersa',\n",
       " 'iSpill',\n",
       " 'iStep',\n",
       " 'eventNumber',\n",
       " 'wfSiPM0_0',\n",
       " 'wfSiPM0_1',\n",
       " 'wfSiPM0_2',\n",
       " 'wfSiPM0_3',\n",
       " 'wfSiPM0_4',\n",
       " 'wfSiPM0_5',\n",
       " 'wfSiPM0_6',\n",
       " 'wfSiPM0_7',\n",
       " 'wfSiPM0_8',\n",
       " 'wfSiPM0_9',\n",
       " 'wfSiPM0_10',\n",
       " 'wfSiPM0_11',\n",
       " 'wfSiPM0_12',\n",
       " 'wfSiPM0_13',\n",
       " 'wfSiPM0_14',\n",
       " 'wfSiPM0_15',\n",
       " 'wfSiPM0_16',\n",
       " 'wfSiPM0_17',\n",
       " 'wfSiPM0_18',\n",
       " 'wfSiPM0_19',\n",
       " 'wfSiPM0_20',\n",
       " 'wfSiPM0_21',\n",
       " 'wfSiPM0_22',\n",
       " 'wfSiPM0_23',\n",
       " 'wfSiPM0_24',\n",
       " 'wfSiPM0_25',\n",
       " 'wfSiPM0_26',\n",
       " 'wfSiPM0_27',\n",
       " 'wfSiPM0_28',\n",
       " 'wfSiPM0_29',\n",
       " 'wfSiPM0_30',\n",
       " 'wfSiPM0_31',\n",
       " 'wfSiPM0_32',\n",
       " 'wfSiPM0_33',\n",
       " 'wfSiPM0_34',\n",
       " 'wfSiPM0_35',\n",
       " 'wfSiPM0_36',\n",
       " 'wfSiPM0_37',\n",
       " 'wfSiPM0_38',\n",
       " 'wfSiPM0_39',\n",
       " 'wfSiPM0_40',\n",
       " 'wfSiPM0_41',\n",
       " 'wfSiPM0_42',\n",
       " 'wfSiPM0_43',\n",
       " 'wfSiPM0_44',\n",
       " 'wfSiPM0_45',\n",
       " 'wfSiPM0_46',\n",
       " 'wfSiPM0_47',\n",
       " 'wfSiPM0_48',\n",
       " 'wfSiPM0_49',\n",
       " 'wfSiPM0_50',\n",
       " 'wfSiPM0_51',\n",
       " 'wfSiPM0_52',\n",
       " 'wfSiPM0_53',\n",
       " 'wfSiPM0_54',\n",
       " 'wfSiPM0_55',\n",
       " 'wfSiPM0_56',\n",
       " 'wfSiPM0_57',\n",
       " 'wfSiPM0_58',\n",
       " 'wfSiPM0_59',\n",
       " 'wfSiPM0_60',\n",
       " 'wfSiPM0_61',\n",
       " 'wfSiPM0_62',\n",
       " 'wfSiPM0_63',\n",
       " 'wfSiPM0_64',\n",
       " 'wfSiPM0_65',\n",
       " 'wfSiPM0_66',\n",
       " 'wfSiPM0_67',\n",
       " 'wfSiPM0_68',\n",
       " 'wfSiPM0_69',\n",
       " 'wfSiPM0_70',\n",
       " 'wfSiPM0_71',\n",
       " 'wfSiPM0_72',\n",
       " 'wfSiPM0_73',\n",
       " 'wfSiPM0_74',\n",
       " 'wfSiPM0_75',\n",
       " 'wfSiPM0_76',\n",
       " 'wfSiPM0_77',\n",
       " 'wfSiPM0_78',\n",
       " 'wfSiPM0_79',\n",
       " 'wfSiPM0_80',\n",
       " 'wfSiPM0_81',\n",
       " 'wfSiPM0_82',\n",
       " 'wfSiPM0_83',\n",
       " 'wfSiPM0_84',\n",
       " 'wfSiPM0_85',\n",
       " 'wfSiPM0_86',\n",
       " 'wfSiPM0_87',\n",
       " 'wfSiPM0_88',\n",
       " 'wfSiPM0_89',\n",
       " 'wfSiPM0_90',\n",
       " 'wfSiPM0_91',\n",
       " 'wfSiPM0_92',\n",
       " 'wfSiPM0_93',\n",
       " 'wfSiPM0_94',\n",
       " 'wfSiPM0_95',\n",
       " 'wfSiPM0_96',\n",
       " 'wfSiPM0_97',\n",
       " 'wfSiPM0_98',\n",
       " 'wfSiPM0_99',\n",
       " 'wfSiPM0_100',\n",
       " 'wfSiPM0_101',\n",
       " 'wfSiPM0_102',\n",
       " 'wfSiPM0_103',\n",
       " 'wfSiPM0_104',\n",
       " 'wfSiPM0_105',\n",
       " 'wfSiPM0_106',\n",
       " 'wfSiPM0_107',\n",
       " 'wfSiPM0_108',\n",
       " 'wfSiPM0_109',\n",
       " 'wfSiPM0_110',\n",
       " 'wfSiPM0_111',\n",
       " 'wfSiPM0_112',\n",
       " 'wfSiPM0_113',\n",
       " 'wfSiPM0_114',\n",
       " 'wfSiPM0_115',\n",
       " 'wfSiPM0_116',\n",
       " 'wfSiPM0_117',\n",
       " 'wfSiPM0_118',\n",
       " 'wfSiPM0_119',\n",
       " 'wfSiPM0_120',\n",
       " 'wfSiPM0_121',\n",
       " 'wfSiPM0_122',\n",
       " 'wfSiPM0_123',\n",
       " 'wfSiPM0_124',\n",
       " 'wfSiPM0_125',\n",
       " 'wfSiPM0_126',\n",
       " 'wfSiPM0_127',\n",
       " 'wfSiPM0_128',\n",
       " 'wfSiPM0_129',\n",
       " 'wfSiPM0_130',\n",
       " 'wfSiPM0_131',\n",
       " 'wfSiPM0_132',\n",
       " 'wfSiPM0_133',\n",
       " 'wfSiPM0_134',\n",
       " 'wfSiPM0_135',\n",
       " 'wfSiPM0_136',\n",
       " 'wfSiPM0_137',\n",
       " 'wfSiPM0_138',\n",
       " 'wfSiPM0_139',\n",
       " 'wfSiPM0_140',\n",
       " 'wfSiPM0_141',\n",
       " 'wfSiPM0_142',\n",
       " 'wfSiPM0_143',\n",
       " 'wfSiPM0_144',\n",
       " 'wfSiPM0_145',\n",
       " 'wfSiPM0_146',\n",
       " 'wfSiPM0_147',\n",
       " 'wfSiPM0_148',\n",
       " 'wfSiPM0_149',\n",
       " 'wfSiPM0_150',\n",
       " 'wfSiPM0_151',\n",
       " 'wfSiPM0_152',\n",
       " 'wfSiPM0_153',\n",
       " 'wfSiPM0_154',\n",
       " 'wfSiPM0_155',\n",
       " 'wfSiPM0_156',\n",
       " 'wfSiPM0_157',\n",
       " 'wfSiPM0_158',\n",
       " 'wfSiPM0_159',\n",
       " 'wfSiPM0_160',\n",
       " 'wfSiPM0_161',\n",
       " 'wfSiPM0_162',\n",
       " 'wfSiPM0_163',\n",
       " 'wfSiPM0_164',\n",
       " 'wfSiPM0_165',\n",
       " 'wfSiPM0_166',\n",
       " 'wfSiPM0_167',\n",
       " 'wfSiPM0_168',\n",
       " 'wfSiPM0_169',\n",
       " 'wfSiPM0_170',\n",
       " 'wfSiPM0_171',\n",
       " 'wfSiPM0_172',\n",
       " 'wfSiPM0_173',\n",
       " 'wfSiPM0_174',\n",
       " 'wfSiPM0_175',\n",
       " 'wfSiPM0_176',\n",
       " 'wfSiPM0_177',\n",
       " 'wfSiPM0_178',\n",
       " 'wfSiPM0_179',\n",
       " 'wfSiPM0_180',\n",
       " 'wfSiPM0_181',\n",
       " 'wfSiPM0_182',\n",
       " 'wfSiPM0_183',\n",
       " 'wfSiPM0_184',\n",
       " 'wfSiPM0_185',\n",
       " 'wfSiPM0_186',\n",
       " 'wfSiPM0_187',\n",
       " 'wfSiPM0_188',\n",
       " 'wfSiPM0_189',\n",
       " 'wfSiPM0_190',\n",
       " 'wfSiPM0_191',\n",
       " 'wfSiPM0_192',\n",
       " 'wfSiPM0_193',\n",
       " 'wfSiPM0_194',\n",
       " 'wfSiPM0_195',\n",
       " 'wfSiPM0_196',\n",
       " 'wfSiPM0_197',\n",
       " 'wfSiPM0_198',\n",
       " 'wfSiPM0_199',\n",
       " 'wfSiPM0_200',\n",
       " 'wfSiPM0_201',\n",
       " 'wfSiPM0_202',\n",
       " 'wfSiPM0_203',\n",
       " 'wfSiPM0_204',\n",
       " 'wfSiPM0_205',\n",
       " 'wfSiPM0_206',\n",
       " 'wfSiPM0_207',\n",
       " 'wfSiPM0_208',\n",
       " 'wfSiPM0_209',\n",
       " 'wfSiPM0_210',\n",
       " 'wfSiPM0_211',\n",
       " 'wfSiPM0_212',\n",
       " 'wfSiPM0_213',\n",
       " 'wfSiPM0_214',\n",
       " 'wfSiPM0_215',\n",
       " 'wfSiPM0_216',\n",
       " 'wfSiPM0_217',\n",
       " 'wfSiPM0_218',\n",
       " 'wfSiPM0_219',\n",
       " 'wfSiPM0_220',\n",
       " 'wfSiPM0_221',\n",
       " 'wfSiPM0_222',\n",
       " 'wfSiPM0_223',\n",
       " 'wfSiPM0_224',\n",
       " 'wfSiPM0_225',\n",
       " 'wfSiPM0_226',\n",
       " 'wfSiPM0_227',\n",
       " 'wfSiPM0_228',\n",
       " 'wfSiPM0_229',\n",
       " 'wfSiPM0_230',\n",
       " 'wfSiPM0_231',\n",
       " 'wfSiPM0_232',\n",
       " 'wfSiPM0_233',\n",
       " 'wfSiPM0_234',\n",
       " 'wfSiPM0_235',\n",
       " 'wfSiPM0_236',\n",
       " 'wfSiPM0_237',\n",
       " 'wfSiPM0_238',\n",
       " 'wfSiPM0_239',\n",
       " 'wfSiPM0_240',\n",
       " 'wfSiPM0_241',\n",
       " 'wfSiPM0_242',\n",
       " 'wfSiPM0_243',\n",
       " 'wfSiPM0_244',\n",
       " 'wfSiPM0_245',\n",
       " 'wfSiPM0_246',\n",
       " 'wfSiPM0_247',\n",
       " 'wfSiPM0_248',\n",
       " 'wfSiPM0_249',\n",
       " 'wfSiPM0_250',\n",
       " 'wfSiPM0_251',\n",
       " 'wfSiPM0_252',\n",
       " 'wfSiPM0_253',\n",
       " 'wfSiPM0_254',\n",
       " 'wfSiPM0_255',\n",
       " 'wfSiPM0_256',\n",
       " 'wfSiPM0_257',\n",
       " 'wfSiPM0_258',\n",
       " 'wfSiPM0_259',\n",
       " 'wfSiPM0_260',\n",
       " 'wfSiPM0_261',\n",
       " 'wfSiPM0_262',\n",
       " 'wfSiPM0_263',\n",
       " 'wfSiPM0_264',\n",
       " 'wfSiPM0_265',\n",
       " 'wfSiPM0_266',\n",
       " 'wfSiPM0_267',\n",
       " 'wfSiPM0_268',\n",
       " 'wfSiPM0_269',\n",
       " 'wfSiPM0_270',\n",
       " 'wfSiPM0_271',\n",
       " 'wfSiPM0_272',\n",
       " 'wfSiPM0_273',\n",
       " 'wfSiPM0_274',\n",
       " 'wfSiPM0_275',\n",
       " 'wfSiPM0_276',\n",
       " 'wfSiPM0_277',\n",
       " 'wfSiPM0_278',\n",
       " 'wfSiPM0_279',\n",
       " 'wfSiPM0_280',\n",
       " 'wfSiPM0_281',\n",
       " 'wfSiPM0_282',\n",
       " 'wfSiPM0_283',\n",
       " 'wfSiPM0_284',\n",
       " 'wfSiPM0_285',\n",
       " 'wfSiPM0_286',\n",
       " 'wfSiPM0_287',\n",
       " 'wfSiPM0_288',\n",
       " 'wfSiPM0_289',\n",
       " 'wfSiPM0_290',\n",
       " 'wfSiPM0_291',\n",
       " 'wfSiPM0_292',\n",
       " 'wfSiPM0_293',\n",
       " 'wfSiPM0_294',\n",
       " 'wfSiPM0_295',\n",
       " 'wfSiPM0_296',\n",
       " 'wfSiPM0_297',\n",
       " 'wfSiPM0_298',\n",
       " 'wfSiPM0_299',\n",
       " 'wfSiPM0_300',\n",
       " 'wfSiPM0_301',\n",
       " 'wfSiPM0_302',\n",
       " 'wfSiPM0_303',\n",
       " 'wfSiPM0_304',\n",
       " 'wfSiPM0_305',\n",
       " 'wfSiPM0_306',\n",
       " 'wfSiPM0_307',\n",
       " 'wfSiPM0_308',\n",
       " 'wfSiPM0_309',\n",
       " 'wfSiPM0_310',\n",
       " 'wfSiPM0_311',\n",
       " 'wfSiPM0_312',\n",
       " 'wfSiPM0_313',\n",
       " 'wfSiPM0_314',\n",
       " 'wfSiPM0_315',\n",
       " 'wfSiPM0_316',\n",
       " 'wfSiPM0_317',\n",
       " 'wfSiPM0_318',\n",
       " 'wfSiPM0_319',\n",
       " 'wfSiPM0_320',\n",
       " 'wfSiPM0_321',\n",
       " 'wfSiPM0_322',\n",
       " 'wfSiPM0_323',\n",
       " 'wfSiPM0_324',\n",
       " 'wfSiPM0_325',\n",
       " 'wfSiPM0_326',\n",
       " 'wfSiPM0_327',\n",
       " 'wfSiPM0_328',\n",
       " 'wfSiPM0_329',\n",
       " 'wfSiPM0_330',\n",
       " 'wfSiPM0_331',\n",
       " 'wfSiPM0_332',\n",
       " 'wfSiPM0_333',\n",
       " 'wfSiPM0_334',\n",
       " 'wfSiPM0_335',\n",
       " 'wfSiPM0_336',\n",
       " 'wfSiPM0_337',\n",
       " 'wfSiPM0_338',\n",
       " 'wfSiPM0_339',\n",
       " 'wfSiPM0_340',\n",
       " 'wfSiPM0_341',\n",
       " 'wfSiPM0_342',\n",
       " 'wfSiPM0_343',\n",
       " 'wfSiPM0_344',\n",
       " 'wfSiPM0_345',\n",
       " 'wfSiPM0_346',\n",
       " 'wfSiPM0_347',\n",
       " 'wfSiPM0_348',\n",
       " 'wfSiPM0_349',\n",
       " 'wfSiPM0_350',\n",
       " 'wfSiPM0_351',\n",
       " 'wfSiPM0_352',\n",
       " 'wfSiPM0_353',\n",
       " 'wfSiPM0_354',\n",
       " 'wfSiPM0_355',\n",
       " 'wfSiPM0_356',\n",
       " 'wfSiPM0_357',\n",
       " 'wfSiPM0_358',\n",
       " 'wfSiPM0_359',\n",
       " 'wfSiPM0_360',\n",
       " 'wfSiPM0_361',\n",
       " 'wfSiPM0_362',\n",
       " 'wfSiPM0_363',\n",
       " 'wfSiPM0_364',\n",
       " 'wfSiPM0_365',\n",
       " 'wfSiPM0_366',\n",
       " 'wfSiPM0_367',\n",
       " 'wfSiPM0_368',\n",
       " 'wfSiPM0_369',\n",
       " 'wfSiPM0_370',\n",
       " 'wfSiPM0_371',\n",
       " 'wfSiPM0_372',\n",
       " 'wfSiPM0_373',\n",
       " 'wfSiPM0_374',\n",
       " 'wfSiPM0_375',\n",
       " 'wfSiPM0_376',\n",
       " 'wfSiPM0_377',\n",
       " 'wfSiPM0_378',\n",
       " 'wfSiPM0_379',\n",
       " 'wfSiPM0_380',\n",
       " 'wfSiPM0_381',\n",
       " 'wfSiPM0_382',\n",
       " 'wfSiPM0_383',\n",
       " 'wfSiPM0_384',\n",
       " 'wfSiPM0_385',\n",
       " 'wfSiPM0_386',\n",
       " 'wfSiPM0_387',\n",
       " 'wfSiPM0_388',\n",
       " 'wfSiPM0_389',\n",
       " 'wfSiPM0_390',\n",
       " 'wfSiPM0_391',\n",
       " 'wfSiPM0_392',\n",
       " 'wfSiPM0_393',\n",
       " 'wfSiPM0_394',\n",
       " 'wfSiPM0_395',\n",
       " 'wfSiPM0_396',\n",
       " 'wfSiPM0_397',\n",
       " 'wfSiPM0_398',\n",
       " 'wfSiPM0_399',\n",
       " 'wfSiPM0_400',\n",
       " 'wfSiPM0_401',\n",
       " 'wfSiPM0_402',\n",
       " 'wfSiPM0_403',\n",
       " 'wfSiPM0_404',\n",
       " 'wfSiPM0_405',\n",
       " 'wfSiPM0_406',\n",
       " 'wfSiPM0_407',\n",
       " 'wfSiPM0_408',\n",
       " 'wfSiPM0_409',\n",
       " 'wfSiPM0_410',\n",
       " 'wfSiPM0_411',\n",
       " 'wfSiPM0_412',\n",
       " 'wfSiPM0_413',\n",
       " 'wfSiPM0_414',\n",
       " 'wfSiPM0_415',\n",
       " 'wfSiPM0_416',\n",
       " 'wfSiPM0_417',\n",
       " 'wfSiPM0_418',\n",
       " 'wfSiPM0_419',\n",
       " 'wfSiPM0_420',\n",
       " 'wfSiPM0_421',\n",
       " 'wfSiPM0_422',\n",
       " 'wfSiPM0_423',\n",
       " 'wfSiPM0_424',\n",
       " 'wfSiPM0_425',\n",
       " 'wfSiPM0_426',\n",
       " 'wfSiPM0_427',\n",
       " 'wfSiPM0_428',\n",
       " 'wfSiPM0_429',\n",
       " 'wfSiPM0_430',\n",
       " 'wfSiPM0_431',\n",
       " 'wfSiPM0_432',\n",
       " 'wfSiPM0_433',\n",
       " 'wfSiPM0_434',\n",
       " 'wfSiPM0_435',\n",
       " 'wfSiPM0_436',\n",
       " 'wfSiPM0_437',\n",
       " 'wfSiPM0_438',\n",
       " 'wfSiPM0_439',\n",
       " 'wfSiPM0_440',\n",
       " 'wfSiPM0_441',\n",
       " 'wfSiPM0_442',\n",
       " 'wfSiPM0_443',\n",
       " 'wfSiPM0_444',\n",
       " 'wfSiPM0_445',\n",
       " 'wfSiPM0_446',\n",
       " 'wfSiPM0_447',\n",
       " 'wfSiPM0_448',\n",
       " 'wfSiPM0_449',\n",
       " 'wfSiPM0_450',\n",
       " 'wfSiPM0_451',\n",
       " 'wfSiPM0_452',\n",
       " 'wfSiPM0_453',\n",
       " 'wfSiPM0_454',\n",
       " 'wfSiPM0_455',\n",
       " 'wfSiPM0_456',\n",
       " 'wfSiPM0_457',\n",
       " 'wfSiPM0_458',\n",
       " 'wfSiPM0_459',\n",
       " 'wfSiPM0_460',\n",
       " 'wfSiPM0_461',\n",
       " 'wfSiPM0_462',\n",
       " 'wfSiPM0_463',\n",
       " 'wfSiPM0_464',\n",
       " 'wfSiPM0_465',\n",
       " 'wfSiPM0_466',\n",
       " 'wfSiPM0_467',\n",
       " 'wfSiPM0_468',\n",
       " 'wfSiPM0_469',\n",
       " 'wfSiPM0_470',\n",
       " 'wfSiPM0_471',\n",
       " 'wfSiPM0_472',\n",
       " 'wfSiPM0_473',\n",
       " 'wfSiPM0_474',\n",
       " 'wfSiPM0_475',\n",
       " 'wfSiPM0_476',\n",
       " 'wfSiPM0_477',\n",
       " 'wfSiPM0_478',\n",
       " 'wfSiPM0_479',\n",
       " 'wfSiPM0_480',\n",
       " 'wfSiPM0_481',\n",
       " 'wfSiPM0_482',\n",
       " 'wfSiPM0_483',\n",
       " 'wfSiPM0_484',\n",
       " 'wfSiPM0_485',\n",
       " 'wfSiPM0_486',\n",
       " 'wfSiPM0_487',\n",
       " 'wfSiPM0_488',\n",
       " 'wfSiPM0_489',\n",
       " 'wfSiPM0_490',\n",
       " 'wfSiPM0_491',\n",
       " 'wfSiPM0_492',\n",
       " 'wfSiPM0_493',\n",
       " 'wfSiPM0_494',\n",
       " 'wfSiPM0_495',\n",
       " 'wfSiPM0_496',\n",
       " 'wfSiPM0_497',\n",
       " 'wfSiPM0_498',\n",
       " 'wfSiPM0_499',\n",
       " 'wfSiPM0_500',\n",
       " 'wfSiPM0_501',\n",
       " 'wfSiPM0_502',\n",
       " 'wfSiPM0_503',\n",
       " 'wfSiPM0_504',\n",
       " 'wfSiPM0_505',\n",
       " 'wfSiPM0_506',\n",
       " 'wfSiPM0_507',\n",
       " 'wfSiPM0_508',\n",
       " 'wfSiPM0_509',\n",
       " 'wfSiPM0_510',\n",
       " 'wfSiPM0_511',\n",
       " 'wfSiPM0_512',\n",
       " 'wfSiPM0_513',\n",
       " 'wfSiPM0_514',\n",
       " 'wfSiPM0_515',\n",
       " 'wfSiPM0_516',\n",
       " 'wfSiPM0_517',\n",
       " 'wfSiPM0_518',\n",
       " 'wfSiPM0_519',\n",
       " 'wfSiPM0_520',\n",
       " 'wfSiPM0_521',\n",
       " 'wfSiPM0_522',\n",
       " 'wfSiPM0_523',\n",
       " 'wfSiPM0_524',\n",
       " 'wfSiPM0_525',\n",
       " 'wfSiPM0_526',\n",
       " 'wfSiPM0_527',\n",
       " 'wfSiPM0_528',\n",
       " 'wfSiPM0_529',\n",
       " 'wfSiPM0_530',\n",
       " 'wfSiPM0_531',\n",
       " 'wfSiPM0_532',\n",
       " 'wfSiPM0_533',\n",
       " 'wfSiPM0_534',\n",
       " 'wfSiPM0_535',\n",
       " 'wfSiPM0_536',\n",
       " 'wfSiPM0_537',\n",
       " 'wfSiPM0_538',\n",
       " 'wfSiPM0_539',\n",
       " 'wfSiPM0_540',\n",
       " 'wfSiPM0_541',\n",
       " 'wfSiPM0_542',\n",
       " 'wfSiPM0_543',\n",
       " 'wfSiPM0_544',\n",
       " 'wfSiPM0_545',\n",
       " 'wfSiPM0_546',\n",
       " 'wfSiPM0_547',\n",
       " 'wfSiPM0_548',\n",
       " 'wfSiPM0_549',\n",
       " 'wfSiPM0_550',\n",
       " 'wfSiPM0_551',\n",
       " 'wfSiPM0_552',\n",
       " 'wfSiPM0_553',\n",
       " 'wfSiPM0_554',\n",
       " 'wfSiPM0_555',\n",
       " 'wfSiPM0_556',\n",
       " 'wfSiPM0_557',\n",
       " 'wfSiPM0_558',\n",
       " 'wfSiPM0_559',\n",
       " 'wfSiPM0_560',\n",
       " 'wfSiPM0_561',\n",
       " 'wfSiPM0_562',\n",
       " 'wfSiPM0_563',\n",
       " 'wfSiPM0_564',\n",
       " 'wfSiPM0_565',\n",
       " 'wfSiPM0_566',\n",
       " 'wfSiPM0_567',\n",
       " 'wfSiPM0_568',\n",
       " 'wfSiPM0_569',\n",
       " 'wfSiPM0_570',\n",
       " 'wfSiPM0_571',\n",
       " 'wfSiPM0_572',\n",
       " 'wfSiPM0_573',\n",
       " 'wfSiPM0_574',\n",
       " 'wfSiPM0_575',\n",
       " 'wfSiPM0_576',\n",
       " 'wfSiPM0_577',\n",
       " 'wfSiPM0_578',\n",
       " 'wfSiPM0_579',\n",
       " 'wfSiPM0_580',\n",
       " 'wfSiPM0_581',\n",
       " 'wfSiPM0_582',\n",
       " 'wfSiPM0_583',\n",
       " 'wfSiPM0_584',\n",
       " 'wfSiPM0_585',\n",
       " 'wfSiPM0_586',\n",
       " 'wfSiPM0_587',\n",
       " 'wfSiPM0_588',\n",
       " 'wfSiPM0_589',\n",
       " 'wfSiPM0_590',\n",
       " 'wfSiPM0_591',\n",
       " 'wfSiPM0_592',\n",
       " 'wfSiPM0_593',\n",
       " 'wfSiPM0_594',\n",
       " 'wfSiPM0_595',\n",
       " 'wfSiPM0_596',\n",
       " 'wfSiPM0_597',\n",
       " 'wfSiPM0_598',\n",
       " 'wfSiPM0_599',\n",
       " 'wfSiPM0_600',\n",
       " 'wfSiPM0_601',\n",
       " 'wfSiPM0_602',\n",
       " 'wfSiPM0_603',\n",
       " 'wfSiPM0_604',\n",
       " 'wfSiPM0_605',\n",
       " 'wfSiPM0_606',\n",
       " 'wfSiPM0_607',\n",
       " 'wfSiPM0_608',\n",
       " 'wfSiPM0_609',\n",
       " 'wfSiPM0_610',\n",
       " 'wfSiPM0_611',\n",
       " 'wfSiPM0_612',\n",
       " 'wfSiPM0_613',\n",
       " 'wfSiPM0_614',\n",
       " 'wfSiPM0_615',\n",
       " 'wfSiPM0_616',\n",
       " 'wfSiPM0_617',\n",
       " 'wfSiPM0_618',\n",
       " 'wfSiPM0_619',\n",
       " 'wfSiPM0_620',\n",
       " 'wfSiPM0_621',\n",
       " 'wfSiPM0_622',\n",
       " 'wfSiPM0_623',\n",
       " 'wfSiPM0_624',\n",
       " 'wfSiPM0_625',\n",
       " 'wfSiPM0_626',\n",
       " 'wfSiPM0_627',\n",
       " 'wfSiPM0_628',\n",
       " 'wfSiPM0_629',\n",
       " 'wfSiPM0_630',\n",
       " 'wfSiPM0_631',\n",
       " 'wfSiPM0_632',\n",
       " 'wfSiPM0_633',\n",
       " 'wfSiPM0_634',\n",
       " 'wfSiPM0_635',\n",
       " 'wfSiPM0_636',\n",
       " 'wfSiPM0_637',\n",
       " 'wfSiPM0_638',\n",
       " 'wfSiPM0_639',\n",
       " 'wfSiPM0_640',\n",
       " 'wfSiPM0_641',\n",
       " 'wfSiPM0_642',\n",
       " 'wfSiPM0_643',\n",
       " 'wfSiPM0_644',\n",
       " 'wfSiPM0_645',\n",
       " 'wfSiPM0_646',\n",
       " 'wfSiPM0_647',\n",
       " 'wfSiPM0_648',\n",
       " 'wfSiPM0_649',\n",
       " 'wfSiPM0_650',\n",
       " 'wfSiPM0_651',\n",
       " 'wfSiPM0_652',\n",
       " 'wfSiPM0_653',\n",
       " 'wfSiPM0_654',\n",
       " 'wfSiPM0_655',\n",
       " 'wfSiPM0_656',\n",
       " 'wfSiPM0_657',\n",
       " 'wfSiPM0_658',\n",
       " 'wfSiPM0_659',\n",
       " 'wfSiPM0_660',\n",
       " 'wfSiPM0_661',\n",
       " 'wfSiPM0_662',\n",
       " 'wfSiPM0_663',\n",
       " 'wfSiPM0_664',\n",
       " 'wfSiPM0_665',\n",
       " 'wfSiPM0_666',\n",
       " 'wfSiPM0_667',\n",
       " 'wfSiPM0_668',\n",
       " 'wfSiPM0_669',\n",
       " 'wfSiPM0_670',\n",
       " 'wfSiPM0_671',\n",
       " 'wfSiPM0_672',\n",
       " 'wfSiPM0_673',\n",
       " 'wfSiPM0_674',\n",
       " 'wfSiPM0_675',\n",
       " 'wfSiPM0_676',\n",
       " 'wfSiPM0_677',\n",
       " 'wfSiPM0_678',\n",
       " 'wfSiPM0_679',\n",
       " 'wfSiPM0_680',\n",
       " 'wfSiPM0_681',\n",
       " 'wfSiPM0_682',\n",
       " 'wfSiPM0_683',\n",
       " 'wfSiPM0_684',\n",
       " 'wfSiPM0_685',\n",
       " 'wfSiPM0_686',\n",
       " 'wfSiPM0_687',\n",
       " 'wfSiPM0_688',\n",
       " 'wfSiPM0_689',\n",
       " 'wfSiPM0_690',\n",
       " 'wfSiPM0_691',\n",
       " 'wfSiPM0_692',\n",
       " 'wfSiPM0_693',\n",
       " 'wfSiPM0_694',\n",
       " 'wfSiPM0_695',\n",
       " 'wfSiPM0_696',\n",
       " 'wfSiPM0_697',\n",
       " 'wfSiPM0_698',\n",
       " 'wfSiPM0_699',\n",
       " 'wfSiPM0_700',\n",
       " 'wfSiPM0_701',\n",
       " 'wfSiPM0_702',\n",
       " 'wfSiPM0_703',\n",
       " 'wfSiPM0_704',\n",
       " 'wfSiPM0_705',\n",
       " 'wfSiPM0_706',\n",
       " 'wfSiPM0_707',\n",
       " 'wfSiPM0_708',\n",
       " 'wfSiPM0_709',\n",
       " 'wfSiPM0_710',\n",
       " 'wfSiPM0_711',\n",
       " 'wfSiPM0_712',\n",
       " 'wfSiPM0_713',\n",
       " 'wfSiPM0_714',\n",
       " 'wfSiPM0_715',\n",
       " 'wfSiPM0_716',\n",
       " 'wfSiPM0_717',\n",
       " 'wfSiPM0_718',\n",
       " 'wfSiPM0_719',\n",
       " 'wfSiPM0_720',\n",
       " 'wfSiPM0_721',\n",
       " 'wfSiPM0_722',\n",
       " 'wfSiPM0_723',\n",
       " 'wfSiPM0_724',\n",
       " 'wfSiPM0_725',\n",
       " 'wfSiPM0_726',\n",
       " 'wfSiPM0_727',\n",
       " 'wfSiPM0_728',\n",
       " 'wfSiPM0_729',\n",
       " 'wfSiPM0_730',\n",
       " 'wfSiPM0_731',\n",
       " 'wfSiPM0_732',\n",
       " 'wfSiPM0_733',\n",
       " 'wfSiPM0_734',\n",
       " 'wfSiPM0_735',\n",
       " 'wfSiPM0_736',\n",
       " 'wfSiPM0_737',\n",
       " 'wfSiPM0_738',\n",
       " 'wfSiPM0_739',\n",
       " 'wfSiPM0_740',\n",
       " 'wfSiPM0_741',\n",
       " 'wfSiPM0_742',\n",
       " 'wfSiPM0_743',\n",
       " 'wfSiPM0_744',\n",
       " 'wfSiPM0_745',\n",
       " 'wfSiPM0_746',\n",
       " 'wfSiPM0_747',\n",
       " 'wfSiPM0_748',\n",
       " 'wfSiPM0_749',\n",
       " 'wfSiPM0_750',\n",
       " 'wfSiPM0_751',\n",
       " 'wfSiPM0_752',\n",
       " 'wfSiPM0_753',\n",
       " 'wfSiPM0_754',\n",
       " 'wfSiPM0_755',\n",
       " 'wfSiPM0_756',\n",
       " 'wfSiPM0_757',\n",
       " 'wfSiPM0_758',\n",
       " 'wfSiPM0_759',\n",
       " 'wfSiPM0_760',\n",
       " 'wfSiPM0_761',\n",
       " 'wfSiPM0_762',\n",
       " 'wfSiPM0_763',\n",
       " 'wfSiPM0_764',\n",
       " 'wfSiPM0_765',\n",
       " 'wfSiPM0_766',\n",
       " 'wfSiPM0_767',\n",
       " 'wfSiPM0_768',\n",
       " 'wfSiPM0_769',\n",
       " 'wfSiPM0_770',\n",
       " 'wfSiPM0_771',\n",
       " 'wfSiPM0_772',\n",
       " 'wfSiPM0_773',\n",
       " 'wfSiPM0_774',\n",
       " 'wfSiPM0_775',\n",
       " 'wfSiPM0_776',\n",
       " 'wfSiPM0_777',\n",
       " 'wfSiPM0_778',\n",
       " 'wfSiPM0_779',\n",
       " 'wfSiPM0_780',\n",
       " 'wfSiPM0_781',\n",
       " 'wfSiPM0_782',\n",
       " 'wfSiPM0_783',\n",
       " 'wfSiPM0_784',\n",
       " 'wfSiPM0_785',\n",
       " 'wfSiPM0_786',\n",
       " 'wfSiPM0_787',\n",
       " 'wfSiPM0_788',\n",
       " 'wfSiPM0_789',\n",
       " 'wfSiPM0_790',\n",
       " 'wfSiPM0_791',\n",
       " 'wfSiPM0_792',\n",
       " 'wfSiPM0_793',\n",
       " 'wfSiPM0_794',\n",
       " 'wfSiPM0_795',\n",
       " 'wfSiPM0_796',\n",
       " 'wfSiPM0_797',\n",
       " 'wfSiPM0_798',\n",
       " 'wfSiPM0_799',\n",
       " 'wfSiPM0_800',\n",
       " 'wfSiPM0_801',\n",
       " 'wfSiPM0_802',\n",
       " 'wfSiPM0_803',\n",
       " 'wfSiPM0_804',\n",
       " 'wfSiPM0_805',\n",
       " 'wfSiPM0_806',\n",
       " 'wfSiPM0_807',\n",
       " 'wfSiPM0_808',\n",
       " 'wfSiPM0_809',\n",
       " 'wfSiPM0_810',\n",
       " 'wfSiPM0_811',\n",
       " 'wfSiPM0_812',\n",
       " 'wfSiPM0_813',\n",
       " 'wfSiPM0_814',\n",
       " 'wfSiPM0_815',\n",
       " 'wfSiPM0_816',\n",
       " 'wfSiPM0_817',\n",
       " 'wfSiPM0_818',\n",
       " 'wfSiPM0_819',\n",
       " 'wfSiPM0_820',\n",
       " 'wfSiPM0_821',\n",
       " 'wfSiPM0_822',\n",
       " 'wfSiPM0_823',\n",
       " 'wfSiPM0_824',\n",
       " 'wfSiPM0_825',\n",
       " 'wfSiPM0_826',\n",
       " 'wfSiPM0_827',\n",
       " 'wfSiPM0_828',\n",
       " 'wfSiPM0_829',\n",
       " 'wfSiPM0_830',\n",
       " 'wfSiPM0_831',\n",
       " 'wfSiPM0_832',\n",
       " 'wfSiPM0_833',\n",
       " 'wfSiPM0_834',\n",
       " 'wfSiPM0_835',\n",
       " 'wfSiPM0_836',\n",
       " 'wfSiPM0_837',\n",
       " 'wfSiPM0_838',\n",
       " 'wfSiPM0_839',\n",
       " 'wfSiPM0_840',\n",
       " 'wfSiPM0_841',\n",
       " 'wfSiPM0_842',\n",
       " 'wfSiPM0_843',\n",
       " 'wfSiPM0_844',\n",
       " 'wfSiPM0_845',\n",
       " 'wfSiPM0_846',\n",
       " 'wfSiPM0_847',\n",
       " 'wfSiPM0_848',\n",
       " 'wfSiPM0_849',\n",
       " 'wfSiPM0_850',\n",
       " 'wfSiPM0_851',\n",
       " 'wfSiPM0_852',\n",
       " 'wfSiPM0_853',\n",
       " 'wfSiPM0_854',\n",
       " 'wfSiPM0_855',\n",
       " 'wfSiPM0_856',\n",
       " 'wfSiPM0_857',\n",
       " 'wfSiPM0_858',\n",
       " 'wfSiPM0_859',\n",
       " 'wfSiPM0_860',\n",
       " 'wfSiPM0_861',\n",
       " 'wfSiPM0_862',\n",
       " 'wfSiPM0_863',\n",
       " 'wfSiPM0_864',\n",
       " 'wfSiPM0_865',\n",
       " 'wfSiPM0_866',\n",
       " 'wfSiPM0_867',\n",
       " 'wfSiPM0_868',\n",
       " 'wfSiPM0_869',\n",
       " 'wfSiPM0_870',\n",
       " 'wfSiPM0_871',\n",
       " ...]"
      ]
     },
     "execution_count": 54,
     "metadata": {},
     "output_type": "execute_result"
    }
   ],
   "source": [
    "df.columns.tolist()"
   ]
  },
  {
   "cell_type": "code",
   "execution_count": null,
   "metadata": {},
   "outputs": [],
   "source": []
  },
  {
   "cell_type": "code",
   "execution_count": null,
   "metadata": {},
   "outputs": [],
   "source": []
  },
  {
   "cell_type": "markdown",
   "metadata": {},
   "source": [
    "---"
   ]
  },
  {
   "cell_type": "markdown",
   "metadata": {},
   "source": [
    "**stopping chronometer**"
   ]
  },
  {
   "cell_type": "code",
   "execution_count": 55,
   "metadata": {
    "jupyter": {
     "source_hidden": true
    }
   },
   "outputs": [
    {
     "name": "stdout",
     "output_type": "stream",
     "text": [
      "stop @ 2021-08-21 01:07:43 GMT\n",
      "total elapsed time (from last restart -- 2021-08-21 00:41:27 GMT): 0:26:16\n",
      "execution time info added to outData[execTime] -- start, stop, delta\n",
      "--\n"
     ]
    }
   ],
   "source": [
    "tStop = datetime.datetime.fromtimestamp(datetime.datetime.now().timestamp())  # stop chronometer\n",
    "tStopPrint = tStop.strftime(\"%Y-%m-%d %H:%M:%S GMT\")\n",
    "dt = tStop - tStart\n",
    "dtPrint = str(dt - datetime.timedelta(microseconds=dt.microseconds))\n",
    "print(\"stop @ %s\" % tStopPrint)\n",
    "print(\"total elapsed time (from last restart -- %s): %s\" % (tStartPrint, dtPrint))\n",
    "outData[\"execTime\"] = [tStart, tStop, dt]\n",
    "print(\"execution time info added to outData[\"\"execTime\"\"] -- start, stop, delta\\n--\")"
   ]
  },
  {
   "cell_type": "markdown",
   "metadata": {},
   "source": [
    "**(re)writing output data**"
   ]
  },
  {
   "cell_type": "code",
   "execution_count": 56,
   "metadata": {
    "jupyter": {
     "source_hidden": true
    }
   },
   "outputs": [
    {
     "name": "stdout",
     "output_type": "stream",
     "text": [
      "saving output dictionary outData to ./out_data/outData.pickle, with 1 entries\n",
      "--\n"
     ]
    }
   ],
   "source": [
    "# this is done to add the execTime entry, together with any other entry from the whiteboard\n",
    "globals().update(outData)\n",
    "saveOutData(globals())  # function in .modules\n",
    "print(\"--\")\n",
    "\n",
    "########\n",
    "# to open the Pickle file importing the anaKrys modules: \n",
    "#    outData = readOutData()  # function in .modules"
   ]
  }
 ],
 "metadata": {
  "kernelspec": {
   "display_name": "Python 3",
   "language": "python",
   "name": "python3"
  },
  "language_info": {
   "codemirror_mode": {
    "name": "ipython",
    "version": 3
   },
   "file_extension": ".py",
   "mimetype": "text/x-python",
   "name": "python",
   "nbconvert_exporter": "python",
   "pygments_lexer": "ipython3",
   "version": "3.8.8"
  }
 },
 "nbformat": 4,
 "nbformat_minor": 4
}
