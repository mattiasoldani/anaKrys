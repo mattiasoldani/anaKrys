{
 "cells": [
  {
   "cell_type": "markdown",
   "metadata": {},
   "source": [
    "# **anaKrys**\n",
    "\n",
    "(*version 2022.12.0*)"
   ]
  },
  {
   "cell_type": "markdown",
   "metadata": {},
   "source": [
    "**notebook settings & imports  (edit %matplotlib magic here)**"
   ]
  },
  {
   "cell_type": "code",
   "execution_count": 1,
   "metadata": {
    "jupyter": {
     "source_hidden": true
    }
   },
   "outputs": [],
   "source": [
    "# set %matplotlib inline (%matplotlib widget, %matplotlib qt) for static (interactive on-page, interactive in separate window) plots\n",
    "# in order to use the on-page interactive mode, make sure the environment is set up properly\n",
    "# comment this out before exporting the notebook to a Python script -- via jupyter nbconvert --to script anaKrys.ipynb\n",
    "%matplotlib inline\n",
    "\n",
    "# external modules\n",
    "import datetime\n",
    "import importlib\n",
    "import os\n",
    "import pickle\n",
    "import succolib as sl\n",
    "import pandas as pd\n",
    "import numpy as np\n",
    "import matplotlib.pyplot as plt\n",
    "from scipy.optimize import curve_fit\n",
    "from matplotlib.colors import LogNorm\n",
    "\n",
    "# internal modules (in .modules)\n",
    "from modules import *"
   ]
  },
  {
   "cell_type": "markdown",
   "metadata": {},
   "source": [
    "**starting chronometer**"
   ]
  },
  {
   "cell_type": "code",
   "execution_count": 2,
   "metadata": {
    "jupyter": {
     "source_hidden": true
    }
   },
   "outputs": [
    {
     "name": "stdout",
     "output_type": "stream",
     "text": [
      "2023-06-18 17:47:27 GMT --> let's start!\n",
      "--\n"
     ]
    }
   ],
   "source": [
    "tStart = datetime.datetime.fromtimestamp(datetime.datetime.now().timestamp())  # start chronometer\n",
    "tStartPrint = tStart.strftime(\"%Y-%m-%d %H:%M:%S GMT\")\n",
    "print(\"%s --> let's start!\" % tStartPrint)\n",
    "print(\"--\")"
   ]
  },
  {
   "cell_type": "markdown",
   "metadata": {},
   "source": [
    "---"
   ]
  },
  {
   "cell_type": "markdown",
   "metadata": {},
   "source": [
    "## **input settings**"
   ]
  },
  {
   "cell_type": "code",
   "execution_count": 3,
   "metadata": {},
   "outputs": [
    {
     "name": "stdout",
     "output_type": "stream",
     "text": [
      "looking for files with label y23NanocalCernT9 in ./settings/\n",
      "execution control booleans:\n",
      "data reload controller: True\n",
      "test mode controller: False\n",
      "--\n",
      "will work with run numbers(s)/type(s) in /eos/project/i/insulab-como/testBeam/TB_2023_06_T9_NANOCAL/MergedRoot_Mattia/ascii_merged/ with format runXXXXXX_YYYYYY.dat\n",
      "(1/8) 650276 conv_muons_front\n",
      "(2/8) 650285 conv_pos1GeV_front\n",
      "(3/8) 650284 conv_pos2GeV_front\n",
      "(4/8) 650277 conv_pos4GeV_front\n",
      "(5/8) 650279 conv_pos4GeV_front\n",
      "(6/8) 650281 conv_pos4GeV_front\n",
      "(7/8) 650282 conv_pos4GeV_front\n",
      "(8/8) 650283 conv_pos4GeV_front\n",
      "--\n"
     ]
    }
   ],
   "source": [
    "# data reload controller -- if True (False), reload the data files (use the dataframe already in memory)\n",
    "boolLoad = True\n",
    "\n",
    "# progressbar visualisation controller -- if True (False) the file opening progressbars will (not) be visualised\n",
    "# in particular, set it to False if working in an environment with no widgets enabled\n",
    "bProgressBars = False\n",
    "\n",
    "# test mode controller: if True (False), the software runs with test (custom, selected via settingsFileMods) settings and data\n",
    "boolTest = False\n",
    "\n",
    "# run numbers or types to be opened\n",
    "# format: list of strings -- insert run numbers or types as they appear in nRun0\n",
    "# might be left empty in test mode -- both test runs \"test0\" & \"test1\" selected by default\n",
    "nRunToOpen = [\"conv_muons_front\", \"conv_pos1GeV_front\", \"conv_pos2GeV_front\", \"conv_pos4GeV_front\"]\n",
    "\n",
    "# label of the settings fileset to load -- useless if boolTest=False\n",
    "settingsFileMods = \"y23NanocalCernT9\"\n",
    "\n",
    "# filetype, string -- either \"ASCII\", \"ROOT\" or \"NPZ\"\n",
    "fileType = \"ASCII\"\n",
    "\n",
    "# file path (with / at the end), string\n",
    "# useless in test mode, in which it is set automatically depending on fileType\n",
    "filePath = \"/eos/project/i/insulab-como/testBeam/TB_2023_06_T9_NANOCAL/MergedRoot_Mattia/ascii_merged/\"\n",
    "\n",
    "# file name format (with no path), string\n",
    "# shape: replace the run number with XXXXXX and (for multiple files per run) the file number with YYYYYY\n",
    "# useless in test mode, in which it is set automatically depending on fileType\n",
    "fileNameFormat = \"runXXXXXX_YYYYYY.dat\"\n",
    "\n",
    "#######################################\n",
    "# import settings, according to boolTest and settingsFileMods\n",
    "# function in .modules --> set ./settings/__init__.py for settings fileset selection\n",
    "mod_runList_name, mod_settings_name = settingsSelect(boolTest, whichInput = fileType if boolTest else settingsFileMods)\n",
    "globals().update(importlib.import_module(mod_runList_name).__dict__)\n",
    "globals().update(importlib.import_module(mod_settings_name).__dict__)\n",
    "\n",
    "#######################################\n",
    "# print only (functions in .modules)\n",
    "boolControlPrint(boolLoad, boolTest, fileType)\n",
    "print(\"--\")\n",
    "settingsPrint(filePath, fileNameFormat, nRunToOpen, nRun0)  # print only (function in .modules)\n",
    "print(\"--\")"
   ]
  },
  {
   "cell_type": "markdown",
   "metadata": {},
   "source": [
    "---"
   ]
  },
  {
   "cell_type": "markdown",
   "metadata": {},
   "source": [
    "## **opening the data files**"
   ]
  },
  {
   "cell_type": "code",
   "execution_count": 4,
   "metadata": {
    "jupyter": {
     "source_hidden": true
    }
   },
   "outputs": [
    {
     "name": "stdout",
     "output_type": "stream",
     "text": [
      "opening ASCII files... --> data into DataFrame df\n",
      "progressbars won't be visualized...\n",
      "(1/8) 650276 -- descaling fraction: 1.000000000000\n"
     ]
    },
    {
     "name": "stderr",
     "output_type": "stream",
     "text": [
      "/eos/user/m/msoldani/.local/lib/python3.9/site-packages/succolib/io/ascii.py:43: FutureWarning: The frame.append method is deprecated and will be removed from pandas in a future version. Use pandas.concat instead.\n",
      "  df = df.append(dfTemp[dfTemp.index % int(1 / descFrac) == 0], ignore_index=True, sort=False)\n",
      "/eos/user/m/msoldani/.local/lib/python3.9/site-packages/succolib/io/ascii.py:90: FutureWarning: The frame.append method is deprecated and will be removed from pandas in a future version. Use pandas.concat instead.\n",
      "  df = df.append(dfTemp, ignore_index=True, sort=False)\n"
     ]
    },
    {
     "name": "stdout",
     "output_type": "stream",
     "text": [
      "no variables to mirror\n",
      "iRun also added to df\n",
      "(2/8) 650277 -- descaling fraction: 1.000000000000\n"
     ]
    },
    {
     "name": "stderr",
     "output_type": "stream",
     "text": [
      "/eos/user/m/msoldani/.local/lib/python3.9/site-packages/succolib/io/ascii.py:43: FutureWarning: The frame.append method is deprecated and will be removed from pandas in a future version. Use pandas.concat instead.\n",
      "  df = df.append(dfTemp[dfTemp.index % int(1 / descFrac) == 0], ignore_index=True, sort=False)\n",
      "/eos/user/m/msoldani/.local/lib/python3.9/site-packages/succolib/io/ascii.py:90: FutureWarning: The frame.append method is deprecated and will be removed from pandas in a future version. Use pandas.concat instead.\n",
      "  df = df.append(dfTemp, ignore_index=True, sort=False)\n"
     ]
    },
    {
     "name": "stdout",
     "output_type": "stream",
     "text": [
      "no variables to mirror\n",
      "iRun also added to df\n",
      "(3/8) 650279 -- descaling fraction: 1.000000000000\n"
     ]
    },
    {
     "name": "stderr",
     "output_type": "stream",
     "text": [
      "/eos/user/m/msoldani/.local/lib/python3.9/site-packages/succolib/io/ascii.py:43: FutureWarning: The frame.append method is deprecated and will be removed from pandas in a future version. Use pandas.concat instead.\n",
      "  df = df.append(dfTemp[dfTemp.index % int(1 / descFrac) == 0], ignore_index=True, sort=False)\n",
      "/eos/user/m/msoldani/.local/lib/python3.9/site-packages/succolib/io/ascii.py:90: FutureWarning: The frame.append method is deprecated and will be removed from pandas in a future version. Use pandas.concat instead.\n",
      "  df = df.append(dfTemp, ignore_index=True, sort=False)\n"
     ]
    },
    {
     "name": "stdout",
     "output_type": "stream",
     "text": [
      "no variables to mirror\n",
      "iRun also added to df\n",
      "(4/8) 650281 -- descaling fraction: 1.000000000000\n"
     ]
    },
    {
     "name": "stderr",
     "output_type": "stream",
     "text": [
      "/eos/user/m/msoldani/.local/lib/python3.9/site-packages/succolib/io/ascii.py:43: FutureWarning: The frame.append method is deprecated and will be removed from pandas in a future version. Use pandas.concat instead.\n",
      "  df = df.append(dfTemp[dfTemp.index % int(1 / descFrac) == 0], ignore_index=True, sort=False)\n",
      "/eos/user/m/msoldani/.local/lib/python3.9/site-packages/succolib/io/ascii.py:90: FutureWarning: The frame.append method is deprecated and will be removed from pandas in a future version. Use pandas.concat instead.\n",
      "  df = df.append(dfTemp, ignore_index=True, sort=False)\n"
     ]
    },
    {
     "name": "stdout",
     "output_type": "stream",
     "text": [
      "no variables to mirror\n",
      "iRun also added to df\n",
      "(5/8) 650282 -- descaling fraction: 1.000000000000\n"
     ]
    },
    {
     "name": "stderr",
     "output_type": "stream",
     "text": [
      "/eos/user/m/msoldani/.local/lib/python3.9/site-packages/succolib/io/ascii.py:43: FutureWarning: The frame.append method is deprecated and will be removed from pandas in a future version. Use pandas.concat instead.\n",
      "  df = df.append(dfTemp[dfTemp.index % int(1 / descFrac) == 0], ignore_index=True, sort=False)\n",
      "/eos/user/m/msoldani/.local/lib/python3.9/site-packages/succolib/io/ascii.py:90: FutureWarning: The frame.append method is deprecated and will be removed from pandas in a future version. Use pandas.concat instead.\n",
      "  df = df.append(dfTemp, ignore_index=True, sort=False)\n"
     ]
    },
    {
     "name": "stdout",
     "output_type": "stream",
     "text": [
      "no variables to mirror\n",
      "iRun also added to df\n",
      "(6/8) 650283 -- descaling fraction: 1.000000000000\n"
     ]
    },
    {
     "name": "stderr",
     "output_type": "stream",
     "text": [
      "/eos/user/m/msoldani/.local/lib/python3.9/site-packages/succolib/io/ascii.py:43: FutureWarning: The frame.append method is deprecated and will be removed from pandas in a future version. Use pandas.concat instead.\n",
      "  df = df.append(dfTemp[dfTemp.index % int(1 / descFrac) == 0], ignore_index=True, sort=False)\n",
      "/eos/user/m/msoldani/.local/lib/python3.9/site-packages/succolib/io/ascii.py:90: FutureWarning: The frame.append method is deprecated and will be removed from pandas in a future version. Use pandas.concat instead.\n",
      "  df = df.append(dfTemp, ignore_index=True, sort=False)\n"
     ]
    },
    {
     "name": "stdout",
     "output_type": "stream",
     "text": [
      "no variables to mirror\n",
      "iRun also added to df\n",
      "(7/8) 650284 -- descaling fraction: 1.000000000000\n"
     ]
    },
    {
     "name": "stderr",
     "output_type": "stream",
     "text": [
      "/eos/user/m/msoldani/.local/lib/python3.9/site-packages/succolib/io/ascii.py:43: FutureWarning: The frame.append method is deprecated and will be removed from pandas in a future version. Use pandas.concat instead.\n",
      "  df = df.append(dfTemp[dfTemp.index % int(1 / descFrac) == 0], ignore_index=True, sort=False)\n",
      "/eos/user/m/msoldani/.local/lib/python3.9/site-packages/succolib/io/ascii.py:90: FutureWarning: The frame.append method is deprecated and will be removed from pandas in a future version. Use pandas.concat instead.\n",
      "  df = df.append(dfTemp, ignore_index=True, sort=False)\n"
     ]
    },
    {
     "name": "stdout",
     "output_type": "stream",
     "text": [
      "no variables to mirror\n",
      "iRun also added to df\n",
      "(8/8) 650285 -- descaling fraction: 1.000000000000\n"
     ]
    },
    {
     "name": "stderr",
     "output_type": "stream",
     "text": [
      "/eos/user/m/msoldani/.local/lib/python3.9/site-packages/succolib/io/ascii.py:43: FutureWarning: The frame.append method is deprecated and will be removed from pandas in a future version. Use pandas.concat instead.\n",
      "  df = df.append(dfTemp[dfTemp.index % int(1 / descFrac) == 0], ignore_index=True, sort=False)\n",
      "/eos/user/m/msoldani/.local/lib/python3.9/site-packages/succolib/io/ascii.py:90: FutureWarning: The frame.append method is deprecated and will be removed from pandas in a future version. Use pandas.concat instead.\n",
      "  df = df.append(dfTemp, ignore_index=True, sort=False)\n"
     ]
    },
    {
     "name": "stdout",
     "output_type": "stream",
     "text": [
      "no variables to mirror\n",
      "iRun also added to df\n",
      "--\n",
      "typeRun added to df\n",
      "--\n",
      "done (in 13.06 s) --> raw data have (events, variables) = (104599, 290)\n",
      "--\n"
     ]
    }
   ],
   "source": [
    "##############################\n",
    "# data (re)loading is performed only if required\n",
    "if boolLoad: \n",
    "    \n",
    "    # default nRunToOpen for test mode\n",
    "    if boolTest & (len(nRunToOpen)==0):\n",
    "        nRunToOpen = [\"test0\", \"test1\"]  # do not edit this! proper setting above\n",
    "    \n",
    "    # some dataset-related info\n",
    "    filePathTest = \"./data_test/ascii_test/\" if fileType==\"ASCII\" else \"./data_test/tree_test/\"\n",
    "    fileNameFormatTest = \"runXXXXXX_YYYYYY.dat\" if fileType==\"ASCII\" else \"runXXXXXX.root\"\n",
    "    fileNameFormatFull = (filePathTest if boolTest else filePath) + (fileNameFormatTest if boolTest else fileNameFormat)  # full filenames, i.e. with path\n",
    "    nRun = {}  # dictionary of the files to be opened only (same format as nRun0)\n",
    "    for iRun in nRun0:\n",
    "        if (iRun in nRunToOpen) | (nRun0[iRun] in nRunToOpen):\n",
    "            nRun.update({iRun: nRun0[iRun]})\n",
    "    \n",
    "    # data opening (function in .modules)\n",
    "    # recall:\n",
    "    #      - in ROOT case, remapping is also done\n",
    "    #      - swapped layers are also mirrored run by run\n",
    "    #      - iRun & typeRun columns also created (respectively with nRun0 keys & values)\n",
    "    df, dt = loadGeneral(fileType, fileNameFormatFull, nRun, descFrac, mirrorMap, globals(), bProgressBars)\n",
    "    print(\"--\")\n",
    "    \n",
    "    # newly created df structure info printing\n",
    "    loadDonePrint(df, dt)  # print only (function in .modules)\n",
    "\n",
    "##############################\n",
    "# print already existing df info if not (re)loading any data file\n",
    "else:  \n",
    "    loadSkipPrint(df)  # print only (function in .modules)\n",
    "    \n",
    "print(\"--\")"
   ]
  },
  {
   "cell_type": "code",
   "execution_count": 5,
   "metadata": {
    "jupyter": {
     "source_hidden": true
    }
   },
   "outputs": [
    {
     "name": "stdout",
     "output_type": "stream",
     "text": [
      "scan step number (iStep) availability: False \n",
      "--\n",
      "Unix time (epoch) availability: False \n",
      "--\n",
      "goniometer DOF availability: False \n",
      "xGonioRaw + []\n",
      "--\n",
      "input modules should be: ['0', '1', '2', '3']\n",
      "output modules should be: ['2', '3']\n",
      "input tracking availability (xRaw...): True\n",
      "output tracking availability (xRaw...): True\n",
      "input multiplicity availability (nHit...): False\n",
      "output multiplicity availability (nHit...): False\n",
      "--\n",
      "digitizer channel availability: True\n",
      "67 channels: digiPHRaw + ['Cher0', 'Cher1', 'Crilin0', 'Crilin1', 'Crilin10', 'Crilin11', 'Crilin12', 'Crilin13', 'Crilin14', 'Crilin15', 'Crilin16', 'Crilin17', 'Crilin18', 'Crilin19', 'Crilin2', 'Crilin20', 'Crilin21', 'Crilin22', 'Crilin23', 'Crilin24', 'Crilin25', 'Crilin26', 'Crilin27', 'Crilin28', 'Crilin29', 'Crilin3', 'Crilin30', 'Crilin31', 'Crilin32', 'Crilin33', 'Crilin34', 'Crilin35', 'Crilin4', 'Crilin5', 'Crilin6', 'Crilin7', 'Crilin8', 'Crilin9', 'Empty200', 'Empty205', 'Empty206', 'Empty207', 'Empty700', 'Empty701', 'Empty702', 'Empty703', 'Empty704', 'Empty705', 'Empty706', 'Empty707', 'Empty708', 'Empty709', 'Empty710', 'Empty800', 'Empty808', 'Empty816', 'Empty900', 'Empty908', 'Empty916', 'Lucite0', 'Lucite1', 'Nano', 'TrigA', 'TrigB', 'TrigC', 'TrigD', 'TrigE']\n",
      "67 with time: digiTime + ['Cher0', 'Cher1', 'Crilin0', 'Crilin1', 'Crilin10', 'Crilin11', 'Crilin12', 'Crilin13', 'Crilin14', 'Crilin15', 'Crilin16', 'Crilin17', 'Crilin18', 'Crilin19', 'Crilin2', 'Crilin20', 'Crilin21', 'Crilin22', 'Crilin23', 'Crilin24', 'Crilin25', 'Crilin26', 'Crilin27', 'Crilin28', 'Crilin29', 'Crilin3', 'Crilin30', 'Crilin31', 'Crilin32', 'Crilin33', 'Crilin34', 'Crilin35', 'Crilin4', 'Crilin5', 'Crilin6', 'Crilin7', 'Crilin8', 'Crilin9', 'Empty200', 'Empty205', 'Empty206', 'Empty207', 'Empty700', 'Empty701', 'Empty702', 'Empty703', 'Empty704', 'Empty705', 'Empty706', 'Empty707', 'Empty708', 'Empty709', 'Empty710', 'Empty800', 'Empty808', 'Empty816', 'Empty900', 'Empty908', 'Empty916', 'Lucite0', 'Lucite1', 'Nano', 'TrigA', 'TrigB', 'TrigC', 'TrigD', 'TrigE']\n",
      "--\n",
      "forward calorimeter total signal (PHCaloFwd) availability a priori: False\n",
      "forward calorimeter total in GeV (EFwd) availability a priori: False\n",
      "--\n",
      "keeping xRaw0 in (-20.000000, 20.000000)\n",
      "keeping xRaw1 in (-20.000000, 20.000000)\n",
      "keeping xRaw2 in (-20.000000, 20.000000)\n",
      "keeping xRaw3 in (-20.000000, 20.000000)\n",
      "filters applied: events = 104599 --> 104154\n",
      "--\n",
      "z[650276][\"gonio\"] unavailable --> setting 0\n",
      "z[650277][\"gonio\"] unavailable --> setting 0\n",
      "z[650279][\"gonio\"] unavailable --> setting 0\n",
      "z[650281][\"gonio\"] unavailable --> setting 0\n",
      "z[650282][\"gonio\"] unavailable --> setting 0\n",
      "z[650283][\"gonio\"] unavailable --> setting 0\n",
      "z[650284][\"gonio\"] unavailable --> setting 0\n",
      "z[650285][\"gonio\"] unavailable --> setting 0\n",
      "--\n"
     ]
    }
   ],
   "source": [
    "# detect data availability (function in .modules)\n",
    "# main data: \n",
    "#     iStep, epoch, xGonio (any), base xRaw/nHit (4 input, 2 output), digiPHRaw (any), digiTime (same as or less than digiPHRaw)\n",
    "#     furthermore, PHCaloFwd & EFwd a priori existance is checked -- they are computed from scratch only if False\n",
    "df, bIStep, bEpoch, bXGonio, bXRaw, bNHit, bDigiPHAny, lsDigiCh, bDigiTime, bPHCaloFwd0, bEFwd0 = dfCheckAvailability(df, baseTrackingMap)\n",
    "print(\"--\")\n",
    "\n",
    "# NanoCal 2023:\n",
    "bXRaw[\"out\"] = False\n",
    "\n",
    "# filter out the non-interesting data according to dfFilters (function in .modules)\n",
    "df = dfFiltering(df, filterMap)\n",
    "print(\"--\")\n",
    "\n",
    "# detect unavailable mandatory z entries run by run & set them to 0 (function in .modules)\n",
    "z = zBaseCheckAvailability(z, df[\"iRun\"].unique(), baseTrackingMap)\n",
    "print(\"--\")"
   ]
  },
  {
   "cell_type": "markdown",
   "metadata": {},
   "source": [
    "## **physics analysis**"
   ]
  },
  {
   "cell_type": "markdown",
   "metadata": {},
   "source": [
    "### **input tracking**"
   ]
  },
  {
   "cell_type": "code",
   "execution_count": 6,
   "metadata": {
    "jupyter": {
     "source_hidden": true
    }
   },
   "outputs": [
    {
     "name": "stdout",
     "output_type": "stream",
     "text": [
      "nHitIn & corresponding boolean not added to df\n",
      "--\n"
     ]
    }
   ],
   "source": [
    "# input mean multiplicity (function in .modules)\n",
    "if bNHit[\"in\"]:\n",
    "    df = aveVar(df, [\"nHit\"+s for s in baseTrackingMap[0]], \"nHitIn\")\n",
    "    \n",
    "    # also single-hit boolean\n",
    "    # note: single-hit selection is not based on nHitOut but rather on output layers individually\n",
    "    df = inHitCuts(df, [\"nHit\"+s for s in baseTrackingMap[0]])\n",
    "    \n",
    "else:\n",
    "    print(\"nHitIn & corresponding boolean not added to df\")\n",
    "    \n",
    "print(\"--\")"
   ]
  },
  {
   "cell_type": "code",
   "execution_count": 7,
   "metadata": {
    "jupyter": {
     "source_hidden": true
    }
   },
   "outputs": [
    {
     "name": "stdout",
     "output_type": "stream",
     "text": [
      "run 650276:\n",
      "thInRaw0 added to df\n",
      "trying to align x layers (xRaw0 & xRaw2) with thInRaw0 mode: 0.0043333400\n",
      "thInRaw1 added to df\n",
      "trying to align y layers (xRaw1 & xRaw3) with thInRaw1 mode: 0.0033334000\n",
      "boolInAligned: circle centered in 0 with radius 0.005000 (edge excluded)\n",
      "run 650277:\n",
      "thInRaw0 added to df\n",
      "trying to align x layers (xRaw0 & xRaw2) with thInRaw0 mode: 0.0036666050\n",
      "thInRaw1 added to df\n",
      "trying to align y layers (xRaw1 & xRaw3) with thInRaw1 mode: 0.0056667150\n",
      "boolInAligned: circle centered in 0 with radius 0.005000 (edge excluded)\n",
      "run 650279:\n",
      "thInRaw0 added to df\n",
      "trying to align x layers (xRaw0 & xRaw2) with thInRaw0 mode: 0.0043332550\n",
      "thInRaw1 added to df\n",
      "trying to align y layers (xRaw1 & xRaw3) with thInRaw1 mode: 0.0016667700\n",
      "boolInAligned: circle centered in 0 with radius 0.005000 (edge excluded)\n",
      "run 650281:\n",
      "thInRaw0 added to df\n",
      "trying to align x layers (xRaw0 & xRaw2) with thInRaw0 mode: 0.0050000400\n",
      "thInRaw1 added to df\n",
      "trying to align y layers (xRaw1 & xRaw3) with thInRaw1 mode: 0.0063332650\n",
      "boolInAligned: circle centered in 0 with radius 0.005000 (edge excluded)\n",
      "run 650282:\n",
      "thInRaw0 added to df\n",
      "trying to align x layers (xRaw0 & xRaw2) with thInRaw0 mode: 0.0049998700\n",
      "thInRaw1 added to df\n",
      "trying to align y layers (xRaw1 & xRaw3) with thInRaw1 mode: 0.0059999250\n",
      "boolInAligned: circle centered in 0 with radius 0.005000 (edge excluded)\n",
      "run 650283:\n",
      "thInRaw0 added to df\n",
      "trying to align x layers (xRaw0 & xRaw2) with thInRaw0 mode: 0.0046665750\n",
      "thInRaw1 added to df\n",
      "trying to align y layers (xRaw1 & xRaw3) with thInRaw1 mode: 0.0069998000\n",
      "boolInAligned: circle centered in 0 with radius 0.005000 (edge excluded)\n",
      "run 650284:\n",
      "thInRaw0 added to df\n",
      "trying to align x layers (xRaw0 & xRaw2) with thInRaw0 mode: 0.0053333150\n",
      "thInRaw1 added to df\n",
      "trying to align y layers (xRaw1 & xRaw3) with thInRaw1 mode: 0.0069999850\n",
      "boolInAligned: circle centered in 0 with radius 0.005000 (edge excluded)\n",
      "run 650285:\n",
      "thInRaw0 added to df\n",
      "trying to align x layers (xRaw0 & xRaw2) with thInRaw0 mode: 0.0060000450\n",
      "thInRaw1 added to df\n",
      "trying to align y layers (xRaw1 & xRaw3) with thInRaw1 mode: 0.0049998850\n",
      "boolInAligned: circle centered in 0 with radius 0.005000 (edge excluded)\n",
      "--\n",
      "run 650276: no cut defined on crystal fiducial area --> boolInCry(0/1) always True\n",
      "run 650277: no cut defined on crystal fiducial area --> boolInCry(0/1) always True\n",
      "run 650279: no cut defined on crystal fiducial area --> boolInCry(0/1) always True\n",
      "run 650281: no cut defined on crystal fiducial area --> boolInCry(0/1) always True\n",
      "run 650282: no cut defined on crystal fiducial area --> boolInCry(0/1) always True\n",
      "run 650283: no cut defined on crystal fiducial area --> boolInCry(0/1) always True\n",
      "run 650284: no cut defined on crystal fiducial area --> boolInCry(0/1) always True\n",
      "run 650285: no cut defined on crystal fiducial area --> boolInCry(0/1) always True\n",
      "--\n",
      "x axis\n",
      "final input angle thIn0: (mean, std) = (-0.000684, 0.006261)\n",
      "final beam projections: x0, x2, xCry0, xCaloFwd0\n",
      "y axis\n",
      "final input angle thIn1: (mean, std) = (0.000333, 0.006891)\n",
      "final beam projections: x1, x3, xCry1, xCaloFwd1\n",
      "--\n"
     ]
    }
   ],
   "source": [
    "# input tracking (functions in .modules)\n",
    "# recall that (if input positions available) input tracking is done regardless of input multiplicity\n",
    "#     --> if needed, single-hit selection has to be applied manually a posteriori\n",
    "if bXRaw[\"in\"]:\n",
    "    # input angles/aligned tracking info\n",
    "    # also input angle selection, according to thInCut\n",
    "    df = trackingAngleAlign(df, [\"xRaw\"+s for s in baseTrackingMap[0]], thInCentres, \"thIn\", z, True, thInCut)\n",
    "    print(\"--\")\n",
    "    \n",
    "    # input beam projection @ crystal & @ forward calorimeter\n",
    "    # also crystal fiducial selection, according to xCryCut\n",
    "    # also print several input beam info\n",
    "    df = inputTrackingProj(df, baseTrackingMap[0], z, xCryCut)\n",
    "    \n",
    "else:\n",
    "    print(\"no input beam info available --> no raw angles, aligned angles, aligned positions & projections added to df\")\n",
    "    \n",
    "print(\"--\")"
   ]
  },
  {
   "cell_type": "markdown",
   "metadata": {},
   "source": [
    "### **goniometer**"
   ]
  },
  {
   "cell_type": "code",
   "execution_count": 8,
   "metadata": {
    "jupyter": {
     "source_hidden": true
    }
   },
   "outputs": [
    {
     "name": "stdout",
     "output_type": "stream",
     "text": [
      "no goniometer info available --> no final goniometer DOF added to df\n",
      "--\n"
     ]
    }
   ],
   "source": [
    "# from xGonioRaw... to xGonio... -- according to info in gonioMap (function in .modules)\n",
    "if bXGonio:\n",
    "    df = gonioPair(df, gonioMap)\n",
    "else:\n",
    "    print(\"no goniometer info available --> no final goniometer DOF added to df\")\n",
    "    \n",
    "print(\"--\")"
   ]
  },
  {
   "cell_type": "markdown",
   "metadata": {},
   "source": [
    "### **output tracking**"
   ]
  },
  {
   "cell_type": "code",
   "execution_count": 9,
   "metadata": {
    "jupyter": {
     "source_hidden": true
    }
   },
   "outputs": [
    {
     "name": "stdout",
     "output_type": "stream",
     "text": [
      "nHitOut & corresponding booleans not added to df\n",
      "--\n"
     ]
    }
   ],
   "source": [
    "# output mean multiplicity (functions in .modules)\n",
    "if bNHit[\"out\"]:\n",
    "    df = aveVar(df, [\"nHit\"+s for s in baseTrackingMap[1]], \"nHitOut\")\n",
    "    \n",
    "    # also booleans -- single-hit, low multiplicity & high-multiplicity, according to outMultCut\n",
    "    # note: single-hit selection is not based on nHitOut but rather on output layers individually\n",
    "    df = outHitCuts(df, [\"nHit\"+s for s in baseTrackingMap[1]], outMultCut)\n",
    "    \n",
    "else:\n",
    "    print(\"nHitOut & corresponding booleans not added to df\")\n",
    "    \n",
    "print(\"--\")"
   ]
  },
  {
   "cell_type": "code",
   "execution_count": 10,
   "metadata": {
    "jupyter": {
     "source_hidden": true
    }
   },
   "outputs": [
    {
     "name": "stdout",
     "output_type": "stream",
     "text": [
      "no output beam info available --> no raw angles, aligned angles, angle deltas & aligned positions added to df\n",
      "--\n"
     ]
    }
   ],
   "source": [
    "# output tracking (functions in .modules)\n",
    "# recall that (if output positions available) output tracking is done regardless of input/output multiplicity\n",
    "#     --> if needed, single-hit selections have to be applied manually a posteriori\n",
    "if bXRaw[\"out\"]:\n",
    "    # for output stage analysis, xCry0-1 = 0 when input tracking is absent\n",
    "    if not bXRaw[\"in\"]:\n",
    "        df.loc[:, \"xCry%d\"%i] = 0\n",
    "        print(\"input tracking unavailability --> doing output tracking with xCry0/1 automatically set to 0\\n--\")\n",
    "    \n",
    "    # output angles/aligned tracking info\n",
    "    df = trackingAngleAlign(df, [\"xCry0\", \"xCry1\"] + [\"xRaw\"+s for s in baseTrackingMap[1]], thOutCentres, \"thOut\", z, False)\n",
    "    print(\"--\")\n",
    "    \n",
    "    # output-input angle delta\n",
    "    df = trackingAngleDelta(df)\n",
    "    \n",
    "    # print output beam info\n",
    "    outputTrackingPrint(df, baseTrackingMap[1])\n",
    "        \n",
    "else:\n",
    "    print(\"no output beam info available --> no raw angles, aligned angles, angle deltas & aligned positions added to df\")\n",
    "    \n",
    "print(\"--\")"
   ]
  },
  {
   "cell_type": "markdown",
   "metadata": {},
   "source": [
    "### **digitizers**"
   ]
  },
  {
   "cell_type": "code",
   "execution_count": 11,
   "metadata": {
    "jupyter": {
     "source_hidden": true
    }
   },
   "outputs": [
    {
     "name": "stdout",
     "output_type": "stream",
     "text": [
      "run 650276:\n",
      "digiPH* = digiPHRaw* (all var. in lsDigiCh), i.e. not equalised (run not in equalMap)\n",
      "run 650277:\n",
      "digiPH* = digiPHRaw* (all var. in lsDigiCh), i.e. not equalised (run not in equalMap)\n",
      "run 650279:\n",
      "digiPH* = digiPHRaw* (all var. in lsDigiCh), i.e. not equalised (run not in equalMap)\n",
      "run 650281:\n",
      "digiPH* = digiPHRaw* (all var. in lsDigiCh), i.e. not equalised (run not in equalMap)\n",
      "run 650282:\n",
      "digiPH* = digiPHRaw* (all var. in lsDigiCh), i.e. not equalised (run not in equalMap)\n",
      "run 650283:\n",
      "digiPH* = digiPHRaw* (all var. in lsDigiCh), i.e. not equalised (run not in equalMap)\n",
      "run 650284:\n",
      "digiPH* = digiPHRaw* (all var. in lsDigiCh), i.e. not equalised (run not in equalMap)\n",
      "run 650285:\n",
      "digiPH* = digiPHRaw* (all var. in lsDigiCh), i.e. not equalised (run not in equalMap)\n",
      "--\n",
      "run 650276:\n"
     ]
    },
    {
     "name": "stderr",
     "output_type": "stream",
     "text": [
      "/eos/home-i03/m/msoldani/succo/analysis_templates/anaKrys/modules/physicsAnalysis.py:262: PerformanceWarning: DataFrame is highly fragmented.  This is usually the result of calling `frame.insert` many times, which has poor performance.  Consider joining all columns at once using pd.concat(axis=1) instead. To get a de-fragmented frame, use `newframe = frame.copy()`\n",
      "  df.loc[dfBool, \"boolDigiPH\" + iCh] = True\n",
      "/eos/home-i03/m/msoldani/succo/analysis_templates/anaKrys/modules/physicsAnalysis.py:262: PerformanceWarning: DataFrame is highly fragmented.  This is usually the result of calling `frame.insert` many times, which has poor performance.  Consider joining all columns at once using pd.concat(axis=1) instead. To get a de-fragmented frame, use `newframe = frame.copy()`\n",
      "  df.loc[dfBool, \"boolDigiPH\" + iCh] = True\n",
      "/eos/home-i03/m/msoldani/succo/analysis_templates/anaKrys/modules/physicsAnalysis.py:262: PerformanceWarning: DataFrame is highly fragmented.  This is usually the result of calling `frame.insert` many times, which has poor performance.  Consider joining all columns at once using pd.concat(axis=1) instead. To get a de-fragmented frame, use `newframe = frame.copy()`\n",
      "  df.loc[dfBool, \"boolDigiPH\" + iCh] = True\n",
      "/eos/home-i03/m/msoldani/succo/analysis_templates/anaKrys/modules/physicsAnalysis.py:262: PerformanceWarning: DataFrame is highly fragmented.  This is usually the result of calling `frame.insert` many times, which has poor performance.  Consider joining all columns at once using pd.concat(axis=1) instead. To get a de-fragmented frame, use `newframe = frame.copy()`\n",
      "  df.loc[dfBool, \"boolDigiPH\" + iCh] = True\n",
      "/eos/home-i03/m/msoldani/succo/analysis_templates/anaKrys/modules/physicsAnalysis.py:262: PerformanceWarning: DataFrame is highly fragmented.  This is usually the result of calling `frame.insert` many times, which has poor performance.  Consider joining all columns at once using pd.concat(axis=1) instead. To get a de-fragmented frame, use `newframe = frame.copy()`\n",
      "  df.loc[dfBool, \"boolDigiPH\" + iCh] = True\n",
      "/eos/home-i03/m/msoldani/succo/analysis_templates/anaKrys/modules/physicsAnalysis.py:262: PerformanceWarning: DataFrame is highly fragmented.  This is usually the result of calling `frame.insert` many times, which has poor performance.  Consider joining all columns at once using pd.concat(axis=1) instead. To get a de-fragmented frame, use `newframe = frame.copy()`\n",
      "  df.loc[dfBool, \"boolDigiPH\" + iCh] = True\n",
      "/eos/home-i03/m/msoldani/succo/analysis_templates/anaKrys/modules/physicsAnalysis.py:262: PerformanceWarning: DataFrame is highly fragmented.  This is usually the result of calling `frame.insert` many times, which has poor performance.  Consider joining all columns at once using pd.concat(axis=1) instead. To get a de-fragmented frame, use `newframe = frame.copy()`\n",
      "  df.loc[dfBool, \"boolDigiPH\" + iCh] = True\n",
      "/eos/home-i03/m/msoldani/succo/analysis_templates/anaKrys/modules/physicsAnalysis.py:262: PerformanceWarning: DataFrame is highly fragmented.  This is usually the result of calling `frame.insert` many times, which has poor performance.  Consider joining all columns at once using pd.concat(axis=1) instead. To get a de-fragmented frame, use `newframe = frame.copy()`\n",
      "  df.loc[dfBool, \"boolDigiPH\" + iCh] = True\n",
      "/eos/home-i03/m/msoldani/succo/analysis_templates/anaKrys/modules/physicsAnalysis.py:262: PerformanceWarning: DataFrame is highly fragmented.  This is usually the result of calling `frame.insert` many times, which has poor performance.  Consider joining all columns at once using pd.concat(axis=1) instead. To get a de-fragmented frame, use `newframe = frame.copy()`\n",
      "  df.loc[dfBool, \"boolDigiPH\" + iCh] = True\n",
      "/eos/home-i03/m/msoldani/succo/analysis_templates/anaKrys/modules/physicsAnalysis.py:262: PerformanceWarning: DataFrame is highly fragmented.  This is usually the result of calling `frame.insert` many times, which has poor performance.  Consider joining all columns at once using pd.concat(axis=1) instead. To get a de-fragmented frame, use `newframe = frame.copy()`\n",
      "  df.loc[dfBool, \"boolDigiPH\" + iCh] = True\n",
      "/eos/home-i03/m/msoldani/succo/analysis_templates/anaKrys/modules/physicsAnalysis.py:262: PerformanceWarning: DataFrame is highly fragmented.  This is usually the result of calling `frame.insert` many times, which has poor performance.  Consider joining all columns at once using pd.concat(axis=1) instead. To get a de-fragmented frame, use `newframe = frame.copy()`\n",
      "  df.loc[dfBool, \"boolDigiPH\" + iCh] = True\n",
      "/eos/home-i03/m/msoldani/succo/analysis_templates/anaKrys/modules/physicsAnalysis.py:262: PerformanceWarning: DataFrame is highly fragmented.  This is usually the result of calling `frame.insert` many times, which has poor performance.  Consider joining all columns at once using pd.concat(axis=1) instead. To get a de-fragmented frame, use `newframe = frame.copy()`\n",
      "  df.loc[dfBool, \"boolDigiPH\" + iCh] = True\n",
      "/eos/home-i03/m/msoldani/succo/analysis_templates/anaKrys/modules/physicsAnalysis.py:262: PerformanceWarning: DataFrame is highly fragmented.  This is usually the result of calling `frame.insert` many times, which has poor performance.  Consider joining all columns at once using pd.concat(axis=1) instead. To get a de-fragmented frame, use `newframe = frame.copy()`\n",
      "  df.loc[dfBool, \"boolDigiPH\" + iCh] = True\n",
      "/eos/home-i03/m/msoldani/succo/analysis_templates/anaKrys/modules/physicsAnalysis.py:262: PerformanceWarning: DataFrame is highly fragmented.  This is usually the result of calling `frame.insert` many times, which has poor performance.  Consider joining all columns at once using pd.concat(axis=1) instead. To get a de-fragmented frame, use `newframe = frame.copy()`\n",
      "  df.loc[dfBool, \"boolDigiPH\" + iCh] = True\n",
      "/eos/home-i03/m/msoldani/succo/analysis_templates/anaKrys/modules/physicsAnalysis.py:262: PerformanceWarning: DataFrame is highly fragmented.  This is usually the result of calling `frame.insert` many times, which has poor performance.  Consider joining all columns at once using pd.concat(axis=1) instead. To get a de-fragmented frame, use `newframe = frame.copy()`\n",
      "  df.loc[dfBool, \"boolDigiPH\" + iCh] = True\n",
      "/eos/home-i03/m/msoldani/succo/analysis_templates/anaKrys/modules/physicsAnalysis.py:262: PerformanceWarning: DataFrame is highly fragmented.  This is usually the result of calling `frame.insert` many times, which has poor performance.  Consider joining all columns at once using pd.concat(axis=1) instead. To get a de-fragmented frame, use `newframe = frame.copy()`\n",
      "  df.loc[dfBool, \"boolDigiPH\" + iCh] = True\n",
      "/eos/home-i03/m/msoldani/succo/analysis_templates/anaKrys/modules/physicsAnalysis.py:262: PerformanceWarning: DataFrame is highly fragmented.  This is usually the result of calling `frame.insert` many times, which has poor performance.  Consider joining all columns at once using pd.concat(axis=1) instead. To get a de-fragmented frame, use `newframe = frame.copy()`\n",
      "  df.loc[dfBool, \"boolDigiPH\" + iCh] = True\n",
      "/eos/home-i03/m/msoldani/succo/analysis_templates/anaKrys/modules/physicsAnalysis.py:262: PerformanceWarning: DataFrame is highly fragmented.  This is usually the result of calling `frame.insert` many times, which has poor performance.  Consider joining all columns at once using pd.concat(axis=1) instead. To get a de-fragmented frame, use `newframe = frame.copy()`\n",
      "  df.loc[dfBool, \"boolDigiPH\" + iCh] = True\n",
      "/eos/home-i03/m/msoldani/succo/analysis_templates/anaKrys/modules/physicsAnalysis.py:262: PerformanceWarning: DataFrame is highly fragmented.  This is usually the result of calling `frame.insert` many times, which has poor performance.  Consider joining all columns at once using pd.concat(axis=1) instead. To get a de-fragmented frame, use `newframe = frame.copy()`\n",
      "  df.loc[dfBool, \"boolDigiPH\" + iCh] = True\n",
      "/eos/home-i03/m/msoldani/succo/analysis_templates/anaKrys/modules/physicsAnalysis.py:262: PerformanceWarning: DataFrame is highly fragmented.  This is usually the result of calling `frame.insert` many times, which has poor performance.  Consider joining all columns at once using pd.concat(axis=1) instead. To get a de-fragmented frame, use `newframe = frame.copy()`\n",
      "  df.loc[dfBool, \"boolDigiPH\" + iCh] = True\n",
      "/eos/home-i03/m/msoldani/succo/analysis_templates/anaKrys/modules/physicsAnalysis.py:262: PerformanceWarning: DataFrame is highly fragmented.  This is usually the result of calling `frame.insert` many times, which has poor performance.  Consider joining all columns at once using pd.concat(axis=1) instead. To get a de-fragmented frame, use `newframe = frame.copy()`\n",
      "  df.loc[dfBool, \"boolDigiPH\" + iCh] = True\n",
      "/eos/home-i03/m/msoldani/succo/analysis_templates/anaKrys/modules/physicsAnalysis.py:262: PerformanceWarning: DataFrame is highly fragmented.  This is usually the result of calling `frame.insert` many times, which has poor performance.  Consider joining all columns at once using pd.concat(axis=1) instead. To get a de-fragmented frame, use `newframe = frame.copy()`\n",
      "  df.loc[dfBool, \"boolDigiPH\" + iCh] = True\n",
      "/eos/home-i03/m/msoldani/succo/analysis_templates/anaKrys/modules/physicsAnalysis.py:262: PerformanceWarning: DataFrame is highly fragmented.  This is usually the result of calling `frame.insert` many times, which has poor performance.  Consider joining all columns at once using pd.concat(axis=1) instead. To get a de-fragmented frame, use `newframe = frame.copy()`\n",
      "  df.loc[dfBool, \"boolDigiPH\" + iCh] = True\n",
      "/eos/home-i03/m/msoldani/succo/analysis_templates/anaKrys/modules/physicsAnalysis.py:262: PerformanceWarning: DataFrame is highly fragmented.  This is usually the result of calling `frame.insert` many times, which has poor performance.  Consider joining all columns at once using pd.concat(axis=1) instead. To get a de-fragmented frame, use `newframe = frame.copy()`\n",
      "  df.loc[dfBool, \"boolDigiPH\" + iCh] = True\n",
      "/eos/home-i03/m/msoldani/succo/analysis_templates/anaKrys/modules/physicsAnalysis.py:262: PerformanceWarning: DataFrame is highly fragmented.  This is usually the result of calling `frame.insert` many times, which has poor performance.  Consider joining all columns at once using pd.concat(axis=1) instead. To get a de-fragmented frame, use `newframe = frame.copy()`\n",
      "  df.loc[dfBool, \"boolDigiPH\" + iCh] = True\n",
      "/eos/home-i03/m/msoldani/succo/analysis_templates/anaKrys/modules/physicsAnalysis.py:262: PerformanceWarning: DataFrame is highly fragmented.  This is usually the result of calling `frame.insert` many times, which has poor performance.  Consider joining all columns at once using pd.concat(axis=1) instead. To get a de-fragmented frame, use `newframe = frame.copy()`\n",
      "  df.loc[dfBool, \"boolDigiPH\" + iCh] = True\n",
      "/eos/home-i03/m/msoldani/succo/analysis_templates/anaKrys/modules/physicsAnalysis.py:262: PerformanceWarning: DataFrame is highly fragmented.  This is usually the result of calling `frame.insert` many times, which has poor performance.  Consider joining all columns at once using pd.concat(axis=1) instead. To get a de-fragmented frame, use `newframe = frame.copy()`\n",
      "  df.loc[dfBool, \"boolDigiPH\" + iCh] = True\n",
      "/eos/home-i03/m/msoldani/succo/analysis_templates/anaKrys/modules/physicsAnalysis.py:262: PerformanceWarning: DataFrame is highly fragmented.  This is usually the result of calling `frame.insert` many times, which has poor performance.  Consider joining all columns at once using pd.concat(axis=1) instead. To get a de-fragmented frame, use `newframe = frame.copy()`\n",
      "  df.loc[dfBool, \"boolDigiPH\" + iCh] = True\n",
      "/eos/home-i03/m/msoldani/succo/analysis_templates/anaKrys/modules/physicsAnalysis.py:262: PerformanceWarning: DataFrame is highly fragmented.  This is usually the result of calling `frame.insert` many times, which has poor performance.  Consider joining all columns at once using pd.concat(axis=1) instead. To get a de-fragmented frame, use `newframe = frame.copy()`\n",
      "  df.loc[dfBool, \"boolDigiPH\" + iCh] = True\n",
      "/eos/home-i03/m/msoldani/succo/analysis_templates/anaKrys/modules/physicsAnalysis.py:262: PerformanceWarning: DataFrame is highly fragmented.  This is usually the result of calling `frame.insert` many times, which has poor performance.  Consider joining all columns at once using pd.concat(axis=1) instead. To get a de-fragmented frame, use `newframe = frame.copy()`\n",
      "  df.loc[dfBool, \"boolDigiPH\" + iCh] = True\n",
      "/eos/home-i03/m/msoldani/succo/analysis_templates/anaKrys/modules/physicsAnalysis.py:259: PerformanceWarning: DataFrame is highly fragmented.  This is usually the result of calling `frame.insert` many times, which has poor performance.  Consider joining all columns at once using pd.concat(axis=1) instead. To get a de-fragmented frame, use `newframe = frame.copy()`\n",
      "  df.loc[dfBool, \"boolDigiPH\" + iCh] = (df[\"digiPH\" + iCh] > chMin) & (df[\"digiPH\" + iCh] < chMax)\n",
      "/eos/home-i03/m/msoldani/succo/analysis_templates/anaKrys/modules/physicsAnalysis.py:262: PerformanceWarning: DataFrame is highly fragmented.  This is usually the result of calling `frame.insert` many times, which has poor performance.  Consider joining all columns at once using pd.concat(axis=1) instead. To get a de-fragmented frame, use `newframe = frame.copy()`\n",
      "  df.loc[dfBool, \"boolDigiPH\" + iCh] = True\n",
      "/eos/home-i03/m/msoldani/succo/analysis_templates/anaKrys/modules/physicsAnalysis.py:262: PerformanceWarning: DataFrame is highly fragmented.  This is usually the result of calling `frame.insert` many times, which has poor performance.  Consider joining all columns at once using pd.concat(axis=1) instead. To get a de-fragmented frame, use `newframe = frame.copy()`\n",
      "  df.loc[dfBool, \"boolDigiPH\" + iCh] = True\n"
     ]
    },
    {
     "name": "stderr",
     "output_type": "stream",
     "text": [
      "/eos/home-i03/m/msoldani/succo/analysis_templates/anaKrys/modules/physicsAnalysis.py:262: PerformanceWarning: DataFrame is highly fragmented.  This is usually the result of calling `frame.insert` many times, which has poor performance.  Consider joining all columns at once using pd.concat(axis=1) instead. To get a de-fragmented frame, use `newframe = frame.copy()`\n",
      "  df.loc[dfBool, \"boolDigiPH\" + iCh] = True\n",
      "/eos/home-i03/m/msoldani/succo/analysis_templates/anaKrys/modules/physicsAnalysis.py:262: PerformanceWarning: DataFrame is highly fragmented.  This is usually the result of calling `frame.insert` many times, which has poor performance.  Consider joining all columns at once using pd.concat(axis=1) instead. To get a de-fragmented frame, use `newframe = frame.copy()`\n",
      "  df.loc[dfBool, \"boolDigiPH\" + iCh] = True\n",
      "/eos/home-i03/m/msoldani/succo/analysis_templates/anaKrys/modules/physicsAnalysis.py:262: PerformanceWarning: DataFrame is highly fragmented.  This is usually the result of calling `frame.insert` many times, which has poor performance.  Consider joining all columns at once using pd.concat(axis=1) instead. To get a de-fragmented frame, use `newframe = frame.copy()`\n",
      "  df.loc[dfBool, \"boolDigiPH\" + iCh] = True\n",
      "/eos/home-i03/m/msoldani/succo/analysis_templates/anaKrys/modules/physicsAnalysis.py:280: PerformanceWarning: DataFrame is highly fragmented.  This is usually the result of calling `frame.insert` many times, which has poor performance.  Consider joining all columns at once using pd.concat(axis=1) instead. To get a de-fragmented frame, use `newframe = frame.copy()`\n",
      "  df.loc[dfBool, \"boolDigiTime\" + iCh] = True\n",
      "/eos/home-i03/m/msoldani/succo/analysis_templates/anaKrys/modules/physicsAnalysis.py:280: PerformanceWarning: DataFrame is highly fragmented.  This is usually the result of calling `frame.insert` many times, which has poor performance.  Consider joining all columns at once using pd.concat(axis=1) instead. To get a de-fragmented frame, use `newframe = frame.copy()`\n",
      "  df.loc[dfBool, \"boolDigiTime\" + iCh] = True\n",
      "/eos/home-i03/m/msoldani/succo/analysis_templates/anaKrys/modules/physicsAnalysis.py:280: PerformanceWarning: DataFrame is highly fragmented.  This is usually the result of calling `frame.insert` many times, which has poor performance.  Consider joining all columns at once using pd.concat(axis=1) instead. To get a de-fragmented frame, use `newframe = frame.copy()`\n",
      "  df.loc[dfBool, \"boolDigiTime\" + iCh] = True\n",
      "/eos/home-i03/m/msoldani/succo/analysis_templates/anaKrys/modules/physicsAnalysis.py:280: PerformanceWarning: DataFrame is highly fragmented.  This is usually the result of calling `frame.insert` many times, which has poor performance.  Consider joining all columns at once using pd.concat(axis=1) instead. To get a de-fragmented frame, use `newframe = frame.copy()`\n",
      "  df.loc[dfBool, \"boolDigiTime\" + iCh] = True\n",
      "/eos/home-i03/m/msoldani/succo/analysis_templates/anaKrys/modules/physicsAnalysis.py:280: PerformanceWarning: DataFrame is highly fragmented.  This is usually the result of calling `frame.insert` many times, which has poor performance.  Consider joining all columns at once using pd.concat(axis=1) instead. To get a de-fragmented frame, use `newframe = frame.copy()`\n",
      "  df.loc[dfBool, \"boolDigiTime\" + iCh] = True\n",
      "/eos/home-i03/m/msoldani/succo/analysis_templates/anaKrys/modules/physicsAnalysis.py:280: PerformanceWarning: DataFrame is highly fragmented.  This is usually the result of calling `frame.insert` many times, which has poor performance.  Consider joining all columns at once using pd.concat(axis=1) instead. To get a de-fragmented frame, use `newframe = frame.copy()`\n",
      "  df.loc[dfBool, \"boolDigiTime\" + iCh] = True\n",
      "/eos/home-i03/m/msoldani/succo/analysis_templates/anaKrys/modules/physicsAnalysis.py:280: PerformanceWarning: DataFrame is highly fragmented.  This is usually the result of calling `frame.insert` many times, which has poor performance.  Consider joining all columns at once using pd.concat(axis=1) instead. To get a de-fragmented frame, use `newframe = frame.copy()`\n",
      "  df.loc[dfBool, \"boolDigiTime\" + iCh] = True\n",
      "/eos/home-i03/m/msoldani/succo/analysis_templates/anaKrys/modules/physicsAnalysis.py:280: PerformanceWarning: DataFrame is highly fragmented.  This is usually the result of calling `frame.insert` many times, which has poor performance.  Consider joining all columns at once using pd.concat(axis=1) instead. To get a de-fragmented frame, use `newframe = frame.copy()`\n",
      "  df.loc[dfBool, \"boolDigiTime\" + iCh] = True\n",
      "/eos/home-i03/m/msoldani/succo/analysis_templates/anaKrys/modules/physicsAnalysis.py:280: PerformanceWarning: DataFrame is highly fragmented.  This is usually the result of calling `frame.insert` many times, which has poor performance.  Consider joining all columns at once using pd.concat(axis=1) instead. To get a de-fragmented frame, use `newframe = frame.copy()`\n",
      "  df.loc[dfBool, \"boolDigiTime\" + iCh] = True\n",
      "/eos/home-i03/m/msoldani/succo/analysis_templates/anaKrys/modules/physicsAnalysis.py:280: PerformanceWarning: DataFrame is highly fragmented.  This is usually the result of calling `frame.insert` many times, which has poor performance.  Consider joining all columns at once using pd.concat(axis=1) instead. To get a de-fragmented frame, use `newframe = frame.copy()`\n",
      "  df.loc[dfBool, \"boolDigiTime\" + iCh] = True\n",
      "/eos/home-i03/m/msoldani/succo/analysis_templates/anaKrys/modules/physicsAnalysis.py:280: PerformanceWarning: DataFrame is highly fragmented.  This is usually the result of calling `frame.insert` many times, which has poor performance.  Consider joining all columns at once using pd.concat(axis=1) instead. To get a de-fragmented frame, use `newframe = frame.copy()`\n",
      "  df.loc[dfBool, \"boolDigiTime\" + iCh] = True\n",
      "/eos/home-i03/m/msoldani/succo/analysis_templates/anaKrys/modules/physicsAnalysis.py:280: PerformanceWarning: DataFrame is highly fragmented.  This is usually the result of calling `frame.insert` many times, which has poor performance.  Consider joining all columns at once using pd.concat(axis=1) instead. To get a de-fragmented frame, use `newframe = frame.copy()`\n",
      "  df.loc[dfBool, \"boolDigiTime\" + iCh] = True\n",
      "/eos/home-i03/m/msoldani/succo/analysis_templates/anaKrys/modules/physicsAnalysis.py:280: PerformanceWarning: DataFrame is highly fragmented.  This is usually the result of calling `frame.insert` many times, which has poor performance.  Consider joining all columns at once using pd.concat(axis=1) instead. To get a de-fragmented frame, use `newframe = frame.copy()`\n",
      "  df.loc[dfBool, \"boolDigiTime\" + iCh] = True\n",
      "/eos/home-i03/m/msoldani/succo/analysis_templates/anaKrys/modules/physicsAnalysis.py:280: PerformanceWarning: DataFrame is highly fragmented.  This is usually the result of calling `frame.insert` many times, which has poor performance.  Consider joining all columns at once using pd.concat(axis=1) instead. To get a de-fragmented frame, use `newframe = frame.copy()`\n",
      "  df.loc[dfBool, \"boolDigiTime\" + iCh] = True\n",
      "/eos/home-i03/m/msoldani/succo/analysis_templates/anaKrys/modules/physicsAnalysis.py:280: PerformanceWarning: DataFrame is highly fragmented.  This is usually the result of calling `frame.insert` many times, which has poor performance.  Consider joining all columns at once using pd.concat(axis=1) instead. To get a de-fragmented frame, use `newframe = frame.copy()`\n",
      "  df.loc[dfBool, \"boolDigiTime\" + iCh] = True\n",
      "/eos/home-i03/m/msoldani/succo/analysis_templates/anaKrys/modules/physicsAnalysis.py:280: PerformanceWarning: DataFrame is highly fragmented.  This is usually the result of calling `frame.insert` many times, which has poor performance.  Consider joining all columns at once using pd.concat(axis=1) instead. To get a de-fragmented frame, use `newframe = frame.copy()`\n",
      "  df.loc[dfBool, \"boolDigiTime\" + iCh] = True\n",
      "/eos/home-i03/m/msoldani/succo/analysis_templates/anaKrys/modules/physicsAnalysis.py:280: PerformanceWarning: DataFrame is highly fragmented.  This is usually the result of calling `frame.insert` many times, which has poor performance.  Consider joining all columns at once using pd.concat(axis=1) instead. To get a de-fragmented frame, use `newframe = frame.copy()`\n",
      "  df.loc[dfBool, \"boolDigiTime\" + iCh] = True\n",
      "/eos/home-i03/m/msoldani/succo/analysis_templates/anaKrys/modules/physicsAnalysis.py:280: PerformanceWarning: DataFrame is highly fragmented.  This is usually the result of calling `frame.insert` many times, which has poor performance.  Consider joining all columns at once using pd.concat(axis=1) instead. To get a de-fragmented frame, use `newframe = frame.copy()`\n",
      "  df.loc[dfBool, \"boolDigiTime\" + iCh] = True\n",
      "/eos/home-i03/m/msoldani/succo/analysis_templates/anaKrys/modules/physicsAnalysis.py:280: PerformanceWarning: DataFrame is highly fragmented.  This is usually the result of calling `frame.insert` many times, which has poor performance.  Consider joining all columns at once using pd.concat(axis=1) instead. To get a de-fragmented frame, use `newframe = frame.copy()`\n",
      "  df.loc[dfBool, \"boolDigiTime\" + iCh] = True\n",
      "/eos/home-i03/m/msoldani/succo/analysis_templates/anaKrys/modules/physicsAnalysis.py:280: PerformanceWarning: DataFrame is highly fragmented.  This is usually the result of calling `frame.insert` many times, which has poor performance.  Consider joining all columns at once using pd.concat(axis=1) instead. To get a de-fragmented frame, use `newframe = frame.copy()`\n",
      "  df.loc[dfBool, \"boolDigiTime\" + iCh] = True\n",
      "/eos/home-i03/m/msoldani/succo/analysis_templates/anaKrys/modules/physicsAnalysis.py:280: PerformanceWarning: DataFrame is highly fragmented.  This is usually the result of calling `frame.insert` many times, which has poor performance.  Consider joining all columns at once using pd.concat(axis=1) instead. To get a de-fragmented frame, use `newframe = frame.copy()`\n",
      "  df.loc[dfBool, \"boolDigiTime\" + iCh] = True\n",
      "/eos/home-i03/m/msoldani/succo/analysis_templates/anaKrys/modules/physicsAnalysis.py:280: PerformanceWarning: DataFrame is highly fragmented.  This is usually the result of calling `frame.insert` many times, which has poor performance.  Consider joining all columns at once using pd.concat(axis=1) instead. To get a de-fragmented frame, use `newframe = frame.copy()`\n",
      "  df.loc[dfBool, \"boolDigiTime\" + iCh] = True\n",
      "/eos/home-i03/m/msoldani/succo/analysis_templates/anaKrys/modules/physicsAnalysis.py:280: PerformanceWarning: DataFrame is highly fragmented.  This is usually the result of calling `frame.insert` many times, which has poor performance.  Consider joining all columns at once using pd.concat(axis=1) instead. To get a de-fragmented frame, use `newframe = frame.copy()`\n",
      "  df.loc[dfBool, \"boolDigiTime\" + iCh] = True\n",
      "/eos/home-i03/m/msoldani/succo/analysis_templates/anaKrys/modules/physicsAnalysis.py:280: PerformanceWarning: DataFrame is highly fragmented.  This is usually the result of calling `frame.insert` many times, which has poor performance.  Consider joining all columns at once using pd.concat(axis=1) instead. To get a de-fragmented frame, use `newframe = frame.copy()`\n",
      "  df.loc[dfBool, \"boolDigiTime\" + iCh] = True\n",
      "/eos/home-i03/m/msoldani/succo/analysis_templates/anaKrys/modules/physicsAnalysis.py:280: PerformanceWarning: DataFrame is highly fragmented.  This is usually the result of calling `frame.insert` many times, which has poor performance.  Consider joining all columns at once using pd.concat(axis=1) instead. To get a de-fragmented frame, use `newframe = frame.copy()`\n",
      "  df.loc[dfBool, \"boolDigiTime\" + iCh] = True\n",
      "/eos/home-i03/m/msoldani/succo/analysis_templates/anaKrys/modules/physicsAnalysis.py:280: PerformanceWarning: DataFrame is highly fragmented.  This is usually the result of calling `frame.insert` many times, which has poor performance.  Consider joining all columns at once using pd.concat(axis=1) instead. To get a de-fragmented frame, use `newframe = frame.copy()`\n",
      "  df.loc[dfBool, \"boolDigiTime\" + iCh] = True\n",
      "/eos/home-i03/m/msoldani/succo/analysis_templates/anaKrys/modules/physicsAnalysis.py:280: PerformanceWarning: DataFrame is highly fragmented.  This is usually the result of calling `frame.insert` many times, which has poor performance.  Consider joining all columns at once using pd.concat(axis=1) instead. To get a de-fragmented frame, use `newframe = frame.copy()`\n",
      "  df.loc[dfBool, \"boolDigiTime\" + iCh] = True\n",
      "/eos/home-i03/m/msoldani/succo/analysis_templates/anaKrys/modules/physicsAnalysis.py:280: PerformanceWarning: DataFrame is highly fragmented.  This is usually the result of calling `frame.insert` many times, which has poor performance.  Consider joining all columns at once using pd.concat(axis=1) instead. To get a de-fragmented frame, use `newframe = frame.copy()`\n",
      "  df.loc[dfBool, \"boolDigiTime\" + iCh] = True\n",
      "/eos/home-i03/m/msoldani/succo/analysis_templates/anaKrys/modules/physicsAnalysis.py:280: PerformanceWarning: DataFrame is highly fragmented.  This is usually the result of calling `frame.insert` many times, which has poor performance.  Consider joining all columns at once using pd.concat(axis=1) instead. To get a de-fragmented frame, use `newframe = frame.copy()`\n",
      "  df.loc[dfBool, \"boolDigiTime\" + iCh] = True\n",
      "/eos/home-i03/m/msoldani/succo/analysis_templates/anaKrys/modules/physicsAnalysis.py:280: PerformanceWarning: DataFrame is highly fragmented.  This is usually the result of calling `frame.insert` many times, which has poor performance.  Consider joining all columns at once using pd.concat(axis=1) instead. To get a de-fragmented frame, use `newframe = frame.copy()`\n",
      "  df.loc[dfBool, \"boolDigiTime\" + iCh] = True\n",
      "/eos/home-i03/m/msoldani/succo/analysis_templates/anaKrys/modules/physicsAnalysis.py:280: PerformanceWarning: DataFrame is highly fragmented.  This is usually the result of calling `frame.insert` many times, which has poor performance.  Consider joining all columns at once using pd.concat(axis=1) instead. To get a de-fragmented frame, use `newframe = frame.copy()`\n",
      "  df.loc[dfBool, \"boolDigiTime\" + iCh] = True\n",
      "/eos/home-i03/m/msoldani/succo/analysis_templates/anaKrys/modules/physicsAnalysis.py:280: PerformanceWarning: DataFrame is highly fragmented.  This is usually the result of calling `frame.insert` many times, which has poor performance.  Consider joining all columns at once using pd.concat(axis=1) instead. To get a de-fragmented frame, use `newframe = frame.copy()`\n",
      "  df.loc[dfBool, \"boolDigiTime\" + iCh] = True\n"
     ]
    },
    {
     "name": "stdout",
     "output_type": "stream",
     "text": [
      "cuts added to df: boolDigiPH + ['Nano']\n"
     ]
    },
    {
     "name": "stderr",
     "output_type": "stream",
     "text": [
      "/eos/home-i03/m/msoldani/succo/analysis_templates/anaKrys/modules/physicsAnalysis.py:280: PerformanceWarning: DataFrame is highly fragmented.  This is usually the result of calling `frame.insert` many times, which has poor performance.  Consider joining all columns at once using pd.concat(axis=1) instead. To get a de-fragmented frame, use `newframe = frame.copy()`\n",
      "  df.loc[dfBool, \"boolDigiTime\" + iCh] = True\n",
      "/eos/home-i03/m/msoldani/succo/analysis_templates/anaKrys/modules/physicsAnalysis.py:280: PerformanceWarning: DataFrame is highly fragmented.  This is usually the result of calling `frame.insert` many times, which has poor performance.  Consider joining all columns at once using pd.concat(axis=1) instead. To get a de-fragmented frame, use `newframe = frame.copy()`\n",
      "  df.loc[dfBool, \"boolDigiTime\" + iCh] = True\n",
      "/eos/home-i03/m/msoldani/succo/analysis_templates/anaKrys/modules/physicsAnalysis.py:280: PerformanceWarning: DataFrame is highly fragmented.  This is usually the result of calling `frame.insert` many times, which has poor performance.  Consider joining all columns at once using pd.concat(axis=1) instead. To get a de-fragmented frame, use `newframe = frame.copy()`\n",
      "  df.loc[dfBool, \"boolDigiTime\" + iCh] = True\n",
      "/eos/home-i03/m/msoldani/succo/analysis_templates/anaKrys/modules/physicsAnalysis.py:280: PerformanceWarning: DataFrame is highly fragmented.  This is usually the result of calling `frame.insert` many times, which has poor performance.  Consider joining all columns at once using pd.concat(axis=1) instead. To get a de-fragmented frame, use `newframe = frame.copy()`\n",
      "  df.loc[dfBool, \"boolDigiTime\" + iCh] = True\n",
      "/eos/home-i03/m/msoldani/succo/analysis_templates/anaKrys/modules/physicsAnalysis.py:280: PerformanceWarning: DataFrame is highly fragmented.  This is usually the result of calling `frame.insert` many times, which has poor performance.  Consider joining all columns at once using pd.concat(axis=1) instead. To get a de-fragmented frame, use `newframe = frame.copy()`\n",
      "  df.loc[dfBool, \"boolDigiTime\" + iCh] = True\n",
      "/eos/home-i03/m/msoldani/succo/analysis_templates/anaKrys/modules/physicsAnalysis.py:280: PerformanceWarning: DataFrame is highly fragmented.  This is usually the result of calling `frame.insert` many times, which has poor performance.  Consider joining all columns at once using pd.concat(axis=1) instead. To get a de-fragmented frame, use `newframe = frame.copy()`\n",
      "  df.loc[dfBool, \"boolDigiTime\" + iCh] = True\n",
      "/eos/home-i03/m/msoldani/succo/analysis_templates/anaKrys/modules/physicsAnalysis.py:280: PerformanceWarning: DataFrame is highly fragmented.  This is usually the result of calling `frame.insert` many times, which has poor performance.  Consider joining all columns at once using pd.concat(axis=1) instead. To get a de-fragmented frame, use `newframe = frame.copy()`\n",
      "  df.loc[dfBool, \"boolDigiTime\" + iCh] = True\n",
      "/eos/home-i03/m/msoldani/succo/analysis_templates/anaKrys/modules/physicsAnalysis.py:280: PerformanceWarning: DataFrame is highly fragmented.  This is usually the result of calling `frame.insert` many times, which has poor performance.  Consider joining all columns at once using pd.concat(axis=1) instead. To get a de-fragmented frame, use `newframe = frame.copy()`\n",
      "  df.loc[dfBool, \"boolDigiTime\" + iCh] = True\n",
      "/eos/home-i03/m/msoldani/succo/analysis_templates/anaKrys/modules/physicsAnalysis.py:280: PerformanceWarning: DataFrame is highly fragmented.  This is usually the result of calling `frame.insert` many times, which has poor performance.  Consider joining all columns at once using pd.concat(axis=1) instead. To get a de-fragmented frame, use `newframe = frame.copy()`\n",
      "  df.loc[dfBool, \"boolDigiTime\" + iCh] = True\n",
      "/eos/home-i03/m/msoldani/succo/analysis_templates/anaKrys/modules/physicsAnalysis.py:280: PerformanceWarning: DataFrame is highly fragmented.  This is usually the result of calling `frame.insert` many times, which has poor performance.  Consider joining all columns at once using pd.concat(axis=1) instead. To get a de-fragmented frame, use `newframe = frame.copy()`\n",
      "  df.loc[dfBool, \"boolDigiTime\" + iCh] = True\n",
      "/eos/home-i03/m/msoldani/succo/analysis_templates/anaKrys/modules/physicsAnalysis.py:280: PerformanceWarning: DataFrame is highly fragmented.  This is usually the result of calling `frame.insert` many times, which has poor performance.  Consider joining all columns at once using pd.concat(axis=1) instead. To get a de-fragmented frame, use `newframe = frame.copy()`\n",
      "  df.loc[dfBool, \"boolDigiTime\" + iCh] = True\n",
      "/eos/home-i03/m/msoldani/succo/analysis_templates/anaKrys/modules/physicsAnalysis.py:280: PerformanceWarning: DataFrame is highly fragmented.  This is usually the result of calling `frame.insert` many times, which has poor performance.  Consider joining all columns at once using pd.concat(axis=1) instead. To get a de-fragmented frame, use `newframe = frame.copy()`\n",
      "  df.loc[dfBool, \"boolDigiTime\" + iCh] = True\n",
      "/eos/home-i03/m/msoldani/succo/analysis_templates/anaKrys/modules/physicsAnalysis.py:280: PerformanceWarning: DataFrame is highly fragmented.  This is usually the result of calling `frame.insert` many times, which has poor performance.  Consider joining all columns at once using pd.concat(axis=1) instead. To get a de-fragmented frame, use `newframe = frame.copy()`\n",
      "  df.loc[dfBool, \"boolDigiTime\" + iCh] = True\n",
      "/eos/home-i03/m/msoldani/succo/analysis_templates/anaKrys/modules/physicsAnalysis.py:280: PerformanceWarning: DataFrame is highly fragmented.  This is usually the result of calling `frame.insert` many times, which has poor performance.  Consider joining all columns at once using pd.concat(axis=1) instead. To get a de-fragmented frame, use `newframe = frame.copy()`\n",
      "  df.loc[dfBool, \"boolDigiTime\" + iCh] = True\n",
      "/eos/home-i03/m/msoldani/succo/analysis_templates/anaKrys/modules/physicsAnalysis.py:280: PerformanceWarning: DataFrame is highly fragmented.  This is usually the result of calling `frame.insert` many times, which has poor performance.  Consider joining all columns at once using pd.concat(axis=1) instead. To get a de-fragmented frame, use `newframe = frame.copy()`\n",
      "  df.loc[dfBool, \"boolDigiTime\" + iCh] = True\n",
      "/eos/home-i03/m/msoldani/succo/analysis_templates/anaKrys/modules/physicsAnalysis.py:280: PerformanceWarning: DataFrame is highly fragmented.  This is usually the result of calling `frame.insert` many times, which has poor performance.  Consider joining all columns at once using pd.concat(axis=1) instead. To get a de-fragmented frame, use `newframe = frame.copy()`\n",
      "  df.loc[dfBool, \"boolDigiTime\" + iCh] = True\n",
      "/eos/home-i03/m/msoldani/succo/analysis_templates/anaKrys/modules/physicsAnalysis.py:280: PerformanceWarning: DataFrame is highly fragmented.  This is usually the result of calling `frame.insert` many times, which has poor performance.  Consider joining all columns at once using pd.concat(axis=1) instead. To get a de-fragmented frame, use `newframe = frame.copy()`\n",
      "  df.loc[dfBool, \"boolDigiTime\" + iCh] = True\n",
      "/eos/home-i03/m/msoldani/succo/analysis_templates/anaKrys/modules/physicsAnalysis.py:280: PerformanceWarning: DataFrame is highly fragmented.  This is usually the result of calling `frame.insert` many times, which has poor performance.  Consider joining all columns at once using pd.concat(axis=1) instead. To get a de-fragmented frame, use `newframe = frame.copy()`\n",
      "  df.loc[dfBool, \"boolDigiTime\" + iCh] = True\n",
      "/eos/home-i03/m/msoldani/succo/analysis_templates/anaKrys/modules/physicsAnalysis.py:280: PerformanceWarning: DataFrame is highly fragmented.  This is usually the result of calling `frame.insert` many times, which has poor performance.  Consider joining all columns at once using pd.concat(axis=1) instead. To get a de-fragmented frame, use `newframe = frame.copy()`\n",
      "  df.loc[dfBool, \"boolDigiTime\" + iCh] = True\n",
      "/eos/home-i03/m/msoldani/succo/analysis_templates/anaKrys/modules/physicsAnalysis.py:280: PerformanceWarning: DataFrame is highly fragmented.  This is usually the result of calling `frame.insert` many times, which has poor performance.  Consider joining all columns at once using pd.concat(axis=1) instead. To get a de-fragmented frame, use `newframe = frame.copy()`\n",
      "  df.loc[dfBool, \"boolDigiTime\" + iCh] = True\n",
      "/eos/home-i03/m/msoldani/succo/analysis_templates/anaKrys/modules/physicsAnalysis.py:280: PerformanceWarning: DataFrame is highly fragmented.  This is usually the result of calling `frame.insert` many times, which has poor performance.  Consider joining all columns at once using pd.concat(axis=1) instead. To get a de-fragmented frame, use `newframe = frame.copy()`\n",
      "  df.loc[dfBool, \"boolDigiTime\" + iCh] = True\n",
      "/eos/home-i03/m/msoldani/succo/analysis_templates/anaKrys/modules/physicsAnalysis.py:280: PerformanceWarning: DataFrame is highly fragmented.  This is usually the result of calling `frame.insert` many times, which has poor performance.  Consider joining all columns at once using pd.concat(axis=1) instead. To get a de-fragmented frame, use `newframe = frame.copy()`\n",
      "  df.loc[dfBool, \"boolDigiTime\" + iCh] = True\n",
      "/eos/home-i03/m/msoldani/succo/analysis_templates/anaKrys/modules/physicsAnalysis.py:280: PerformanceWarning: DataFrame is highly fragmented.  This is usually the result of calling `frame.insert` many times, which has poor performance.  Consider joining all columns at once using pd.concat(axis=1) instead. To get a de-fragmented frame, use `newframe = frame.copy()`\n",
      "  df.loc[dfBool, \"boolDigiTime\" + iCh] = True\n",
      "/eos/home-i03/m/msoldani/succo/analysis_templates/anaKrys/modules/physicsAnalysis.py:280: PerformanceWarning: DataFrame is highly fragmented.  This is usually the result of calling `frame.insert` many times, which has poor performance.  Consider joining all columns at once using pd.concat(axis=1) instead. To get a de-fragmented frame, use `newframe = frame.copy()`\n",
      "  df.loc[dfBool, \"boolDigiTime\" + iCh] = True\n",
      "/eos/home-i03/m/msoldani/succo/analysis_templates/anaKrys/modules/physicsAnalysis.py:280: PerformanceWarning: DataFrame is highly fragmented.  This is usually the result of calling `frame.insert` many times, which has poor performance.  Consider joining all columns at once using pd.concat(axis=1) instead. To get a de-fragmented frame, use `newframe = frame.copy()`\n",
      "  df.loc[dfBool, \"boolDigiTime\" + iCh] = True\n",
      "/eos/home-i03/m/msoldani/succo/analysis_templates/anaKrys/modules/physicsAnalysis.py:280: PerformanceWarning: DataFrame is highly fragmented.  This is usually the result of calling `frame.insert` many times, which has poor performance.  Consider joining all columns at once using pd.concat(axis=1) instead. To get a de-fragmented frame, use `newframe = frame.copy()`\n",
      "  df.loc[dfBool, \"boolDigiTime\" + iCh] = True\n",
      "/eos/home-i03/m/msoldani/succo/analysis_templates/anaKrys/modules/physicsAnalysis.py:280: PerformanceWarning: DataFrame is highly fragmented.  This is usually the result of calling `frame.insert` many times, which has poor performance.  Consider joining all columns at once using pd.concat(axis=1) instead. To get a de-fragmented frame, use `newframe = frame.copy()`\n",
      "  df.loc[dfBool, \"boolDigiTime\" + iCh] = True\n",
      "/eos/home-i03/m/msoldani/succo/analysis_templates/anaKrys/modules/physicsAnalysis.py:280: PerformanceWarning: DataFrame is highly fragmented.  This is usually the result of calling `frame.insert` many times, which has poor performance.  Consider joining all columns at once using pd.concat(axis=1) instead. To get a de-fragmented frame, use `newframe = frame.copy()`\n",
      "  df.loc[dfBool, \"boolDigiTime\" + iCh] = True\n",
      "/eos/home-i03/m/msoldani/succo/analysis_templates/anaKrys/modules/physicsAnalysis.py:280: PerformanceWarning: DataFrame is highly fragmented.  This is usually the result of calling `frame.insert` many times, which has poor performance.  Consider joining all columns at once using pd.concat(axis=1) instead. To get a de-fragmented frame, use `newframe = frame.copy()`\n",
      "  df.loc[dfBool, \"boolDigiTime\" + iCh] = True\n",
      "/eos/home-i03/m/msoldani/succo/analysis_templates/anaKrys/modules/physicsAnalysis.py:277: PerformanceWarning: DataFrame is highly fragmented.  This is usually the result of calling `frame.insert` many times, which has poor performance.  Consider joining all columns at once using pd.concat(axis=1) instead. To get a de-fragmented frame, use `newframe = frame.copy()`\n",
      "  df.loc[dfBool, \"boolDigiTime\" + iCh] = (df[\"digiTime\" + iCh] > chMin) & (df[\"digiTime\" + iCh] < chMax)\n",
      "/eos/home-i03/m/msoldani/succo/analysis_templates/anaKrys/modules/physicsAnalysis.py:280: PerformanceWarning: DataFrame is highly fragmented.  This is usually the result of calling `frame.insert` many times, which has poor performance.  Consider joining all columns at once using pd.concat(axis=1) instead. To get a de-fragmented frame, use `newframe = frame.copy()`\n",
      "  df.loc[dfBool, \"boolDigiTime\" + iCh] = True\n",
      "/eos/home-i03/m/msoldani/succo/analysis_templates/anaKrys/modules/physicsAnalysis.py:280: PerformanceWarning: DataFrame is highly fragmented.  This is usually the result of calling `frame.insert` many times, which has poor performance.  Consider joining all columns at once using pd.concat(axis=1) instead. To get a de-fragmented frame, use `newframe = frame.copy()`\n",
      "  df.loc[dfBool, \"boolDigiTime\" + iCh] = True\n",
      "/eos/home-i03/m/msoldani/succo/analysis_templates/anaKrys/modules/physicsAnalysis.py:280: PerformanceWarning: DataFrame is highly fragmented.  This is usually the result of calling `frame.insert` many times, which has poor performance.  Consider joining all columns at once using pd.concat(axis=1) instead. To get a de-fragmented frame, use `newframe = frame.copy()`\n",
      "  df.loc[dfBool, \"boolDigiTime\" + iCh] = True\n"
     ]
    },
    {
     "name": "stderr",
     "output_type": "stream",
     "text": [
      "/eos/home-i03/m/msoldani/succo/analysis_templates/anaKrys/modules/physicsAnalysis.py:280: PerformanceWarning: DataFrame is highly fragmented.  This is usually the result of calling `frame.insert` many times, which has poor performance.  Consider joining all columns at once using pd.concat(axis=1) instead. To get a de-fragmented frame, use `newframe = frame.copy()`\n",
      "  df.loc[dfBool, \"boolDigiTime\" + iCh] = True\n",
      "/eos/home-i03/m/msoldani/succo/analysis_templates/anaKrys/modules/physicsAnalysis.py:280: PerformanceWarning: DataFrame is highly fragmented.  This is usually the result of calling `frame.insert` many times, which has poor performance.  Consider joining all columns at once using pd.concat(axis=1) instead. To get a de-fragmented frame, use `newframe = frame.copy()`\n",
      "  df.loc[dfBool, \"boolDigiTime\" + iCh] = True\n"
     ]
    },
    {
     "name": "stdout",
     "output_type": "stream",
     "text": [
      "cuts added to df: boolDigiTime + ['Nano']\n",
      "run 650277:\n",
      "cuts added to df: boolDigiPH + ['Nano']\n",
      "cuts added to df: boolDigiTime + ['Nano']\n",
      "run 650279:\n",
      "cuts added to df: boolDigiPH + ['Nano']\n",
      "cuts added to df: boolDigiTime + ['Nano']\n",
      "run 650281:\n",
      "cuts added to df: boolDigiPH + ['Nano']\n",
      "cuts added to df: boolDigiTime + ['Nano']\n",
      "run 650282:\n",
      "cuts added to df: boolDigiPH + ['Nano']\n",
      "cuts added to df: boolDigiTime + ['Nano']\n",
      "run 650283:\n",
      "cuts added to df: boolDigiPH + ['Nano']\n",
      "cuts added to df: boolDigiTime + ['Nano']\n",
      "run 650284:\n",
      "cuts added to df: boolDigiPH + ['Nano']\n",
      "cuts added to df: boolDigiTime + ['Nano']\n",
      "run 650285:\n",
      "cuts added to df: boolDigiPH + ['Nano']\n",
      "cuts added to df: boolDigiTime + ['Nano']\n",
      "--\n",
      "run 650276:\n",
      "PHCaloFwd not already in df --> can be created\n",
      "PHCaloFwd added to df\n",
      "run 650277:\n",
      "PHCaloFwd not already in df --> can be created\n",
      "PHCaloFwd added to df\n",
      "run 650279:\n",
      "PHCaloFwd not already in df --> can be created\n",
      "PHCaloFwd added to df\n",
      "run 650281:\n",
      "PHCaloFwd not already in df --> can be created\n",
      "PHCaloFwd added to df\n",
      "run 650282:\n",
      "PHCaloFwd not already in df --> can be created\n",
      "PHCaloFwd added to df\n",
      "run 650283:\n",
      "PHCaloFwd not already in df --> can be created\n",
      "PHCaloFwd added to df\n",
      "run 650284:\n",
      "PHCaloFwd not already in df --> can be created\n",
      "PHCaloFwd added to df\n",
      "run 650285:\n",
      "PHCaloFwd not already in df --> can be created\n",
      "PHCaloFwd added to df\n",
      "--\n",
      "run 650276:\n",
      "1 time entries found in df for CaloFwd channels --> boolTimeCaloFwd added to df (OR between channels)\n",
      "run 650277:\n",
      "1 time entries found in df for CaloFwd channels --> boolTimeCaloFwd added to df (OR between channels)\n"
     ]
    },
    {
     "name": "stderr",
     "output_type": "stream",
     "text": [
      "/eos/home-i03/m/msoldani/succo/analysis_templates/anaKrys/modules/physicsAnalysis.py:316: PerformanceWarning: DataFrame is highly fragmented.  This is usually the result of calling `frame.insert` many times, which has poor performance.  Consider joining all columns at once using pd.concat(axis=1) instead. To get a de-fragmented frame, use `newframe = frame.copy()`\n",
      "  df.loc[dfBool, \"PHCalo\"+caloName] = sum([df[\"digiPH\" + s] for s in lsDigiChCalo[iRun]])\n",
      "/eos/home-i03/m/msoldani/succo/analysis_templates/anaKrys/modules/physicsAnalysis.py:349: PerformanceWarning: DataFrame is highly fragmented.  This is usually the result of calling `frame.insert` many times, which has poor performance.  Consider joining all columns at once using pd.concat(axis=1) instead. To get a de-fragmented frame, use `newframe = frame.copy()`\n",
      "  df.loc[dfBool, \"boolTimeCalo\"+caloName] = False\n"
     ]
    },
    {
     "name": "stdout",
     "output_type": "stream",
     "text": [
      "run 650279:\n",
      "1 time entries found in df for CaloFwd channels --> boolTimeCaloFwd added to df (OR between channels)\n",
      "run 650281:\n",
      "1 time entries found in df for CaloFwd channels --> boolTimeCaloFwd added to df (OR between channels)\n",
      "run 650282:\n",
      "1 time entries found in df for CaloFwd channels --> boolTimeCaloFwd added to df (OR between channels)\n",
      "run 650283:\n",
      "1 time entries found in df for CaloFwd channels --> boolTimeCaloFwd added to df (OR between channels)\n",
      "run 650284:\n",
      "1 time entries found in df for CaloFwd channels --> boolTimeCaloFwd added to df (OR between channels)\n",
      "run 650285:\n",
      "1 time entries found in df for CaloFwd channels --> boolTimeCaloFwd added to df (OR between channels)\n",
      "--\n",
      "run 650276:\n",
      "EFwd not already in df --> can be created\n",
      "EFwd not added to df (calib. function not defined for this run)\n",
      "run 650277:\n",
      "EFwd not already in df --> can be created\n",
      "EFwd not added to df (calib. function not defined for this run)\n",
      "run 650279:\n",
      "EFwd not already in df --> can be created\n",
      "EFwd not added to df (calib. function not defined for this run)\n",
      "run 650281:\n",
      "EFwd not already in df --> can be created\n",
      "EFwd not added to df (calib. function not defined for this run)\n",
      "run 650282:\n",
      "EFwd not already in df --> can be created\n",
      "EFwd not added to df (calib. function not defined for this run)\n",
      "run 650283:\n",
      "EFwd not already in df --> can be created\n",
      "EFwd not added to df (calib. function not defined for this run)\n",
      "run 650284:\n",
      "EFwd not already in df --> can be created\n",
      "EFwd not added to df (calib. function not defined for this run)\n",
      "run 650285:\n",
      "EFwd not already in df --> can be created\n",
      "EFwd not added to df (calib. function not defined for this run)\n",
      "--\n"
     ]
    }
   ],
   "source": [
    "# (various functions in .modules)\n",
    "# recall that elements of lsDigiCh are available in df (with prefix \"digiPHRaw\") by definition\n",
    "# if PHCaloFwd (EFwd) already in df, forward calo. sum (calibration) is not performed -- according to bPHCaloFwd0 (bEFwd0)\n",
    "#     --> name the raw variable differently to (re)execute this\n",
    "\n",
    "if (bDigiPHAny | bPHCaloFwd0 | bEFwd0):\n",
    "    # channels equalisation\n",
    "    df = equalise(df, lsDigiCh, equalMap)\n",
    "    print(\"--\")\n",
    "    \n",
    "    # PH & time booleans\n",
    "    df = defineDigiBooleans(df, lsDigiCh, digiPHCut, digiTimeCut, bDigiTime)\n",
    "    print(\"--\")\n",
    "\n",
    "    # forward calorimeter total PH\n",
    "    # behaviour according to bPHCaloFwd0\n",
    "    # if already existing in df, this is not performed --> name the raw variable differently to (re)execute this\n",
    "    df, bPHCaloFwd = caloSum(df, bPHCaloFwd0, lsDigiChCaloFwd, \"Fwd\", False)\n",
    "    print(\"--\")\n",
    "    \n",
    "    # forward calorimeter time boolean (OR between single-channel time booleans)\n",
    "    # only useful if single channels data are available (regardless of whether or not they have been used to get PHCaloFwd), otherwise always True\n",
    "    df = caloTimeBool(df, bPHCaloFwd, lsDigiChCaloFwd, bDigiTime, \"Fwd\")\n",
    "    print(\"--\")\n",
    "    \n",
    "    # forward calorimeter energy in GeV\n",
    "    # behaviour according to bEFwd0\n",
    "    # if already existing in df, this is not performed --> name the raw variable differently to (re)execute this\n",
    "    df, bEFwd = calibrate(df, bEFwd0, calibMapFwd, \"Fwd\", False)\n",
    "\n",
    "else:\n",
    "    bPHCaloFwd = {}\n",
    "    bEFwd = {}\n",
    "    print(\"no digitizer data available --> no equalised PH, PH & time booleans, forward calo. total PH & energy added to df\")\n",
    "\n",
    "print(\"--\")"
   ]
  },
  {
   "cell_type": "markdown",
   "metadata": {},
   "source": [
    "---"
   ]
  },
  {
   "cell_type": "markdown",
   "metadata": {},
   "source": [
    "## **plots & output**"
   ]
  },
  {
   "cell_type": "code",
   "execution_count": 12,
   "metadata": {
    "jupyter": {
     "source_hidden": true
    }
   },
   "outputs": [],
   "source": [
    "# initialising output plots data dictionary -- empty, it will be filled with the objects needed\n",
    "outData = {}\n",
    "\n",
    "# initialising units of measurement dictionary -- empty string for all the df variables by default\n",
    "units = dict(zip(df.columns, [\"\" for s in df.columns]))\n",
    "\n",
    "# limiting the selection dictionaries to the runs currently under study\n",
    "thInCut0 = {k: v for k, v in thInCut.items() if k in df[\"iRun\"].unique()}\n",
    "xCryCut0 = {k: v for k, v in xCryCut.items() if k in df[\"iRun\"].unique()}\n",
    "outMultCut0 = {k: v for k, v in outMultCut.items() if k in df[\"iRun\"].unique()}\n",
    "digiPHCut0 = {k: v for k, v in digiPHCut.items() if k in df[\"iRun\"].unique()}\n",
    "digiTimeCut0 = {k: v for k, v in digiTimeCut.items() if k in df[\"iRun\"].unique()}"
   ]
  },
  {
   "cell_type": "markdown",
   "metadata": {},
   "source": [
    "### **plot & output settings (other settings in each plot cell)**"
   ]
  },
  {
   "cell_type": "code",
   "execution_count": 13,
   "metadata": {
    "jupyter": {
     "source_hidden": true
    }
   },
   "outputs": [],
   "source": [
    "# if True (False), base plots and related fits are (not) created\n",
    "boolPlotGlob = True\n",
    "\n",
    "# units -- dictionary of the units of measurement for plots\n",
    "# shape: {var: unit} (all string)\n",
    "# unit format: unit between brackets\n",
    "# all the missing variable units are automatically set to empty strings (above)\n",
    "units.update({\"epoch\": \"[s]\"})\n",
    "units.update({\"EFwd\": \"[GeV]\"})\n",
    "units.update({\"x\"+baseTrackingMap[0][0]: \"[cm]\"})\n",
    "units.update({\"x\"+baseTrackingMap[0][1]: \"[cm]\"})\n",
    "units.update({\"xCry0\": \"[cm]\"})\n",
    "units.update({\"xCry1\": \"[cm]\"})\n",
    "for iCh in [s for s in df.columns if \"digiPH\" in s]:\n",
    "    units.update({iCh: \"[ADC]\"})\n",
    "for iCh in [s for s in df.columns if \"digiTime\" in s]:\n",
    "    units.update({iCh: \"[ADC]\"})\n",
    "for iTh in [s for s in df.columns if (\"thIn\" in s) | (\"thOut\" in s)]:\n",
    "    units.update({iTh: \"[rad]\"})\n",
    "\n",
    "# other graphic settings\n",
    "pal2d = \"viridis\"  # palette for 2d plots\n",
    "lineC = \"0.7\"  # color of plot patches (e.g. selection ranges) lines\n",
    "fitC = \"0.1\" # color of fit lines\n",
    "lineW = 1.5  # width of plot patches (e.g. selection ranges) lines\n",
    "fitW = 1.5  # width of fit lines\n",
    "\n",
    "# if True (False), figures are (not) saved in ./out_plots\n",
    "# this is particularly important when running the software as a Python script\n",
    "bPlotSave = True\n",
    "\n",
    "# also recall to set boolPlotGlob above, in the input settings section"
   ]
  },
  {
   "cell_type": "markdown",
   "metadata": {},
   "source": [
    "### **run base info**"
   ]
  },
  {
   "cell_type": "code",
   "execution_count": 14,
   "metadata": {
    "jupyter": {
     "source_hidden": true
    }
   },
   "outputs": [
    {
     "data": {
      "image/png": "[encoded data removed]",
      "text/plain": [
       "<Figure size 504x576 with 1 Axes>"
      ]
     },
     "metadata": {
      "needs_background": "light"
     },
     "output_type": "display_data"
    }
   ],
   "source": [
    "boolPlotLoc = True  # figure(s) here only drawn if True\n",
    "figName = \"runInfo\"  # figure name\n",
    "xSize = 7  # horizontal figure size\n",
    "ySize = 8  # vertical figure size\n",
    "bUseEpoch = False  # if True (False) the epoch (automatic event index) is used -- only if epoch in df, otherwise event index anyway\n",
    "\n",
    "###############\n",
    "if boolPlotLoc & boolPlotGlob:\n",
    "    ax = plot_runInfo(df, [\"boolSingleHitIn\"] if bNHit[\"in\"] else [], bXGonio, bEpoch, bUseEpoch, pal2d, units, xSize, ySize, figName, bPlotSave)\n",
    "    # if input multiplicity is available, base info are studied in input single hit condition\n",
    "    # this is always drawn, since at least iRun is always created inside df -- goniometer DOF availability checked inside the function"
   ]
  },
  {
   "cell_type": "markdown",
   "metadata": {},
   "source": [
    "### TRACKING **input beam profiles & spot**"
   ]
  },
  {
   "cell_type": "code",
   "execution_count": 15,
   "metadata": {
    "jupyter": {
     "source_hidden": true
    }
   },
   "outputs": [],
   "source": [
    "boolPlotLoc = False  # figure(s) here only drawn if True\n",
    "figName = \"xIn\"  # figure name -- the part \"_1d\"/\"_2d\" will be appended\n",
    "xSize = [7, 3]  # horizontal figure size -- 1d-then-2d\n",
    "ySize = [3, 3]  # vertical figure size -- 1d-then-2d\n",
    "binSize = [0.01, 0.01]  # bin size, same for x & y in all the plots below -- 1d-then-2d -- if a component is None, it is automatically computed\n",
    "hRange = [[0, 2], [0, 2]]  # axes ranges, same in all the plots below -- format [[x0, x1] or None, [y0, y1] or None] (if None, automatic definition)\n",
    "bLog = False  # if True (False), log (lin) scale on z\n",
    "bPlot2d = True  # if True (False), 2d profile plot is (not) plotted\n",
    "lsBool = [\"boolSingleHitIn\"]  # list of booleans (available in df) to be applied to all the plots here\n",
    "\n",
    "###############\n",
    "if boolPlotLoc & boolPlotGlob & bXRaw[\"in\"]:\n",
    "    outData = plot_prof(df, (\"x\"+baseTrackingMap[0][0], \"x\"+baseTrackingMap[0][1]), binSize[0], lsBool, hRange, outData, bLog, units, xSize[0], ySize[0], figName+\"1d\", bPlotSave)\n",
    "    if bPlot2d:\n",
    "        plot_proj(df, (\"x\"+baseTrackingMap[0][0], \"x\"+baseTrackingMap[0][1]), binSize[1], lsBool, hRange, False, {}, bLog, lineC, lineW, pal2d, units, xSize[1], ySize[1], figName+\"2d\", bPlotSave)\n",
    "\n",
    "# outData is updated with bin-by-bin spectra values & fit parameters -- entries \"thIn/OutN_histo/fit\""
   ]
  },
  {
   "cell_type": "markdown",
   "metadata": {},
   "source": [
    "### TRACKING **angles**"
   ]
  },
  {
   "cell_type": "code",
   "execution_count": 16,
   "metadata": {
    "jupyter": {
     "source_hidden": true
    }
   },
   "outputs": [
    {
     "name": "stdout",
     "output_type": "stream",
     "text": [
      "spectrum returned in a dictionary with key thIn0_histo -- x, y, ey\n",
      "performing gaussian fit on thIn0...\n",
      "fit parameters:\n",
      "\tampl.\t5.619751e+03 +- 2.832877e+04\n",
      "\tmean\t-5.667372e-04 +- 6.579996e-09\n",
      "\tsigma\t3.437487e-03 +- 4.611857e-09\n",
      "fit parameters are returned in a dictionary with key thIn0 -- parameters, cov. matrix_fit\n",
      "--\n",
      "spectrum returned in a dictionary with key thIn1_histo -- x, y, ey\n",
      "performing gaussian fit on thIn1...\n",
      "fit parameters:\n",
      "\tampl.\t4.071442e+03 +- 1.674618e+03\n",
      "\tmean\t1.620300e-04 +- 1.793365e-09\n",
      "\tsigma\t4.904289e-03 +- 1.644175e-09\n",
      "fit parameters are returned in a dictionary with key thIn1 -- parameters, cov. matrix_fit\n",
      "--\n"
     ]
    },
    {
     "data": {
      "image/png": "[encoded data removed]",
      "text/plain": [
       "<Figure size 504x216 with 2 Axes>"
      ]
     },
     "metadata": {
      "needs_background": "light"
     },
     "output_type": "display_data"
    }
   ],
   "source": [
    "boolPlotLoc = True  # figure(s) here only drawn if True\n",
    "figName = [\"thIn\", \"thOut\", \"thDelta\"]  # figure names -- in-then-out-then-delta\n",
    "xSize = 7  # horizontal figure size\n",
    "ySize = 3  # vertical figure size\n",
    "xRange = [[-0.01, 0.01], [-0.01, 0.01], [-0.01, 0.01]]  # plot ranges, in-then-out-then-delta -- for each, left-then-right, same for x & y -- values can be None (i.e. automatic definition)\n",
    "binSize = [0.0005, 0.0005, 0.0005]  # bin sizes -- in-then-out-then-delta -- if a value is None, automatically computed\n",
    "bFit = [True, False, False]  # do fits if True -- in-then-out-then-delta\n",
    "fitSigma = [0.0001, 0.0001, 0.0001]  # starting point for sigma fits (set to ~ half the distribution FWHM or None, i.e. automatic computation) -- in-then-out-then-delta, only used if bFit=True\n",
    "bSel = True  # draw input selection according to thInCut -- only for input\n",
    "bLog = False  # if True (False), log (lin) scale on y\n",
    "\n",
    "###############\n",
    "lsBool = [[], [], []]\n",
    "if bNHit[\"in\"]:\n",
    "    lsBool[0].append(\"boolSingleHitIn\")\n",
    "    lsBool[1].append(\"boolSingleHitIn\")\n",
    "    lsBool[2].append(\"boolSingleHitIn\")\n",
    "if bNHit[\"out\"]:\n",
    "    lsBool[1].append(\"boolSingleHitOut\")\n",
    "    lsBool[2].append(\"boolSingleHitOut\")\n",
    "# if input/input-output multiplicity is available, input/output & delta angle distr. are studied in input/input-output single hit condition\n",
    "\n",
    "if boolPlotLoc & boolPlotGlob:\n",
    "    if bXRaw[\"in\"]:\n",
    "        outData = plot_th(df, \"thIn\", binSize[0], lsBool[0], xRange[0], bFit[0], fitSigma[0], outData, bSel, thInCut0, bLog, fitC, fitW, lineC, lineW, units, xSize, ySize, figName[0], bPlotSave)\n",
    "    if bXRaw[\"out\"]:\n",
    "        # recall that output angles are computed even in absence of input tracking data -- hits @ crystal automatically set to (0, 0, 0)\n",
    "        outData = plot_th(df, \"thOut\", binSize[1], lsBool[1], xRange[1], bFit[1], fitSigma[1], outData, False, {}, bLog, fitC, fitW, lineC, lineW, units, xSize, ySize, figName[1], bPlotSave)\n",
    "    if bXRaw[\"in\"] & bXRaw[\"out\"]:\n",
    "        outData = plot_th(df, \"thDelta\", binSize[2], lsBool[2], xRange[2], bFit[2], fitSigma[2], outData, False, {}, bLog, fitC, fitW, lineC, lineW, units, xSize, ySize, figName[2], bPlotSave)\n",
    "        \n",
    "# outData is updated with bin-by-bin spectra values & fit parameters -- entries \"thIn/OutN_histo/fit\""
   ]
  },
  {
   "cell_type": "markdown",
   "metadata": {},
   "source": [
    "### TRACKING **multiplicities**"
   ]
  },
  {
   "cell_type": "code",
   "execution_count": 17,
   "metadata": {
    "jupyter": {
     "source_hidden": true
    }
   },
   "outputs": [],
   "source": [
    "boolPlotLoc = False  # figure(s) here only drawn if True\n",
    "figName = \"nHitOut\"  # figure name\n",
    "xSize = 7  # horizontal figure size\n",
    "ySize = 4  # vertical figure size\n",
    "bUseEpoch = False  # if True (False) the epoch (automatic event index) is used -- only if epoch in df, otherwise event index anyway\n",
    "maxNHit = 10  # multiplicity upper limit -- if None, range (& binning) automatically defined\n",
    "bSel = True  # draw output selection according to outMultCut -- only for output\n",
    "tRange = None  # range on the 2d plots x to be used to costrain the data included in the 1d plots -- length-2 array or None (for no costraint)\n",
    "bLog = False  # if True (False), log (lin) scale on y/z in 1d/2d plots\n",
    "\n",
    "###############\n",
    "if boolPlotLoc & boolPlotGlob & bNHit[\"out\"]:\n",
    "    outData = plot_nHit(df, \"nHitOut\", [\"boolSingleHitIn\"] if bNHit[\"in\"] else [], bEpoch, bUseEpoch, maxNHit, tRange, bSel, outMultCut0, outData, bLog, lineC, lineW, pal2d, units, xSize, ySize, figName, bPlotSave)\n",
    "    # if input multiplicity is available, output multiplicity is studied in input single hit condition\n",
    "    \n",
    "# outData is updated with bin-by-bin spectra values (2d & 1d) -- entries \"nHitOut_nameX_histo\" (2d) & \"nHitOut_iRun_histo\" (1d)"
   ]
  },
  {
   "cell_type": "markdown",
   "metadata": {},
   "source": [
    "### TRACKING **beam spots @ crystal**"
   ]
  },
  {
   "cell_type": "code",
   "execution_count": 18,
   "metadata": {
    "jupyter": {
     "source_hidden": true
    }
   },
   "outputs": [],
   "source": [
    "boolPlotLoc = False  # figure(s) here only drawn if True\n",
    "figName = \"xCry\"  # figure name\n",
    "xSize = 3  # horizontal figure size\n",
    "ySize = 3  # vertical figure size\n",
    "binSize = 0.01  # bin size, same for x & y in all the plots below -- if None, automatically computed\n",
    "hRange = [[0.5, 2.0], [0.0, 1.5]]  # axes ranges, same in all the plots below -- format [[x0, x1] or None, [y0, y1] or None] (if None, automatic definition)\n",
    "bSel = [True, True]  # draw fiducial selection according to xCryCut -- plot without multiplicity cut, then plots with multiplicity cut\n",
    "bLog = False  # if True (False), log (lin) scale on z\n",
    "\n",
    "###############\n",
    "lsBool0 = [\"boolSingleHitIn\"] if bNHit[\"in\"] else []\n",
    "# if input multiplicity is available, beam projections @ crystal are studied in input single hit condition\n",
    "\n",
    "if boolPlotLoc & boolPlotGlob & bXRaw[\"in\"]:\n",
    "    plot_proj(df, \"xCry\", binSize, lsBool0+[], hRange, bSel[0], xCryCut0, bLog, lineC, lineW, pal2d, units, xSize, ySize, figName, bPlotSave)\n",
    "    if bNHit[\"out\"]:\n",
    "        # furthermore, study with different output multiplicity selection performed only if output multiplicity data available\n",
    "        plot_proj(df, \"xCry\", binSize, lsBool0+[\"boolLowHitOut\"], hRange, bSel[1], xCryCut0, bLog, lineC, lineW, pal2d, units, xSize, ySize, \"xCry_lowHitOut\", bPlotSave)\n",
    "        plot_proj(df, \"xCry\", binSize, lsBool0+[\"boolHighHitOut\"], hRange, bSel[1], xCryCut0, bLog, lineC, lineW, pal2d, units, xSize, ySize, \"xCry_highHitOut\", bPlotSave)"
   ]
  },
  {
   "cell_type": "markdown",
   "metadata": {},
   "source": [
    "### GONIOMETER **2d phase space**"
   ]
  },
  {
   "cell_type": "code",
   "execution_count": 19,
   "metadata": {
    "jupyter": {
     "source_hidden": true
    }
   },
   "outputs": [],
   "source": [
    "boolPlotLoc = False  # figure(s) here only drawn if True\n",
    "figName = \"gonioPhaseSpace\"  # figure name\n",
    "xSize = 4  # horizontal figure size\n",
    "ySize = 4  # vertical figure size\n",
    "lsVar = [\"Rot\", \"Crad\"]  # length-2 list of gonio. variables to be plot (x-then-y) -- names without the prefix xGonio\n",
    "lsBool = [\"boolInCry\"]  # list of booleans (available in df) to be applied -- input single hit condition applied automatically (if data available)\n",
    "bLog = False  # if True (False), log (lin) scale on z\n",
    "\n",
    "###############\n",
    "lsBool0 = [\"boolSingleHitIn\"] if bNHit[\"in\"] else []\n",
    "# if input multiplicity is available, goniometer DOF phase space is studied in input single hit condition\n",
    "\n",
    "if boolPlotLoc & boolPlotGlob & bXGonio:\n",
    "    plot_gonioCorr(df, lsVar, lsBool0+lsBool, bLog, pal2d, units, xSize, ySize, figName, bPlotSave)"
   ]
  },
  {
   "cell_type": "markdown",
   "metadata": {},
   "source": [
    "### GONIOMETER **trends over other variables**"
   ]
  },
  {
   "cell_type": "code",
   "execution_count": 20,
   "metadata": {
    "jupyter": {
     "source_hidden": true
    }
   },
   "outputs": [],
   "source": [
    "boolPlotLoc = False  # figure(s) here only drawn if True\n",
    "figName = \"gonioTrends\"  # figure name base -- it will be completed with \"_\" and the name of each variable under study\n",
    "xSize = 7  # horizontal figure size (for each single figures)\n",
    "ySize = 4  # vertical figure size (for each single figures)\n",
    "lsBool = [\"boolInAligned\", \"boolInCry\"]  # list of booleans (available in df) to be applied to all the plots here -- input single hit cond. applied automatically (if data available)\n",
    "bLog = False  # if True (False), log (lin) scale on z\n",
    "\n",
    "# dictionary of the variables to be analysed -- shape:\n",
    "# {varY (string): {\n",
    "#         varX0 (string): [[xL0, xR0, dx0], [yL0, yR0, dy0], [bDrawProf0 (bool), bFit0 (bool), deg0 (integer), xFitL0, xFitR0]], (float if not otherwise specified)\n",
    "#         varX1: [[xL1, xR1, dx1], [yL1, yR1, dy1], [bDrawProf1, bFit1, deg1, xFitL1, xFitR1]],\n",
    "#         ...\n",
    "# }}\n",
    "# 1 figure per varY, each with 1 plot per varX -- varX format: part of the variable name following \"xGonioRaw\"\n",
    "# plot in ranges (xL, xR) & (yL, yR) with bin size dx & dy\n",
    "# profile plot polynomial fit with degree deg -- supported deg = 0, 1, 2; also Gaussian fit if deg = \"Gaussian\"\n",
    "# all entries (apart from bFit) can also be None -- automatic definition in this case (e.g. deg = 0)\n",
    "dictGonioTrends = {\n",
    "    \"nHitOut\": {\n",
    "        \"Rot\": [[None, None, None], [None, None, 1], [True, True, 2, None, None]],\n",
    "    },\n",
    "}\n",
    "        \n",
    "###############\n",
    "lsBool0 = [\"boolSingleHitIn\"] if bNHit[\"in\"] else []\n",
    "# if input multiplicity is available, goniometer trends are studied in input single hit condition\n",
    "\n",
    "if boolPlotLoc & boolPlotGlob & bXGonio:\n",
    "    for i, iY in enumerate(dictGonioTrends):\n",
    "        outData = plot_gonioTrends(df, iY, dictGonioTrends[iY], lsBool0+lsBool, outData, bLog, fitC, fitW, lineC, lineW, pal2d, units, xSize, ySize, figName, bPlotSave)\n",
    "        \n",
    "# outData is updated with profile plots & fit info (only if fit requested) -- entries name format: \"nameY_nameX_prof\" & \"nameY_nameX_fit\""
   ]
  },
  {
   "cell_type": "markdown",
   "metadata": {},
   "source": [
    "### DIGITIZERS **single-channel PH-vs-time phase spaces**"
   ]
  },
  {
   "cell_type": "code",
   "execution_count": 21,
   "metadata": {
    "jupyter": {
     "source_hidden": true
    }
   },
   "outputs": [],
   "source": [
    "boolPlotLoc = False  # figure(s) here only drawn if True\n",
    "figName = \"digi\"  # figure name\n",
    "xSize = 7  # horizontal figure size\n",
    "ySize = 8  # vertical figure size\n",
    "lsBool = []  # list of booleans (available in df) to be applied -- same for all the channels (if using cuts on crystal, consider including input single hit cond.)\n",
    "binSize = [8, 4]  # bin sizes -- time-then-PH -- if a value is None, automatically computed\n",
    "bSel = True  # draw PH & time selection boxes according to digiPHCut & digiTimeCut -- same boolean for all the digitizer channels\n",
    "bLog = True  # if True (False), log (lin) scale on z\n",
    "\n",
    "###############\n",
    "if boolPlotLoc & boolPlotGlob & bDigiPHAny:\n",
    "    plot_digi(df, lsDigiCh, binSize, lsBool, bDigiTime, bSel, digiPHCut0, digiTimeCut0, bLog, lineC, lineW, pal2d, units, xSize, ySize, figName, bPlotSave)"
   ]
  },
  {
   "cell_type": "markdown",
   "metadata": {},
   "source": [
    "### DIGITIZERS **forward calorimeter energy**"
   ]
  },
  {
   "cell_type": "code",
   "execution_count": 22,
   "metadata": {
    "jupyter": {
     "source_hidden": true
    }
   },
   "outputs": [],
   "source": [
    "boolPlotLoc = False  # figure(s) here only drawn if True\n",
    "figName = \"energyFwd\"  # figure name\n",
    "xSize = 7  # horizontal figure size\n",
    "ySize = 5  # vertical figure size\n",
    "binSize = 2  # bin size - can't be set to None (needed for errorbars)\n",
    "xRange = None  # plot range - [min, max] or None (for automatic definition for each typeRun value separately)\n",
    "lsBool = [\"boolSingleHitIn\", \"boolInAligned\", \"boolInCry\", \"boolTimeCaloFwd\"]  # list of booleans (available in df) to be applied -- selection on typeRun applied automatically (if using cuts on crystal, consider including input single hit cond.)\n",
    "bUseEpoch = False  # if True (False) the epoch (automatic event index) is used -- only if epoch in df, otherwise event index anyway\n",
    "bLog = False  # if True (False), log (lin) scale on y/z in 1d/2d plots\n",
    "\n",
    "###############\n",
    "if boolPlotLoc & boolPlotGlob & any(bEFwd.values()):\n",
    "    outData = plot_energyRuns(df, \"Fwd\", binSize, bEFwd, xRange, bEpoch, bUseEpoch, lsBool, bLog, outData, pal2d, units, xSize, ySize, figName, bPlotSave)  # forward calo. energy\n",
    "    \n",
    "# outData is updated with bin-by-bin spectra values -- entries name format: \"EFwd_typeRun_histo\""
   ]
  },
  {
   "cell_type": "markdown",
   "metadata": {},
   "source": [
    "---"
   ]
  },
  {
   "cell_type": "markdown",
   "metadata": {},
   "source": [
    "### **output data**"
   ]
  },
  {
   "cell_type": "code",
   "execution_count": 23,
   "metadata": {
    "jupyter": {
     "source_hidden": true
    }
   },
   "outputs": [
    {
     "name": "stdout",
     "output_type": "stream",
     "text": [
      "saving output dictionary outData to ./out_data/outData.pickle, with 4 entries\n",
      "--\n"
     ]
    }
   ],
   "source": [
    "# output dictionary outData saved as in ./out_data/outData.pickle\n",
    "globals().update(outData)\n",
    "saveOutData(globals())  # function in .modules\n",
    "print(\"--\")\n",
    "\n",
    "########\n",
    "# to open the Pickle file importing the anaKrys modules: \n",
    "#    outData = readOutData()  # function in .modules"
   ]
  },
  {
   "cell_type": "markdown",
   "metadata": {},
   "source": [
    "---"
   ]
  },
  {
   "cell_type": "markdown",
   "metadata": {},
   "source": [
    "## **whiteboard**"
   ]
  },
  {
   "cell_type": "code",
   "execution_count": 24,
   "metadata": {},
   "outputs": [],
   "source": [
    "# colour map\n",
    "cmap_name = \"viridis\"\n",
    "cmap = plt.get_cmap(cmap_name).copy()\n",
    "cmap.set_bad('white')"
   ]
  },
  {
   "cell_type": "code",
   "execution_count": 25,
   "metadata": {},
   "outputs": [
    {
     "name": "stdout",
     "output_type": "stream",
     "text": [
      "650276 {'Nano': [180, 280]}\n",
      "650277 {'Nano': [180, 280]}\n",
      "650279 {'Nano': [180, 280]}\n",
      "650281 {'Nano': [180, 280]}\n",
      "650282 {'Nano': [180, 280]}\n",
      "650283 {'Nano': [180, 280]}\n",
      "650284 {'Nano': [180, 280]}\n",
      "650285 {'Nano': [180, 280]}\n"
     ]
    },
    {
     "name": "stderr",
     "output_type": "stream",
     "text": [
      "/tmp/ipykernel_2635/2118877724.py:2: PerformanceWarning: DataFrame is highly fragmented.  This is usually the result of calling `frame.insert` many times, which has poor performance.  Consider joining all columns at once using pd.concat(axis=1) instead. To get a de-fragmented frame, use `newframe = frame.copy()`\n",
      "  df[\"xCrilin0\"] = sl.zProj(df[\"x2\"], 72.6, df[\"x0\"], 0, 72.6+241.5)\n",
      "/tmp/ipykernel_2635/2118877724.py:3: PerformanceWarning: DataFrame is highly fragmented.  This is usually the result of calling `frame.insert` many times, which has poor performance.  Consider joining all columns at once using pd.concat(axis=1) instead. To get a de-fragmented frame, use `newframe = frame.copy()`\n",
      "  df[\"xCrilin1\"] = sl.zProj(df[\"x3\"], 72.6, df[\"x1\"], 0, 72.6+241.5)\n",
      "/tmp/ipykernel_2635/2118877724.py:5: PerformanceWarning: DataFrame is highly fragmented.  This is usually the result of calling `frame.insert` many times, which has poor performance.  Consider joining all columns at once using pd.concat(axis=1) instead. To get a de-fragmented frame, use `newframe = frame.copy()`\n",
      "  df[\"digiTimeNanoCorr\"] = df.digiTimeNano - df.digiTimeTrigD + df.digiTimeTrigD.mean()\n",
      "/tmp/ipykernel_2635/2118877724.py:7: PerformanceWarning: DataFrame is highly fragmented.  This is usually the result of calling `frame.insert` many times, which has poor performance.  Consider joining all columns at once using pd.concat(axis=1) instead. To get a de-fragmented frame, use `newframe = frame.copy()`\n",
      "  df[\"digiTimeTrigACorr\"] = df.digiTimeTrigA - df.digiTimeTrigD + df.digiTimeTrigD.mean()\n",
      "/tmp/ipykernel_2635/2118877724.py:8: PerformanceWarning: DataFrame is highly fragmented.  This is usually the result of calling `frame.insert` many times, which has poor performance.  Consider joining all columns at once using pd.concat(axis=1) instead. To get a de-fragmented frame, use `newframe = frame.copy()`\n",
      "  df[\"digiTimeTrigBCorr\"] = df.digiTimeTrigB - df.digiTimeTrigD + df.digiTimeTrigD.mean()\n",
      "/tmp/ipykernel_2635/2118877724.py:9: PerformanceWarning: DataFrame is highly fragmented.  This is usually the result of calling `frame.insert` many times, which has poor performance.  Consider joining all columns at once using pd.concat(axis=1) instead. To get a de-fragmented frame, use `newframe = frame.copy()`\n",
      "  df[\"digiTimeTrigCCorr\"] = df.digiTimeTrigC - df.digiTimeTrigD + df.digiTimeTrigD.mean()\n",
      "/tmp/ipykernel_2635/2118877724.py:10: PerformanceWarning: DataFrame is highly fragmented.  This is usually the result of calling `frame.insert` many times, which has poor performance.  Consider joining all columns at once using pd.concat(axis=1) instead. To get a de-fragmented frame, use `newframe = frame.copy()`\n",
      "  df[\"digiTimeTrigDCorr\"] = df.digiTimeTrigD - df.digiTimeTrigD + df.digiTimeTrigD.mean()\n",
      "/tmp/ipykernel_2635/2118877724.py:11: PerformanceWarning: DataFrame is highly fragmented.  This is usually the result of calling `frame.insert` many times, which has poor performance.  Consider joining all columns at once using pd.concat(axis=1) instead. To get a de-fragmented frame, use `newframe = frame.copy()`\n",
      "  df[\"digiTimeTrigECorr\"] = df.digiTimeTrigE - df.digiTimeTrigD + df.digiTimeTrigD.mean()\n",
      "/tmp/ipykernel_2635/2118877724.py:15: PerformanceWarning: DataFrame is highly fragmented.  This is usually the result of calling `frame.insert` many times, which has poor performance.  Consider joining all columns at once using pd.concat(axis=1) instead. To get a de-fragmented frame, use `newframe = frame.copy()`\n",
      "  df.loc[df.iRun==run, \"boolDigiTimeNanoCorr\"] =\\\n"
     ]
    }
   ],
   "source": [
    "# new variables\n",
    "df[\"xCrilin0\"] = sl.zProj(df[\"x2\"], 72.6, df[\"x0\"], 0, 72.6+241.5)\n",
    "df[\"xCrilin1\"] = sl.zProj(df[\"x3\"], 72.6, df[\"x1\"], 0, 72.6+241.5)\n",
    "\n",
    "df[\"digiTimeNanoCorr\"] = df.digiTimeNano - df.digiTimeTrigD + df.digiTimeTrigD.mean()\n",
    "\n",
    "df[\"digiTimeTrigACorr\"] = df.digiTimeTrigA - df.digiTimeTrigD + df.digiTimeTrigD.mean()\n",
    "df[\"digiTimeTrigBCorr\"] = df.digiTimeTrigB - df.digiTimeTrigD + df.digiTimeTrigD.mean()\n",
    "df[\"digiTimeTrigCCorr\"] = df.digiTimeTrigC - df.digiTimeTrigD + df.digiTimeTrigD.mean()\n",
    "df[\"digiTimeTrigDCorr\"] = df.digiTimeTrigD - df.digiTimeTrigD + df.digiTimeTrigD.mean()\n",
    "df[\"digiTimeTrigECorr\"] = df.digiTimeTrigE - df.digiTimeTrigD + df.digiTimeTrigD.mean()\n",
    "\n",
    "for run in df.iRun.unique():\n",
    "    print(run, digiTimeCut[run])\n",
    "    df.loc[df.iRun==run, \"boolDigiTimeNanoCorr\"] =\\\n",
    "        ((df.digiTimeNanoCorr) > digiTimeCut[run][\"Nano\"][0]) &\\\n",
    "        ((df.digiTimeNanoCorr) < digiTimeCut[run][\"Nano\"][1])"
   ]
  },
  {
   "cell_type": "code",
   "execution_count": 26,
   "metadata": {},
   "outputs": [
    {
     "data": {
      "image/png": "[encoded data removed]",
      "text/plain": [
       "<Figure size 720x720 with 3 Axes>"
      ]
     },
     "metadata": {
      "needs_background": "light"
     },
     "output_type": "display_data"
    }
   ],
   "source": [
    "# scintillators, times\n",
    "plt.figure(figsize=(10, 10))\n",
    "if True:\n",
    "    plt.subplot(311)\n",
    "    #plt.hist(df[df.boolInAligned].digiTimeTrigA, bins=np.arange(0, 1024, 1), histtype=\"step\", label=\"A\") ;\n",
    "    #plt.hist(df[df.boolInAligned].digiTimeTrigB, bins=np.arange(0, 1024, 1), histtype=\"step\", label=\"B\") ;\n",
    "    plt.hist(df[df.boolInAligned].digiTimeTrigC, bins=np.arange(0, 1024, 1), histtype=\"step\", label=\"C\") ;\n",
    "    plt.hist(df[df.boolInAligned].digiTimeTrigD, bins=np.arange(0, 1024, 1), histtype=\"step\", label=\"D\") ;\n",
    "    plt.hist(df[df.boolInAligned].digiTimeTrigE, bins=np.arange(0, 1024, 1), histtype=\"step\", label=\"E\") ;\n",
    "    plt.yscale(\"linear\")\n",
    "    plt.title(\"trigger (not aligned) signals\")\n",
    "    plt.legend()\n",
    "    \n",
    "    plt.subplot(312)\n",
    "    #plt.hist(df[df.boolInAligned].digiTimeTrigACorr, bins=400, histtype=\"step\", label=\"A\") ;\n",
    "    #plt.hist(df[df.boolInAligned].digiTimeTrigBCorr, bins=400, histtype=\"step\", label=\"B\") ;\n",
    "    plt.hist(df[df.boolInAligned].digiTimeTrigCCorr, bins=400, histtype=\"step\", label=\"C\") ;\n",
    "    plt.hist(df[df.boolInAligned].digiTimeTrigDCorr, bins=400, histtype=\"step\", label=\"D\") ;\n",
    "    plt.hist(df[df.boolInAligned].digiTimeTrigECorr, bins=400, histtype=\"step\", label=\"E\") ;\n",
    "    plt.yscale(\"linear\")\n",
    "    plt.title(\"trigger (aligned) signals\")\n",
    "    plt.legend()\n",
    "\n",
    "    plt.subplot(313)\n",
    "    #plt.hist(df[df.boolInAligned].digiPHEmpty7200, bins=400, histtype=\"step\") ;\n",
    "    ##plt.hist(df[df.boolInAligned & (df.digiPHRawLucite0>38) & (df.digiPHRawLucite1>38)].digiHalfTime7420, bins=400, histtype=\"step\", color=\"C1\") ;\n",
    "    ##plt.hist(df[df.boolInAligned & (df.digiPHRawLucite0>38) & (df.digiPHRawLucite1>38)].digiHalfTime7423, bins=400, histtype=\"step\", color=\"C2\") ;\n",
    "    ##plt.hist(df[df.boolInAligned & (df.digiPHRawLucite0>38) & (df.digiPHRawLucite1>38)].digiHalfTime7426, bins=400, histtype=\"step\", color=\"C3\") ;\n",
    "    plt.hist(df[df.boolInAligned & (df.digiPHRawLucite0>38) & (df.digiPHRawLucite1>38)].digiTimeLucite1 - df[df.boolInAligned & (df.digiPHRawLucite0>38) & (df.digiPHRawLucite1>38)].digiTimeLucite0, bins=np.arange(-3, 3, 1), histtype=\"step\") ;\n",
    "    plt.hist(df[df.boolInAligned & (df.digiPHRawLucite0>38) & (df.digiPHRawLucite1>38)].digiHalfTime7427 - df[df.boolInAligned & (df.digiPHRawLucite0>38) & (df.digiPHRawLucite1>38)].digiHalfTime7426, bins=np.arange(-3, 3, 1), histtype=\"step\") ;\n",
    "    #plt.xlim((-10, 10))\n",
    "    #plt.hist(df[df.boolInAligned].digiTimeTrigB-df[df.boolInAligned].digiTimeTrigC+df[df.boolInAligned].digiTimeTrigC.mean(), bins=400, histtype=\"step\", color=\"k\") ;\n",
    "    plt.yscale(\"linear\")\n",
    "    plt.title(\"trigger rising @ 50%%\")"
   ]
  },
  {
   "cell_type": "code",
   "execution_count": 27,
   "metadata": {},
   "outputs": [
    {
     "data": {
      "image/png": "[encoded data removed]",
      "text/plain": [
       "<Figure size 720x720 with 2 Axes>"
      ]
     },
     "metadata": {
      "needs_background": "light"
     },
     "output_type": "display_data"
    }
   ],
   "source": [
    "# prototype times analysis - NanoCal\n",
    "if True:\n",
    "    plt.figure(figsize=(10, 10))\n",
    "\n",
    "    plt.subplot(311)\n",
    "    plt.hist(\n",
    "        df[df.boolInAligned].digiTimeNano,\n",
    "        bins=np.arange(0, 1024, 2), histtype=\"step\", density=True\n",
    "    ) ;\n",
    "    plt.hist(\n",
    "        df[df.boolInAligned].digiTimeNanoCorr, \n",
    "        bins=np.arange(0, 1024, 2), histtype=\"step\", density=True\n",
    "    ) ;\n",
    "    plt.yscale(\"linear\")\n",
    "    plt.title(\"prototype, jitter correction\")\n",
    "    \n",
    "    plt.subplot(312)\n",
    "    plt.hist(\n",
    "        df[df.boolInAligned & ((df.digiPHNano>100) & (df.digiPHNano<800))].digiTimeNanoCorr,\n",
    "        bins=np.arange(0, 1024, 2), histtype=\"step\", density=True, label=\"lower PH slice\"\n",
    "    ) ;\n",
    "    plt.hist(\n",
    "        df[df.boolInAligned & ((df.digiPHNano>30) & (df.digiPHNano<60))].digiTimeNanoCorr, \n",
    "        bins=np.arange(0, 1024, 2), histtype=\"step\", density=True, label=\"higher PH slice\"\n",
    "    ) ;\n",
    "    plt.yscale(\"linear\")\n",
    "    plt.title(\"prototype, different PH\")\n",
    "    plt.legend()"
   ]
  },
  {
   "cell_type": "code",
   "execution_count": 47,
   "metadata": {},
   "outputs": [
    {
     "name": "stdout",
     "output_type": "stream",
     "text": [
      "conv_muons_front 11895\n",
      "conv_pos4GeV_front 19263\n",
      "conv_pos2GeV_front 11493\n",
      "conv_pos1GeV_front 8702\n"
     ]
    },
    {
     "data": {
      "image/png": "[encoded data removed]",
      "text/plain": [
       "<Figure size 720x720 with 2 Axes>"
      ]
     },
     "metadata": {
      "needs_background": "light"
     },
     "output_type": "display_data"
    }
   ],
   "source": [
    "# calorimeter PHs - NanoCal\n",
    "if True:\n",
    "    plt.figure(figsize=(10, 10))\n",
    "    plt.subplot(311)\n",
    "    lim = 4000\n",
    "    \n",
    "    for run in df.typeRun.unique():\n",
    "        print(run, df[(df.typeRun==run) & df.boolInAligned].shape[0])\n",
    "        \n",
    "        var = \"digiPHEmpty200\" if (run==\"pvt_muons_front\") else \"digiPHNano\"\n",
    "        \n",
    "        plt.subplot(311)\n",
    "        plt.hist(df[(df.typeRun==run) & df.boolInAligned][var], bins=np.arange(0, lim, 2), histtype=\"step\", label=run) ;\n",
    "        plt.yscale(\"log\")\n",
    "        plt.title(\"prototype, not normalised\")\n",
    "        plt.legend()\n",
    "        \n",
    "        plt.subplot(312)\n",
    "        plt.hist(df[(df.typeRun==run) & df.boolInAligned][var], bins=np.arange(0, lim, 2), histtype=\"step\", label=run, density=True) ;\n",
    "        plt.yscale(\"log\")\n",
    "        plt.title(\"prototype, normalised\")\n",
    "        plt.legend()"
   ]
  },
  {
   "cell_type": "code",
   "execution_count": 29,
   "metadata": {},
   "outputs": [
    {
     "data": {
      "image/png": "[encoded data removed]",
      "text/plain": [
       "<Figure size 720x720 with 1 Axes>"
      ]
     },
     "metadata": {
      "needs_background": "light"
     },
     "output_type": "display_data"
    }
   ],
   "source": [
    "# calorimeter digitizer phase space - NanoCal\n",
    "if True:\n",
    "    lim = 500\n",
    "    \n",
    "    plt.figure(figsize=(10, 10))\n",
    "    plt.subplot(211)\n",
    "    x = df[df.boolInAligned].digiTimeNano\n",
    "    y = df[df.boolInAligned].digiPHRawNano\n",
    "    plt.hist2d(x, y, bins=(np.arange(0, 1023, 1), np.arange(0, lim, 1)), norm=LogNorm()) ;"
   ]
  },
  {
   "cell_type": "code",
   "execution_count": 30,
   "metadata": {},
   "outputs": [
    {
     "data": {
      "image/png": "[encoded data removed]",
      "text/plain": [
       "<Figure size 720x576 with 1 Axes>"
      ]
     },
     "metadata": {
      "needs_background": "light"
     },
     "output_type": "display_data"
    }
   ],
   "source": [
    "# calorimeter efficiency map - NanoCal\n",
    "bContourf = False\n",
    "bLog = False\n",
    "bins = 250\n",
    "\n",
    "if True:\n",
    "    plt.figure(figsize=(10, 8))\n",
    "    x, y = \"xCaloFwd0\", \"xCaloFwd1\"\n",
    "    dftempD = df[df.boolInAligned][[x, y]]\n",
    "    dftempN = df[\n",
    "        df.boolInAligned &\\\n",
    "        ((df.digiPHNano>80) & (df.digiPHNano<200)) &\\\n",
    "        ((df.digiTimeNano>250) & (df.digiTimeNano<400)) \n",
    "    ][[x, y]]\n",
    "\n",
    "    if bContourf:\n",
    "        countsN, ybins, xbins = np.histogram2d(dftempN[x], dftempN[y], bins=bins)\n",
    "        countsN[countsN==0]=np.nan\n",
    "        countsD, ybins, xbins = np.histogram2d(dftempD[x], dftempD[y], bins=bins)\n",
    "        countsD[countsD==0]=np.nan\n",
    "        plt.contourf(countsN.T/countsD.T, extent=[xbins.min(),xbins.max(),ybins.min(),ybins.max()], levels=200, norm=LogNorm() if bLog else None)\n",
    "    else:\n",
    "        _ = sl.hist2dRatio(dftempN[x], dftempN[y], dftempD[x], dftempD[y], bins=bins, cmap=cmap, norm=LogNorm() if bLog else None)"
   ]
  },
  {
   "cell_type": "code",
   "execution_count": 31,
   "metadata": {},
   "outputs": [
    {
     "data": {
      "image/png": "[encoded data removed]",
      "text/plain": [
       "<Figure size 720x720 with 2 Axes>"
      ]
     },
     "metadata": {
      "needs_background": "light"
     },
     "output_type": "display_data"
    }
   ],
   "source": [
    "# correlation between signals in Lucite/Cindy\n",
    "if True:\n",
    "    bXYLog = False\n",
    "    \n",
    "    plt.figure(figsize=(10, 10))\n",
    "    plt.subplot(211)\n",
    "    plt.hist2d(df[df.boolInAligned].digiPHRawLucite0, df[df.boolInAligned].digiPHRawLucite1, bins=np.arange(1, 4100, 1), norm=LogNorm()) ;\n",
    "    plt.colorbar()\n",
    "    plt.grid(True)\n",
    "    if bXYLog:\n",
    "        plt.xscale(\"log\")\n",
    "        plt.yscale(\"log\")"
   ]
  },
  {
   "cell_type": "code",
   "execution_count": 32,
   "metadata": {},
   "outputs": [],
   "source": [
    "# CRILIN single-layer spectra\n",
    "if False:\n",
    "    lim = 2000\n",
    "    bFid = (df.xCrilin0>2.8) & (df.xCrilin0<3.8) & (df.xCrilin1>4.8) & (df.xCrilin1<5.8)\n",
    "    bXYLog = True\n",
    "    \n",
    "    plt.figure(figsize=(10, 10))\n",
    "    plt.subplot(211)\n",
    "    plt.hist(df[df.boolInAligned & bFid][\"digiPHCrilinTot0\"], bins=np.arange(0, lim, 10), histtype=\"step\", density=True, label=\"layer 0\");\n",
    "    plt.hist(df[df.boolInAligned & bFid][\"digiPHCrilinTot1\"], bins=np.arange(0, lim, 10), histtype=\"step\", density=True, label=\"layer 1\");\n",
    "    plt.yscale(\"log\")\n",
    "    \n",
    "    plt.subplot(212)\n",
    "    plt.hist2d(\n",
    "        df[df.boolInAligned & bFid].digiPHRawLucite0, \n",
    "        df[df.boolInAligned & bFid].digiPHRawLucite1, \n",
    "        bins=np.arange(1, lim, 1), norm=LogNorm()\n",
    "    ) ;\n",
    "    plt.colorbar()\n",
    "    plt.grid(True)\n",
    "    if bXYLog:\n",
    "        plt.xscale(\"log\")\n",
    "        plt.yscale(\"log\")"
   ]
  },
  {
   "cell_type": "code",
   "execution_count": 33,
   "metadata": {},
   "outputs": [],
   "source": [
    "#plt.figure()\n",
    "#x = df[df.boolInAligned & (df.digiPHRawLucite1>38)].digiTimeLucite0 # -\\\n",
    "#        #df[df.boolInAligned & (df.digiPHRawLucite1>38)].digiTimeTrigC +\\\n",
    "#        #df[df.boolInAligned & (df.digiPHRawLucite1>38)].digiTimeTrigC.mean() \n",
    "#y = df[df.boolInAligned & (df.digiPHRawLucite1>38)].digiPHRawLucite0\n",
    "#plt.hist2d(x, y, bins=(100, np.arange(0, 70, 1)), norm=LogNorm()) ;"
   ]
  },
  {
   "cell_type": "code",
   "execution_count": 34,
   "metadata": {},
   "outputs": [],
   "source": [
    "#plt.figure()\n",
    "#\n",
    "#plt.subplot(211)\n",
    "#for ch in [s for s in df.columns if \"PHRawCrilin\" in s]:\n",
    "#    plt.hist(df[df.boolInAligned][ch], bins=np.arange(0, 100, 3), histtype=\"step\", density=True);\n",
    "#plt.yscale(\"log\")\n",
    "#    \n",
    "#plt.subplot(212)\n",
    "#ls0, ls1 = [], []\n",
    "#for ch in [s for s in df.columns if \"digiPHRawCrilin\" in s]:\n",
    "#    i = int(ch.replace(\"digiPHRawCrilin\", \"\"))\n",
    "#    if i<18:\n",
    "#        ls0.append(ch)\n",
    "#    else:\n",
    "#        ls1.append(ch)\n",
    "#df[\"digiPHCrilinTot0\"] = df[ls0].sum(axis=1)\n",
    "#df[\"digiPHCrilinTot1\"] = df[ls1].sum(axis=1)\n",
    "#plt.hist(df[df.boolInAligned][\"digiPHCrilinTot0\"], bins=np.arange(0, 2000, 10), histtype=\"step\", density=True);\n",
    "#plt.hist(df[df.boolInAligned][\"digiPHCrilinTot1\"], bins=np.arange(0, 2000, 10), histtype=\"step\", density=True);\n",
    "#plt.yscale(\"log\")"
   ]
  },
  {
   "cell_type": "code",
   "execution_count": 35,
   "metadata": {},
   "outputs": [],
   "source": [
    "## calorimeter efficiency map - CRILIN\n",
    "#bContourf = False\n",
    "#bLog = False\n",
    "#bins = 200\n",
    "#\n",
    "#plt.hist2d(df.digiPHCrilinTot0, df.digiPHCrilinTot1, bins=100, norm=LogNorm()) ;"
   ]
  },
  {
   "cell_type": "code",
   "execution_count": 36,
   "metadata": {},
   "outputs": [],
   "source": [
    "#plt.figure()\n",
    "#for ch in [s for s in df.columns if \"digiTimeCrilin\" in s]:\n",
    "#    plt.subplot(211)\n",
    "#    plt.hist(df[df.boolInAligned][ch], bins=np.arange(10, 1024, 30), histtype=\"step\")\n",
    "#    plt.subplot(212)\n",
    "#    plt.hist(df[df.boolInAligned & (df[ch.replace(\"Time\", \"PHRaw\")]>40)][ch], bins=np.arange(10, 1024, 30), histtype=\"step\", density=False)"
   ]
  },
  {
   "cell_type": "code",
   "execution_count": 37,
   "metadata": {},
   "outputs": [],
   "source": [
    "## calorimeter efficiency map - CRILIN\n",
    "#bContourf = False\n",
    "#bLog = False\n",
    "#bins = 200\n",
    "#\n",
    "#df[\"xCrilin0\"] = sl.zProj(df[\"x2\"], 72.6, df[\"x0\"], 0, 72.6+241.5)\n",
    "#df[\"xCrilin1\"] = sl.zProj(df[\"x3\"], 72.6, df[\"x1\"], 0, 72.6+241.5)\n",
    "#\n",
    "#if True:\n",
    "#    plt.figure(figsize=(10, 10))\n",
    "#    x, y = \"xCrilin0\", \"xCrilin1\"\n",
    "#    dftempD = df[df.boolInAligned][[x, y]]\n",
    "#    dftempN = df[\n",
    "#        df.boolInAligned & (((df.digiPHCrilinTot0+df.digiPHCrilinTot1)>400)) &\\\n",
    "#        ((df.digiTimeCrilin10>240) & (df.digiTimeCrilin10<340)) &\\\n",
    "#        ((df.digiTimeCrilin11>240) & (df.digiTimeCrilin11<340))\n",
    "#    ][[x, y]]\n",
    "#\n",
    "#    if bContourf:\n",
    "#        countsN, ybins, xbins = np.histogram2d(dftempN[x], dftempN[y], bins=bins)\n",
    "#        countsN[counts==0]=np.nan\n",
    "#        countsD, ybins, xbins = np.histogram2d(dftempD[x], dftempD[y], bins=bins)\n",
    "#        countsD[counts==0]=np.nan\n",
    "#        plt.contourf(countsN.T/countsD.T, extent=[xbins.min(),xbins.max(),ybins.min(),ybins.max()], levels=20, norm=LogNorm() if bLog else None)\n",
    "#    else:\n",
    "#        a = sl.hist2dRatio(dftempN[x], dftempN[y], dftempD[x], dftempD[y], bins=bins, cmap=cmap, norm=LogNorm() if bLog else None)"
   ]
  },
  {
   "cell_type": "code",
   "execution_count": 38,
   "metadata": {},
   "outputs": [],
   "source": [
    "## calorimeter efficiency map - CRILIN\n",
    "#bContourf = False\n",
    "#bLog = False\n",
    "#bins = 200\n",
    "#\n",
    "#plt.figure()\n",
    "#\n",
    "#plt.subplot(121)\n",
    "#\n",
    "#bBool =df.boolInAligned & \\\n",
    "#    ((df.digiPHCrilinTot0>1200) & (df.digiPHCrilinTot0<1400)) & ((df.digiPHCrilinTot1>200) & (df.digiPHCrilinTot1<400))\n",
    "#\n",
    "#plt.hist2d(df[bBool][\"xCrilin0\"], df[bBool][\"xCrilin1\"], bins=bins, cmap=cmap, norm=LogNorm() if bLog else None) ;\n",
    "#\n",
    "#plt.subplot(122)\n",
    "#\n",
    "#bBool =df.boolInAligned & \\\n",
    "#    ((df.digiPHCrilinTot0>200) & (df.digiPHCrilinTot0<400)) & ((df.digiPHCrilinTot1>800) & (df.digiPHCrilinTot1<1000))\n",
    "#\n",
    "#plt.hist2d(df[bBool][\"xCrilin0\"], df[bBool][\"xCrilin1\"], bins=bins, cmap=cmap, norm=LogNorm() if bLog else None) ;"
   ]
  },
  {
   "cell_type": "code",
   "execution_count": 39,
   "metadata": {},
   "outputs": [
    {
     "data": {
      "image/png": "[encoded data removed]",
      "text/plain": [
       "<Figure size 432x288 with 1 Axes>"
      ]
     },
     "metadata": {
      "needs_background": "light"
     },
     "output_type": "display_data"
    }
   ],
   "source": [
    "plt.figure()\n",
    "plt.hist2d(df.digiHalfTime7424, df.digiHalfTime7425, bins=200, norm=LogNorm()) ;"
   ]
  },
  {
   "cell_type": "code",
   "execution_count": 40,
   "metadata": {},
   "outputs": [
    {
     "data": {
      "image/png": "[encoded data removed]",
      "text/plain": [
       "<Figure size 432x288 with 1 Axes>"
      ]
     },
     "metadata": {
      "needs_background": "light"
     },
     "output_type": "display_data"
    }
   ],
   "source": [
    "plt.figure()\n",
    "plt.hist2d(df.digiTimeTrigD, df.digiTimeTrigE, bins=200, norm=LogNorm(), cmap=\"Blues\") ;"
   ]
  },
  {
   "cell_type": "markdown",
   "metadata": {},
   "source": [
    "---"
   ]
  },
  {
   "cell_type": "markdown",
   "metadata": {},
   "source": [
    "**stopping chronometer**"
   ]
  },
  {
   "cell_type": "code",
   "execution_count": 41,
   "metadata": {
    "jupyter": {
     "source_hidden": true
    }
   },
   "outputs": [
    {
     "name": "stdout",
     "output_type": "stream",
     "text": [
      "stop @ 2023-06-18 17:53:33 GMT\n",
      "total elapsed time (from last restart -- 2023-06-18 17:47:27 GMT): 0:06:05\n",
      "execution time info added to outData[execTime] -- start, stop, delta\n",
      "--\n"
     ]
    }
   ],
   "source": [
    "tStop = datetime.datetime.fromtimestamp(datetime.datetime.now().timestamp())  # stop chronometer\n",
    "tStopPrint = tStop.strftime(\"%Y-%m-%d %H:%M:%S GMT\")\n",
    "dt = tStop - tStart\n",
    "dtPrint = str(dt - datetime.timedelta(microseconds=dt.microseconds))\n",
    "print(\"stop @ %s\" % tStopPrint)\n",
    "print(\"total elapsed time (from last restart -- %s): %s\" % (tStartPrint, dtPrint))\n",
    "outData[\"execTime\"] = [tStart, tStop, dt]\n",
    "print(\"execution time info added to outData[\"\"execTime\"\"] -- start, stop, delta\\n--\")"
   ]
  },
  {
   "cell_type": "markdown",
   "metadata": {},
   "source": [
    "**(re)writing output data**"
   ]
  },
  {
   "cell_type": "code",
   "execution_count": 42,
   "metadata": {
    "jupyter": {
     "source_hidden": true
    }
   },
   "outputs": [
    {
     "name": "stdout",
     "output_type": "stream",
     "text": [
      "saving output dictionary outData to ./out_data/outData.pickle, with 5 entries\n",
      "--\n"
     ]
    }
   ],
   "source": [
    "# this is done to add the execTime entry, together with any other entry from the whiteboard\n",
    "globals().update(outData)\n",
    "saveOutData(globals())  # function in .modules\n",
    "print(\"--\")\n",
    "\n",
    "########\n",
    "# to open the Pickle file importing the anaKrys modules: \n",
    "#    outData = readOutData()  # function in .modules"
   ]
  }
 ],
 "metadata": {
  "@webio": {
   "lastCommId": null,
   "lastKernelId": null
  },
  "kernelspec": {
   "display_name": "Python 3",
   "language": "python",
   "name": "python3"
  },
  "language_info": {
   "codemirror_mode": {
    "name": "ipython",
    "version": 3
   },
   "file_extension": ".py",
   "mimetype": "text/x-python",
   "name": "python",
   "nbconvert_exporter": "python",
   "pygments_lexer": "ipython3",
   "version": "3.9.12"
  }
 },
 "nbformat": 4,
 "nbformat_minor": 4
}
