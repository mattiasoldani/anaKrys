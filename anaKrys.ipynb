{
 "cells": [
  {
   "cell_type": "markdown",
   "metadata": {},
   "source": [
    "# **anaKrys**"
   ]
  },
  {
   "cell_type": "markdown",
   "metadata": {},
   "source": [
    "**notebook settings & imports  (edit %matplotlib magic here)**"
   ]
  },
  {
   "cell_type": "code",
   "execution_count": null,
   "metadata": {
    "jupyter": {
     "source_hidden": true
    }
   },
   "outputs": [],
   "source": [
    "# set %matplotlib inline (%matplotlib widget, %matplotlib qt) for static (interactive on-page, interactive in separate window) plots\n",
    "# in order to use the on-page interactive mode, make sure the environment is set up properly\n",
    "# comment this out before exporting the notebook to a Python script -- via jupyter nbconvert --to script anaKrys.ipynb\n",
    "%matplotlib inline\n",
    "\n",
    "# external modules\n",
    "import datetime\n",
    "import importlib\n",
    "import os\n",
    "import pickle\n",
    "import succolib as sl\n",
    "import pandas as pd\n",
    "import numpy as np\n",
    "import matplotlib.pyplot as plt\n",
    "from scipy.optimize import curve_fit\n",
    "from matplotlib.colors import LogNorm\n",
    "\n",
    "# internal modules (in .modules)\n",
    "from modules import *"
   ]
  },
  {
   "cell_type": "markdown",
   "metadata": {},
   "source": [
    "**starting chronometer**"
   ]
  },
  {
   "cell_type": "code",
   "execution_count": null,
   "metadata": {
    "jupyter": {
     "source_hidden": true
    }
   },
   "outputs": [],
   "source": [
    "tStart = datetime.datetime.fromtimestamp(datetime.datetime.now().timestamp())  # start chronometer\n",
    "tStartPrint = tStart.strftime(\"%Y-%m-%d %H:%M:%S GMT\")\n",
    "print(\"%s --> let's start!\" % tStartPrint)\n",
    "print(\"--\")"
   ]
  },
  {
   "cell_type": "markdown",
   "metadata": {},
   "source": [
    "---"
   ]
  },
  {
   "cell_type": "markdown",
   "metadata": {},
   "source": [
    "## **input settings**"
   ]
  },
  {
   "cell_type": "code",
   "execution_count": null,
   "metadata": {
    "jupyter": {
     "source_hidden": true
    }
   },
   "outputs": [],
   "source": [
    "# data reload controller -- if True (False), reload the data files (use the dataframe already in memory)\n",
    "boolLoad = True\n",
    "\n",
    "# progressbar visualisation controller -- if True (False) the file opening progressbars will (not) be visualised\n",
    "# in particular, set it to False if working in an environment with no widgets enabled\n",
    "bProgressBars = False\n",
    "\n",
    "# test mode controller: if True (False), the software runs with test (custom, selected via settingsFileMods) settings and data\n",
    "boolTest = False\n",
    "\n",
    "# run numbers or types to be opened\n",
    "# format: list of strings -- insert run numbers or types as they appear in nRun0\n",
    "# might be left empty in test mode -- both test runs \"test0\" & \"test1\" selected by default\n",
    "nRunToOpen = [\"113086\"]\n",
    "\n",
    "# label of the settings fileset to load -- useless if boolTest=False\n",
    "settingsFileMods = \"y17AxialCernH4\"\n",
    "\n",
    "# filetype, string -- either \"ASCII\" or \"ROOT\"\n",
    "fileType = \"ASCII\"\n",
    "\n",
    "# file path (with / at the end), string\n",
    "# useless in test mode, in which it is set automatically depending on fileType\n",
    "filePath = os.environ.get(\"HOME\")+\"/data_local/17_cern_h4_axial/ascii/\"\n",
    "\n",
    "# file name format (with no path), string\n",
    "# shape: replace the run number with XXXXXX and (for multiple files per run) the file number with YYYYYY\n",
    "# useless in test mode, in which it is set automatically depending on fileType\n",
    "fileNameFormat = \"runXXXXXX_multi_YYYYYY\"\n",
    "\n",
    "#######################################\n",
    "# import settings, according to boolTest and settingsFileMods\n",
    "# function in .modules --> set ./settings/__init__.py for settings fileset selection\n",
    "mod_runList_name, mod_settings_name = settingsSelect(boolTest, whichInput = fileType if boolTest else settingsFileMods)\n",
    "globals().update(importlib.import_module(mod_runList_name).__dict__)\n",
    "globals().update(importlib.import_module(mod_settings_name).__dict__)\n",
    "\n",
    "#######################################\n",
    "# print only (functions in .modules)\n",
    "boolControlPrint(boolLoad, boolTest, fileType)\n",
    "print(\"--\")\n",
    "settingsPrint(filePath, fileNameFormat, nRunToOpen, nRun0)  # print only (function in .modules)\n",
    "print(\"--\")"
   ]
  },
  {
   "cell_type": "markdown",
   "metadata": {},
   "source": [
    "---"
   ]
  },
  {
   "cell_type": "markdown",
   "metadata": {},
   "source": [
    "## **opening the data files**"
   ]
  },
  {
   "cell_type": "code",
   "execution_count": null,
   "metadata": {
    "jupyter": {
     "source_hidden": true
    }
   },
   "outputs": [],
   "source": [
    "##############################\n",
    "# data (re)loading is performed only if required\n",
    "if boolLoad: \n",
    "    \n",
    "    # default nRunToOpen for test mode\n",
    "    if boolTest & (len(nRunToOpen)==0):\n",
    "        nRunToOpen = [\"test0\", \"test1\"]  # do not edit this! proper setting above\n",
    "    \n",
    "    # some dataset-related info\n",
    "    filePathTest = \"./data_test/ascii_test/\" if fileType==\"ASCII\" else \"./data_test/tree_test/\"\n",
    "    fileNameFormatTest = \"runXXXXXX_YYYYYY.dat\" if fileType==\"ASCII\" else \"runXXXXXX.root\"\n",
    "    fileNameFormatFull = (filePathTest if boolTest else filePath) + (fileNameFormatTest if boolTest else fileNameFormat)  # full filenames, i.e. with path\n",
    "    nRun = {}  # dictionary of the files to be opened only (same format as nRun0)\n",
    "    for iRun in nRun0:\n",
    "        if (iRun in nRunToOpen) | (nRun0[iRun] in nRunToOpen):\n",
    "            nRun.update({iRun: nRun0[iRun]})\n",
    "    \n",
    "    # data opening (function in .modules)\n",
    "    # recall:\n",
    "    #      - in ROOT case, remapping is also done\n",
    "    #      - swapped layers are also mirrored run by run\n",
    "    #      - iRun & typeRun columns also created (respectively with nRun0 keys & values)\n",
    "    df, dt = loadGeneral(fileType, fileNameFormatFull, nRun, descFrac, mirrorMap, globals(), bProgressBars)\n",
    "    print(\"--\")\n",
    "    \n",
    "    # newly created df structure info printing\n",
    "    loadDonePrint(df, dt)  # print only (function in .modules)\n",
    "\n",
    "##############################\n",
    "# print already existing df info if not (re)loading any data file\n",
    "else:  \n",
    "    loadSkipPrint(df)  # print only (function in .modules)\n",
    "    \n",
    "print(\"--\")"
   ]
  },
  {
   "cell_type": "code",
   "execution_count": null,
   "metadata": {
    "jupyter": {
     "source_hidden": true
    }
   },
   "outputs": [],
   "source": [
    "# detect data availability (function in .modules)\n",
    "# main data: \n",
    "#     iStep, epoch, xGonio (any), base xRaw/nHit (4 input, 2 output), digiPHRaw (any), digiTime (same as or less than digiPHRaw)\n",
    "#     furthermore, PHCaloFwd & EFwd a priori existance is checked -- they are computed from scratch only if False\n",
    "df, bIStep, bEpoch, bXGonio, bXRaw, bNHit, bDigiPHAny, lsDigiCh, bDigiTime, bPHCaloFwd0, bEFwd0 = dfCheckAvailability(df, baseTrackingMap)\n",
    "print(\"--\")\n",
    "\n",
    "# filter out the non-interesting data according to dfFilters (function in .modules)\n",
    "df = dfFiltering(df, filterMap)\n",
    "print(\"--\")\n",
    "\n",
    "# detect unavailable mandatory z entries run by run & set them to 0 (function in .modules)\n",
    "z = zBaseCheckAvailability(z, df[\"iRun\"].unique(), baseTrackingMap)\n",
    "print(\"--\")"
   ]
  },
  {
   "cell_type": "markdown",
   "metadata": {},
   "source": [
    "## **physics analysis**"
   ]
  },
  {
   "cell_type": "markdown",
   "metadata": {},
   "source": [
    "### **input tracking**"
   ]
  },
  {
   "cell_type": "code",
   "execution_count": null,
   "metadata": {
    "jupyter": {
     "source_hidden": true
    }
   },
   "outputs": [],
   "source": [
    "# input mean multiplicity (function in .modules)\n",
    "if bNHit[\"in\"]:\n",
    "    df = aveVar(df, [\"nHit\"+s for s in baseTrackingMap[0]], \"nHitIn\")\n",
    "    \n",
    "    # also single-hit boolean\n",
    "    # note: single-hit selection is not based on nHitOut but rather on output layers individually\n",
    "    df = inHitCuts(df, [\"nHit\"+s for s in baseTrackingMap[0]])\n",
    "    \n",
    "else:\n",
    "    print(\"nHitIn & corresponding boolean not added to df\")\n",
    "    \n",
    "print(\"--\")"
   ]
  },
  {
   "cell_type": "code",
   "execution_count": null,
   "metadata": {
    "jupyter": {
     "source_hidden": true
    }
   },
   "outputs": [],
   "source": [
    "# input tracking (functions in .modules)\n",
    "# recall that (if input positions available) input tracking is done regardless of input multiplicity\n",
    "#     --> if needed, single-hit selection has to be applied manually a posteriori\n",
    "if bXRaw[\"in\"]:\n",
    "    # input angles/aligned tracking info\n",
    "    # also input angle selection, according to thInCut\n",
    "    df = trackingAngleAlign(df, [\"xRaw\"+s for s in baseTrackingMap[0]], thInCentres, \"thIn\", z, True, thInCut)\n",
    "    print(\"--\")\n",
    "    \n",
    "    # input beam projection @ crystal & @ forward calorimeter\n",
    "    # also crystal fiducial selection, according to xCryCut\n",
    "    # also print several input beam info\n",
    "    df = inputTrackingProj(df, baseTrackingMap[0], z, xCryCut)\n",
    "    \n",
    "else:\n",
    "    print(\"no input beam info available --> no raw angles, aligned angles, aligned positions & projections added to df\")\n",
    "    \n",
    "print(\"--\")"
   ]
  },
  {
   "cell_type": "markdown",
   "metadata": {},
   "source": [
    "### **goniometer**"
   ]
  },
  {
   "cell_type": "code",
   "execution_count": null,
   "metadata": {
    "jupyter": {
     "source_hidden": true
    }
   },
   "outputs": [],
   "source": [
    "# from xGonioRaw... to xGonio... -- according to info in gonioMap (function in .modules)\n",
    "if bXGonio:\n",
    "    df = gonioPair(df, gonioMap)\n",
    "else:\n",
    "    print(\"no goniometer info available --> no final goniometer DOF added to df\")\n",
    "    \n",
    "print(\"--\")"
   ]
  },
  {
   "cell_type": "markdown",
   "metadata": {},
   "source": [
    "### **output tracking**"
   ]
  },
  {
   "cell_type": "code",
   "execution_count": null,
   "metadata": {
    "jupyter": {
     "source_hidden": true
    }
   },
   "outputs": [],
   "source": [
    "# output mean multiplicity (functions in .modules)\n",
    "if bNHit[\"out\"]:\n",
    "    df = aveVar(df, [\"nHit\"+s for s in baseTrackingMap[1]], \"nHitOut\")\n",
    "    \n",
    "    # also booleans -- single-hit, low multiplicity & high-multiplicity, according to outMultCut\n",
    "    # note: single-hit selection is not based on nHitOut but rather on output layers individually\n",
    "    df = outHitCuts(df, [\"nHit\"+s for s in baseTrackingMap[1]], outMultCut)\n",
    "    \n",
    "else:\n",
    "    print(\"nHitOut & corresponding booleans not added to df\")\n",
    "    \n",
    "print(\"--\")"
   ]
  },
  {
   "cell_type": "code",
   "execution_count": null,
   "metadata": {
    "jupyter": {
     "source_hidden": true
    }
   },
   "outputs": [],
   "source": [
    "# output tracking (functions in .modules)\n",
    "# recall that (if output positions available) output tracking is done regardless of input/output multiplicity\n",
    "#     --> if needed, single-hit selections have to be applied manually a posteriori\n",
    "if bXRaw[\"out\"]:\n",
    "    # for output stage analysis, xCry0-1 = 0 when input tracking is absent\n",
    "    if not bXRaw[\"in\"]:\n",
    "        df.loc[:, \"xCry%d\"%i] = 0\n",
    "        print(\"input tracking unavailability --> doing output tracking with xCry0/1 automatically set to 0\\n--\")\n",
    "    \n",
    "    # output angles/aligned tracking info\n",
    "    df = trackingAngleAlign(df, [\"xCry0\", \"xCry1\"] + [\"xRaw\"+s for s in baseTrackingMap[1]], thOutCentres, \"thOut\", z, False)\n",
    "    print(\"--\")\n",
    "    \n",
    "    # output-input angle delta\n",
    "    df = trackingAngleDelta(df)\n",
    "    \n",
    "    # print output beam info\n",
    "    outputTrackingPrint(df, baseTrackingMap[1])\n",
    "        \n",
    "else:\n",
    "    print(\"no output beam info available --> no raw angles, aligned angles, angle deltas & aligned positions added to df\")\n",
    "    \n",
    "print(\"--\")"
   ]
  },
  {
   "cell_type": "markdown",
   "metadata": {},
   "source": [
    "### **digitizers**"
   ]
  },
  {
   "cell_type": "code",
   "execution_count": null,
   "metadata": {
    "jupyter": {
     "source_hidden": true
    }
   },
   "outputs": [],
   "source": [
    "# (various functions in .modules)\n",
    "# recall that elements of lsDigiCh are available in df (with prefix \"digiPHRaw\") by definition\n",
    "# if PHCaloFwd (EFwd) already in df, forward calo. sum (calibration) is not performed -- according to bPHCaloFwd0 (bEFwd0)\n",
    "#     --> name the raw variable differently to (re)execute this\n",
    "\n",
    "if (bDigiPHAny | bPHCaloFwd0 | bEFwd0):\n",
    "    # channels equalisation\n",
    "    df = equalise(df, lsDigiCh, equalMap)\n",
    "    print(\"--\")\n",
    "    \n",
    "    # PH & time booleans\n",
    "    df = defineDigiBooleans(df, lsDigiCh, digiPHCut, digiTimeCut, bDigiTime)\n",
    "    print(\"--\")\n",
    "\n",
    "    # forward calorimeter total PH\n",
    "    # behaviour according to bPHCaloFwd0\n",
    "    # if already existing in df, this is not performed --> name the raw variable differently to (re)execute this\n",
    "    df, bPHCaloFwd = caloSum(df, bPHCaloFwd0, lsDigiChCaloFwd, \"Fwd\", False)\n",
    "    print(\"--\")\n",
    "    \n",
    "    # forward calorimeter time boolean (OR between single-channel time booleans)\n",
    "    # only useful if single channels data are available (regardless of whether or not they have been used to get PHCaloFwd), otherwise always True\n",
    "    df = caloTimeBool(df, bPHCaloFwd, lsDigiChCaloFwd, bDigiTime, \"Fwd\")\n",
    "    print(\"--\")\n",
    "    \n",
    "    # forward calorimeter energy in GeV\n",
    "    # behaviour according to bEFwd0\n",
    "    # if already existing in df, this is not performed --> name the raw variable differently to (re)execute this\n",
    "    df, bEFwd = calibrate(df, bEFwd0, calibMapFwd, \"Fwd\", False)\n",
    "\n",
    "else:\n",
    "    bPHCaloFwd = {}\n",
    "    bEFwd = {}\n",
    "    print(\"no digitizer data available --> no equalised PH, PH & time booleans, forward calo. total PH & energy added to df\")\n",
    "\n",
    "print(\"--\")"
   ]
  },
  {
   "cell_type": "markdown",
   "metadata": {},
   "source": [
    "---"
   ]
  },
  {
   "cell_type": "markdown",
   "metadata": {},
   "source": [
    "## **plots & output**"
   ]
  },
  {
   "cell_type": "code",
   "execution_count": null,
   "metadata": {
    "jupyter": {
     "source_hidden": true
    }
   },
   "outputs": [],
   "source": [
    "# initialising output plots data dictionary -- empty, it will be filled with the objects needed\n",
    "outData = {}\n",
    "\n",
    "# initialising units of measurement dictionary -- empty string for all the df variables by default\n",
    "units = dict(zip(df.columns, [\"\" for s in df.columns]))\n",
    "\n",
    "# limiting the selection dictionaries to the runs currently under study\n",
    "thInCut0 = {k: v for k, v in thInCut.items() if k in df[\"iRun\"].unique()}\n",
    "xCryCut0 = {k: v for k, v in xCryCut.items() if k in df[\"iRun\"].unique()}\n",
    "outMultCut0 = {k: v for k, v in outMultCut.items() if k in df[\"iRun\"].unique()}\n",
    "digiPHCut0 = {k: v for k, v in digiPHCut.items() if k in df[\"iRun\"].unique()}\n",
    "digiTimeCut0 = {k: v for k, v in digiTimeCut.items() if k in df[\"iRun\"].unique()}"
   ]
  },
  {
   "cell_type": "markdown",
   "metadata": {},
   "source": [
    "### **plot & output settings (other settings in each plot cell)**"
   ]
  },
  {
   "cell_type": "code",
   "execution_count": null,
   "metadata": {
    "jupyter": {
     "source_hidden": true
    }
   },
   "outputs": [],
   "source": [
    "# if True (False), base plots and related fits are (not) created\n",
    "boolPlotGlob = True\n",
    "\n",
    "# units -- dictionary of the units of measurement for plots\n",
    "# shape: {var: unit} (all string)\n",
    "# unit format: unit between brackets\n",
    "# all the missing variable units are automatically set to empty strings (above)\n",
    "units.update({\"epoch\": \"[s]\"})\n",
    "units.update({\"xGonioRot\": \"[urad]\"})\n",
    "units.update({\"xGonioCrad\": \"[urad]\"})\n",
    "units.update({\"xGonioHorsa\": \"[mm]\"})\n",
    "units.update({\"xGonioHorsaBig\": \"[mm]\"})\n",
    "units.update({\"xGonioVersa\": \"[mm/2]\"})\n",
    "units.update({\"EFwd\": \"[GeV]\"})\n",
    "units.update({\"x\"+baseTrackingMap[0][0]: \"[cm]\"})\n",
    "units.update({\"x\"+baseTrackingMap[0][1]: \"[cm]\"})\n",
    "units.update({\"xCry0\": \"[cm]\"})\n",
    "units.update({\"xCry1\": \"[cm]\"})\n",
    "for iCh in [s for s in df.columns if \"digiPH\" in s]:\n",
    "    units.update({iCh: \"[ADC]\"})\n",
    "for iCh in [s for s in df.columns if \"digiTime\" in s]:\n",
    "    units.update({iCh: \"[ADC]\"})\n",
    "for iTh in [s for s in df.columns if (\"thIn\" in s) | (\"thOut\" in s)]:\n",
    "    units.update({iTh: \"[rad]\"})\n",
    "\n",
    "# other graphic settings\n",
    "pal2d = \"viridis\"  # palette for 2d plots\n",
    "lineC = \"0.7\"  # color of plot patches (e.g. selection ranges) lines\n",
    "fitC = \"0.1\" # color of fit lines\n",
    "lineW = 1.5  # width of plot patches (e.g. selection ranges) lines\n",
    "fitW = 1.5  # width of fit lines\n",
    "\n",
    "# if True (False), figures are (not) saved in ./out_plots\n",
    "# this is particularly important when running the software as a Python script\n",
    "bPlotSave = True\n",
    "\n",
    "# also recall to set boolPlotGlob above, in the input settings section"
   ]
  },
  {
   "cell_type": "markdown",
   "metadata": {},
   "source": [
    "### **run base info**"
   ]
  },
  {
   "cell_type": "code",
   "execution_count": null,
   "metadata": {
    "jupyter": {
     "source_hidden": true
    }
   },
   "outputs": [],
   "source": [
    "boolPlotLoc = True  # figure(s) here only drawn if True\n",
    "figName = \"runInfo\"  # figure name\n",
    "xSize = 7  # horizontal figure size\n",
    "ySize = 8  # vertical figure size\n",
    "bUseEpoch = False  # if True (False) the epoch (automatic event index) is used -- only if epoch in df, otherwise event index anyway\n",
    "\n",
    "###############\n",
    "if boolPlotLoc & boolPlotGlob:\n",
    "    ax = plot_runInfo(df, [\"boolSingleHitIn\"] if bNHit[\"in\"] else [], bXGonio, bEpoch, bUseEpoch, pal2d, units, xSize, ySize, figName, bPlotSave)\n",
    "    # if input multiplicity is available, base info are studied in input single hit condition\n",
    "    # this is always drawn, since at least iRun is always created inside df -- goniometer DOF availability checked inside the function"
   ]
  },
  {
   "cell_type": "markdown",
   "metadata": {},
   "source": [
    "### TRACKING **input beam profiles & spot**"
   ]
  },
  {
   "cell_type": "code",
   "execution_count": null,
   "metadata": {
    "jupyter": {
     "source_hidden": true
    }
   },
   "outputs": [],
   "source": [
    "boolPlotLoc = True  # figure(s) here only drawn if True\n",
    "figName = \"xIn\"  # figure name -- the part \"_1d\"/\"_2d\" will be appended\n",
    "xSize = [7, 3]  # horizontal figure size -- 1d-then-2d\n",
    "ySize = [3, 3]  # vertical figure size -- 1d-then-2d\n",
    "binSize = [0.01, 0.01]  # bin size, same for x & y in all the plots below -- 1d-then-2d -- if a component is None, it is automatically computed\n",
    "hRange = [[0, 2], [0, 2]]  # axes ranges, same in all the plots below -- format [[x0, x1] or None, [y0, y1] or None] (if None, automatic definition)\n",
    "bLog = False  # if True (False), log (lin) scale on z\n",
    "bPlot2d = True  # if True (False), 2d profile plot is (not) plotted\n",
    "lsBool = [\"boolSingleHitIn\"]  # list of booleans (available in df) to be applied to all the plots here\n",
    "\n",
    "###############\n",
    "if boolPlotLoc & boolPlotGlob & bXRaw[\"in\"]:\n",
    "    outData = plot_prof(df, (\"x\"+baseTrackingMap[0][0], \"x\"+baseTrackingMap[0][1]), binSize[0], lsBool, hRange, outData, bLog, units, xSize[0], ySize[0], figName+\"1d\", bPlotSave)\n",
    "    if bPlot2d:\n",
    "        plot_proj(df, (\"x\"+baseTrackingMap[0][0], \"x\"+baseTrackingMap[0][1]), binSize[1], lsBool, hRange, False, {}, bLog, lineC, lineW, pal2d, units, xSize[1], ySize[1], figName+\"2d\", bPlotSave)\n",
    "\n",
    "# outData is updated with bin-by-bin spectra values & fit parameters -- entries \"thIn/OutN_histo/fit\""
   ]
  },
  {
   "cell_type": "markdown",
   "metadata": {},
   "source": [
    "### TRACKING **angles**"
   ]
  },
  {
   "cell_type": "code",
   "execution_count": null,
   "metadata": {
    "jupyter": {
     "source_hidden": true
    }
   },
   "outputs": [],
   "source": [
    "boolPlotLoc = True  # figure(s) here only drawn if True\n",
    "figName = [\"thIn\", \"thOut\", \"thDelta\"]  # figure names -- in-then-out-then-delta\n",
    "xSize = 7  # horizontal figure size\n",
    "ySize = 3  # vertical figure size\n",
    "xRange = [[-0.001, 0.001], [-0.001, 0.001], [-0.0003, 0.0003]]  # plot ranges, in-then-out-then-delta -- for each, left-then-right, same for x & y -- values can be None (i.e. automatic definition)\n",
    "binSize = [0.00002, 0.00002, 0.000005]  # bin sizes -- in-then-out-then-delta -- if a value is None, automatically computed\n",
    "bFit = [True, False, False]  # do fits if True -- in-then-out-then-delta\n",
    "fitSigma = [0.0001, 0.0001, 0.0001]  # starting point for sigma fits (set to ~ half the distribution FWHM or None, i.e. automatic computation) -- in-then-out-then-delta, only used if bFit=True\n",
    "bSel = True  # draw input selection according to thInCut -- only for input\n",
    "bLog = False  # if True (False), log (lin) scale on y\n",
    "\n",
    "###############\n",
    "lsBool = [[], [], []]\n",
    "if bNHit[\"in\"]:\n",
    "    lsBool[0].append(\"boolSingleHitIn\")\n",
    "    lsBool[1].append(\"boolSingleHitIn\")\n",
    "    lsBool[2].append(\"boolSingleHitIn\")\n",
    "if bNHit[\"out\"]:\n",
    "    lsBool[1].append(\"boolSingleHitOut\")\n",
    "    lsBool[2].append(\"boolSingleHitOut\")\n",
    "# if input/input-output multiplicity is available, input/output & delta angle distr. are studied in input/input-output single hit condition\n",
    "\n",
    "if boolPlotLoc & boolPlotGlob:\n",
    "    if bXRaw[\"in\"]:\n",
    "        outData = plot_th(df, \"thIn\", binSize[0], lsBool[0], xRange[0], bFit[0], fitSigma[0], outData, bSel, thInCut0, bLog, fitC, fitW, lineC, lineW, units, xSize, ySize, figName[0], bPlotSave)\n",
    "    if bXRaw[\"out\"]:\n",
    "        # recall that output angles are computed even in absence of input tracking data -- hits @ crystal automatically set to (0, 0, 0)\n",
    "        outData = plot_th(df, \"thOut\", binSize[1], lsBool[1], xRange[1], bFit[1], fitSigma[1], outData, False, {}, bLog, fitC, fitW, lineC, lineW, units, xSize, ySize, figName[1], bPlotSave)\n",
    "    if bXRaw[\"in\"] & bXRaw[\"out\"]:\n",
    "        outData = plot_th(df, \"thDelta\", binSize[2], lsBool[2], xRange[2], bFit[2], fitSigma[2], outData, False, {}, bLog, fitC, fitW, lineC, lineW, units, xSize, ySize, figName[2], bPlotSave)\n",
    "        \n",
    "# outData is updated with bin-by-bin spectra values & fit parameters -- entries \"thIn/OutN_histo/fit\""
   ]
  },
  {
   "cell_type": "markdown",
   "metadata": {},
   "source": [
    "### TRACKING **multiplicities**"
   ]
  },
  {
   "cell_type": "code",
   "execution_count": null,
   "metadata": {
    "jupyter": {
     "source_hidden": true
    }
   },
   "outputs": [],
   "source": [
    "boolPlotLoc = True  # figure(s) here only drawn if True\n",
    "figName = \"nHitOut\"  # figure name\n",
    "xSize = 7  # horizontal figure size\n",
    "ySize = 4  # vertical figure size\n",
    "bUseEpoch = False  # if True (False) the epoch (automatic event index) is used -- only if epoch in df, otherwise event index anyway\n",
    "maxNHit = 10  # multiplicity upper limit -- if None, range (& binning) automatically defined\n",
    "bSel = True  # draw output selection according to outMultCut -- only for output\n",
    "tRange = None  # range on the 2d plots x to be used to costrain the data included in the 1d plots -- length-2 array or None (for no costraint)\n",
    "bLog = False  # if True (False), log (lin) scale on y/z in 1d/2d plots\n",
    "\n",
    "###############\n",
    "if boolPlotLoc & boolPlotGlob & bNHit[\"out\"]:\n",
    "    outData = plot_nHit(df, \"nHitOut\", [\"boolSingleHitIn\"] if bNHit[\"in\"] else [], bEpoch, bUseEpoch, maxNHit, tRange, bSel, outMultCut0, outData, bLog, lineC, lineW, pal2d, units, xSize, ySize, figName, bPlotSave)\n",
    "    # if input multiplicity is available, output multiplicity is studied in input single hit condition\n",
    "    \n",
    "# outData is updated with bin-by-bin spectra values (2d & 1d) -- entries \"nHitOut_nameX_histo\" (2d) & \"nHitOut_iRun_histo\" (1d)"
   ]
  },
  {
   "cell_type": "markdown",
   "metadata": {},
   "source": [
    "### TRACKING **beam spots @ crystal**"
   ]
  },
  {
   "cell_type": "code",
   "execution_count": null,
   "metadata": {
    "jupyter": {
     "source_hidden": true
    }
   },
   "outputs": [],
   "source": [
    "boolPlotLoc = True  # figure(s) here only drawn if True\n",
    "figName = \"xCry\"  # figure name\n",
    "xSize = 3  # horizontal figure size\n",
    "ySize = 3  # vertical figure size\n",
    "binSize = 0.01  # bin size, same for x & y in all the plots below -- if None, automatically computed\n",
    "hRange = [[0.5, 2.0], [0.0, 1.5]]  # axes ranges, same in all the plots below -- format [[x0, x1] or None, [y0, y1] or None] (if None, automatic definition)\n",
    "bSel = [True, True]  # draw fiducial selection according to xCryCut -- plot without multiplicity cut, then plots with multiplicity cut\n",
    "bLog = False  # if True (False), log (lin) scale on z\n",
    "\n",
    "###############\n",
    "lsBool0 = [\"boolSingleHitIn\"] if bNHit[\"in\"] else []\n",
    "# if input multiplicity is available, beam projections @ crystal are studied in input single hit condition\n",
    "\n",
    "if boolPlotLoc & boolPlotGlob & bXRaw[\"in\"]:\n",
    "    plot_proj(df, \"xCry\", binSize, lsBool0+[], hRange, bSel[0], xCryCut0, bLog, lineC, lineW, pal2d, units, xSize, ySize, figName, bPlotSave)\n",
    "    if bNHit[\"out\"]:\n",
    "        # furthermore, study with different output multiplicity selection performed only if output multiplicity data available\n",
    "        plot_proj(df, \"xCry\", binSize, lsBool0+[\"boolLowHitOut\"], hRange, bSel[1], xCryCut0, bLog, lineC, lineW, pal2d, units, xSize, ySize, \"xCry_lowHitOut\", bPlotSave)\n",
    "        plot_proj(df, \"xCry\", binSize, lsBool0+[\"boolHighHitOut\"], hRange, bSel[1], xCryCut0, bLog, lineC, lineW, pal2d, units, xSize, ySize, \"xCry_highHitOut\", bPlotSave)"
   ]
  },
  {
   "cell_type": "markdown",
   "metadata": {},
   "source": [
    "### GONIOMETER **2d phase space**"
   ]
  },
  {
   "cell_type": "code",
   "execution_count": null,
   "metadata": {
    "jupyter": {
     "source_hidden": true
    }
   },
   "outputs": [],
   "source": [
    "boolPlotLoc = False  # figure(s) here only drawn if True\n",
    "figName = \"gonioPhaseSpace\"  # figure name\n",
    "xSize = 4  # horizontal figure size\n",
    "ySize = 4  # vertical figure size\n",
    "lsVar = [\"Rot\", \"Crad\"]  # length-2 list of gonio. variables to be plot (x-then-y) -- names without the prefix xGonio\n",
    "lsBool = [\"boolInCry\"]  # list of booleans (available in df) to be applied -- input single hit condition applied automatically (if data available)\n",
    "bLog = False  # if True (False), log (lin) scale on z\n",
    "\n",
    "###############\n",
    "lsBool0 = [\"boolSingleHitIn\"] if bNHit[\"in\"] else []\n",
    "# if input multiplicity is available, goniometer DOF phase space is studied in input single hit condition\n",
    "\n",
    "if boolPlotLoc & boolPlotGlob & bXGonio:\n",
    "    plot_gonioCorr(df, lsVar, lsBool0+lsBool, bLog, pal2d, units, xSize, ySize, figName, bPlotSave)"
   ]
  },
  {
   "cell_type": "markdown",
   "metadata": {},
   "source": [
    "### GONIOMETER **trends over other variables**"
   ]
  },
  {
   "cell_type": "code",
   "execution_count": null,
   "metadata": {
    "jupyter": {
     "source_hidden": true
    }
   },
   "outputs": [],
   "source": [
    "boolPlotLoc = False  # figure(s) here only drawn if True\n",
    "figName = \"gonioTrends\"  # figure name base -- it will be completed with \"_\" and the name of each variable under study\n",
    "xSize = 7  # horizontal figure size (for each single figures)\n",
    "ySize = 4  # vertical figure size (for each single figures)\n",
    "lsBool = [\"boolInAligned\", \"boolInCry\"]  # list of booleans (available in df) to be applied to all the plots here -- input single hit cond. applied automatically (if data available)\n",
    "bLog = False  # if True (False), log (lin) scale on z\n",
    "\n",
    "# dictionary of the variables to be analysed -- shape:\n",
    "# {varY (string): {\n",
    "#         varX0 (string): [[xL0, xR0, dx0], [yL0, yR0, dy0], [bDrawProf0 (bool), bFit0 (bool), deg0 (integer), xFitL0, xFitR0]], (float if not otherwise specified)\n",
    "#         varX1: [[xL1, xR1, dx1], [yL1, yR1, dy1], [bDrawProf1, bFit1, deg1, xFitL1, xFitR1]],\n",
    "#         ...\n",
    "# }}\n",
    "# 1 figure per varY, each with 1 plot per varX -- varX format: part of the variable name following \"xGonioRaw\"\n",
    "# plot in ranges (xL, xR) & (yL, yR) with bin size dx & dy\n",
    "# profile plot polynomial fit with degree deg -- supported deg = 0, 1, 2; also Gaussian fit if deg = \"Gaussian\"\n",
    "# all entries (apart from bFit) can also be None -- automatic definition in this case (e.g. deg = 0)\n",
    "dictGonioTrends = {\n",
    "    \"nHitOut\": {\n",
    "        \"Rot\": [[None, None, None], [None, None, 1], [True, True, 2, None, None]],\n",
    "    },\n",
    "}\n",
    "        \n",
    "###############\n",
    "lsBool0 = [\"boolSingleHitIn\"] if bNHit[\"in\"] else []\n",
    "# if input multiplicity is available, goniometer trends are studied in input single hit condition\n",
    "\n",
    "if boolPlotLoc & boolPlotGlob & bXGonio:\n",
    "    for i, iY in enumerate(dictGonioTrends):\n",
    "        outData = plot_gonioTrends(df, iY, dictGonioTrends[iY], lsBool0+lsBool, outData, bLog, fitC, fitW, lineC, lineW, pal2d, units, xSize, ySize, figName, bPlotSave)\n",
    "        \n",
    "# outData is updated with profile plots & fit info (only if fit requested) -- entries name format: \"nameY_nameX_prof\" & \"nameY_nameX_fit\""
   ]
  },
  {
   "cell_type": "markdown",
   "metadata": {},
   "source": [
    "### DIGITIZERS **single-channel PH-vs-time phase spaces**"
   ]
  },
  {
   "cell_type": "code",
   "execution_count": null,
   "metadata": {
    "jupyter": {
     "source_hidden": true
    }
   },
   "outputs": [],
   "source": [
    "boolPlotLoc = True  # figure(s) here only drawn if True\n",
    "figName = \"digi\"  # figure name\n",
    "xSize = 7  # horizontal figure size\n",
    "ySize = 14  # vertical figure size\n",
    "lsBool = []  # list of booleans (available in df) to be applied -- same for all the channels (if using cuts on crystal, consider including input single hit cond.)\n",
    "binSize = [8, 4]  # bin sizes -- time-then-PH -- if a value is None, automatically computed\n",
    "bSel = True  # draw PH & time selection boxes according to digiPHCut & digiTimeCut -- same boolean for all the digitizer channels\n",
    "bLog = True  # if True (False), log (lin) scale on z\n",
    "\n",
    "###############\n",
    "if boolPlotLoc & boolPlotGlob & bDigiPHAny:\n",
    "    plot_digi(df, lsDigiCh, binSize, lsBool, bDigiTime, bSel, digiPHCut0, digiTimeCut0, bLog, lineC, lineW, pal2d, units, xSize, ySize, figName, bPlotSave)"
   ]
  },
  {
   "cell_type": "markdown",
   "metadata": {},
   "source": [
    "### DIGITIZERS **forward calorimeter energy**"
   ]
  },
  {
   "cell_type": "code",
   "execution_count": null,
   "metadata": {
    "jupyter": {
     "source_hidden": true
    }
   },
   "outputs": [],
   "source": [
    "boolPlotLoc = True  # figure(s) here only drawn if True\n",
    "figName = \"energyFwd\"  # figure name\n",
    "xSize = 7  # horizontal figure size\n",
    "ySize = 5  # vertical figure size\n",
    "binSize = 2  # bin size - can't be set to None (needed for errorbars)\n",
    "xRange = None  # plot range - [min, max] or None (for automatic definition for each typeRun value separately)\n",
    "lsBool = [\"boolSingleHitIn\", \"boolInAligned\", \"boolInCry\", \"boolTimeCaloFwd\"]  # list of booleans (available in df) to be applied -- selection on typeRun applied automatically (if using cuts on crystal, consider including input single hit cond.)\n",
    "bUseEpoch = False  # if True (False) the epoch (automatic event index) is used -- only if epoch in df, otherwise event index anyway\n",
    "bLog = False  # if True (False), log (lin) scale on y/z in 1d/2d plots\n",
    "\n",
    "###############\n",
    "if boolPlotLoc & boolPlotGlob & any(bEFwd.values()):\n",
    "    outData = plot_energyRuns(df, \"Fwd\", binSize, bEFwd, xRange, bEpoch, bUseEpoch, lsBool, bLog, outData, pal2d, units, xSize, ySize, figName, bPlotSave)  # forward calo. energy\n",
    "    \n",
    "# outData is updated with bin-by-bin spectra values -- entries name format: \"EFwd_typeRun_histo\""
   ]
  },
  {
   "cell_type": "markdown",
   "metadata": {},
   "source": [
    "---"
   ]
  },
  {
   "cell_type": "markdown",
   "metadata": {},
   "source": [
    "### **output data**"
   ]
  },
  {
   "cell_type": "code",
   "execution_count": null,
   "metadata": {
    "jupyter": {
     "source_hidden": true
    }
   },
   "outputs": [],
   "source": [
    "# output dictionary outData saved as in ./out_data/outData.pickle\n",
    "globals().update(outData)\n",
    "saveOutData(globals())  # function in .modules\n",
    "print(\"--\")\n",
    "\n",
    "########\n",
    "# to open the Pickle file importing the anaKrys modules: \n",
    "#    outData = readOutData()  # function in .modules"
   ]
  },
  {
   "cell_type": "markdown",
   "metadata": {},
   "source": [
    "---"
   ]
  },
  {
   "cell_type": "markdown",
   "metadata": {},
   "source": [
    "## **whiteboard**"
   ]
  },
  {
   "cell_type": "code",
   "execution_count": null,
   "metadata": {
    "jupyter": {
     "source_hidden": true
    }
   },
   "outputs": [],
   "source": []
  },
  {
   "cell_type": "markdown",
   "metadata": {},
   "source": [
    "---"
   ]
  },
  {
   "cell_type": "markdown",
   "metadata": {},
   "source": [
    "**stopping chronometer**"
   ]
  },
  {
   "cell_type": "code",
   "execution_count": null,
   "metadata": {
    "jupyter": {
     "source_hidden": true
    }
   },
   "outputs": [],
   "source": [
    "tStop = datetime.datetime.fromtimestamp(datetime.datetime.now().timestamp())  # stop chronometer\n",
    "tStopPrint = tStop.strftime(\"%Y-%m-%d %H:%M:%S GMT\")\n",
    "dt = tStop - tStart\n",
    "dtPrint = str(dt - datetime.timedelta(microseconds=dt.microseconds))\n",
    "print(\"stop @ %s\" % tStopPrint)\n",
    "print(\"total elapsed time (from last restart -- %s): %s\" % (tStartPrint, dtPrint))\n",
    "outData[\"execTime\"] = [tStart, tStop, dt]\n",
    "print(\"execution time info added to outData[\"\"execTime\"\"] -- start, stop, delta\\n--\")"
   ]
  },
  {
   "cell_type": "markdown",
   "metadata": {},
   "source": [
    "**(re)writing output data**"
   ]
  },
  {
   "cell_type": "code",
   "execution_count": null,
   "metadata": {
    "jupyter": {
     "source_hidden": true
    }
   },
   "outputs": [],
   "source": [
    "# this is done to add the execTime entry, together with any other entry from the whiteboard\n",
    "globals().update(outData)\n",
    "saveOutData(globals())  # function in .modules\n",
    "print(\"--\")\n",
    "\n",
    "########\n",
    "# to open the Pickle file importing the anaKrys modules: \n",
    "#    outData = readOutData()  # function in .modules"
   ]
  }
 ],
 "metadata": {
  "kernelspec": {
   "display_name": "Python 3",
   "language": "python",
   "name": "python3"
  },
  "language_info": {
   "codemirror_mode": {
    "name": "ipython",
    "version": 3
   },
   "file_extension": ".py",
   "mimetype": "text/x-python",
   "name": "python",
   "nbconvert_exporter": "python",
   "pygments_lexer": "ipython3",
   "version": "3.8.8"
  }
 },
 "nbformat": 4,
 "nbformat_minor": 4
}
