{
 "cells": [
  {
   "cell_type": "markdown",
   "metadata": {},
   "source": [
    "# **anaKrys**\n",
    "\n",
    "(*version 0.0.0*)"
   ]
  },
  {
   "cell_type": "markdown",
   "metadata": {},
   "source": [
    "**notebook settings & imports  (edit %matplotlib magic here)**"
   ]
  },
  {
   "cell_type": "code",
   "execution_count": 1,
   "metadata": {
    "jupyter": {
     "source_hidden": true
    }
   },
   "outputs": [],
   "source": [
    "# set %matplotlib inline (%matplotlib widget, %matplotlib qt) for static (interactive on-page, interactive in separate window) plots\n",
    "# in order to use the on-page interactive mode, make sure the environment is set up properly\n",
    "# comment this out before exporting the notebook to a Python script -- via jupyter nbconvert --to script anaKrys.ipynb\n",
    "%matplotlib widget\n",
    "\n",
    "# external modules\n",
    "import datetime\n",
    "import importlib\n",
    "import os\n",
    "import pickle\n",
    "import succolib as sl\n",
    "import pandas as pd\n",
    "import numpy as np\n",
    "import matplotlib.pyplot as plt\n",
    "from scipy.optimize import curve_fit\n",
    "from matplotlib.colors import LogNorm\n",
    "\n",
    "# internal modules (in .modules)\n",
    "from modules import *"
   ]
  },
  {
   "cell_type": "markdown",
   "metadata": {},
   "source": [
    "**starting chronometer**"
   ]
  },
  {
   "cell_type": "code",
   "execution_count": 2,
   "metadata": {
    "jupyter": {
     "source_hidden": true
    }
   },
   "outputs": [
    {
     "name": "stdout",
     "output_type": "stream",
     "text": [
      "2022-05-29 10:22:37 GMT --> let's start!\n",
      "--\n"
     ]
    }
   ],
   "source": [
    "tStart = datetime.datetime.fromtimestamp(datetime.datetime.now().timestamp())  # start chronometer\n",
    "tStartPrint = tStart.strftime(\"%Y-%m-%d %H:%M:%S GMT\")\n",
    "print(\"%s --> let's start!\" % tStartPrint)\n",
    "print(\"--\")"
   ]
  },
  {
   "cell_type": "markdown",
   "metadata": {},
   "source": [
    "---"
   ]
  },
  {
   "cell_type": "markdown",
   "metadata": {},
   "source": [
    "## **input settings**"
   ]
  },
  {
   "cell_type": "code",
   "execution_count": 3,
   "metadata": {
    "jupyter": {
     "source_hidden": true
    }
   },
   "outputs": [
    {
     "name": "stdout",
     "output_type": "stream",
     "text": [
      "looking for files with label y22StormDesyT21 in ./settings/\n",
      "execution control booleans:\n",
      "data reload controller: True\n",
      "test mode controller: False\n",
      "--\n",
      "will work with run numbers(s)/type(s) in /mnt/c/Users/succo/succo/data_local/22_desy_t21_storm/data/ with format runXXXXXX_YYYYYY.dat\n",
      "(1/6) 500986 Diamond_Axial\n",
      "(2/6) 501019 Diamond_Axial\n",
      "(3/6) 500992 Diamond_Random\n",
      "(4/6) 500999 Diamond_AxisToRandom_650urad\n",
      "(5/6) 501014 Diamond_AxisToRandom_650urad\n",
      "(6/6) 501017 Diamond_AxisToRandom_1300urad\n",
      "--\n"
     ]
    }
   ],
   "source": [
    "# data reload controller -- if True (False), reload the data files (use the dataframe already in memory)\n",
    "boolLoad = True\n",
    "\n",
    "# progressbar visualisation controller -- if True (False) the file opening progressbars will (not) be visualised\n",
    "# in particular, set it to False if working in an environment with no widgets enabled\n",
    "bProgressBars = True\n",
    "\n",
    "# test mode controller: if True (False), the software runs with test (custom, selected via settingsFileMods) settings and data\n",
    "boolTest = False\n",
    "\n",
    "# run numbers or types to be opened\n",
    "# format: list of strings -- insert run numbers or types as they appear in nRun0\n",
    "# might be left empty in test mode -- both test runs \"test0\" & \"test1\" selected by default\n",
    "nRunToOpen = [\"Diamond_Axial\", \"Diamond_Random\", \"Diamond_AxisToRandom_650urad\", \"Diamond_AxisToRandom_1300urad\"]\n",
    "# nRunToOpen = [\"PbF2_Axial\", \"PbF2_Random\", \"PbF2_AxisToRandom_3mrad\", \"PbF2_AxisToRandom_1mrad\", \"PbF2_AxisToRandom_10mrad\"]\n",
    "\n",
    "# label of the settings fileset to load -- useless if boolTest=False\n",
    "settingsFileMods = \"y22StormDesyT21\"\n",
    "\n",
    "# filetype, string -- either \"ASCII\", \"NPZ\" or \"ROOT\"\n",
    "fileType = \"ASCII\"\n",
    "\n",
    "# file path (with / at the end), string\n",
    "# useless in test mode, in which it is set automatically depending on fileType\n",
    "# filePath = \"/mnt/r/home/msoldani/data_sshfs/\"  # spill-separated data on the server\n",
    "filePath = os.environ.get(\"HOME\")+\"/data_local/22_desy_t21_storm/data/\"  # local, merged data\n",
    "\n",
    "# file name format (with no path), string\n",
    "# shape: replace the run number with XXXXXX and (for multiple files per run) the file number with YYYYYY\n",
    "# useless in test mode, in which it is set automatically depending on fileType\n",
    "fileNameFormat = \"runXXXXXX_YYYYYY.dat\"\n",
    "\n",
    "#######################################\n",
    "# import settings, according to boolTest and settingsFileMods\n",
    "# function in .modules --> set ./settings/__init__.py for settings fileset selection\n",
    "mod_runList_name, mod_settings_name = settingsSelect(boolTest, whichInput = fileType if boolTest else settingsFileMods)\n",
    "globals().update(importlib.import_module(mod_runList_name).__dict__)\n",
    "globals().update(importlib.import_module(mod_settings_name).__dict__)\n",
    "\n",
    "#######################################\n",
    "# print only (functions in .modules)\n",
    "boolControlPrint(boolLoad, boolTest, fileType)\n",
    "print(\"--\")\n",
    "settingsPrint(filePath, fileNameFormat, nRunToOpen, nRun0)  # print only (function in .modules)\n",
    "print(\"--\")"
   ]
  },
  {
   "cell_type": "markdown",
   "metadata": {},
   "source": [
    "---"
   ]
  },
  {
   "cell_type": "markdown",
   "metadata": {},
   "source": [
    "## **opening the data files**"
   ]
  },
  {
   "cell_type": "code",
   "execution_count": 4,
   "metadata": {
    "jupyter": {
     "source_hidden": true
    }
   },
   "outputs": [
    {
     "name": "stdout",
     "output_type": "stream",
     "text": [
      "opening ASCII files... --> data into DataFrame df\n",
      "(1/6) 500986 -- descaling fraction: 1.000000000000\n"
     ]
    },
    {
     "data": {
      "application/vnd.jupyter.widget-view+json": {
       "model_id": "bed7325e1cc143f6a4311b77407f744b",
       "version_major": 2,
       "version_minor": 0
      },
      "text/plain": [
       "  0%|          | 0/1 [00:00<?, ?it/s]"
      ]
     },
     "metadata": {},
     "output_type": "display_data"
    },
    {
     "name": "stdout",
     "output_type": "stream",
     "text": [
      "mirroring (from mirror map given) ['xRaw7']\n",
      "iRun also added to df\n",
      "(2/6) 500992 -- descaling fraction: 1.000000000000\n"
     ]
    },
    {
     "data": {
      "application/vnd.jupyter.widget-view+json": {
       "model_id": "0eb5c9a397da4ec0bde54aceec167608",
       "version_major": 2,
       "version_minor": 0
      },
      "text/plain": [
       "  0%|          | 0/1 [00:00<?, ?it/s]"
      ]
     },
     "metadata": {},
     "output_type": "display_data"
    },
    {
     "name": "stdout",
     "output_type": "stream",
     "text": [
      "mirroring (from mirror map given) ['xRaw7']\n",
      "iRun also added to df\n",
      "(3/6) 500999 -- descaling fraction: 1.000000000000\n"
     ]
    },
    {
     "data": {
      "application/vnd.jupyter.widget-view+json": {
       "model_id": "252b4220ddc948b685c230648fa72fc7",
       "version_major": 2,
       "version_minor": 0
      },
      "text/plain": [
       "  0%|          | 0/1 [00:00<?, ?it/s]"
      ]
     },
     "metadata": {},
     "output_type": "display_data"
    },
    {
     "name": "stdout",
     "output_type": "stream",
     "text": [
      "mirroring (from mirror map given) ['xRaw7']\n",
      "iRun also added to df\n",
      "(4/6) 501014 -- descaling fraction: 1.000000000000\n"
     ]
    },
    {
     "data": {
      "application/vnd.jupyter.widget-view+json": {
       "model_id": "3502dc9aa24b431ba30296678b96ac93",
       "version_major": 2,
       "version_minor": 0
      },
      "text/plain": [
       "  0%|          | 0/1 [00:00<?, ?it/s]"
      ]
     },
     "metadata": {},
     "output_type": "display_data"
    },
    {
     "name": "stdout",
     "output_type": "stream",
     "text": [
      "mirroring (from mirror map given) ['xRaw7']\n",
      "iRun also added to df\n",
      "(5/6) 501017 -- descaling fraction: 1.000000000000\n"
     ]
    },
    {
     "data": {
      "application/vnd.jupyter.widget-view+json": {
       "model_id": "26ddca056cd14fe68922a82375b6e9fc",
       "version_major": 2,
       "version_minor": 0
      },
      "text/plain": [
       "  0%|          | 0/1 [00:00<?, ?it/s]"
      ]
     },
     "metadata": {},
     "output_type": "display_data"
    },
    {
     "name": "stdout",
     "output_type": "stream",
     "text": [
      "mirroring (from mirror map given) ['xRaw7']\n",
      "iRun also added to df\n",
      "(6/6) 501019 -- descaling fraction: 1.000000000000\n"
     ]
    },
    {
     "data": {
      "application/vnd.jupyter.widget-view+json": {
       "model_id": "8346623edfaf4361bfde9a9ad5f3c17d",
       "version_major": 2,
       "version_minor": 0
      },
      "text/plain": [
       "  0%|          | 0/1 [00:00<?, ?it/s]"
      ]
     },
     "metadata": {},
     "output_type": "display_data"
    },
    {
     "name": "stdout",
     "output_type": "stream",
     "text": [
      "mirroring (from mirror map given) ['xRaw7']\n",
      "iRun also added to df\n",
      "--\n",
      "typeRun added to df\n",
      "--\n",
      "done (in 21.21 s) --> raw data have (events, variables) = (469744, 86)\n",
      "--\n"
     ]
    }
   ],
   "source": [
    "##############################\n",
    "# data (re)loading is performed only if required\n",
    "if boolLoad: \n",
    "    \n",
    "    # default nRunToOpen for test mode\n",
    "    if boolTest & (len(nRunToOpen)==0):\n",
    "        nRunToOpen = [\"test0\", \"test1\"]  # do not edit this! proper setting above\n",
    "    \n",
    "    # some dataset-related info\n",
    "    filePathTest = \"./data_test/ascii_test/\" if fileType==\"ASCII\" else \"./data_test/tree_test/\"\n",
    "    fileNameFormatTest = \"runXXXXXX_YYYYYY.dat\" if fileType==\"ASCII\" else \"runXXXXXX.root\"\n",
    "    fileNameFormatFull = (filePathTest if boolTest else filePath) + (fileNameFormatTest if boolTest else fileNameFormat)  # full filenames, i.e. with path\n",
    "    nRun = {}  # dictionary of the files to be opened only (same format as nRun0)\n",
    "    for iRun in nRun0:\n",
    "        if (iRun in nRunToOpen) | (nRun0[iRun] in nRunToOpen):\n",
    "            nRun.update({iRun: nRun0[iRun]})\n",
    "    \n",
    "    # data opening (function in .modules)\n",
    "    # recall:\n",
    "    #      - in ROOT case, remapping is also done\n",
    "    #      - swapped layers are also mirrored run by run\n",
    "    #      - iRun & typeRun columns also created (respectively with nRun0 keys & values)\n",
    "    df, dt = loadGeneral(fileType, fileNameFormatFull, nRun, descFrac, mirrorMap, globals(), bProgressBars)\n",
    "    print(\"--\")\n",
    "    \n",
    "    # newly created df structure info printing\n",
    "    loadDonePrint(df, dt)  # print only (function in .modules)\n",
    "\n",
    "##############################\n",
    "# print already existing df info if not (re)loading any data file\n",
    "else:  \n",
    "    loadSkipPrint(df)  # print only (function in .modules)\n",
    "    \n",
    "print(\"--\")"
   ]
  },
  {
   "cell_type": "code",
   "execution_count": 5,
   "metadata": {
    "jupyter": {
     "source_hidden": true
    }
   },
   "outputs": [
    {
     "name": "stdout",
     "output_type": "stream",
     "text": [
      "scan step number (iStep) availability: True \n",
      "--\n",
      "Unix time (epoch) availability: False \n",
      "--\n",
      "goniometer DOF availability: True (5)\n",
      "xGonioRaw + ['Rot', 'Crad', 'Horsa', 'HorsaBig', 'Versa']\n",
      "--\n",
      "input modules should be: ['0', '1', '2', '3']\n",
      "output modules should be: ['4', '5']\n",
      "input tracking availability (xRaw...): True\n",
      "output tracking availability (xRaw...): True\n",
      "input multiplicity availability (nHit...): True\n",
      "output multiplicity availability (nHit...): True\n",
      "--\n",
      "digitizer channel availability: True\n",
      "16 channels: digiPHRaw + ['APC0', 'APC1', 'APC2', 'CaloFwd0', 'CaloFwd1', 'CaloFwd2', 'CaloFwd3', 'CaloFwd4', 'CaloFwd5', 'CaloFwd6', 'CaloFwd7', 'CaloFwd8', 'Empty0', 'Empty1', 'Empty2', 'Empty3']\n",
      "16 with time: digiTime + ['APC0', 'APC1', 'APC2', 'CaloFwd0', 'CaloFwd1', 'CaloFwd2', 'CaloFwd3', 'CaloFwd4', 'CaloFwd5', 'CaloFwd6', 'CaloFwd7', 'CaloFwd8', 'Empty0', 'Empty1', 'Empty2', 'Empty3']\n",
      "--\n",
      "forward calorimeter total signal (PHCaloFwd) availability a priori: False\n",
      "forward calorimeter total in GeV (EFwd) availability a priori: False\n",
      "--\n",
      "keeping xRaw0 in (-20.000000, 20.000000)\n",
      "keeping xRaw1 in (-20.000000, 20.000000)\n",
      "keeping xRaw2 in (-20.000000, 20.000000)\n",
      "keeping xRaw3 in (-20.000000, 20.000000)\n",
      "filters applied: events = 469744 --> 469060\n",
      "--\n",
      "all mandatory z[500986] available\n",
      "all mandatory z[500992] available\n",
      "all mandatory z[500999] available\n",
      "all mandatory z[501014] available\n",
      "all mandatory z[501017] available\n",
      "all mandatory z[501019] available\n",
      "--\n"
     ]
    }
   ],
   "source": [
    "# detect data availability (function in .modules)\n",
    "# main data: \n",
    "#     iStep, epoch, xGonio (any), base xRaw/nHit (4 input, 2 output), digiPHRaw (any), digiTime (same as or less than digiPHRaw)\n",
    "#     furthermore, PHCaloFwd & EFwd a priori existance is checked -- they are computed from scratch only if False\n",
    "df, bIStep, bEpoch, bXGonio, bXRaw, bNHit, bDigiPHAny, lsDigiCh, bDigiTime, bPHCaloFwd0, bEFwd0 = dfCheckAvailability(df, baseTrackingMap)\n",
    "print(\"--\")\n",
    "\n",
    "# filter out the non-interesting data according to dfFilters (function in .modules)\n",
    "df = dfFiltering(df, filterMap)\n",
    "print(\"--\")\n",
    "\n",
    "# detect unavailable mandatory z entries run by run & set them to 0 (function in .modules)\n",
    "z = zBaseCheckAvailability(z, df[\"iRun\"].unique(), baseTrackingMap)\n",
    "print(\"--\")"
   ]
  },
  {
   "cell_type": "markdown",
   "metadata": {},
   "source": [
    "## **physics analysis**"
   ]
  },
  {
   "cell_type": "markdown",
   "metadata": {},
   "source": [
    "### **input tracking**"
   ]
  },
  {
   "cell_type": "code",
   "execution_count": 6,
   "metadata": {
    "jupyter": {
     "source_hidden": true
    }
   },
   "outputs": [
    {
     "name": "stdout",
     "output_type": "stream",
     "text": [
      "nHitIn added to df -- (mean, std) = (1.000000, 0.000000)\n",
      "boolSingleHitIn added to df\n",
      "--\n"
     ]
    }
   ],
   "source": [
    "# input mean multiplicity (function in .modules)\n",
    "if bNHit[\"in\"]:\n",
    "    df = aveVar(df, [\"nHit\"+s for s in baseTrackingMap[0]], \"nHitIn\")\n",
    "    \n",
    "    # also single-hit boolean\n",
    "    # note: single-hit selection is not based on nHitOut but rather on output layers individually\n",
    "    df = inHitCuts(df, [\"nHit\"+s for s in baseTrackingMap[0]])\n",
    "    \n",
    "else:\n",
    "    print(\"nHitIn & corresponding boolean not added to df\")\n",
    "    \n",
    "print(\"--\")"
   ]
  },
  {
   "cell_type": "code",
   "execution_count": 7,
   "metadata": {
    "jupyter": {
     "source_hidden": true
    }
   },
   "outputs": [
    {
     "name": "stdout",
     "output_type": "stream",
     "text": [
      "run 500986:\n",
      "thInRaw0 added to df\n",
      "aligning x layers (xRaw0 & xRaw2) with the value given in the settings: -0.0013092991\n",
      "thInRaw1 added to df\n",
      "aligning y layers (xRaw1 & xRaw3) with the value given in the settings: 0.0059202214\n",
      "boolInAligned: circle centered in 0 with radius 0.000200 (edge excluded)\n",
      "run 500992:\n",
      "thInRaw0 added to df\n",
      "aligning x layers (xRaw0 & xRaw2) with the value given in the settings: -0.0013092991\n",
      "thInRaw1 added to df\n",
      "aligning y layers (xRaw1 & xRaw3) with the value given in the settings: 0.0059202214\n",
      "boolInAligned: circle centered in 0 with radius 0.050000 (edge excluded)\n",
      "run 500999:\n",
      "thInRaw0 added to df\n",
      "aligning x layers (xRaw0 & xRaw2) with the value given in the settings: -0.0013092991\n",
      "thInRaw1 added to df\n",
      "aligning y layers (xRaw1 & xRaw3) with the value given in the settings: 0.0059202214\n",
      "boolInAligned: circle centered in 0 with radius 0.000500 (edge excluded)\n",
      "run 501014:\n",
      "thInRaw0 added to df\n",
      "aligning x layers (xRaw0 & xRaw2) with the value given in the settings: -0.0013092991\n",
      "thInRaw1 added to df\n",
      "aligning y layers (xRaw1 & xRaw3) with the value given in the settings: 0.0059202214\n",
      "boolInAligned: circle centered in 0 with radius 0.000500 (edge excluded)\n",
      "run 501017:\n",
      "thInRaw0 added to df\n",
      "aligning x layers (xRaw0 & xRaw2) with the value given in the settings: -0.0013092991\n",
      "thInRaw1 added to df\n",
      "aligning y layers (xRaw1 & xRaw3) with the value given in the settings: 0.0059202214\n",
      "boolInAligned: circle centered in 0 with radius 0.000500 (edge excluded)\n",
      "run 501019:\n",
      "thInRaw0 added to df\n",
      "aligning x layers (xRaw0 & xRaw2) with the value given in the settings: -0.0013092991\n",
      "thInRaw1 added to df\n",
      "aligning y layers (xRaw1 & xRaw3) with the value given in the settings: 0.0059202214\n",
      "boolInAligned: circle centered in 0 with radius 0.000200 (edge excluded)\n",
      "--\n",
      "run 500986: boolInCry(0/1): (1.150000 < x < 1.670000) & (0.490000 < y < 1.430000)\n",
      "run 500992: boolInCry(0/1): (1.150000 < x < 1.670000) & (0.490000 < y < 1.430000)\n",
      "run 500999: boolInCry(0/1): (1.150000 < x < 1.670000) & (0.490000 < y < 1.430000)\n",
      "run 501014: boolInCry(0/1): (1.150000 < x < 1.670000) & (0.490000 < y < 1.430000)\n",
      "run 501017: boolInCry(0/1): (1.150000 < x < 1.670000) & (0.490000 < y < 1.430000)\n",
      "run 501019: boolInCry(0/1): (1.150000 < x < 1.670000) & (0.490000 < y < 1.430000)\n",
      "--\n",
      "x axis\n",
      "final input angle thIn0: (mean, std) = (-0.000160, 0.002466)\n",
      "final beam projections: x0, x2, xCry0, xCaloFwd0\n",
      "y axis\n",
      "final input angle thIn1: (mean, std) = (-0.000354, 0.002634)\n",
      "final beam projections: x1, x3, xCry1, xCaloFwd1\n",
      "--\n"
     ]
    }
   ],
   "source": [
    "# input tracking (functions in .modules)\n",
    "# recall that (if input positions available) input tracking is done regardless of input multiplicity\n",
    "#     --> if needed, single-hit selection has to be applied manually a posteriori\n",
    "if bXRaw[\"in\"]:\n",
    "    # input angles/aligned tracking info\n",
    "    # also input angle selection, according to thInCut\n",
    "    df = trackingAngleAlign(df, [\"xRaw\"+s for s in baseTrackingMap[0]], thInCentres, \"thIn\", z, True, thInCut)\n",
    "    print(\"--\")\n",
    "    \n",
    "    # input beam projection @ crystal & @ forward calorimeter\n",
    "    # also crystal fiducial selection, according to xCryCut\n",
    "    # also print several input beam info\n",
    "    df = inputTrackingProj(df, baseTrackingMap[0], z, xCryCut)\n",
    "    \n",
    "else:\n",
    "    print(\"no input beam info available --> no raw angles, aligned angles, aligned positions & projections added to df\")\n",
    "    \n",
    "print(\"--\")"
   ]
  },
  {
   "cell_type": "markdown",
   "metadata": {},
   "source": [
    "### **goniometer**"
   ]
  },
  {
   "cell_type": "code",
   "execution_count": 8,
   "metadata": {
    "jupyter": {
     "source_hidden": true
    }
   },
   "outputs": [
    {
     "name": "stdout",
     "output_type": "stream",
     "text": [
      "xGonioRawRot paired to thIn0 (as it is in df) with factor -1.000000E+06 --> xGonioRot\n",
      "xGonioRawCrad paired to thIn1 (as it is in df) with factor -1.000000E+06 --> xGonioCrad\n",
      "xGonioRawHorsa copied into xGonioHorsa with no modifications (not in gonioMap)\n",
      "xGonioRawHorsaBig copied into xGonioHorsaBig with no modifications (not in gonioMap)\n",
      "xGonioRawVersa copied into xGonioVersa with no modifications (not in gonioMap)\n",
      "--\n"
     ]
    }
   ],
   "source": [
    "# from xGonioRaw... to xGonio... -- according to info in gonioMap (function in .modules)\n",
    "if bXGonio:\n",
    "    df = gonioPair(df, gonioMap)\n",
    "else:\n",
    "    print(\"no goniometer info available --> no final goniometer DOF added to df\")\n",
    "    \n",
    "print(\"--\")"
   ]
  },
  {
   "cell_type": "markdown",
   "metadata": {},
   "source": [
    "### **output tracking**"
   ]
  },
  {
   "cell_type": "code",
   "execution_count": 9,
   "metadata": {
    "jupyter": {
     "source_hidden": true
    }
   },
   "outputs": [
    {
     "name": "stdout",
     "output_type": "stream",
     "text": [
      "nHitOut added to df -- (mean, std) = (1.457170, 0.604826)\n",
      "boolSingleHitOut added to df\n",
      "--\n",
      "run 500986:\n",
      "boolLowHitOut: output multiplicity lower window @ <= 1.000000\n",
      "boolHighHitOut: output multiplicity upper window @ >= 4.000000\n",
      "run 500992:\n",
      "boolLowHitOut: output multiplicity lower window @ <= 1.000000\n",
      "boolHighHitOut: output multiplicity upper window @ >= 4.000000\n",
      "run 500999:\n",
      "boolLowHitOut: output multiplicity lower window @ <= 1.000000\n",
      "boolHighHitOut: output multiplicity upper window @ >= 4.000000\n",
      "run 501014:\n",
      "boolLowHitOut: output multiplicity lower window @ <= 1.000000\n",
      "boolHighHitOut: output multiplicity upper window @ >= 4.000000\n",
      "run 501017:\n",
      "boolLowHitOut: output multiplicity lower window @ <= 1.000000\n",
      "boolHighHitOut: output multiplicity upper window @ >= 4.000000\n",
      "run 501019:\n",
      "boolLowHitOut: output multiplicity lower window @ <= 1.000000\n",
      "boolHighHitOut: output multiplicity upper window @ >= 4.000000\n",
      "--\n"
     ]
    }
   ],
   "source": [
    "# output mean multiplicity (functions in .modules)\n",
    "if bNHit[\"out\"]:\n",
    "    df = aveVar(df, [\"nHit\"+s for s in baseTrackingMap[1]], \"nHitOut\")\n",
    "    \n",
    "    # also booleans -- single-hit, low multiplicity & high-multiplicity, according to outMultCut\n",
    "    # note: single-hit selection is not based on nHitOut but rather on output layers individually\n",
    "    df = outHitCuts(df, [\"nHit\"+s for s in baseTrackingMap[1]], outMultCut)\n",
    "    \n",
    "else:\n",
    "    print(\"nHitOut & corresponding booleans not added to df\")\n",
    "    \n",
    "print(\"--\")"
   ]
  },
  {
   "cell_type": "code",
   "execution_count": 10,
   "metadata": {
    "jupyter": {
     "source_hidden": true
    }
   },
   "outputs": [
    {
     "name": "stdout",
     "output_type": "stream",
     "text": [
      "run 500986:\n",
      "thOutRaw0 added to df\n",
      "aligning x layers (xCry0 & xRaw4) with the value given in the settings: 0.0507927400\n",
      "thOutRaw1 added to df\n",
      "aligning y layers (xCry1 & xRaw5) with the value given in the settings: 0.0557164500\n",
      "run 500992:\n",
      "thOutRaw0 added to df\n",
      "aligning x layers (xCry0 & xRaw4) with the value given in the settings: 0.0507927400\n",
      "thOutRaw1 added to df\n",
      "aligning y layers (xCry1 & xRaw5) with the value given in the settings: 0.0557164500\n",
      "run 500999:\n",
      "thOutRaw0 added to df\n",
      "aligning x layers (xCry0 & xRaw4) with the value given in the settings: 0.0507927400\n",
      "thOutRaw1 added to df\n",
      "aligning y layers (xCry1 & xRaw5) with the value given in the settings: 0.0557164500\n",
      "run 501014:\n",
      "thOutRaw0 added to df\n",
      "aligning x layers (xCry0 & xRaw4) with the value given in the settings: 0.0507927400\n",
      "thOutRaw1 added to df\n",
      "aligning y layers (xCry1 & xRaw5) with the value given in the settings: 0.0557164500\n",
      "run 501017:\n",
      "thOutRaw0 added to df\n",
      "aligning x layers (xCry0 & xRaw4) with the value given in the settings: 0.0507927400\n",
      "thOutRaw1 added to df\n",
      "aligning y layers (xCry1 & xRaw5) with the value given in the settings: 0.0557164500\n",
      "run 501019:\n",
      "thOutRaw0 added to df\n",
      "aligning x layers (xCry0 & xRaw4) with the value given in the settings: 0.0507927400\n",
      "thOutRaw1 added to df\n",
      "aligning y layers (xCry1 & xRaw5) with the value given in the settings: 0.0557164500\n",
      "--\n",
      "x axis\n",
      "final output angle thOut0: (mean, std) = (-0.033142, 0.229275)\n",
      "final beam projections: xCry0, x4\n",
      "output-input angle delta thDelta0: (mean, std) = (-0.032982, 0.229232)\n",
      "y axis\n",
      "final output angle thOut1: (mean, std) = (-0.018035, 0.169883)\n",
      "final beam projections: xCry1, x5\n",
      "output-input angle delta thDelta1: (mean, std) = (-0.017681, 0.169462)\n",
      "--\n"
     ]
    }
   ],
   "source": [
    "# output tracking (functions in .modules)\n",
    "# recall that (if output positions available) output tracking is done regardless of input/output multiplicity\n",
    "#     --> if needed, single-hit selections have to be applied manually a posteriori\n",
    "if bXRaw[\"out\"]:\n",
    "    # for output stage analysis, xCry0-1 = 0 when input tracking is absent\n",
    "    if not bXRaw[\"in\"]:\n",
    "        df.loc[:, \"xCry%d\"%i] = 0\n",
    "        print(\"input tracking unavailability --> doing output tracking with xCry0/1 automatically set to 0\\n--\")\n",
    "    \n",
    "    # output angles/aligned tracking info\n",
    "    df = trackingAngleAlign(df, [\"xCry0\", \"xCry1\"] + [\"xRaw\"+s for s in baseTrackingMap[1]], thOutCentres, \"thOut\", z, False)\n",
    "    print(\"--\")\n",
    "    \n",
    "    # output-input angle delta\n",
    "    df = trackingAngleDelta(df)\n",
    "    \n",
    "    # print output beam info\n",
    "    outputTrackingPrint(df, baseTrackingMap[1])\n",
    "        \n",
    "else:\n",
    "    print(\"no output beam info available --> no raw angles, aligned angles, angle deltas & aligned positions added to df\")\n",
    "    \n",
    "print(\"--\")"
   ]
  },
  {
   "cell_type": "markdown",
   "metadata": {},
   "source": [
    "### **digitizers**"
   ]
  },
  {
   "cell_type": "code",
   "execution_count": 11,
   "metadata": {
    "jupyter": {
     "source_hidden": true
    }
   },
   "outputs": [
    {
     "name": "stdout",
     "output_type": "stream",
     "text": [
      "run 500986:\n",
      "digiPHAPC0 = digiPHRawAPC0, i.e. not equalised (not in equalMap)\n",
      "digiPHAPC1 = digiPHRawAPC1, i.e. not equalised (not in equalMap)\n",
      "digiPHAPC2 = digiPHRawAPC2, i.e. not equalised (not in equalMap)\n",
      "digiPHRawCaloFwd0 --> digiPHCaloFwd0 via lambda x, a: x*a, [0.461320]\n",
      "digiPHRawCaloFwd1 --> digiPHCaloFwd1 via lambda x, a: x*a, [0.618319]\n",
      "digiPHRawCaloFwd2 --> digiPHCaloFwd2 via lambda x, a: x*a, [0.580172]\n",
      "digiPHRawCaloFwd3 --> digiPHCaloFwd3 via lambda x, a: x*a, [0.559943]\n",
      "digiPHRawCaloFwd4 --> digiPHCaloFwd4 via lambda x, a: x*a, [1]\n",
      "digiPHRawCaloFwd5 --> digiPHCaloFwd5 via lambda x, a: x*a, [0.882152]\n",
      "digiPHRawCaloFwd6 --> digiPHCaloFwd6 via lambda x, a: x*a, [0.553153]\n",
      "digiPHRawCaloFwd7 --> digiPHCaloFwd7 via lambda x, a: x*a, [1.063839]\n",
      "digiPHCaloFwd8 = digiPHRawCaloFwd8, i.e. not equalised (not in equalMap)\n",
      "digiPHEmpty0 = digiPHRawEmpty0, i.e. not equalised (not in equalMap)\n",
      "digiPHEmpty1 = digiPHRawEmpty1, i.e. not equalised (not in equalMap)\n",
      "digiPHEmpty2 = digiPHRawEmpty2, i.e. not equalised (not in equalMap)\n",
      "digiPHEmpty3 = digiPHRawEmpty3, i.e. not equalised (not in equalMap)\n",
      "run 500992:\n",
      "digiPHAPC0 = digiPHRawAPC0, i.e. not equalised (not in equalMap)\n",
      "digiPHAPC1 = digiPHRawAPC1, i.e. not equalised (not in equalMap)\n",
      "digiPHAPC2 = digiPHRawAPC2, i.e. not equalised (not in equalMap)\n",
      "digiPHRawCaloFwd0 --> digiPHCaloFwd0 via lambda x, a: x*a, [0.461320]\n",
      "digiPHRawCaloFwd1 --> digiPHCaloFwd1 via lambda x, a: x*a, [0.618319]\n",
      "digiPHRawCaloFwd2 --> digiPHCaloFwd2 via lambda x, a: x*a, [0.580172]\n",
      "digiPHRawCaloFwd3 --> digiPHCaloFwd3 via lambda x, a: x*a, [0.559943]\n",
      "digiPHRawCaloFwd4 --> digiPHCaloFwd4 via lambda x, a: x*a, [1]\n",
      "digiPHRawCaloFwd5 --> digiPHCaloFwd5 via lambda x, a: x*a, [0.882152]\n",
      "digiPHRawCaloFwd6 --> digiPHCaloFwd6 via lambda x, a: x*a, [0.553153]\n",
      "digiPHRawCaloFwd7 --> digiPHCaloFwd7 via lambda x, a: x*a, [1.063839]\n",
      "digiPHCaloFwd8 = digiPHRawCaloFwd8, i.e. not equalised (not in equalMap)\n",
      "digiPHEmpty0 = digiPHRawEmpty0, i.e. not equalised (not in equalMap)\n",
      "digiPHEmpty1 = digiPHRawEmpty1, i.e. not equalised (not in equalMap)\n",
      "digiPHEmpty2 = digiPHRawEmpty2, i.e. not equalised (not in equalMap)\n",
      "digiPHEmpty3 = digiPHRawEmpty3, i.e. not equalised (not in equalMap)\n",
      "run 500999:\n",
      "digiPHAPC0 = digiPHRawAPC0, i.e. not equalised (not in equalMap)\n",
      "digiPHAPC1 = digiPHRawAPC1, i.e. not equalised (not in equalMap)\n",
      "digiPHAPC2 = digiPHRawAPC2, i.e. not equalised (not in equalMap)\n",
      "digiPHRawCaloFwd0 --> digiPHCaloFwd0 via lambda x, a: x*a, [0.461320]\n",
      "digiPHRawCaloFwd1 --> digiPHCaloFwd1 via lambda x, a: x*a, [0.618319]\n",
      "digiPHRawCaloFwd2 --> digiPHCaloFwd2 via lambda x, a: x*a, [0.580172]\n",
      "digiPHRawCaloFwd3 --> digiPHCaloFwd3 via lambda x, a: x*a, [0.559943]\n",
      "digiPHRawCaloFwd4 --> digiPHCaloFwd4 via lambda x, a: x*a, [1]\n",
      "digiPHRawCaloFwd5 --> digiPHCaloFwd5 via lambda x, a: x*a, [0.882152]\n",
      "digiPHRawCaloFwd6 --> digiPHCaloFwd6 via lambda x, a: x*a, [0.553153]\n",
      "digiPHRawCaloFwd7 --> digiPHCaloFwd7 via lambda x, a: x*a, [1.063839]\n",
      "digiPHCaloFwd8 = digiPHRawCaloFwd8, i.e. not equalised (not in equalMap)\n",
      "digiPHEmpty0 = digiPHRawEmpty0, i.e. not equalised (not in equalMap)\n",
      "digiPHEmpty1 = digiPHRawEmpty1, i.e. not equalised (not in equalMap)\n",
      "digiPHEmpty2 = digiPHRawEmpty2, i.e. not equalised (not in equalMap)\n",
      "digiPHEmpty3 = digiPHRawEmpty3, i.e. not equalised (not in equalMap)\n",
      "run 501014:\n",
      "digiPHAPC0 = digiPHRawAPC0, i.e. not equalised (not in equalMap)\n",
      "digiPHAPC1 = digiPHRawAPC1, i.e. not equalised (not in equalMap)\n",
      "digiPHAPC2 = digiPHRawAPC2, i.e. not equalised (not in equalMap)\n",
      "digiPHRawCaloFwd0 --> digiPHCaloFwd0 via lambda x, a: x*a, [0.461320]\n",
      "digiPHRawCaloFwd1 --> digiPHCaloFwd1 via lambda x, a: x*a, [0.618319]\n",
      "digiPHRawCaloFwd2 --> digiPHCaloFwd2 via lambda x, a: x*a, [0.580172]\n",
      "digiPHRawCaloFwd3 --> digiPHCaloFwd3 via lambda x, a: x*a, [0.559943]\n",
      "digiPHRawCaloFwd4 --> digiPHCaloFwd4 via lambda x, a: x*a, [1]\n",
      "digiPHRawCaloFwd5 --> digiPHCaloFwd5 via lambda x, a: x*a, [0.882152]\n",
      "digiPHRawCaloFwd6 --> digiPHCaloFwd6 via lambda x, a: x*a, [0.553153]\n",
      "digiPHRawCaloFwd7 --> digiPHCaloFwd7 via lambda x, a: x*a, [1.063839]\n",
      "digiPHCaloFwd8 = digiPHRawCaloFwd8, i.e. not equalised (not in equalMap)\n",
      "digiPHEmpty0 = digiPHRawEmpty0, i.e. not equalised (not in equalMap)\n",
      "digiPHEmpty1 = digiPHRawEmpty1, i.e. not equalised (not in equalMap)\n",
      "digiPHEmpty2 = digiPHRawEmpty2, i.e. not equalised (not in equalMap)\n",
      "digiPHEmpty3 = digiPHRawEmpty3, i.e. not equalised (not in equalMap)\n",
      "run 501017:\n",
      "digiPHAPC0 = digiPHRawAPC0, i.e. not equalised (not in equalMap)\n",
      "digiPHAPC1 = digiPHRawAPC1, i.e. not equalised (not in equalMap)\n",
      "digiPHAPC2 = digiPHRawAPC2, i.e. not equalised (not in equalMap)\n",
      "digiPHRawCaloFwd0 --> digiPHCaloFwd0 via lambda x, a: x*a, [0.461320]\n",
      "digiPHRawCaloFwd1 --> digiPHCaloFwd1 via lambda x, a: x*a, [0.618319]\n",
      "digiPHRawCaloFwd2 --> digiPHCaloFwd2 via lambda x, a: x*a, [0.580172]\n",
      "digiPHRawCaloFwd3 --> digiPHCaloFwd3 via lambda x, a: x*a, [0.559943]\n",
      "digiPHRawCaloFwd4 --> digiPHCaloFwd4 via lambda x, a: x*a, [1]\n",
      "digiPHRawCaloFwd5 --> digiPHCaloFwd5 via lambda x, a: x*a, [0.882152]\n",
      "digiPHRawCaloFwd6 --> digiPHCaloFwd6 via lambda x, a: x*a, [0.553153]\n",
      "digiPHRawCaloFwd7 --> digiPHCaloFwd7 via lambda x, a: x*a, [1.063839]\n",
      "digiPHCaloFwd8 = digiPHRawCaloFwd8, i.e. not equalised (not in equalMap)\n",
      "digiPHEmpty0 = digiPHRawEmpty0, i.e. not equalised (not in equalMap)\n",
      "digiPHEmpty1 = digiPHRawEmpty1, i.e. not equalised (not in equalMap)\n",
      "digiPHEmpty2 = digiPHRawEmpty2, i.e. not equalised (not in equalMap)\n",
      "digiPHEmpty3 = digiPHRawEmpty3, i.e. not equalised (not in equalMap)\n",
      "run 501019:\n",
      "digiPHAPC0 = digiPHRawAPC0, i.e. not equalised (not in equalMap)\n",
      "digiPHAPC1 = digiPHRawAPC1, i.e. not equalised (not in equalMap)\n",
      "digiPHAPC2 = digiPHRawAPC2, i.e. not equalised (not in equalMap)\n",
      "digiPHRawCaloFwd0 --> digiPHCaloFwd0 via lambda x, a: x*a, [0.461320]\n",
      "digiPHRawCaloFwd1 --> digiPHCaloFwd1 via lambda x, a: x*a, [0.618319]\n",
      "digiPHRawCaloFwd2 --> digiPHCaloFwd2 via lambda x, a: x*a, [0.580172]\n",
      "digiPHRawCaloFwd3 --> digiPHCaloFwd3 via lambda x, a: x*a, [0.559943]\n",
      "digiPHRawCaloFwd4 --> digiPHCaloFwd4 via lambda x, a: x*a, [1]\n",
      "digiPHRawCaloFwd5 --> digiPHCaloFwd5 via lambda x, a: x*a, [0.882152]\n",
      "digiPHRawCaloFwd6 --> digiPHCaloFwd6 via lambda x, a: x*a, [0.553153]\n",
      "digiPHRawCaloFwd7 --> digiPHCaloFwd7 via lambda x, a: x*a, [1.063839]\n",
      "digiPHCaloFwd8 = digiPHRawCaloFwd8, i.e. not equalised (not in equalMap)\n",
      "digiPHEmpty0 = digiPHRawEmpty0, i.e. not equalised (not in equalMap)\n",
      "digiPHEmpty1 = digiPHRawEmpty1, i.e. not equalised (not in equalMap)\n",
      "digiPHEmpty2 = digiPHRawEmpty2, i.e. not equalised (not in equalMap)\n",
      "digiPHEmpty3 = digiPHRawEmpty3, i.e. not equalised (not in equalMap)\n",
      "--\n",
      "run 500986:\n",
      "cuts added to df: boolDigiPH + []\n",
      "cuts added to df: boolDigiTime + ['APC0', 'APC1', 'CaloFwd0', 'CaloFwd1', 'CaloFwd2', 'CaloFwd3', 'CaloFwd4', 'CaloFwd5', 'CaloFwd6', 'CaloFwd7']\n",
      "run 500992:\n",
      "cuts added to df: boolDigiPH + []\n",
      "cuts added to df: boolDigiTime + ['APC0', 'APC1', 'CaloFwd0', 'CaloFwd1', 'CaloFwd2', 'CaloFwd3', 'CaloFwd4', 'CaloFwd5', 'CaloFwd6', 'CaloFwd7']\n",
      "run 500999:\n",
      "cuts added to df: boolDigiPH + []\n",
      "cuts added to df: boolDigiTime + ['APC0', 'APC1', 'CaloFwd0', 'CaloFwd1', 'CaloFwd2', 'CaloFwd3', 'CaloFwd4', 'CaloFwd5', 'CaloFwd6', 'CaloFwd7']\n",
      "run 501014:\n",
      "cuts added to df: boolDigiPH + []\n",
      "cuts added to df: boolDigiTime + ['APC0', 'APC1', 'CaloFwd0', 'CaloFwd1', 'CaloFwd2', 'CaloFwd3', 'CaloFwd4', 'CaloFwd5', 'CaloFwd6', 'CaloFwd7']\n",
      "run 501017:\n",
      "cuts added to df: boolDigiPH + []\n",
      "cuts added to df: boolDigiTime + ['APC0', 'APC1', 'CaloFwd0', 'CaloFwd1', 'CaloFwd2', 'CaloFwd3', 'CaloFwd4', 'CaloFwd5', 'CaloFwd6', 'CaloFwd7']\n",
      "run 501019:\n",
      "cuts added to df: boolDigiPH + []\n",
      "cuts added to df: boolDigiTime + ['APC0', 'APC1', 'CaloFwd0', 'CaloFwd1', 'CaloFwd2', 'CaloFwd3', 'CaloFwd4', 'CaloFwd5', 'CaloFwd6', 'CaloFwd7']\n",
      "--\n",
      "run 500986:\n",
      "PHCaloFwd not already in df --> can be created\n",
      "PHCaloFwd added to df\n",
      "run 500992:\n",
      "PHCaloFwd not already in df --> can be created\n",
      "PHCaloFwd added to df\n",
      "run 500999:\n",
      "PHCaloFwd not already in df --> can be created\n",
      "PHCaloFwd added to df\n",
      "run 501014:\n",
      "PHCaloFwd not already in df --> can be created\n",
      "PHCaloFwd added to df\n",
      "run 501017:\n",
      "PHCaloFwd not already in df --> can be created\n",
      "PHCaloFwd added to df\n",
      "run 501019:\n",
      "PHCaloFwd not already in df --> can be created\n",
      "PHCaloFwd added to df\n",
      "--\n",
      "run 500986:\n",
      "8 time entries found in df for CaloFwd channels --> boolTimeCaloFwd added to df (OR between channels)\n",
      "run 500992:\n",
      "8 time entries found in df for CaloFwd channels --> boolTimeCaloFwd added to df (OR between channels)\n",
      "run 500999:\n",
      "8 time entries found in df for CaloFwd channels --> boolTimeCaloFwd added to df (OR between channels)\n",
      "run 501014:\n",
      "8 time entries found in df for CaloFwd channels --> boolTimeCaloFwd added to df (OR between channels)\n",
      "run 501017:\n",
      "8 time entries found in df for CaloFwd channels --> boolTimeCaloFwd added to df (OR between channels)\n",
      "run 501019:\n",
      "8 time entries found in df for CaloFwd channels --> boolTimeCaloFwd added to df (OR between channels)\n",
      "--\n",
      "run 500986:\n",
      "EFwd not already in df --> can be created\n",
      "EFwd added to df -- obtained via lambda x, a, b, c: a*x*x+b*x+c, [3.49e-08, 0.0005343, 0.1489]\n",
      "run 500992:\n",
      "EFwd not already in df --> can be created\n",
      "EFwd added to df -- obtained via lambda x, a, b, c: a*x*x+b*x+c, [3.49e-08, 0.0005343, 0.1489]\n",
      "run 500999:\n",
      "EFwd not already in df --> can be created\n",
      "EFwd added to df -- obtained via lambda x, a, b, c: a*x*x+b*x+c, [3.49e-08, 0.0005343, 0.1489]\n",
      "run 501014:\n",
      "EFwd not already in df --> can be created\n",
      "EFwd added to df -- obtained via lambda x, a, b, c: a*x*x+b*x+c, [3.49e-08, 0.0005343, 0.1489]\n",
      "run 501017:\n",
      "EFwd not already in df --> can be created\n",
      "EFwd added to df -- obtained via lambda x, a, b, c: a*x*x+b*x+c, [3.49e-08, 0.0005343, 0.1489]\n",
      "run 501019:\n",
      "EFwd not already in df --> can be created\n",
      "EFwd added to df -- obtained via lambda x, a, b, c: a*x*x+b*x+c, [3.49e-08, 0.0005343, 0.1489]\n",
      "--\n"
     ]
    }
   ],
   "source": [
    "# (various functions in .modules)\n",
    "# recall that elements of lsDigiCh are available in df (with prefix \"digiPHRaw\") by definition\n",
    "# if PHCaloFwd (EFwd) already in df, forward calo. sum (calibration) is not performed -- according to bPHCaloFwd0 (bEFwd0)\n",
    "#     --> name the raw variable differently to (re)execute this\n",
    "\n",
    "if (bDigiPHAny | bPHCaloFwd0 | bEFwd0):\n",
    "    # channels equalisation\n",
    "    df = equalise(df, lsDigiCh, equalMap)\n",
    "    print(\"--\")\n",
    "    \n",
    "    # PH & time booleans\n",
    "    df = defineDigiBooleans(df, lsDigiCh, digiPHCut, digiTimeCut, bDigiTime)\n",
    "    print(\"--\")\n",
    "\n",
    "    # forward calorimeter total PH\n",
    "    # behaviour according to bPHCaloFwd0\n",
    "    # if already existing in df, this is not performed --> name the raw variable differently to (re)execute this\n",
    "    df, bPHCaloFwd = caloSum(df, bPHCaloFwd0, lsDigiChCaloFwd, \"Fwd\", False)\n",
    "    print(\"--\")\n",
    "    \n",
    "    # forward calorimeter time boolean (OR between single-channel time booleans)\n",
    "    # only useful if single channels data are available (regardless of whether or not they have been used to get PHCaloFwd), otherwise always True\n",
    "    df = caloTimeBool(df, bPHCaloFwd, lsDigiChCaloFwd, bDigiTime, \"Fwd\")\n",
    "    print(\"--\")\n",
    "    \n",
    "    # forward calorimeter energy in GeV\n",
    "    # behaviour according to bEFwd0\n",
    "    # if already existing in df, this is not performed --> name the raw variable differently to (re)execute this\n",
    "    df, bEFwd = calibrate(df, bEFwd0, calibMapFwd, \"Fwd\", False)\n",
    "\n",
    "else:\n",
    "    bPHCaloFwd = {}\n",
    "    bEFwd = {}\n",
    "    print(\"no digitizer data available --> no equalised PH, PH & time booleans, forward calo. total PH & energy added to df\")\n",
    "\n",
    "print(\"--\")"
   ]
  },
  {
   "cell_type": "markdown",
   "metadata": {},
   "source": [
    "---"
   ]
  },
  {
   "cell_type": "markdown",
   "metadata": {},
   "source": [
    "## **plots & output**"
   ]
  },
  {
   "cell_type": "code",
   "execution_count": 12,
   "metadata": {
    "jupyter": {
     "source_hidden": true
    }
   },
   "outputs": [],
   "source": [
    "# initialising output plots data dictionary -- empty, it will be filled with the objects needed\n",
    "outData = {}\n",
    "\n",
    "# initialising units of measurement dictionary -- empty string for all the df variables by default\n",
    "units = dict(zip(df.columns, [\"\" for s in df.columns]))\n",
    "\n",
    "# limiting the selection dictionaries to the runs currently under study\n",
    "thInCut0 = {k: v for k, v in thInCut.items() if k in df[\"iRun\"].unique()}\n",
    "xCryCut0 = {k: v for k, v in xCryCut.items() if k in df[\"iRun\"].unique()}\n",
    "outMultCut0 = {k: v for k, v in outMultCut.items() if k in df[\"iRun\"].unique()}\n",
    "digiPHCut0 = {k: v for k, v in digiPHCut.items() if k in df[\"iRun\"].unique()}\n",
    "digiTimeCut0 = {k: v for k, v in digiTimeCut.items() if k in df[\"iRun\"].unique()}"
   ]
  },
  {
   "cell_type": "markdown",
   "metadata": {},
   "source": [
    "### **plot & output settings (other settings in each plot cell)**"
   ]
  },
  {
   "cell_type": "code",
   "execution_count": 13,
   "metadata": {
    "jupyter": {
     "source_hidden": true
    }
   },
   "outputs": [],
   "source": [
    "# if True (False), base plots and related fits are (not) created\n",
    "boolPlotGlob = True\n",
    "\n",
    "# units -- dictionary of the units of measurement for plots\n",
    "# shape: {var: unit} (all string)\n",
    "# unit format: unit between brackets\n",
    "# all the missing variable units are automatically set to empty strings (above)\n",
    "units.update({\"epoch\": \"[s]\"})\n",
    "units.update({\"xGonioRot\": \"[urad]\"})\n",
    "units.update({\"xGonioCrad\": \"[urad]\"})\n",
    "units.update({\"xGonioHorsa\": \"[mm]\"})\n",
    "units.update({\"xGonioHorsaBig\": \"[mm]\"})\n",
    "units.update({\"xGonioVersa\": \"[mm/2]\"})\n",
    "units.update({\"EFwd\": \"[GeV]\"})\n",
    "units.update({\"x\"+baseTrackingMap[0][0]: \"[cm]\"})\n",
    "units.update({\"x\"+baseTrackingMap[0][1]: \"[cm]\"})\n",
    "units.update({\"xCry0\": \"[cm]\"})\n",
    "units.update({\"xCry1\": \"[cm]\"})\n",
    "for iCh in [s for s in df.columns if \"digiPH\" in s]:\n",
    "    units.update({iCh: \"[ADC]\"})\n",
    "for iCh in [s for s in df.columns if \"digiTime\" in s]:\n",
    "    units.update({iCh: \"[ADC]\"})\n",
    "for iTh in [s for s in df.columns if (\"thIn\" in s) | (\"thOut\" in s)]:\n",
    "    units.update({iTh: \"[rad]\"})\n",
    "\n",
    "# other graphic settings\n",
    "pal2d = \"viridis\"  # palette for 2d plots\n",
    "lineC = \"r\"  # color of plot patches (e.g. selection ranges) lines\n",
    "fitC = \"0.1\" # color of fit lines\n",
    "lineW = 1.5  # width of plot patches (e.g. selection ranges) lines\n",
    "fitW = 1.5  # width of fit lines\n",
    "\n",
    "# if True (False), figures are (not) saved in ./out_plots\n",
    "# this is particularly important when running the software as a Python script\n",
    "bPlotSave = True\n",
    "\n",
    "# also recall to set boolPlotGlob above, in the input settings section"
   ]
  },
  {
   "cell_type": "markdown",
   "metadata": {},
   "source": [
    "### **run base info**"
   ]
  },
  {
   "cell_type": "code",
   "execution_count": 14,
   "metadata": {
    "jupyter": {
     "source_hidden": true
    }
   },
   "outputs": [
    {
     "data": {
      "application/vnd.jupyter.widget-view+json": {
       "model_id": "a8ef62bc98184d60ae6f66cd5c3a7eac",
       "version_major": 2,
       "version_minor": 0
      },
      "text/plain": [
       "Canvas(toolbar=Toolbar(toolitems=[('Home', 'Reset original view', 'home', 'home'), ('Back', 'Back to previous …"
      ]
     },
     "metadata": {},
     "output_type": "display_data"
    }
   ],
   "source": [
    "boolPlotLoc = True  # figure(s) here only drawn if True\n",
    "figName = \"runInfo\"  # figure name\n",
    "xSize = 7  # horizontal figure size\n",
    "ySize = 8  # vertical figure size\n",
    "bUseEpoch = False  # if True (False) the epoch (automatic event index) is used -- only if epoch in df, otherwise event index anyway\n",
    "\n",
    "###############\n",
    "if boolPlotLoc & boolPlotGlob:\n",
    "    ax = plot_runInfo(df, [\"boolSingleHitIn\"] if bNHit[\"in\"] else [], bXGonio, bEpoch, bUseEpoch, pal2d, units, xSize, ySize, figName, bPlotSave)\n",
    "    # if input multiplicity is available, base info are studied in input single hit condition\n",
    "    # this is always drawn, since at least iRun is always created inside df -- goniometer DOF availability checked inside the function"
   ]
  },
  {
   "cell_type": "markdown",
   "metadata": {},
   "source": [
    "### TRACKING **input beam profiles & spot**"
   ]
  },
  {
   "cell_type": "code",
   "execution_count": 15,
   "metadata": {
    "jupyter": {
     "source_hidden": true
    }
   },
   "outputs": [
    {
     "data": {
      "application/vnd.jupyter.widget-view+json": {
       "model_id": "cc7a78e4386449fd971f542c77175bf0",
       "version_major": 2,
       "version_minor": 0
      },
      "text/plain": [
       "Canvas(toolbar=Toolbar(toolitems=[('Home', 'Reset original view', 'home', 'home'), ('Back', 'Back to previous …"
      ]
     },
     "metadata": {},
     "output_type": "display_data"
    },
    {
     "name": "stdout",
     "output_type": "stream",
     "text": [
      "x0 spectrum returned in a dictionary with key x0_histo -- x, y, ey\n",
      "stats:\n",
      "\tmean\t\t\t1.350079\n",
      "\tFWHM range centre\t1.370000\n",
      "\tFWHM\t\t\t0.310000\n",
      "==> returned in a dictionary with key x0_stat -- mean, FWHM range centre, FWHM\n",
      "--\n",
      "x1 spectrum returned in a dictionary with key x1_histo -- x, y, ey\n",
      "stats:\n",
      "\tmean\t\t\t0.856648\n",
      "\tFWHM range centre\t0.860000\n",
      "\tFWHM\t\t\t0.750000\n",
      "==> returned in a dictionary with key x1_stat -- mean, FWHM range centre, FWHM\n",
      "--\n"
     ]
    },
    {
     "data": {
      "application/vnd.jupyter.widget-view+json": {
       "model_id": "cf1d96d4c3ba4bb69e1ced1c4134953f",
       "version_major": 2,
       "version_minor": 0
      },
      "text/plain": [
       "Canvas(toolbar=Toolbar(toolitems=[('Home', 'Reset original view', 'home', 'home'), ('Back', 'Back to previous …"
      ]
     },
     "metadata": {},
     "output_type": "display_data"
    }
   ],
   "source": [
    "boolPlotLoc = True  # figure(s) here only drawn if True\n",
    "figName = \"xIn\"  # figure name -- the part \"_1d\"/\"_2d\" will be appended\n",
    "xSize = [7, 3]  # horizontal figure size -- 1d-then-2d\n",
    "ySize = [3, 3]  # vertical figure size -- 1d-then-2d\n",
    "binSize = [0.01, 0.01]  # bin size, same for x & y in all the plots below -- 1d-then-2d -- if a component is None, it is automatically computed\n",
    "hRange = [[0, 2], [0, 2]]  # axes ranges, same in all the plots below -- format [[x0, x1] or None, [y0, y1] or None] (if None, automatic definition)\n",
    "bLog = False  # if True (False), log (lin) scale on z\n",
    "bPlot2d = True  # if True (False), 2d profile plot is (not) plotted\n",
    "lsBool = [\"boolSingleHitIn\"]  # list of booleans (available in df) to be applied to all the plots here\n",
    "\n",
    "###############\n",
    "if boolPlotLoc & boolPlotGlob & bXRaw[\"in\"]:\n",
    "    outData = plot_prof(df, (\"x\"+baseTrackingMap[0][0], \"x\"+baseTrackingMap[0][1]), binSize[0], lsBool, hRange, outData, bLog, units, xSize[0], ySize[0], figName+\"1d\", bPlotSave)\n",
    "    if bPlot2d:\n",
    "        plot_proj(df, (\"x\"+baseTrackingMap[0][0], \"x\"+baseTrackingMap[0][1]), binSize[1], lsBool, hRange, False, {}, bLog, lineC, lineW, pal2d, units, xSize[1], ySize[1], figName+\"2d\", bPlotSave)\n",
    "\n",
    "# outData is updated with bin-by-bin spectra values & fit parameters -- entries \"thIn/OutN_histo/fit\""
   ]
  },
  {
   "cell_type": "markdown",
   "metadata": {},
   "source": [
    "### TRACKING **angles**"
   ]
  },
  {
   "cell_type": "code",
   "execution_count": 16,
   "metadata": {
    "jupyter": {
     "source_hidden": true
    }
   },
   "outputs": [
    {
     "data": {
      "application/vnd.jupyter.widget-view+json": {
       "model_id": "3bf8dc3b6a9841e0a597cc8a5b006cc0",
       "version_major": 2,
       "version_minor": 0
      },
      "text/plain": [
       "Canvas(toolbar=Toolbar(toolitems=[('Home', 'Reset original view', 'home', 'home'), ('Back', 'Back to previous …"
      ]
     },
     "metadata": {},
     "output_type": "display_data"
    },
    {
     "name": "stdout",
     "output_type": "stream",
     "text": [
      "spectrum returned in a dictionary with key thIn0_histo -- x, y, ey\n",
      "performing gaussian fit on thIn0...\n",
      "fit parameters:\n",
      "\tampl.\t2.669407e+04 +- 7.025902e+05\n",
      "\tmean\t1.481473e-05 +- 2.404408e-10\n",
      "\tsigma\t6.295184e-04 +- 1.503728e-10\n",
      "fit parameters are returned in a dictionary with key thIn0 -- parameters, cov. matrix_fit\n",
      "--\n",
      "spectrum returned in a dictionary with key thIn1_histo -- x, y, ey\n",
      "performing gaussian fit on thIn1...\n",
      "fit parameters:\n",
      "\tampl.\t2.423449e+04 +- 4.899422e+05\n",
      "\tmean\t1.925501e-06 +- 2.528219e-10\n",
      "\tsigma\t6.994524e-04 +- 1.553004e-10\n",
      "fit parameters are returned in a dictionary with key thIn1 -- parameters, cov. matrix_fit\n",
      "--\n"
     ]
    },
    {
     "data": {
      "application/vnd.jupyter.widget-view+json": {
       "model_id": "a214d434d32349428fe4421af15ee9bc",
       "version_major": 2,
       "version_minor": 0
      },
      "text/plain": [
       "Canvas(toolbar=Toolbar(toolitems=[('Home', 'Reset original view', 'home', 'home'), ('Back', 'Back to previous …"
      ]
     },
     "metadata": {},
     "output_type": "display_data"
    },
    {
     "name": "stdout",
     "output_type": "stream",
     "text": [
      "spectrum returned in a dictionary with key thOut0_histo -- x, y, ey\n",
      "performing gaussian fit on thOut0...\n",
      "fit parameters:\n",
      "\tampl.\t7.037667e+03 +- 2.700456e+04\n",
      "\tmean\t1.233962e-03 +- 3.114893e-10\n",
      "\tsigma\t9.600274e-04 +- 1.910515e-10\n",
      "fit parameters are returned in a dictionary with key thOut0 -- parameters, cov. matrix_fit\n",
      "--\n",
      "spectrum returned in a dictionary with key thOut1_histo -- x, y, ey\n",
      "performing gaussian fit on thOut1...\n",
      "fit parameters:\n",
      "\tampl.\t6.915415e+03 +- 2.458648e+04\n",
      "\tmean\t3.472622e-04 +- 3.158337e-10\n",
      "\tsigma\t9.963724e-04 +- 1.945938e-10\n",
      "fit parameters are returned in a dictionary with key thOut1 -- parameters, cov. matrix_fit\n",
      "--\n"
     ]
    },
    {
     "data": {
      "application/vnd.jupyter.widget-view+json": {
       "model_id": "0d2d6cef8552429caa83f5d904cbd4d5",
       "version_major": 2,
       "version_minor": 0
      },
      "text/plain": [
       "Canvas(toolbar=Toolbar(toolitems=[('Home', 'Reset original view', 'home', 'home'), ('Back', 'Back to previous …"
      ]
     },
     "metadata": {},
     "output_type": "display_data"
    },
    {
     "name": "stdout",
     "output_type": "stream",
     "text": [
      "spectrum returned in a dictionary with key thDelta0_histo -- x, y, ey\n",
      "thDelta0 gaussian fit not performed (not requested)\n",
      "--\n",
      "spectrum returned in a dictionary with key thDelta1_histo -- x, y, ey\n",
      "thDelta1 gaussian fit not performed (not requested)\n",
      "--\n"
     ]
    }
   ],
   "source": [
    "boolPlotLoc = True  # figure(s) here only drawn if True\n",
    "figName = [\"thIn\", \"thOut\", \"thDelta\"]  # figure names -- in-then-out-then-delta\n",
    "xSize = 7  # horizontal figure size\n",
    "ySize = 3  # vertical figure size\n",
    "xRange = [[-0.005, 0.005], [-0.005, 0.005], [-0.001, 0.001]]  # plot ranges, in-then-out-then-delta -- for each, left-then-right, same for x & y -- values can be None (i.e. automatic definition)\n",
    "binSize = [0.0001, 0.0001, 0.00002]  # bin sizes -- in-then-out-then-delta -- if a value is None, automatically computed\n",
    "bFit = [True, True, False]  # do fits if True -- in-then-out-then-delta\n",
    "fitSigma = [0.0001, 0.0001, 0.0001]  # starting point for sigma fits (set to ~ half the distribution FWHM or None, i.e. automatic computation) -- in-then-out-then-delta, only used if bFit=True\n",
    "bSel = True  # draw input selection according to thInCut -- only for input\n",
    "bLog = False  # if True (False), log (lin) scale on y\n",
    "\n",
    "###############\n",
    "lsBool = [[], [], []]\n",
    "if bNHit[\"in\"]:\n",
    "    lsBool[0].append(\"boolSingleHitIn\")\n",
    "    lsBool[1].append(\"boolSingleHitIn\")\n",
    "    lsBool[2].append(\"boolSingleHitIn\")\n",
    "if bNHit[\"out\"]:\n",
    "    lsBool[1].append(\"boolSingleHitOut\")\n",
    "    lsBool[2].append(\"boolSingleHitOut\")\n",
    "# if input/input-output multiplicity is available, input/output & delta angle distr. are studied in input/input-output single hit condition\n",
    "\n",
    "if boolPlotLoc & boolPlotGlob:\n",
    "    if bXRaw[\"in\"]:\n",
    "        outData = plot_th(df, \"thIn\", binSize[0], lsBool[0], xRange[0], bFit[0], fitSigma[0], outData, bSel, thInCut0, bLog, fitC, fitW, lineC, lineW, units, xSize, ySize, figName[0], bPlotSave)\n",
    "    if bXRaw[\"out\"]:\n",
    "        # recall that output angles are computed even in absence of input tracking data -- hits @ crystal automatically set to (0, 0, 0)\n",
    "        outData = plot_th(df, \"thOut\", binSize[1], lsBool[1], xRange[1], bFit[1], fitSigma[1], outData, False, {}, bLog, fitC, fitW, lineC, lineW, units, xSize, ySize, figName[1], bPlotSave)\n",
    "    if bXRaw[\"in\"] & bXRaw[\"out\"]:\n",
    "        outData = plot_th(df, \"thDelta\", binSize[2], lsBool[2], xRange[2], bFit[2], fitSigma[2], outData, False, {}, bLog, fitC, fitW, lineC, lineW, units, xSize, ySize, figName[2], bPlotSave)\n",
    "        \n",
    "# outData is updated with bin-by-bin spectra values & fit parameters -- entries \"thIn/OutN_histo/fit\""
   ]
  },
  {
   "cell_type": "markdown",
   "metadata": {},
   "source": [
    "### TRACKING **multiplicities**"
   ]
  },
  {
   "cell_type": "code",
   "execution_count": 17,
   "metadata": {
    "jupyter": {
     "source_hidden": true
    }
   },
   "outputs": [],
   "source": [
    "boolPlotLoc = False  # figure(s) here only drawn if True\n",
    "figName = \"nHitOut\"  # figure name\n",
    "xSize = 7  # horizontal figure size\n",
    "ySize = 4  # vertical figure size\n",
    "bUseEpoch = False  # if True (False) the epoch (automatic event index) is used -- only if epoch in df, otherwise event index anyway\n",
    "maxNHit = 10  # multiplicity upper limit -- if None, range (& binning) automatically defined\n",
    "bSel = True  # draw output selection according to outMultCut -- only for output\n",
    "tRange = None  # range on the 2d plots x to be used to costrain the data included in the 1d plots -- length-2 array or None (for no costraint)\n",
    "bLog = False  # if True (False), log (lin) scale on y/z in 1d/2d plots\n",
    "\n",
    "###############\n",
    "if boolPlotLoc & boolPlotGlob & bNHit[\"out\"]:\n",
    "    outData = plot_nHit(df, \"nHitOut\", [\"boolSingleHitIn\"] if bNHit[\"in\"] else [], bEpoch, bUseEpoch, maxNHit, tRange, bSel, outMultCut0, outData, bLog, lineC, lineW, pal2d, units, xSize, ySize, figName, bPlotSave)\n",
    "    # if input multiplicity is available, output multiplicity is studied in input single hit condition\n",
    "    \n",
    "# outData is updated with bin-by-bin spectra values (2d & 1d) -- entries \"nHitOut_nameX_histo\" (2d) & \"nHitOut_iRun_histo\" (1d)"
   ]
  },
  {
   "cell_type": "markdown",
   "metadata": {},
   "source": [
    "### TRACKING **beam spots @ crystal**"
   ]
  },
  {
   "cell_type": "code",
   "execution_count": 18,
   "metadata": {
    "jupyter": {
     "source_hidden": true
    }
   },
   "outputs": [
    {
     "data": {
      "application/vnd.jupyter.widget-view+json": {
       "model_id": "c92dbfe982f948b6a091f470944361bd",
       "version_major": 2,
       "version_minor": 0
      },
      "text/plain": [
       "Canvas(toolbar=Toolbar(toolitems=[('Home', 'Reset original view', 'home', 'home'), ('Back', 'Back to previous …"
      ]
     },
     "metadata": {},
     "output_type": "display_data"
    },
    {
     "data": {
      "application/vnd.jupyter.widget-view+json": {
       "model_id": "7fdd0b1b738841ef8c6ad57d4ebf825b",
       "version_major": 2,
       "version_minor": 0
      },
      "text/plain": [
       "Canvas(toolbar=Toolbar(toolitems=[('Home', 'Reset original view', 'home', 'home'), ('Back', 'Back to previous …"
      ]
     },
     "metadata": {},
     "output_type": "display_data"
    },
    {
     "data": {
      "application/vnd.jupyter.widget-view+json": {
       "model_id": "b609b47462d94e08bb887fda781797cc",
       "version_major": 2,
       "version_minor": 0
      },
      "text/plain": [
       "Canvas(toolbar=Toolbar(toolitems=[('Home', 'Reset original view', 'home', 'home'), ('Back', 'Back to previous …"
      ]
     },
     "metadata": {},
     "output_type": "display_data"
    }
   ],
   "source": [
    "boolPlotLoc = True  # figure(s) here only drawn if True\n",
    "figName = \"xCry\"  # figure name\n",
    "xSize = 3  # horizontal figure size\n",
    "ySize = 3  # vertical figure size\n",
    "binSize = 0.01  # bin size, same for x & y in all the plots below -- if None, automatically computed\n",
    "hRange = [[0, 2], [0, 2]]  # axes ranges, same in all the plots below -- format [[x0, x1] or None, [y0, y1] or None] (if None, automatic definition)\n",
    "bSel = [True, True]  # draw fiducial selection according to xCryCut -- plot without multiplicity cut, then plots with multiplicity cut\n",
    "bLog = False  # if True (False), log (lin) scale on z\n",
    "\n",
    "###############\n",
    "lsBool0 = [\"boolSingleHitIn\"] if bNHit[\"in\"] else []\n",
    "# if input multiplicity is available, beam projections @ crystal are studied in input single hit condition\n",
    "\n",
    "if boolPlotLoc & boolPlotGlob & bXRaw[\"in\"]:\n",
    "    plot_proj(df, \"xCry\", binSize, lsBool0+[], hRange, bSel[0], xCryCut0, bLog, lineC, lineW, pal2d, units, xSize, ySize, figName, bPlotSave)\n",
    "    if bNHit[\"out\"]:\n",
    "        # furthermore, study with different output multiplicity selection performed only if output multiplicity data available\n",
    "        plot_proj(df, \"xCry\", binSize, lsBool0+[\"boolLowHitOut\"], hRange, bSel[1], xCryCut0, bLog, lineC, lineW, pal2d, units, xSize, ySize, \"xCry_lowHitOut\", bPlotSave)\n",
    "        plot_proj(df, \"xCry\", binSize, lsBool0+[\"boolHighHitOut\"], hRange, bSel[1], xCryCut0, bLog, lineC, lineW, pal2d, units, xSize, ySize, \"xCry_highHitOut\", bPlotSave)"
   ]
  },
  {
   "cell_type": "markdown",
   "metadata": {},
   "source": [
    "### GONIOMETER **2d phase space**"
   ]
  },
  {
   "cell_type": "code",
   "execution_count": 19,
   "metadata": {
    "jupyter": {
     "source_hidden": true
    }
   },
   "outputs": [],
   "source": [
    "boolPlotLoc = False  # figure(s) here only drawn if True\n",
    "figName = \"gonioPhaseSpace\"  # figure name\n",
    "xSize = 6  # horizontal figure size\n",
    "ySize = 6  # vertical figure size\n",
    "lsVar = [\"Rot\", \"Crad\"]  # length-2 list of gonio. variables to be plot (x-then-y) -- names without the prefix xGonio\n",
    "lsBool = [\"boolInCry\"]  # list of booleans (available in df) to be applied -- input single hit condition applied automatically (if data available)\n",
    "bLog = True  # if True (False), log (lin) scale on z\n",
    "\n",
    "###############\n",
    "lsBool0 = [\"boolSingleHitIn\"] if bNHit[\"in\"] else []\n",
    "# if input multiplicity is available, goniometer DOF phase space is studied in input single hit condition\n",
    "\n",
    "if boolPlotLoc & boolPlotGlob & bXGonio:\n",
    "    plot_gonioCorr(df, lsVar, lsBool0+lsBool, bLog, pal2d, units, xSize, ySize, figName, bPlotSave)"
   ]
  },
  {
   "cell_type": "markdown",
   "metadata": {},
   "source": [
    "### GONIOMETER **trends over other variables**"
   ]
  },
  {
   "cell_type": "code",
   "execution_count": 20,
   "metadata": {
    "jupyter": {
     "source_hidden": true
    }
   },
   "outputs": [],
   "source": [
    "# DESY22\n",
    "df[\"boolVeto\"] = ~df.boolDigiTimeAPC0 | (df.digiPHRawAPC0 < 50)"
   ]
  },
  {
   "cell_type": "code",
   "execution_count": 21,
   "metadata": {
    "jupyter": {
     "source_hidden": true
    }
   },
   "outputs": [
    {
     "data": {
      "application/vnd.jupyter.widget-view+json": {
       "model_id": "231a7cdafd5d4888972b4106dc6c08eb",
       "version_major": 2,
       "version_minor": 0
      },
      "text/plain": [
       "Canvas(toolbar=Toolbar(toolitems=[('Home', 'Reset original view', 'home', 'home'), ('Back', 'Back to previous …"
      ]
     },
     "metadata": {},
     "output_type": "display_data"
    },
    {
     "name": "stdout",
     "output_type": "stream",
     "text": [
      "studying EFwd vs xGonioCrad\n",
      "profile plot returned in a dictionary with key EFwd_xGonioCrad_prof -- x, y, ey\n",
      "fit not performed (not requested)\n",
      "--\n",
      "studying EFwd vs xGonioRot\n",
      "profile plot returned in a dictionary with key EFwd_xGonioRot_prof -- x, y, ey\n",
      "fit not performed (not requested)\n",
      "--\n"
     ]
    },
    {
     "data": {
      "application/vnd.jupyter.widget-view+json": {
       "model_id": "287e8c5dbc54429eb89d68872638824d",
       "version_major": 2,
       "version_minor": 0
      },
      "text/plain": [
       "Canvas(toolbar=Toolbar(toolitems=[('Home', 'Reset original view', 'home', 'home'), ('Back', 'Back to previous …"
      ]
     },
     "metadata": {},
     "output_type": "display_data"
    },
    {
     "name": "stdout",
     "output_type": "stream",
     "text": [
      "studying digiPHRawAPC2 vs xGonioCrad\n",
      "profile plot returned in a dictionary with key digiPHRawAPC2_xGonioCrad_prof -- x, y, ey\n",
      "fit not performed (not requested)\n",
      "--\n",
      "studying digiPHRawAPC2 vs xGonioRot\n",
      "profile plot returned in a dictionary with key digiPHRawAPC2_xGonioRot_prof -- x, y, ey\n",
      "fit not performed (not requested)\n",
      "--\n"
     ]
    }
   ],
   "source": [
    "boolPlotLoc = True  # figure(s) here only drawn if True\n",
    "figName = \"gonioTrends\"  # figure name base -- it will be completed with \"_\" and the name of each variable under study\n",
    "xSize = 7  # horizontal figure size (for each single figures)\n",
    "ySize = 7  # vertical figure size (for each single figures)\n",
    "lsBool = [\"boolInAligned\", \"boolInCry\", \"boolVeto\"]  # list of booleans (available in df) to be applied to all the plots here -- input single hit cond. applied automatically (if data available)\n",
    "bLog = False  # if True (False), log (lin) scale on z\n",
    "\n",
    "# dictionary of the variables to be analysed -- shape:\n",
    "# {varY (string): {\n",
    "#         varX0 (string): [[xL0, xR0, dx0], [yL0, yR0, dy0], [bDrawProf0 (bool), bFit0 (bool), deg0 (integer), xFitL0, xFitR0]], (float if not otherwise specified)\n",
    "#         varX1: [[xL1, xR1, dx1], [yL1, yR1, dy1], [bDrawProf1, bFit1, deg1, xFitL1, xFitR1]],\n",
    "#         ...\n",
    "# }}\n",
    "# 1 figure per varY, each with 1 plot per varX -- varX format: part of the variable name following \"xGonioRaw\"\n",
    "# plot in ranges (xL, xR) & (yL, yR) with bin size dx & dy\n",
    "# profile plot polynomial fit with degree deg -- supported deg = 0, 1, 2; also Gaussian fit if deg = \"Gaussian\"\n",
    "# all entries (apart from bFit) can also be None -- automatic definition in this case (e.g. deg = 0)\n",
    "dictGonioTrends = {\n",
    "    \n",
    "#     \"nHitOut\": {\n",
    "#         \"Rot\": [[None, None, 300], [1, 4, 1], [True, False, 0, None, None]],\n",
    "#         \"Rot\": [[None, None, 200], [1, 10, 1], [True, False, 2, -4000, -1000]],\n",
    "#         \"Rot\": [[None, None, 200], [1, 10, 1], [True, False, 2, -7500, 4000]],\n",
    "#         \"Crad\": [[None, None, 300], [1, 10, 1], [True, False, 2, -6500, 5000]],\n",
    "#         \"Crad\": [[None, None, 500], [1, 10, 1], [True, True, 2, -10000, 4000]],\n",
    "#     },\n",
    "    \n",
    "    \"EFwd\": {\n",
    "#         \"Rot\": [[None, None, 100], [0.0, 0.3, 0.005], [True, True, 2, 9500, 12000]],\n",
    "#         \"Rot\": [[None, None, 300], [0.1, 8, 0.01], [True, False, 2, -5500, -300]],\n",
    "#         \"Rot\": [[None, None, 300], [0.1, 2, 0.01], [True, False, 2, -7500, 4000]],\n",
    "#         \"Rot\": [[None, None, 300], [3, 9, 0.01], [True, False, 2, None, None]],\n",
    "#         \"Crad\": [[None, None, 100], [0.1, 1, 0.01], [True, True, 2, -7000, -4800]],\n",
    "#         \"Crad\": [[None, None, 500], [0.1, 1, 0.01], [True, True, 2, -11000, 5000]],\n",
    "        \"Crad\": [[None, None, 50], [0.1, 1, 0.01], [True, False, 2, -6800, -5700]],\n",
    "        \"Rot\": [[None, None, 50], [0.1, 1, 0.01], [True, False, 0, -6500, -5000]],\n",
    "    },\n",
    "    \n",
    "#     \"digiPHRawAPC1\": {\n",
    "#         \"Rot\": [[None, None, 200], [1, 2000, 20], [True, True, 2, -7500, 4000]],\n",
    "#     },\n",
    "    \n",
    "    \"digiPHRawAPC2\": {\n",
    "#         \"Rot\": [[None, None, 50], [1, 1000, 20], [True, True, 2, 9500, 12000]],\n",
    "#         \"Crad\": [[None, None, 150], [1, 1000, 20], [True, True, 2, -7000, -5000]],\n",
    "#         \"Crad\": [[None, None, 150], [1, 1000, 20], [True, True, 0, -6500, -5000]],\n",
    "        \"Crad\": [[None, None, 50], [0.1, 1000, 20], [True, False, 2, -6800, -5700]],\n",
    "        \"Rot\": [[None, None, 50], [0.1, 1000, 20], [True, False, 0, -6500, -5000]],\n",
    "    \n",
    "    },\n",
    "    \n",
    "}\n",
    "        \n",
    "###############\n",
    "lsBool0 = [\"boolSingleHitIn\"] if bNHit[\"in\"] else []\n",
    "# if input multiplicity is available, goniometer trends are studied in input single hit condition\n",
    "\n",
    "if boolPlotLoc & boolPlotGlob & bXGonio:\n",
    "    for i, iY in enumerate(dictGonioTrends):\n",
    "        outData = plot_gonioTrends(df, iY, dictGonioTrends[iY], lsBool0+lsBool, outData, bLog, fitC, fitW, lineC, lineW, pal2d, units, xSize, ySize, figName, bPlotSave)\n",
    "        \n",
    "# outData is updated with profile plots & fit info (only if fit requested) -- entries name format: \"nameY_nameX_prof\" & \"nameY_nameX_fit\""
   ]
  },
  {
   "cell_type": "markdown",
   "metadata": {},
   "source": [
    "### DIGITIZERS **single-channel PH-vs-time phase spaces**"
   ]
  },
  {
   "cell_type": "code",
   "execution_count": 22,
   "metadata": {
    "jupyter": {
     "source_hidden": true
    }
   },
   "outputs": [],
   "source": [
    "boolPlotLoc = False  # figure(s) here only drawn if True\n",
    "figName = \"digi\"  # figure name\n",
    "xSize = 7  # horizontal figure size\n",
    "ySize = 14  # vertical figure size\n",
    "lsBool = [\"boolSingleHitIn\"]  # list of booleans (available in df) to be applied -- same for all the channels (if using cuts on crystal, consider including input single hit cond.)\n",
    "binSize = [32, 1]  # bin sizes -- time-then-PH -- if a value is None, automatically computed\n",
    "bSel = True  # draw PH & time selection boxes according to digiPHCut & digiTimeCut -- same boolean for all the digitizer channels\n",
    "bLog = True  # if True (False), log (lin) scale on z\n",
    "\n",
    "###############\n",
    "if boolPlotLoc & boolPlotGlob & bDigiPHAny:\n",
    "    plot_digi(df, lsDigiCh, binSize, lsBool, bDigiTime, bSel, digiPHCut0, digiTimeCut0, bLog, lineC, lineW, pal2d, units, xSize, ySize, figName, bPlotSave)"
   ]
  },
  {
   "cell_type": "markdown",
   "metadata": {},
   "source": [
    "### DIGITIZERS **forward calorimeter energy**"
   ]
  },
  {
   "cell_type": "code",
   "execution_count": 37,
   "metadata": {},
   "outputs": [
    {
     "data": {
      "application/vnd.jupyter.widget-view+json": {
       "model_id": "d00b10dfccf34ef9b72b54cd5fc13c7c",
       "version_major": 2,
       "version_minor": 0
      },
      "text/plain": [
       "Canvas(toolbar=Toolbar(toolitems=[('Home', 'Reset original view', 'home', 'home'), ('Back', 'Back to previous …"
      ]
     },
     "metadata": {},
     "output_type": "display_data"
    },
    {
     "name": "stdout",
     "output_type": "stream",
     "text": [
      "studying EFwd when typeRun = Diamond_Axial\n",
      "spectrum created, with (leftmost) maximum @ EFwd = 0.546\n",
      "spectrum returned in a dictionary with key EFwd_Diamond_Axial_histo -- x, y, ey\n",
      "--\n",
      "studying EFwd when typeRun = Diamond_AxisToRandom_1300urad\n",
      "spectrum created, with (leftmost) maximum @ EFwd = 0.215\n",
      "spectrum returned in a dictionary with key EFwd_Diamond_AxisToRandom_1300urad_histo -- x, y, ey\n",
      "--\n",
      "studying EFwd when typeRun = Diamond_AxisToRandom_650urad\n",
      "spectrum created, with (leftmost) maximum @ EFwd = 0.215\n",
      "spectrum returned in a dictionary with key EFwd_Diamond_AxisToRandom_650urad_histo -- x, y, ey\n",
      "--\n",
      "studying EFwd when typeRun = Diamond_Random\n",
      "spectrum created, with (leftmost) maximum @ EFwd = 0.215\n",
      "spectrum returned in a dictionary with key EFwd_Diamond_Random_histo -- x, y, ey\n",
      "--\n"
     ]
    }
   ],
   "source": [
    "boolPlotLoc = True  # figure(s) here only drawn if True\n",
    "figName = \"energyFwd\"  # figure name\n",
    "xSize = 7  # horizontal figure size\n",
    "ySize = 5  # vertical figure size\n",
    "binSize = 0.03  # bin size - can't be set to None (needed for errorbars)\n",
    "xRange = [0.2, 3]  # plot range - [min, max] or None (for automatic definition for each typeRun value separately)\n",
    "lsBool = [\"boolSingleHitIn\", \"boolInAligned\", \"boolInCry\", \"boolTimeCaloFwd\"]  # list of booleans (available in df) to be applied -- selection on typeRun applied automatically (if using cuts on crystal, consider including input single hit cond.)\n",
    "bUseEpoch = False  # if True (False) the epoch (automatic event index) is used -- only if epoch in df, otherwise event index anyway\n",
    "bLog = False  # if True (False), log (lin) scale on y/z in 1d/2d plots\n",
    "\n",
    "###############\n",
    "if boolPlotLoc & boolPlotGlob & any(bEFwd.values()):\n",
    "    outData = plot_energyRuns(df, \"Fwd\", binSize, bEFwd, xRange, bEpoch, bUseEpoch, lsBool, bLog, outData, pal2d, units, xSize, ySize, figName, bPlotSave)  # forward calo. energy\n",
    "    \n",
    "# outData is updated with bin-by-bin spectra values -- entries name format: \"EFwd_typeRun_histo\""
   ]
  },
  {
   "cell_type": "markdown",
   "metadata": {},
   "source": [
    "---"
   ]
  },
  {
   "cell_type": "markdown",
   "metadata": {},
   "source": [
    "### **output data**"
   ]
  },
  {
   "cell_type": "code",
   "execution_count": 24,
   "metadata": {
    "jupyter": {
     "source_hidden": true
    }
   },
   "outputs": [
    {
     "name": "stdout",
     "output_type": "stream",
     "text": [
      "saving output dictionary outData to ./out_data/outData.pickle, with 22 entries\n",
      "--\n"
     ]
    }
   ],
   "source": [
    "# output dictionary outData saved as in ./out_data/outData.pickle\n",
    "globals().update(outData)\n",
    "saveOutData(globals())  # function in .modules\n",
    "print(\"--\")\n",
    "\n",
    "########\n",
    "# to open the Pickle file importing the anaKrys modules: \n",
    "#    outData = readOutData()  # function in .modules"
   ]
  },
  {
   "cell_type": "markdown",
   "metadata": {},
   "source": [
    "---"
   ]
  },
  {
   "cell_type": "markdown",
   "metadata": {},
   "source": [
    "## **whiteboard**"
   ]
  },
  {
   "cell_type": "markdown",
   "metadata": {},
   "source": [
    "### **downstream SiBCs tests** (for magnet testing & detector alignment)"
   ]
  },
  {
   "cell_type": "code",
   "execution_count": 25,
   "metadata": {
    "jupyter": {
     "source_hidden": true
    }
   },
   "outputs": [],
   "source": [
    "if False:  # use this?\n",
    "    for run in df.typeRun.unique():\n",
    "        df[\"boolRunTemp\"] = df.typeRun == run\n",
    "        _ = plot_prof(df, (\"xRaw4\", \"xRaw5\"), 0.1, [\"boolRunTemp\", \"boolSingleHitIn\"], ((0, 10), (0, 10)), {}, False, units, 7, 3, \"testAPC1d_%s\" % run, False)\n",
    "        _ = plot_proj(df, (\"xRaw4\", \"xRaw5\"), 0.1, [\"boolRunTemp\", \"boolSingleHitIn\"], ((0, 10), (0, 10)), False, {}, False, lineC, lineW, pal2d, units, 3, 3, \"testAPC2d_%s\" % run, False)"
   ]
  },
  {
   "cell_type": "code",
   "execution_count": 26,
   "metadata": {
    "jupyter": {
     "source_hidden": true
    }
   },
   "outputs": [],
   "source": [
    "if False:  # use this?\n",
    "    _ = plot_prof(df, (\"xRaw6\", \"xRaw7\"), 0.1, [\"boolSingleHitIn\"], ((0, 10), (-10, 0)), {}, False, units, 7, 3, \"testMagnet1d\", False)\n",
    "    _ = plot_proj(df, (\"xRaw6\", \"xRaw7\"), 0.1, [\"boolSingleHitIn\"], ((0, 10), (-10, 0)), False, {}, False, lineC, lineW, pal2d, units, 3, 3, \"testMagnet2d\", False)"
   ]
  },
  {
   "cell_type": "markdown",
   "metadata": {},
   "source": [
    "### **crystal alignment in space**"
   ]
  },
  {
   "cell_type": "code",
   "execution_count": 27,
   "metadata": {
    "jupyter": {
     "source_hidden": true
    }
   },
   "outputs": [
    {
     "data": {
      "application/vnd.jupyter.widget-view+json": {
       "model_id": "4e3e28b04640497a802133fc06ec3505",
       "version_major": 2,
       "version_minor": 0
      },
      "text/plain": [
       "Canvas(toolbar=Toolbar(toolitems=[('Home', 'Reset original view', 'home', 'home'), ('Back', 'Back to previous …"
      ]
     },
     "metadata": {},
     "output_type": "display_data"
    }
   ],
   "source": [
    "bCrysAlignSpace = True\n",
    "\n",
    "if bCrysAlignSpace:\n",
    "    dfBoolD = df.boolSingleHitIn\n",
    "    dfBoolN0 = dfBoolD & (df.digiPHRawAPC2 > 200)\n",
    "    dfBoolN1 = dfBoolD & df.boolHighHitOut\n",
    "    dfBoolN2 = dfBoolD & (df.nHit4==1) & (df.nHit5==1) & ((abs(df.thDelta0) > 800e-6) | (abs(df.thDelta1) > 800e-6))\n",
    "    \n",
    "    nBins = 100\n",
    "\n",
    "    plt.close(\"profileCrys\")\n",
    "    fig = plt.figure(\"profileCrys\")\n",
    "    fig.set_size_inches(8, 6)\n",
    "\n",
    "    plt.subplot(221)\n",
    "    sl.hist2dRatio(df[dfBoolN0].xCry0, df[dfBoolN0].xCry1, df[dfBoolD].xCry0, df[dfBoolD].xCry1, bins=nBins, range=((-0.5, 2.0), (-0.5, 2.0))) ;\n",
    "\n",
    "    plt.subplot(222)\n",
    "    sl.hist2dRatio(df[dfBoolN1].xCry0, df[dfBoolN1].xCry1, df[dfBoolD].xCry0, df[dfBoolD].xCry1, bins=nBins, range=((-0.5, 2.0), (-0.5, 2.0)));\n",
    "    \n",
    "    plt.subplot(223)\n",
    "    sl.hist2dRatio(df[dfBoolN2].xCry0, df[dfBoolN2].xCry1, df[dfBoolD].xCry0, df[dfBoolD].xCry1, bins=nBins, range=((-0.5, 2.0), (-0.5, 2.0)));\n",
    "\n",
    "    plt.subplot(224)\n",
    "    sl.hist2dRatio(df[dfBoolN0 & dfBoolN1 & dfBoolN2].xCry0, df[dfBoolN0 & dfBoolN1 & dfBoolN2].xCry1, df[dfBoolD].xCry0, df[dfBoolD].xCry1, bins=50, range=((-0.5, 2.5), (-0.5, 2.5))) ;"
   ]
  },
  {
   "cell_type": "code",
   "execution_count": 28,
   "metadata": {
    "jupyter": {
     "source_hidden": true
    }
   },
   "outputs": [],
   "source": [
    "if bCrysAlignSpace & False:\n",
    "    plt.close(\"profileCrysDiv3D\")\n",
    "    fig, ax = plt.subplots(num=\"profileCrysDiv3D\", subplot_kw={\"projection\": \"3d\"})\n",
    "    \n",
    "    dfBoolBase = dfBoolN1\n",
    "    \n",
    "    nBins = 100\n",
    "    \n",
    "    hist0 = np.histogram2d(df[dfBoolBase].xCry0, df[dfBoolBase].xCry1,bins=nBins, range=((-0.5, 2.5), (-0.0, 2.0)))\n",
    "    X0 = hist0[1][:-1]\n",
    "    Y0 = hist0[2][:-1]\n",
    "    X, Y = X0[:-1], Y0[:-1]\n",
    "    X, Y = np.meshgrid(X, Y)\n",
    "    Z = list()\n",
    "    for i in range(len(X0[:-1])):\n",
    "        Z.append(list())\n",
    "        for j in range(len(Y0[:-1])):\n",
    "            dfBoolX = (df.xCry0>X0[i]) & (df.xCry0<X0[i+1])\n",
    "            dfBoolY = (df.xCry1>Y0[j]) & (df.xCry1<Y0[j+1])\n",
    "            dfBool = dfBoolX & dfBoolY\n",
    "            Z[i].append(df[dfBoolBase & dfBool].thIn0.std())\n",
    "    Z = np.array(Z)\n",
    "    Z[np.isnan(Z)] = 0\n",
    "            \n",
    "    from matplotlib import cm\n",
    "    surf = ax.plot_surface(X, Y, Z, cmap=cm.coolwarm, linewidth=0, antialiased=False)\n",
    "    ax.set_xlabel(\"x\")\n",
    "    ax.set_ylabel(\"y\")"
   ]
  },
  {
   "cell_type": "markdown",
   "metadata": {},
   "source": [
    "### **crystal alignment in angle**"
   ]
  },
  {
   "cell_type": "code",
   "execution_count": 29,
   "metadata": {
    "jupyter": {
     "source_hidden": true
    }
   },
   "outputs": [],
   "source": [
    "if False:\n",
    "    for run in df.iRun.unique():\n",
    "        dfBool0 = (df.iRun == run) & df.boolSingleHitIn & df.boolInAligned & df.boolInCry & df.boolVeto\n",
    "        dfBool1 = dfBool0 & df.boolDigiTimeAPC1 & (df.digiPHRawAPC1 > 50)\n",
    "        dfBool2 = dfBool0 & df.boolHighHitOut\n",
    "\n",
    "        meanAPCDC = df[dfBool0 & ~df.boolDigiTimeAPC0].digiPHRawAPC1.mean()\n",
    "        meanSiBC0 = df[dfBool0].nHitOut.mean()\n",
    "\n",
    "        print(\"%s:\" % run)\n",
    "        print(\"# of events is %d\" % df[dfBool0].shape[0])\n",
    "        print(\"avg. signal in APC-DC (vetoed upstream) is %f\" % meanAPCDC)\n",
    "        print(\"fraction of events when APC-DC (vetoed upstream) above threshold is %f\" % (df[dfBool1].shape[0]/df[dfBool0 & ~df.boolDigiTimeAPC0].shape[0]))\n",
    "        print(\"--------------------\")\n",
    "        print(\"avg. output multiplicity in SiBC0 %f\" % meanSiBC0)\n",
    "        print(\"fraction of events when SiBC0 output multiplicity above threshold is %f\" % (df[dfBool2].shape[0]/df[dfBool0].shape[0]))\n",
    "        print(\"\\n\")"
   ]
  },
  {
   "cell_type": "markdown",
   "metadata": {},
   "source": [
    "### **calorimeter spectra per step**"
   ]
  },
  {
   "cell_type": "code",
   "execution_count": 30,
   "metadata": {
    "jupyter": {
     "source_hidden": true
    }
   },
   "outputs": [],
   "source": [
    "if False:\n",
    "    plt.close(\"EFwdPerStep\")\n",
    "    plt.figure(\"EFwdPerStep\")\n",
    "\n",
    "    lsBool = [\"boolSingleHitIn\", \"boolInAligned\", \"boolInCry\", \"boolTimeCaloFwd\"]\n",
    "\n",
    "    dfBool0 = True\n",
    "    for s in lsBool:\n",
    "        dfBool0 = dfBool0 & df[s]\n",
    "\n",
    "    for i in range(int(df.iStep.min()), int(df.iStep.max())):\n",
    "        dfBool = dfBool0 & (df.iStep == i)\n",
    "        plt.hist(df[dfBool].EFwd, bins=10, range=(0.1, 1), histtype=\"step\", density=True, label=\"step %d\" % i)\n",
    "\n",
    "    plt.yscale(\"linear\")\n",
    "    plt.legend()"
   ]
  },
  {
   "cell_type": "markdown",
   "metadata": {},
   "source": [
    "### **statistics collection**"
   ]
  },
  {
   "cell_type": "code",
   "execution_count": 31,
   "metadata": {
    "jupyter": {
     "source_hidden": true
    }
   },
   "outputs": [
    {
     "name": "stdout",
     "output_type": "stream",
     "text": [
      "Diamond_Axial 11191\n",
      "Diamond_Random 64228\n",
      "Diamond_AxisToRandom_650urad 12679\n",
      "Diamond_AxisToRandom_1300urad 23263\n"
     ]
    }
   ],
   "source": [
    "for run in df.typeRun.unique():\n",
    "    dfBool = (df.typeRun == run) & df.boolInAligned & df.boolInCry\n",
    "    print(run, df[dfBool].shape[0])"
   ]
  },
  {
   "cell_type": "markdown",
   "metadata": {},
   "source": [
    "---"
   ]
  },
  {
   "cell_type": "markdown",
   "metadata": {},
   "source": [
    "**stopping chronometer**"
   ]
  },
  {
   "cell_type": "code",
   "execution_count": 32,
   "metadata": {
    "jupyter": {
     "source_hidden": true
    }
   },
   "outputs": [
    {
     "name": "stdout",
     "output_type": "stream",
     "text": [
      "stop @ 2022-05-29 10:24:41 GMT\n",
      "total elapsed time (from last restart -- 2022-05-29 10:22:37 GMT): 0:02:04\n",
      "execution time info added to outData[execTime] -- start, stop, delta\n",
      "--\n"
     ]
    }
   ],
   "source": [
    "tStop = datetime.datetime.fromtimestamp(datetime.datetime.now().timestamp())  # stop chronometer\n",
    "tStopPrint = tStop.strftime(\"%Y-%m-%d %H:%M:%S GMT\")\n",
    "dt = tStop - tStart\n",
    "dtPrint = str(dt - datetime.timedelta(microseconds=dt.microseconds))\n",
    "print(\"stop @ %s\" % tStopPrint)\n",
    "print(\"total elapsed time (from last restart -- %s): %s\" % (tStartPrint, dtPrint))\n",
    "outData[\"execTime\"] = [tStart, tStop, dt]\n",
    "print(\"execution time info added to outData[\"\"execTime\"\"] -- start, stop, delta\\n--\")"
   ]
  },
  {
   "cell_type": "markdown",
   "metadata": {},
   "source": [
    "**(re)writing output data**"
   ]
  },
  {
   "cell_type": "code",
   "execution_count": 33,
   "metadata": {
    "jupyter": {
     "source_hidden": true
    }
   },
   "outputs": [
    {
     "name": "stdout",
     "output_type": "stream",
     "text": [
      "saving output dictionary outData to ./out_data/outData.pickle, with 23 entries\n",
      "--\n"
     ]
    }
   ],
   "source": [
    "# this is done to add the execTime entry, together with any other entry from the whiteboard\n",
    "globals().update(outData)\n",
    "saveOutData(globals())  # function in .modules\n",
    "print(\"--\")\n",
    "\n",
    "########\n",
    "# to open the Pickle file importing the anaKrys modules: \n",
    "#    outData = readOutData()  # function in .modules"
   ]
  }
 ],
 "metadata": {
  "kernelspec": {
   "display_name": "Python 3",
   "language": "python",
   "name": "python3"
  },
  "language_info": {
   "codemirror_mode": {
    "name": "ipython",
    "version": 3
   },
   "file_extension": ".py",
   "mimetype": "text/x-python",
   "name": "python",
   "nbconvert_exporter": "python",
   "pygments_lexer": "ipython3",
   "version": "3.8.8"
  }
 },
 "nbformat": 4,
 "nbformat_minor": 4
}
